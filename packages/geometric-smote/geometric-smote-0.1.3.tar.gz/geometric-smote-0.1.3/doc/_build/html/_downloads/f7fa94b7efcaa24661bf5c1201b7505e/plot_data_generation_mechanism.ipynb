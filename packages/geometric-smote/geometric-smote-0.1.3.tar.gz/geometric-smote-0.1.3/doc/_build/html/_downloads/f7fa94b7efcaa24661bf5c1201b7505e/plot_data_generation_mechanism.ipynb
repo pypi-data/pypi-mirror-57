{
  "cells": [
    {
      "cell_type": "code",
      "execution_count": null,
      "metadata": {
        "collapsed": false
      },
      "outputs": [],
      "source": [
        "%matplotlib inline"
      ]
    },
    {
      "cell_type": "markdown",
      "metadata": {},
      "source": [
        "\n# Data generation mechanism\n\n\nThis example illustrates the Geometric SMOTE data \ngeneration mechanism and the usage of its \nhyperparameters.\n"
      ]
    },
    {
      "cell_type": "code",
      "execution_count": null,
      "metadata": {
        "collapsed": false
      },
      "outputs": [],
      "source": [
        "# Author: Georgios Douzas <gdouzas@icloud.com>\n# Licence: MIT\n\nimport numpy as np\nimport matplotlib.pyplot as plt\n\nfrom sklearn.datasets import make_blobs\nfrom imblearn.over_sampling import SMOTE\n\nfrom gsmote import GeometricSMOTE\n\nprint(__doc__)\n\nXLIM, YLIM = [-3.0, 3.0], [0.0, 4.0]\nRANDOM_STATE = 5\n\n\ndef generate_imbalanced_data(\n    n_maj_samples, n_min_samples, centers, cluster_std, *min_point\n):\n    \"\"\"Generate imbalanced data.\"\"\"\n    X_neg, _ = make_blobs(\n        n_samples=n_maj_samples,\n        centers=centers,\n        cluster_std=cluster_std,\n        random_state=RANDOM_STATE,\n    )\n    X_pos = np.array(min_point)\n    X = np.vstack([X_neg, X_pos])\n    y_pos = np.zeros(X_neg.shape[0], dtype=np.int8)\n    y_neg = np.ones(n_min_samples, dtype=np.int8)\n    y = np.hstack([y_pos, y_neg])\n    return X, y\n\n\ndef plot_scatter(X, y, title):\n    \"\"\"Function to plot some data as a scatter plot.\"\"\"\n    plt.figure()\n    plt.scatter(X[y == 1, 0], X[y == 1, 1], label='Positive Class')\n    plt.scatter(X[y == 0, 0], X[y == 0, 1], label='Negative Class')\n    plt.xlim(*XLIM)\n    plt.ylim(*YLIM)\n    plt.gca().set_aspect('equal', adjustable='box')\n    plt.legend()\n    plt.title(title)\n\n\ndef plot_hyperparameters(oversampler, X, y, param, vals, n_subplots):\n    \"\"\"Function to plot resampled data for various\n    values of a geometric hyperparameter.\"\"\"\n    n_rows = n_subplots[0]\n    fig, ax_arr = plt.subplots(*n_subplots, figsize=(15, 7 if n_rows > 1 else 3.5))\n    if n_rows > 1:\n        ax_arr = [ax for axs in ax_arr for ax in axs]\n    for ax, val in zip(ax_arr, vals):\n        oversampler.set_params(**{param: val})\n        X_res, y_res = oversampler.fit_resample(X, y)\n        ax.scatter(X_res[y_res == 1, 0], X_res[y_res == 1, 1], label='Positive Class')\n        ax.scatter(X_res[y_res == 0, 0], X_res[y_res == 0, 1], label='Negative Class')\n        ax.set_title(f'{val}')\n        ax.set_xlim(*XLIM)\n        ax.set_ylim(*YLIM)\n\n\ndef plot_comparison(oversamplers, X, y):\n    \"\"\"Function to compare SMOTE and Geometric SMOTE\n    generation of noisy samples.\"\"\"\n    fig, ax_arr = plt.subplots(1, 2, figsize=(15, 5))\n    for ax, (name, ovs) in zip(ax_arr, oversamplers):\n        X_res, y_res = ovs.fit_resample(X, y)\n        ax.scatter(X_res[y_res == 1, 0], X_res[y_res == 1, 1], label='Positive Class')\n        ax.scatter(X_res[y_res == 0, 0], X_res[y_res == 0, 1], label='Negative Class')\n        ax.set_title(name)\n        ax.set_xlim(*XLIM)\n        ax.set_ylim(*YLIM)"
      ]
    },
    {
      "cell_type": "markdown",
      "metadata": {},
      "source": [
        "Generate imbalanced data\n##############################################################################\n\n"
      ]
    },
    {
      "cell_type": "markdown",
      "metadata": {},
      "source": [
        "We are generating a highly imbalanced non Gaussian data set. Only two samples\nfrom the minority (positive) class are included to illustrate the Geometric\nSMOTE data generation mechanism.\n\n"
      ]
    },
    {
      "cell_type": "code",
      "execution_count": null,
      "metadata": {
        "collapsed": false
      },
      "outputs": [],
      "source": [
        "X, y = generate_imbalanced_data(\n    200, 2, [(-2.0, 2.25), (1.0, 2.0)], 0.25, [-0.7, 2.3], [-0.5, 3.1]\n)\nplot_scatter(X, y, 'Imbalanced data')"
      ]
    },
    {
      "cell_type": "markdown",
      "metadata": {},
      "source": [
        "Geometric hyperparameters\n##############################################################################\n\n"
      ]
    },
    {
      "cell_type": "markdown",
      "metadata": {},
      "source": [
        "Similarly to SMOTE and its variations, Geometric SMOTE uses the `k_neighbors`\nhyperparameter to select a random neighbor among the k nearest neighbors of a\nminority class instance. On the other hand, Geometric SMOTE expands the data\ngeneration area from the line segment of the SMOTE mechanism to a hypersphere\nthat can be truncated and deformed. The characteristics of the above geometric\narea are determined by the hyperparameters ``truncation_factor``,\n``deformation_factor`` and ``selection_strategy``. These are called geometric\nhyperparameters and allow the generation of diverse synthetic data as shown\nbelow.\n\n"
      ]
    },
    {
      "cell_type": "markdown",
      "metadata": {},
      "source": [
        "Truncation factor\n..............................................................................\n\nThe hyperparameter ``truncation_factor`` determines the degree of truncation\nthat is applied on the initial geometric area. Selecting the values of\ngeometric hyperparameters as `truncation_factor=0.0`,\n``deformation_factor=0.0`` and ``selection_strategy='minority'``, the data\ngeneration area in 2D corresponds to a circle with center as one of the two\nminority class samples and radius equal to the distance between them. In the\nmulti-dimensional case the corresponding area is a hypersphere. When\ntruncation factor is increased, the hypersphere is truncated and for\n``truncation_factor=1.0`` becomes a half-hypersphere. Negative values of\n``truncation_factor`` have a similar effect but on the opposite direction.\n\n"
      ]
    },
    {
      "cell_type": "code",
      "execution_count": null,
      "metadata": {
        "collapsed": false
      },
      "outputs": [],
      "source": [
        "gsmote = GeometricSMOTE(\n    k_neighbors=1,\n    deformation_factor=0.0,\n    selection_strategy='minority',\n    random_state=RANDOM_STATE,\n)\ntruncation_factors = np.array([0.0, 0.2, 0.4, 0.6, 0.8, 1.0])\nn_subplots = [2, 3]\nplot_hyperparameters(gsmote, X, y, 'truncation_factor', truncation_factors, n_subplots)\nplot_hyperparameters(gsmote, X, y, 'truncation_factor', -truncation_factors, n_subplots)"
      ]
    },
    {
      "cell_type": "markdown",
      "metadata": {},
      "source": [
        "Deformation factor\n..............................................................................\n\nWhen the ``deformation_factor`` is increased, the data generation area deforms\nto an ellipsis and for ``deformation_factor=1.0`` becomes a line segment.\n\n"
      ]
    },
    {
      "cell_type": "code",
      "execution_count": null,
      "metadata": {
        "collapsed": false
      },
      "outputs": [],
      "source": [
        "gsmote = GeometricSMOTE(\n    k_neighbors=1,\n    truncation_factor=0.0,\n    selection_strategy='minority',\n    random_state=RANDOM_STATE,\n)\ndeformation_factors = np.array([0.0, 0.2, 0.4, 0.6, 0.8, 1.0])\nn_subplots = [2, 3]\nplot_hyperparameters(gsmote, X, y, 'deformation_factor', truncation_factors, n_subplots)"
      ]
    },
    {
      "cell_type": "markdown",
      "metadata": {},
      "source": [
        "Selection strategy\n..............................................................................\n\nThe hyperparameter ``selection_strategy`` determines the selection mechanism\nof nearest neighbors. Initially, a minority class sample is selected randomly.\nWhen ``selection_strategy='minority'``, a second minority class sample is\nselected as one of the k nearest neighbors of it. For\n``selection_strategy='majority'``, the second sample is its nearest majority\nclass neighbor. Finally, for ``selection_strategy='combined'`` the two\nselection mechanisms are combined and the second sample is the nearest to the\nfirst between the two samples defined above.\n\n"
      ]
    },
    {
      "cell_type": "code",
      "execution_count": null,
      "metadata": {
        "collapsed": false
      },
      "outputs": [],
      "source": [
        "gsmote = GeometricSMOTE(\n    k_neighbors=1,\n    truncation_factor=0.0,\n    deformation_factor=0.5,\n    random_state=RANDOM_STATE,\n)\nselection_strategies = np.array(['minority', 'majority', 'combined'])\nn_subplots = [1, 3]\nplot_hyperparameters(\n    gsmote, X, y, 'selection_strategy', selection_strategies, n_subplots\n)"
      ]
    },
    {
      "cell_type": "markdown",
      "metadata": {},
      "source": [
        "Noisy samples\n##############################################################################\n\n"
      ]
    },
    {
      "cell_type": "markdown",
      "metadata": {},
      "source": [
        "We are adding a third minority class sample to illustrate the difference\nbetween SMOTE and Geometric SMOTE data generation mechanisms.\n\n"
      ]
    },
    {
      "cell_type": "code",
      "execution_count": null,
      "metadata": {
        "collapsed": false
      },
      "outputs": [],
      "source": [
        "X_new = np.vstack([X, np.array([2.0, 2.0])])\ny_new = np.hstack([y, np.ones(1, dtype=np.int8)])\nplot_scatter(X_new, y_new, 'Imbalanced data')"
      ]
    },
    {
      "cell_type": "markdown",
      "metadata": {},
      "source": [
        "When the number of ``k_neighbors`` is increased, SMOTE results to the\ngeneration of noisy samples. On the other hand, Geometric SMOTE avoids this\nscenario when the ``selection_strategy`` values are either ``combined`` or\n``majority``.\n\n"
      ]
    },
    {
      "cell_type": "code",
      "execution_count": null,
      "metadata": {
        "collapsed": false
      },
      "outputs": [],
      "source": [
        "oversamplers = [\n    ('SMOTE', SMOTE(k_neighbors=2, random_state=RANDOM_STATE)),\n    (\n        'Geometric SMOTE',\n        GeometricSMOTE(\n            k_neighbors=2, selection_strategy='combined', random_state=RANDOM_STATE\n        ),\n    ),\n]\nplot_comparison(oversamplers, X_new, y_new)"
      ]
    }
  ],
  "metadata": {
    "kernelspec": {
      "display_name": "Python 3",
      "language": "python",
      "name": "python3"
    },
    "language_info": {
      "codemirror_mode": {
        "name": "ipython",
        "version": 3
      },
      "file_extension": ".py",
      "mimetype": "text/x-python",
      "name": "python",
      "nbconvert_exporter": "python",
      "pygments_lexer": "ipython3",
      "version": "3.7.5"
    }
  },
  "nbformat": 4,
  "nbformat_minor": 0
}