{
 "cells": [
  {
   "cell_type": "code",
   "execution_count": 1,
   "metadata": {},
   "outputs": [
    {
     "name": "stdout",
     "output_type": "stream",
     "text": [
      "The following task in the stsci.skypac package can be run with TEAL:\n",
      "                                    skymatch                                    \n",
      "The following tasks in the drizzlepac package can be run with TEAL:\n",
      "    astrodrizzle       config_testbed      imagefindpars           mapreg       \n",
      "       photeq            pixreplace           pixtopix            pixtosky      \n",
      "  refimagefindpars       resetbits          runastrodriz          skytopix      \n",
      "     tweakback            tweakreg           updatenpol\n"
     ]
    }
   ],
   "source": [
    "from kbastroutils.gnd import GND\n",
    "\n",
    "from astroquery.mast import Observations\n",
    "from astropy.io import fits\n",
    "\n",
    "import os,glob\n",
    "\n",
    "import numpy as np\n",
    "import pandas as pd\n",
    "import matplotlib.pyplot as plt\n",
    "%matplotlib inline"
   ]
  },
  {
   "cell_type": "code",
   "execution_count": 2,
   "metadata": {
    "scrolled": true
   },
   "outputs": [],
   "source": [
    "DODOWN = False\n",
    "DOWNDIR = '/Users/kbhirombhakdi/_work/_tmp/'\n",
    "\n",
    "x = Observations.query_criteria(proposal_id='11552'\n",
    "                                ,filters=['G141','F140W','F160W']\n",
    "                                ,obs_collection='HST'\n",
    "                                ,target_name='GD-153'\n",
    "                               )\n",
    "\n",
    "if DODOWN:\n",
    "    Observations.download_products(x['obsid']\n",
    "                                   ,productSubGroupDescription=['FLT']\n",
    "                                   ,download_dir=DOWNDIR\n",
    "                                  )"
   ]
  },
  {
   "cell_type": "code",
   "execution_count": 3,
   "metadata": {},
   "outputs": [
    {
     "data": {
      "text/plain": [
       "['/Users/kbhirombhakdi/_work/_tmp/mastDownload/HST/iab904mpq/iab904mpq_flt.fits',\n",
       " '/Users/kbhirombhakdi/_work/_tmp/mastDownload/HST/iab904mkq/iab904mkq_flt.fits',\n",
       " '/Users/kbhirombhakdi/_work/_tmp/mastDownload/HST/iab9a4msq/iab9a4msq_flt.fits',\n",
       " '/Users/kbhirombhakdi/_work/_tmp/mastDownload/HST/iab904mlq/iab904mlq_flt.fits',\n",
       " '/Users/kbhirombhakdi/_work/_tmp/mastDownload/HST/iab904mfq/iab904mfq_flt.fits',\n",
       " '/Users/kbhirombhakdi/_work/_tmp/mastDownload/HST/iab904moq/iab904moq_flt.fits',\n",
       " '/Users/kbhirombhakdi/_work/_tmp/mastDownload/HST/iab904meq/iab904meq_flt.fits',\n",
       " '/Users/kbhirombhakdi/_work/_tmp/mastDownload/HST/iab9a4mtq/iab9a4mtq_flt.fits',\n",
       " '/Users/kbhirombhakdi/_work/_tmp/mastDownload/HST/iab9a4muq/iab9a4muq_flt.fits',\n",
       " '/Users/kbhirombhakdi/_work/_tmp/mastDownload/HST/iab904mmq/iab904mmq_flt.fits',\n",
       " '/Users/kbhirombhakdi/_work/_tmp/mastDownload/HST/iab904mgq/iab904mgq_flt.fits',\n",
       " '/Users/kbhirombhakdi/_work/_tmp/mastDownload/HST/iab904mqq/iab904mqq_flt.fits']"
      ]
     },
     "execution_count": 3,
     "metadata": {},
     "output_type": "execute_result"
    }
   ],
   "source": [
    "FILES = glob.glob(DOWNDIR+'*/*/*/*.fits')\n",
    "FILES"
   ]
  },
  {
   "cell_type": "markdown",
   "metadata": {},
   "source": [
    "# 1."
   ]
  },
  {
   "cell_type": "code",
   "execution_count": 4,
   "metadata": {
    "scrolled": true
   },
   "outputs": [],
   "source": [
    "XXX = GND(FILES)\n",
    "XXX.make_meta()\n",
    "\n",
    "PAIRS = {\n",
    "    4: [10,1,3,9]\n",
    "    ,0: [11]\n",
    "    ,7: [8]\n",
    "}\n",
    "XXX.make_pair(PAIRS)\n",
    "\n",
    "XYD = {\n",
    "    4: (352.,546.)\n",
    "    ,0: (672.13026,170.8361)\n",
    "    ,7: (132.678,912.72981)\n",
    "}\n",
    "XXX.make_xyd(XYD)\n",
    "\n",
    "XXX.make_photparams(method='aperture',apsize=5,apunit='pix',maskin=None\n",
    "                    ,sigma=3.,iters=5\n",
    "                    ,dobkgann=True,bkgann=(20.,25.)\n",
    "                    )\n",
    "XXX.make_phot()\n",
    "\n",
    "CONF = '/Users/kbhirombhakdi/_work/_calib_files/WFC3.IR.G141.cal.V4.32/G141.F160W.V4.32.conf'\n",
    "XXX.make_conf(CONF)\n",
    "\n",
    "SENS = '/Users/kbhirombhakdi/_work/_calib_files/WFC3.IR.G141.cal.V4.32/WFC3.IR.G141.1st.sens.2.fits'\n",
    "XXX.make_sens(SENS)\n",
    "\n",
    "BKG = '/Users/kbhirombhakdi/_work/_calib_files/WFC3.IR.G141.cal.V4.32/WFC3.IR.G141.sky.V1.0.fits'\n",
    "XXX.make_bkg(bkg=BKG,method='median',sigma=1.)\n",
    "\n",
    "XXX.make_xyoff()\n",
    "XXX.make_xyref()\n",
    "XXX.make_trace()\n",
    "XXX.make_wavelength()\n",
    "\n",
    "XXX.make_stamp(padx=5,pady=20)\n",
    "\n",
    "FLAT = '/Users/kbhirombhakdi/_work/_calib_files/WFC3.IR.G141.cal.V4.32/WFC3.IR.G141.flat.2.fits'\n",
    "XXX.make_flat(method='master',flatfile=FLAT)\n",
    "\n",
    "PAMFILE = '/Users/kbhirombhakdi/_work/_calib_files/ir_wfc3_map.fits'\n",
    "XXX.make_pam(method='custom',pamfile=PAMFILE)\n",
    "\n",
    "# XXX.make_drz()\n",
    "\n",
    "XXX.make_clean(method=[True,True,False])\n",
    "\n",
    "XXX.make_exparams(method='aperture',apsize=5,apunit='pix',maskin=None)\n",
    "XXX.make_wavebin(method='WW')\n",
    "XXX.make_apcorr(replace='median')\n",
    "XXX.make_count(replace=None)\n",
    "XXX.make_flam()\n",
    "\n",
    "PATH = os.getcwd()\n",
    "XXX.save(path=PATH)"
   ]
  },
  {
   "cell_type": "markdown",
   "metadata": {},
   "source": [
    "# 2."
   ]
  },
  {
   "cell_type": "code",
   "execution_count": 5,
   "metadata": {
    "scrolled": false
   },
   "outputs": [],
   "source": [
    "# XXX.show(method='meta',dosort=True,column=None)"
   ]
  },
  {
   "cell_type": "code",
   "execution_count": 6,
   "metadata": {},
   "outputs": [],
   "source": [
    "# XXX.show(method='direct',zoom=True,dx=100,dy=100)"
   ]
  },
  {
   "cell_type": "code",
   "execution_count": 7,
   "metadata": {
    "scrolled": true
   },
   "outputs": [],
   "source": [
    "# XXX.show(method='grism',traceon=True,zoom=True)"
   ]
  },
  {
   "cell_type": "code",
   "execution_count": 8,
   "metadata": {},
   "outputs": [],
   "source": [
    "# XXX.show(method='CONF',showconf='long')"
   ]
  },
  {
   "cell_type": "code",
   "execution_count": 9,
   "metadata": {
    "scrolled": true
   },
   "outputs": [],
   "source": [
    "# XXX.show(method='CONF',showconf='short')"
   ]
  },
  {
   "cell_type": "code",
   "execution_count": 10,
   "metadata": {
    "scrolled": true
   },
   "outputs": [],
   "source": [
    "# XXX.show(method='bkg')"
   ]
  },
  {
   "cell_type": "code",
   "execution_count": 11,
   "metadata": {
    "scrolled": true
   },
   "outputs": [],
   "source": [
    "# XXX.show(method='flat')"
   ]
  },
  {
   "cell_type": "code",
   "execution_count": 12,
   "metadata": {
    "scrolled": true
   },
   "outputs": [],
   "source": [
    "# XXX.show(method='pam')"
   ]
  },
  {
   "cell_type": "code",
   "execution_count": 13,
   "metadata": {},
   "outputs": [],
   "source": [
    "# XXX.show(method='WW',normalize=True)"
   ]
  },
  {
   "cell_type": "code",
   "execution_count": 14,
   "metadata": {},
   "outputs": [],
   "source": [
    "# XXX.show(method='trace',normalize=True)"
   ]
  },
  {
   "cell_type": "code",
   "execution_count": 15,
   "metadata": {},
   "outputs": [],
   "source": [
    "# XXX.show(method='stamp')"
   ]
  },
  {
   "cell_type": "code",
   "execution_count": 16,
   "metadata": {
    "scrolled": false
   },
   "outputs": [],
   "source": [
    "# XXX.show(method='clean',traceon=True,zoom=True)"
   ]
  },
  {
   "cell_type": "code",
   "execution_count": 17,
   "metadata": {},
   "outputs": [],
   "source": [
    "# XXX.show(method='count',apsize=5,tracefrom='original')"
   ]
  },
  {
   "cell_type": "code",
   "execution_count": 18,
   "metadata": {},
   "outputs": [],
   "source": [
    "# XXX.show(method='count',apsize=5,tracefrom='clean')"
   ]
  },
  {
   "cell_type": "code",
   "execution_count": 19,
   "metadata": {},
   "outputs": [],
   "source": [
    "# XXX.show(method='flam',xmin=11000.,xmax=17000.)"
   ]
  },
  {
   "cell_type": "markdown",
   "metadata": {},
   "source": [
    "# 3."
   ]
  },
  {
   "cell_type": "code",
   "execution_count": null,
   "metadata": {},
   "outputs": [],
   "source": []
  },
  {
   "cell_type": "code",
   "execution_count": null,
   "metadata": {},
   "outputs": [],
   "source": []
  }
 ],
 "metadata": {
  "kernelspec": {
   "display_name": "Python 3",
   "language": "python",
   "name": "python3"
  },
  "language_info": {
   "codemirror_mode": {
    "name": "ipython",
    "version": 3
   },
   "file_extension": ".py",
   "mimetype": "text/x-python",
   "name": "python",
   "nbconvert_exporter": "python",
   "pygments_lexer": "ipython3",
   "version": "3.7.4"
  }
 },
 "nbformat": 4,
 "nbformat_minor": 2
}
