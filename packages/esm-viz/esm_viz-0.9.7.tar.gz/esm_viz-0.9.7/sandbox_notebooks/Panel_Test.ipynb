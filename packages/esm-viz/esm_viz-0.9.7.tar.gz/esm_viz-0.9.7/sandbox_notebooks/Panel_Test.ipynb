{
 "cells": [
  {
   "cell_type": "code",
   "execution_count": 1,
   "metadata": {},
   "outputs": [],
   "source": [
    "# Python Standard Library\n",
    "import datetime\n",
    "import os, sys\n",
    "import re\n",
    "\n",
    "# Third-Party Packages\n",
    "from IPython.core.display import display, HTML\n",
    "from IPython.display import display_html\n",
    "# PG: Not sure if I like importing matplotlib so often, could probably be\n",
    "# simpler..\n",
    "from matplotlib import cm\n",
    "from matplotlib import pyplot as plt\n",
    "from matplotlib.patches import Circle, Wedge, Rectangle\n",
    "\n",
    "import matplotlib\n",
    "import matplotlib.dates as mdates\n",
    "import numpy as np\n",
    "import pandas as pd\n",
    "import paramiko"
   ]
  },
  {
   "cell_type": "code",
   "execution_count": 2,
   "metadata": {},
   "outputs": [],
   "source": [
    "from esm_viz.esm_viz import read_simulation_config"
   ]
  },
  {
   "cell_type": "code",
   "execution_count": 3,
   "metadata": {},
   "outputs": [],
   "source": [
    "config = read_simulation_config(\"../../example.yaml\")"
   ]
  },
  {
   "cell_type": "code",
   "execution_count": 4,
   "metadata": {},
   "outputs": [
    {
     "data": {
      "text/plain": [
       "{'user': 'a270077',\n",
       " 'host': 'mistral.dkrz.de',\n",
       " 'basedir': '/work/ba0989/a270077/AWICM_PISM/LGM_011',\n",
       " 'model': 'AWICM',\n",
       " 'storagedir': '/scratch/work/pgierz/',\n",
       " 'use_hvplot': True,\n",
       " 'general': ['queue info',\n",
       "  'run efficiency',\n",
       "  'disk usage',\n",
       "  'simulation timeline',\n",
       "  'progress bar',\n",
       "  'newest log'],\n",
       " 'echam': {'Global Timeseries': {'temp2': {'file pattern': '${EXP_ID}_echam6_echam_??????.grb',\n",
       "    'plot arguments': {'linewidth': 1, 'color': 'black'}},\n",
       "   'albedo': {'file pattern': '${EXP_ID}_echam6_echam_??????.grb'},\n",
       "   'aprl': {'file pattern': '${EXP_ID}_echam6_echam_??????.grb'},\n",
       "   'aprc': {'file pattern': '${EXP_ID}_echam6_echam_??????.grb'}},\n",
       "  'Global Climatology': {'temp2': {'file pattern': '${EXP_ID}_echam6_echam_??????.grb',\n",
       "    'plot arguments': {'cmap': 'cmocean.thermal'}},\n",
       "   'albedo': {'file pattern': '${EXP_ID}_echam6_echam_??????.grb',\n",
       "    'plot arguments': {'cmap': 'cmocean.ice'}},\n",
       "   'aprl': {'file pattern': '${EXP_ID}_echam6_echam_??????.grb',\n",
       "    'plot arguments': {'cmap': 'cmocean.rain'}},\n",
       "   'aprc': {'file pattern': '${EXP_ID}_echam6_echam_??????.grb',\n",
       "    'plot arguments': {'cmap': 'cmocean.rain'}},\n",
       "   'glac': {'file pattern': '${EXP_ID}_echam6_echam_??????.grb'}}},\n",
       " 'custom_notebooks': ['/home/csys/pgierz/custom_monitoring/OASIS_Fields.ipynb']}"
      ]
     },
     "execution_count": 4,
     "metadata": {},
     "output_type": "execute_result"
    }
   ],
   "source": [
    "config"
   ]
  },
  {
   "cell_type": "code",
   "execution_count": 5,
   "metadata": {},
   "outputs": [],
   "source": [
    "import panel as pn"
   ]
  }
 ],
 "metadata": {
  "kernelspec": {
   "display_name": "Python 3",
   "language": "python",
   "name": "python3"
  },
  "language_info": {
   "codemirror_mode": {
    "name": "ipython",
    "version": 3
   },
   "file_extension": ".py",
   "mimetype": "text/x-python",
   "name": "python",
   "nbconvert_exporter": "python",
   "pygments_lexer": "ipython3",
   "version": "3.7.3"
  }
 },
 "nbformat": 4,
 "nbformat_minor": 4
}
