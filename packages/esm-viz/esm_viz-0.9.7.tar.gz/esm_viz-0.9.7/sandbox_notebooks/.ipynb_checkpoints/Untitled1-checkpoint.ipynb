{
 "cells": [
  {
   "cell_type": "code",
   "execution_count": 8,
   "metadata": {},
   "outputs": [],
   "source": [
    "import getpass\n",
    "import paramiko\n",
    "import os\n",
    "\n",
    "def get_password_for_machine(user, host):\n",
    "    print(f\"To set up simulation monitoring for {host}, I need to know your password\")\n",
    "    print(\"Don't worry, it will not be stored to disk.\")\n",
    "    passprompt = f\"Please enter the password for {user}@{host}\"\n",
    "    return getpass.getpass(prompt=passprompt)"
   ]
  },
  {
   "cell_type": "code",
   "execution_count": 9,
   "metadata": {},
   "outputs": [],
   "source": [
    "def generate_keypair(user, host):\n",
    "    print(f\"Generating a specific key for esm_viz to use for {host}\")\n",
    "    priv = paramiko.RSAKey.generate(2048)\n",
    "    subpath = (\".config\", \"esm_viz\", \"keys\")\n",
    "    keypath = os.path.join(os.environ.get(\"HOME\"), *subpath, f\"{user}_{host}\")\n",
    "    # Private Key:\n",
    "    priv.write_private_key_file(keypath)\n",
    "    # Public Key\n",
    "    pub = paramiko.RSAKey(filename=keypath)\n",
    "    with open(keypath+\".pub\", \"w\") as pub_key_file:\n",
    "        pub_key_file.write(\"%s %s\" % (pub.get_name(), pub.get_base64()))"
   ]
  },
  {
   "cell_type": "code",
   "execution_count": 21,
   "metadata": {},
   "outputs": [],
   "source": [
    "def deploy_keypair(user, host):\n",
    "    subpath = (\".config\", \"esm_viz\", \"keys\")\n",
    "    priv_file = os.path.join(os.environ.get(\"HOME\"), *subpath, f\"{user}_{host}\")+\".priv_key\"\n",
    "    if not os.path.isfile(priv_file):\n",
    "        generate_keypair(user, host)\n",
    "    client = paramiko.SSHClient()\n",
    "    client.load_system_host_keys()\n",
    "    # TODO: get user preference for the policy\n",
    "    client.set_missing_host_key_policy(paramiko.WarningPolicy)\n",
    "    remote_password = get_password_for_machine(user, host)\n",
    "    client.connect(host, username=user, password=remote_password)\n",
    "    sftp = client.open_sftp() \n",
    "    # If HOME isn't set....oh well...\n",
    "    _, stdout, _ = client.exec_command(\"echo $HOME\")\n",
    "    remote_home = stdout.readlines()[0].strip()\n",
    "    known_hosts_remote = os.path.join(remote_home, \".ssh/known_hosts\")\n",
    "    with sftp.open(known_hosts_remote, \"a\") as r_known_hosts:\n",
    "        with open(priv_file+\".pub\", 'r') as esm_viz_pub_key:\n",
    "            r_known_hosts.write(esm_viz_pub_key.readlines())\n",
    "    print(\"Deleting your password from memory...\")\n",
    "    del remote_password\n",
    "    "
   ]
  },
  {
   "cell_type": "code",
   "execution_count": 10,
   "metadata": {},
   "outputs": [],
   "source": [
    "!mkdir -p ~/.config/esm_viz/keys"
   ]
  },
  {
   "cell_type": "code",
   "execution_count": 11,
   "metadata": {},
   "outputs": [
    {
     "name": "stdout",
     "output_type": "stream",
     "text": [
      "Generating a specifc key for esm_viz to use for mistral.dkrz.de\n"
     ]
    }
   ],
   "source": [
    "generate_keypair(\"a270077\", \"mistral.dkrz.de\")"
   ]
  },
  {
   "cell_type": "code",
   "execution_count": 15,
   "metadata": {},
   "outputs": [
    {
     "ename": "AttributeError",
     "evalue": "'str' object has no attribute 'rewind'",
     "output_type": "error",
     "traceback": [
      "\u001b[0;31m---------------------------------------------------------------------------\u001b[0m",
      "\u001b[0;31mAttributeError\u001b[0m                            Traceback (most recent call last)",
      "\u001b[0;32m<ipython-input-15-ceeac12db6e9>\u001b[0m in \u001b[0;36m<module>\u001b[0;34m\u001b[0m\n\u001b[0;32m----> 1\u001b[0;31m \u001b[0mparamiko\u001b[0m\u001b[0;34m.\u001b[0m\u001b[0mRSAKey\u001b[0m\u001b[0;34m(\u001b[0m\u001b[0;34m\"/Users/pgierz/.config/esm_viz/keys/a270077_mistral.dkrz.de.priv_key\"\u001b[0m\u001b[0;34m)\u001b[0m\u001b[0;34m\u001b[0m\u001b[0;34m\u001b[0m\u001b[0m\n\u001b[0m",
      "\u001b[0;32m~/anaconda3/envs/esm_viz/lib/python3.7/site-packages/paramiko/rsakey.py\u001b[0m in \u001b[0;36m__init__\u001b[0;34m(self, msg, data, filename, password, key, file_obj)\u001b[0m\n\u001b[1;32m     63\u001b[0m                 \u001b[0mmsg\u001b[0m\u001b[0;34m=\u001b[0m\u001b[0mmsg\u001b[0m\u001b[0;34m,\u001b[0m\u001b[0;34m\u001b[0m\u001b[0;34m\u001b[0m\u001b[0m\n\u001b[1;32m     64\u001b[0m                 \u001b[0mkey_type\u001b[0m\u001b[0;34m=\u001b[0m\u001b[0;34m\"ssh-rsa\"\u001b[0m\u001b[0;34m,\u001b[0m\u001b[0;34m\u001b[0m\u001b[0;34m\u001b[0m\u001b[0m\n\u001b[0;32m---> 65\u001b[0;31m                 \u001b[0mcert_type\u001b[0m\u001b[0;34m=\u001b[0m\u001b[0;34m\"ssh-rsa-cert-v01@openssh.com\"\u001b[0m\u001b[0;34m,\u001b[0m\u001b[0;34m\u001b[0m\u001b[0;34m\u001b[0m\u001b[0m\n\u001b[0m\u001b[1;32m     66\u001b[0m             )\n\u001b[1;32m     67\u001b[0m             self.key = rsa.RSAPublicNumbers(\n",
      "\u001b[0;32m~/anaconda3/envs/esm_viz/lib/python3.7/site-packages/paramiko/pkey.py\u001b[0m in \u001b[0;36m_check_type_and_load_cert\u001b[0;34m(self, msg, key_type, cert_type)\u001b[0m\n\u001b[1;32m    394\u001b[0m         \u001b[0;31m# we rewind before grabbing it - sometimes caller had to do their own\u001b[0m\u001b[0;34m\u001b[0m\u001b[0;34m\u001b[0m\u001b[0;34m\u001b[0m\u001b[0m\n\u001b[1;32m    395\u001b[0m         \u001b[0;31m# introspection first!)\u001b[0m\u001b[0;34m\u001b[0m\u001b[0;34m\u001b[0m\u001b[0;34m\u001b[0m\u001b[0m\n\u001b[0;32m--> 396\u001b[0;31m         \u001b[0mmsg\u001b[0m\u001b[0;34m.\u001b[0m\u001b[0mrewind\u001b[0m\u001b[0;34m(\u001b[0m\u001b[0;34m)\u001b[0m\u001b[0;34m\u001b[0m\u001b[0;34m\u001b[0m\u001b[0m\n\u001b[0m\u001b[1;32m    397\u001b[0m         \u001b[0mtype_\u001b[0m \u001b[0;34m=\u001b[0m \u001b[0mmsg\u001b[0m\u001b[0;34m.\u001b[0m\u001b[0mget_text\u001b[0m\u001b[0;34m(\u001b[0m\u001b[0;34m)\u001b[0m\u001b[0;34m\u001b[0m\u001b[0;34m\u001b[0m\u001b[0m\n\u001b[1;32m    398\u001b[0m         \u001b[0;31m# Regular public key - nothing special to do besides the implicit\u001b[0m\u001b[0;34m\u001b[0m\u001b[0;34m\u001b[0m\u001b[0;34m\u001b[0m\u001b[0m\n",
      "\u001b[0;31mAttributeError\u001b[0m: 'str' object has no attribute 'rewind'"
     ]
    }
   ],
   "source": [
    "paramiko.RSAKey(\"/Users/pgierz/.config/esm_viz/keys/a270077_mistral.dkrz.de.priv_key\")"
   ]
  },
  {
   "cell_type": "code",
   "execution_count": 24,
   "metadata": {},
   "outputs": [
    {
     "name": "stdout",
     "output_type": "stream",
     "text": [
      "To set up simulation monitoring for localhost, I need to know your password\n",
      "Don't worry, it will not be stored to disk.\n"
     ]
    },
    {
     "name": "stdin",
     "output_type": "stream",
     "text": [
      "Please enter the password for pgierz@localhost ········\n"
     ]
    }
   ],
   "source": [
    "sftp = deploy_keypair(\"pgierz\", \"localhost\")"
   ]
  },
  {
   "cell_type": "code",
   "execution_count": 27,
   "metadata": {},
   "outputs": [],
   "source": [
    "sftp."
   ]
  },
  {
   "cell_type": "code",
   "execution_count": null,
   "metadata": {},
   "outputs": [],
   "source": []
  }
 ],
 "metadata": {
  "kernelspec": {
   "display_name": "Python 3",
   "language": "python",
   "name": "python3"
  },
  "language_info": {
   "codemirror_mode": {
    "name": "ipython",
    "version": 3
   },
   "file_extension": ".py",
   "mimetype": "text/x-python",
   "name": "python",
   "nbconvert_exporter": "python",
   "pygments_lexer": "ipython3",
   "version": "3.7.3"
  }
 },
 "nbformat": 4,
 "nbformat_minor": 4
}
