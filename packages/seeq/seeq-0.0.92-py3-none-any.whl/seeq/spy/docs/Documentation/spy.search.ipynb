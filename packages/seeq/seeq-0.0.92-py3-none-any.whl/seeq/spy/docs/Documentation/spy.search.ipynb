{
 "cells": [
  {
   "cell_type": "code",
   "execution_count": 1,
   "metadata": {},
   "outputs": [],
   "source": [
    "from seeq import spy\n",
    "import pandas as pd"
   ]
  },
  {
   "cell_type": "markdown",
   "metadata": {},
   "source": [
    "# spy.search\n",
    "\n",
    "Finds signals (tags), conditions (with capsules), scalars (constants), assets or any other type of item that Seeq indexes or keeps track of.\n",
    "\n",
    "You will generally use this command before executing `spy.pull()`."
   ]
  },
  {
   "cell_type": "markdown",
   "metadata": {},
   "source": [
    "`spy.search(query, all_properties=False, workbook='Data Lab >> Data Lab Analysis')`"
   ]
  },
  {
   "cell_type": "markdown",
   "metadata": {},
   "source": [
    "Log into Seeq Server if you're not using Seeq Data Lab:"
   ]
  },
  {
   "cell_type": "code",
   "execution_count": 2,
   "metadata": {},
   "outputs": [
    {
     "data": {
      "text/html": [
       "<div style=\"background-color: #EEFFEE;text-align: left;\">Logged in to <strong>http://localhost:34216/api</strong> successfully as <strong>mark.derbecker@seeq.com (Mark Derbecker [Admin])</strong></div><table><tr><td style=\"background-color: #EEFFEE;\"></td></tr></table>"
      ],
      "text/plain": [
       "<IPython.core.display.HTML object>"
      ]
     },
     "metadata": {},
     "output_type": "display_data"
    }
   ],
   "source": [
    "spy.login(url='http://localhost:34216', credentials_file='../credentials.key')"
   ]
  },
  {
   "cell_type": "markdown",
   "metadata": {},
   "source": [
    "## Query Syntax\n",
    "\n",
    "The `query` parameter is a dictionary of _property_: _filter_ values that are applied using AND logic by Seeq Server. Let's use the following examples to illustrate the important parts:"
   ]
  },
  {
   "cell_type": "code",
   "execution_count": 3,
   "metadata": {},
   "outputs": [
    {
     "data": {
      "text/html": [
       "<div style=\"background-color: #EEFFEE;text-align: left;\">Query successful</div><table><tr><td style=\"background-color: #EEFFEE;\"></td><td style=\"background-color: #EEFFEE;\">Count</td><td style=\"background-color: #EEFFEE;\">Time</td></tr><tr style=\"background-color: #EEFFEE;\"><td>Results</td><td>8</td><td>00:00:00.09</td></tr></table>"
      ],
      "text/plain": [
       "<IPython.core.display.HTML object>"
      ]
     },
     "metadata": {},
     "output_type": "display_data"
    },
    {
     "data": {
      "text/html": [
       "<div>\n",
       "<style scoped>\n",
       "    .dataframe tbody tr th:only-of-type {\n",
       "        vertical-align: middle;\n",
       "    }\n",
       "\n",
       "    .dataframe tbody tr th {\n",
       "        vertical-align: top;\n",
       "    }\n",
       "\n",
       "    .dataframe thead th {\n",
       "        text-align: right;\n",
       "    }\n",
       "</style>\n",
       "<table border=\"1\" class=\"dataframe\">\n",
       "  <thead>\n",
       "    <tr style=\"text-align: right;\">\n",
       "      <th></th>\n",
       "      <th>ID</th>\n",
       "      <th>Path</th>\n",
       "      <th>Asset</th>\n",
       "      <th>Name</th>\n",
       "      <th>Description</th>\n",
       "      <th>Type</th>\n",
       "      <th>Value Unit Of Measure</th>\n",
       "      <th>Datasource Name</th>\n",
       "    </tr>\n",
       "  </thead>\n",
       "  <tbody>\n",
       "    <tr>\n",
       "      <th>0</th>\n",
       "      <td>9F7CC611-9774-4345-9FB2-983FCCE975AB</td>\n",
       "      <td>Example &gt;&gt; Cooling Tower 1</td>\n",
       "      <td>Area B</td>\n",
       "      <td>Relative Humidity</td>\n",
       "      <td>NaN</td>\n",
       "      <td>StoredSignal</td>\n",
       "      <td>%</td>\n",
       "      <td>Example Data</td>\n",
       "    </tr>\n",
       "    <tr>\n",
       "      <th>1</th>\n",
       "      <td>01F9BDAD-8315-4E5B-A827-A1C8B01FB7B3</td>\n",
       "      <td>Example &gt;&gt; Cooling Tower 1</td>\n",
       "      <td>Area K</td>\n",
       "      <td>Relative Humidity</td>\n",
       "      <td>NaN</td>\n",
       "      <td>StoredSignal</td>\n",
       "      <td>%</td>\n",
       "      <td>Example Data</td>\n",
       "    </tr>\n",
       "    <tr>\n",
       "      <th>2</th>\n",
       "      <td>9D699E35-58F1-415E-9BC8-B251E1AA744D</td>\n",
       "      <td>Example &gt;&gt; Cooling Tower 1</td>\n",
       "      <td>Area I</td>\n",
       "      <td>Relative Humidity</td>\n",
       "      <td>NaN</td>\n",
       "      <td>StoredSignal</td>\n",
       "      <td>%</td>\n",
       "      <td>Example Data</td>\n",
       "    </tr>\n",
       "    <tr>\n",
       "      <th>3</th>\n",
       "      <td>93D10152-1FAC-4A20-9318-2A9690E75669</td>\n",
       "      <td>Example &gt;&gt; Cooling Tower 1</td>\n",
       "      <td>Area C</td>\n",
       "      <td>Relative Humidity</td>\n",
       "      <td>NaN</td>\n",
       "      <td>StoredSignal</td>\n",
       "      <td>%</td>\n",
       "      <td>Example Data</td>\n",
       "    </tr>\n",
       "    <tr>\n",
       "      <th>4</th>\n",
       "      <td>CE335195-5097-4844-878C-CD2D2DD69B31</td>\n",
       "      <td>Example &gt;&gt; Cooling Tower 1</td>\n",
       "      <td>Area G</td>\n",
       "      <td>Relative Humidity</td>\n",
       "      <td>NaN</td>\n",
       "      <td>StoredSignal</td>\n",
       "      <td>%</td>\n",
       "      <td>Example Data</td>\n",
       "    </tr>\n",
       "    <tr>\n",
       "      <th>5</th>\n",
       "      <td>F68024E6-2318-47BF-A7C1-23B2C6DD7B7C</td>\n",
       "      <td>Example &gt;&gt; Cooling Tower 1</td>\n",
       "      <td>Area H</td>\n",
       "      <td>Relative Humidity</td>\n",
       "      <td>NaN</td>\n",
       "      <td>StoredSignal</td>\n",
       "      <td>%</td>\n",
       "      <td>Example Data</td>\n",
       "    </tr>\n",
       "    <tr>\n",
       "      <th>6</th>\n",
       "      <td>DB99C4E7-DE21-48DF-A194-2A8B8535E2C3</td>\n",
       "      <td>Example &gt;&gt; Cooling Tower 1</td>\n",
       "      <td>Area A</td>\n",
       "      <td>Relative Humidity</td>\n",
       "      <td>NaN</td>\n",
       "      <td>StoredSignal</td>\n",
       "      <td>%</td>\n",
       "      <td>Example Data</td>\n",
       "    </tr>\n",
       "    <tr>\n",
       "      <th>7</th>\n",
       "      <td>B795AB65-EA53-44E0-B198-24AFDB3FA338</td>\n",
       "      <td>Example &gt;&gt; Cooling Tower 1</td>\n",
       "      <td>Area J</td>\n",
       "      <td>Relative Humidity</td>\n",
       "      <td>NaN</td>\n",
       "      <td>StoredSignal</td>\n",
       "      <td>%</td>\n",
       "      <td>Example Data</td>\n",
       "    </tr>\n",
       "  </tbody>\n",
       "</table>\n",
       "</div>"
      ],
      "text/plain": [
       "                                     ID                        Path   Asset  \\\n",
       "0  9F7CC611-9774-4345-9FB2-983FCCE975AB  Example >> Cooling Tower 1  Area B   \n",
       "1  01F9BDAD-8315-4E5B-A827-A1C8B01FB7B3  Example >> Cooling Tower 1  Area K   \n",
       "2  9D699E35-58F1-415E-9BC8-B251E1AA744D  Example >> Cooling Tower 1  Area I   \n",
       "3  93D10152-1FAC-4A20-9318-2A9690E75669  Example >> Cooling Tower 1  Area C   \n",
       "4  CE335195-5097-4844-878C-CD2D2DD69B31  Example >> Cooling Tower 1  Area G   \n",
       "5  F68024E6-2318-47BF-A7C1-23B2C6DD7B7C  Example >> Cooling Tower 1  Area H   \n",
       "6  DB99C4E7-DE21-48DF-A194-2A8B8535E2C3  Example >> Cooling Tower 1  Area A   \n",
       "7  B795AB65-EA53-44E0-B198-24AFDB3FA338  Example >> Cooling Tower 1  Area J   \n",
       "\n",
       "                Name  Description          Type Value Unit Of Measure  \\\n",
       "0  Relative Humidity          NaN  StoredSignal                     %   \n",
       "1  Relative Humidity          NaN  StoredSignal                     %   \n",
       "2  Relative Humidity          NaN  StoredSignal                     %   \n",
       "3  Relative Humidity          NaN  StoredSignal                     %   \n",
       "4  Relative Humidity          NaN  StoredSignal                     %   \n",
       "5  Relative Humidity          NaN  StoredSignal                     %   \n",
       "6  Relative Humidity          NaN  StoredSignal                     %   \n",
       "7  Relative Humidity          NaN  StoredSignal                     %   \n",
       "\n",
       "  Datasource Name  \n",
       "0    Example Data  \n",
       "1    Example Data  \n",
       "2    Example Data  \n",
       "3    Example Data  \n",
       "4    Example Data  \n",
       "5    Example Data  \n",
       "6    Example Data  \n",
       "7    Example Data  "
      ]
     },
     "execution_count": 3,
     "metadata": {},
     "output_type": "execute_result"
    }
   ],
   "source": [
    "spy.search({\n",
    "    'Name': 'Humid',\n",
    "    'Path': 'Example >> Cooling Tower 1'\n",
    "})"
   ]
  },
  {
   "cell_type": "markdown",
   "metadata": {},
   "source": [
    "This query returns anything with `Humid` in its `Name` property that also lives somewhere under `Example >> Cooling Tower 1` in an asset tree.\n",
    "\n",
    "There are several capabilities and some constraints associated with querying:\n",
    "\n",
    "1. The `Name` and `Description` properties are queried upon with the same wildcard and RegEx support as the Data tab in Seeq Workbench: https://seeq12.atlassian.net/wiki/spaces/KB/pages/146472969/Searching+for+Items\n",
    "\n",
    "2. The `Path` property is a _virtual_ property that specifies the path through an asset tree from its root, with `>>` as delimiters for each level in the asset tree.\n",
    "\n",
    "3. The returned `Asset` property is just the leaf asset node in the tree. It can only be used in tandem with the `Path` property.\n",
    "\n",
    "4. For the `Type` property, you can specify just `Signal`, `Condition` or `Scalar` if you want to return both _stored_ and _calculated_ items.\n",
    "\n",
    "5. You can specify `Datasource Name` _or_ you can specify both `Datasource ID` and `Datasource Class` to differentiate between datasources with the same name.\n",
    "\n",
    "6. You can filter on `Data ID`, which is a unique identifier that is generally the same across instances of Seeq Server.\n",
    "\n",
    "7. You can filter on `Archived` and `Cache Enabled` using either `True` or `False` Python boolean values.\n"
   ]
  },
  {
   "cell_type": "markdown",
   "metadata": {},
   "source": [
    "## Retrieving all properties\n",
    "\n",
    "`spy.search()` only returns a subset of item properties as can be seen in the output above. If you want to retrieve all properties, use `all_properties=True`. Note that this can be an expensive (slow) operation for queries that return many rows."
   ]
  },
  {
   "cell_type": "code",
   "execution_count": 4,
   "metadata": {},
   "outputs": [
    {
     "data": {
      "text/html": [
       "<div style=\"background-color: #EEFFEE;text-align: left;\">Query successful</div><table><tr><td style=\"background-color: #EEFFEE;\"></td><td style=\"background-color: #EEFFEE;\">Count</td><td style=\"background-color: #EEFFEE;\">Time</td></tr><tr style=\"background-color: #EEFFEE;\"><td>Results</td><td>1</td><td>00:00:00.07</td></tr></table>"
      ],
      "text/plain": [
       "<IPython.core.display.HTML object>"
      ]
     },
     "metadata": {},
     "output_type": "display_data"
    },
    {
     "data": {
      "text/html": [
       "<div>\n",
       "<style scoped>\n",
       "    .dataframe tbody tr th:only-of-type {\n",
       "        vertical-align: middle;\n",
       "    }\n",
       "\n",
       "    .dataframe tbody tr th {\n",
       "        vertical-align: top;\n",
       "    }\n",
       "\n",
       "    .dataframe thead th {\n",
       "        text-align: right;\n",
       "    }\n",
       "</style>\n",
       "<table border=\"1\" class=\"dataframe\">\n",
       "  <thead>\n",
       "    <tr style=\"text-align: right;\">\n",
       "      <th></th>\n",
       "      <th>ID</th>\n",
       "      <th>Name</th>\n",
       "      <th>Description</th>\n",
       "      <th>Type</th>\n",
       "      <th>Value Unit Of Measure</th>\n",
       "      <th>Datasource Name</th>\n",
       "      <th>Cache Enabled</th>\n",
       "      <th>Data ID</th>\n",
       "      <th>Datasource Class</th>\n",
       "      <th>Datasource ID</th>\n",
       "      <th>Interpolation Method</th>\n",
       "      <th>Key Unit Of Measure</th>\n",
       "      <th>Maximum Interpolation</th>\n",
       "      <th>Source Maximum Interpolation</th>\n",
       "      <th>Source Value Unit Of Measure</th>\n",
       "      <th>Sync Token</th>\n",
       "    </tr>\n",
       "  </thead>\n",
       "  <tbody>\n",
       "    <tr>\n",
       "      <th>0</th>\n",
       "      <td>5C091F71-4998-4BE9-BA6E-81147DA9FEC2</td>\n",
       "      <td>Area A_Relative Humidity</td>\n",
       "      <td>NaN</td>\n",
       "      <td>StoredSignal</td>\n",
       "      <td>%</td>\n",
       "      <td>Example Data</td>\n",
       "      <td>false</td>\n",
       "      <td>[Tag] Area A_Relative Humidity.sim.ts.csv</td>\n",
       "      <td>Time Series CSV Files</td>\n",
       "      <td>Example Data</td>\n",
       "      <td>Linear</td>\n",
       "      <td>ns</td>\n",
       "      <td>2min</td>\n",
       "      <td>2min</td>\n",
       "      <td>%</td>\n",
       "      <td>2019-10-14T19:16:57.365267Z</td>\n",
       "    </tr>\n",
       "  </tbody>\n",
       "</table>\n",
       "</div>"
      ],
      "text/plain": [
       "                                     ID                      Name  \\\n",
       "0  5C091F71-4998-4BE9-BA6E-81147DA9FEC2  Area A_Relative Humidity   \n",
       "\n",
       "   Description          Type Value Unit Of Measure Datasource Name  \\\n",
       "0          NaN  StoredSignal                     %    Example Data   \n",
       "\n",
       "  Cache Enabled                                    Data ID  \\\n",
       "0         false  [Tag] Area A_Relative Humidity.sim.ts.csv   \n",
       "\n",
       "        Datasource Class Datasource ID Interpolation Method  \\\n",
       "0  Time Series CSV Files  Example Data               Linear   \n",
       "\n",
       "  Key Unit Of Measure Maximum Interpolation Source Maximum Interpolation  \\\n",
       "0                  ns                  2min                         2min   \n",
       "\n",
       "  Source Value Unit Of Measure                   Sync Token  \n",
       "0                            %  2019-10-14T19:16:57.365267Z  "
      ]
     },
     "execution_count": 4,
     "metadata": {},
     "output_type": "execute_result"
    }
   ],
   "source": [
    "spy.search({\n",
    "    'Name': 'Area A_*Humid*',\n",
    "    'Datasource Name': 'Example Data'\n",
    "}, all_properties=True)"
   ]
  },
  {
   "cell_type": "markdown",
   "metadata": {},
   "source": [
    "## Workbook scoping\n",
    "\n",
    "The `workbook=<workbook_path>` parameter allows you to include items in your results that are scoped to a particular workbook. If you exclude the argument, then by default your search results will include both globally-scoped items and workbook-scoped items from the **Data Lab >> Data Lab Analysis** workbook (folder path delimiter by `>>`, workbook name at the end). This workbook generally will only exist if you have previous called `spy.push()`. This default behavior forces your `spy.push()` and subsequent `spy.search()` activities to be _sandboxed_, meaning that they will only be visible to you within a particular workbook.\n",
    "\n",
    "If you want to only return globally-scoped items, specify `workbook=None` as the argument.\n",
    "\n",
    "Another option is to specify `Scoped To` within your query block. You must supply a Workbook ID -- not a workbook path like the `workbook` parameter. This approach will limit your search to just those items scoped to a particular workbook (it will _exclude_ globally-scoped items)."
   ]
  },
  {
   "cell_type": "markdown",
   "metadata": {},
   "source": [
    "## DataFrame as input\n",
    "\n",
    "Instead of a Python dictionary for the `query` parameter, you can supply a Pandas DataFrame.\n",
    "\n",
    "This is generally useful when you have a DataFrame full of tag names but don't know the Seeq `ID` value and therefore can't retrieve data via `spy.pull()`. Calling `spy.search(data_frame)` effectively \"fills in\" the `ID` field for you wherever possible.\n",
    "\n",
    "The column headers specify the properties to search on and the column values specify the match criteria.\n",
    "\n",
    "If you don't specify wildcards or use a RegEx, the match must be exact. (This behavior is in contrast to the dictionary case, where the non-wildcard/RegEx match is a \"contains\" comparison.) It is assumed that your DataFrame property values should match exactly so that you can have a large set of items to query for and there won't be ambiguity between item names like `F1843CC` and `F1843CC.SP`."
   ]
  },
  {
   "cell_type": "code",
   "execution_count": 5,
   "metadata": {},
   "outputs": [
    {
     "data": {
      "text/html": [
       "<div>\n",
       "<style scoped>\n",
       "    .dataframe tbody tr th:only-of-type {\n",
       "        vertical-align: middle;\n",
       "    }\n",
       "\n",
       "    .dataframe tbody tr th {\n",
       "        vertical-align: top;\n",
       "    }\n",
       "\n",
       "    .dataframe thead th {\n",
       "        text-align: right;\n",
       "    }\n",
       "</style>\n",
       "<table border=\"1\" class=\"dataframe\">\n",
       "  <thead>\n",
       "    <tr style=\"text-align: right;\">\n",
       "      <th></th>\n",
       "      <th>Name</th>\n",
       "      <th>Datasource Name</th>\n",
       "    </tr>\n",
       "  </thead>\n",
       "  <tbody>\n",
       "    <tr>\n",
       "      <th>0</th>\n",
       "      <td>Area A_Temperature</td>\n",
       "      <td>Example Data</td>\n",
       "    </tr>\n",
       "    <tr>\n",
       "      <th>1</th>\n",
       "      <td>Area B_Compressor Power</td>\n",
       "      <td>Example Data</td>\n",
       "    </tr>\n",
       "    <tr>\n",
       "      <th>2</th>\n",
       "      <td>Optimize</td>\n",
       "      <td>Example Data</td>\n",
       "    </tr>\n",
       "  </tbody>\n",
       "</table>\n",
       "</div>"
      ],
      "text/plain": [
       "                      Name Datasource Name\n",
       "0       Area A_Temperature    Example Data\n",
       "1  Area B_Compressor Power    Example Data\n",
       "2                 Optimize    Example Data"
      ]
     },
     "execution_count": 5,
     "metadata": {},
     "output_type": "execute_result"
    }
   ],
   "source": [
    "my_items = pd.DataFrame({\n",
    "    'Name': [\n",
    "        'Area A_Temperature',\n",
    "        'Area B_Compressor Power',\n",
    "        'Optimize'\n",
    "    ],\n",
    "    'Datasource Name': 'Example Data'\n",
    "})\n",
    "\n",
    "my_items"
   ]
  },
  {
   "cell_type": "code",
   "execution_count": 6,
   "metadata": {},
   "outputs": [
    {
     "data": {
      "text/html": [
       "<div style=\"background-color: #EEFFEE;text-align: left;\">Query successful</div><table><tr><td style=\"background-color: #EEFFEE;\"></td><td style=\"background-color: #EEFFEE;\">Count</td><td style=\"background-color: #EEFFEE;\">Time</td></tr><tr style=\"background-color: #EEFFEE;\"><td>Results</td><td>2</td><td>00:00:00.16</td></tr></table>"
      ],
      "text/plain": [
       "<IPython.core.display.HTML object>"
      ]
     },
     "metadata": {},
     "output_type": "display_data"
    },
    {
     "data": {
      "text/html": [
       "<div>\n",
       "<style scoped>\n",
       "    .dataframe tbody tr th:only-of-type {\n",
       "        vertical-align: middle;\n",
       "    }\n",
       "\n",
       "    .dataframe tbody tr th {\n",
       "        vertical-align: top;\n",
       "    }\n",
       "\n",
       "    .dataframe thead th {\n",
       "        text-align: right;\n",
       "    }\n",
       "</style>\n",
       "<table border=\"1\" class=\"dataframe\">\n",
       "  <thead>\n",
       "    <tr style=\"text-align: right;\">\n",
       "      <th></th>\n",
       "      <th>ID</th>\n",
       "      <th>Name</th>\n",
       "      <th>Description</th>\n",
       "      <th>Type</th>\n",
       "      <th>Value Unit Of Measure</th>\n",
       "      <th>Datasource Name</th>\n",
       "    </tr>\n",
       "  </thead>\n",
       "  <tbody>\n",
       "    <tr>\n",
       "      <th>0</th>\n",
       "      <td>D971E361-9546-48C3-A16E-E26FBA3C10FD</td>\n",
       "      <td>Area A_Temperature</td>\n",
       "      <td>NaN</td>\n",
       "      <td>StoredSignal</td>\n",
       "      <td>°F</td>\n",
       "      <td>Example Data</td>\n",
       "    </tr>\n",
       "    <tr>\n",
       "      <th>1</th>\n",
       "      <td>B2FD4B1B-3DC7-4BD7-9030-95AE4F272352</td>\n",
       "      <td>Area B_Compressor Power</td>\n",
       "      <td>NaN</td>\n",
       "      <td>StoredSignal</td>\n",
       "      <td>kW</td>\n",
       "      <td>Example Data</td>\n",
       "    </tr>\n",
       "  </tbody>\n",
       "</table>\n",
       "</div>"
      ],
      "text/plain": [
       "                                     ID                     Name  Description  \\\n",
       "0  D971E361-9546-48C3-A16E-E26FBA3C10FD       Area A_Temperature          NaN   \n",
       "1  B2FD4B1B-3DC7-4BD7-9030-95AE4F272352  Area B_Compressor Power          NaN   \n",
       "\n",
       "           Type Value Unit Of Measure Datasource Name  \n",
       "0  StoredSignal                    °F    Example Data  \n",
       "1  StoredSignal                    kW    Example Data  "
      ]
     },
     "execution_count": 6,
     "metadata": {},
     "output_type": "execute_result"
    }
   ],
   "source": [
    "spy.search(my_items)"
   ]
  },
  {
   "cell_type": "markdown",
   "metadata": {},
   "source": [
    "Notice that there are no results with `Optimize` in the name because it does not exactly match any items."
   ]
  },
  {
   "cell_type": "code",
   "execution_count": null,
   "metadata": {},
   "outputs": [],
   "source": []
  }
 ],
 "metadata": {
  "kernelspec": {
   "display_name": "Python 3",
   "language": "python",
   "name": "python3"
  },
  "language_info": {
   "codemirror_mode": {
    "name": "ipython",
    "version": 3
   },
   "file_extension": ".py",
   "mimetype": "text/x-python",
   "name": "python",
   "nbconvert_exporter": "python",
   "pygments_lexer": "ipython3",
   "version": "3.7.3"
  }
 },
 "nbformat": 4,
 "nbformat_minor": 2
}
