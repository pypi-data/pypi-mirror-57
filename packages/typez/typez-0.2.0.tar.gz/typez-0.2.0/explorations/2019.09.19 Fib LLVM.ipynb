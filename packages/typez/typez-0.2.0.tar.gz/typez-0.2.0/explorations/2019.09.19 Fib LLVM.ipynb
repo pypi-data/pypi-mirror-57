{
 "cells": [
  {
   "cell_type": "code",
   "execution_count": 5,
   "metadata": {},
   "outputs": [],
   "source": [
    "from metadsl import *\n",
    "from metadsl_core import *\n",
    "from metadsl_llvm.pure import *\n",
    "\n",
    "import metadsl_visualize\n",
    "\n",
    "import typez\n",
    "typez.SHOW_TYPES = False\n",
    "\n",
    "# Disable fixed point expansion temporarily\n",
    "run_post_rules(False)"
   ]
  },
  {
   "cell_type": "code",
   "execution_count": 6,
   "metadata": {},
   "outputs": [],
   "source": [
    "one = Integer.from_int(1)\n",
    "zero = Integer.from_int(0)"
   ]
  },
  {
   "cell_type": "code",
   "execution_count": 10,
   "metadata": {},
   "outputs": [
    {
     "data": {
      "application/json": {
       "nodes": {
        "-1094524890916102730": [
         "26",
         {
          "args": [
           "-7097237823668555869"
          ],
          "function": "Abstraction.fix"
         }
        ],
        "-1435717469434971139": [
         "9",
         {
          "args": [
           "3281554124362395470"
          ],
          "function": "Pair.right",
          "type_params": {
           "T": {
            "type": "Module"
           },
           "U": {
            "params": {
             "T": {
              "type": "Integer"
             },
             "U": {
              "type": "Integer"
             }
            },
            "type": "RegisteredFunctionOne"
           }
          }
         }
        ],
        "-148681877216629570": [
         "28",
         {
          "args": [
           "-1694332698029060853"
          ],
          "function": "Abstraction.create_variable",
          "type_params": {
           "T": {
            "params": {
             "T": {
              "type": "Integer"
             },
             "U": {
              "params": {
               "T": {
                "type": "Integer"
               },
               "U": {
                "params": {
                 "T": {
                  "type": "Integer"
                 },
                 "U": {
                  "type": "Integer"
                 }
                },
                "type": "Abstraction"
               }
              },
              "type": "Abstraction"
             }
            },
            "type": "Abstraction"
           },
           "U": {
            "params": {
             "T": {
              "type": "Integer"
             },
             "U": {
              "params": {
               "T": {
                "type": "Integer"
               },
               "U": {
                "params": {
                 "T": {
                  "type": "Integer"
                 },
                 "U": {
                  "type": "Integer"
                 }
                },
                "type": "Abstraction"
               }
              },
              "type": "Abstraction"
             }
            },
            "type": "Abstraction"
           }
          }
         }
        ],
        "-152929591850720212": [
         "12",
         {
          "repr": "'fib'",
          "type": "str"
         }
        ],
        "-1562234290944248376": [
         "7",
         {
          "args": [
           "-264282768350601783"
          ],
          "function": "FunctionOne.from_fn"
         }
        ],
        "-1694332698029060853": [
         "27",
         {
          "repr": "Variable(4572891064)",
          "type": "Variable"
         }
        ],
        "-1694332728773853378": [
         "35",
         {
          "repr": "Variable(4573476680)",
          "type": "Variable"
         }
        ],
        "-1694332731381656103": [
         "31",
         {
          "repr": "Variable(4573453784)",
          "type": "Variable"
         }
        ],
        "-1942077127152262742": [
         "14",
         {
          "args": [
           "102155759203159525",
           "-533049762653162089"
          ],
          "function": "Abstraction.create",
          "type_params": {
           "T": {
            "type": "Integer"
           },
           "U": {
            "type": "Integer"
           }
          }
         }
        ],
        "-2046940606048338363": [
         "4",
         {
          "args": [
           "3648180171099576616",
           "-7415351905118700192"
          ],
          "function": "Module.register_function_three"
         }
        ],
        "-2063156450824766308": [
         "49",
         {
          "args": [
           "-2126889553619293541",
           "5161618794012014334",
           "368416000382198030"
          ],
          "function": "Boolean.if_"
         }
        ],
        "-2126889553619293541": [
         "48",
         {
          "args": [
           "-428638744467495238",
           "2324029380516624993"
          ],
          "function": "Integer.eq"
         }
        ],
        "-2241754671760058006": [
         "10",
         {
          "args": [
           "-1435717469434971139"
          ],
          "function": "RegisteredFunctionOne.to_fn",
          "type_params": {
           "T": {
            "type": "Integer"
           },
           "U": {
            "type": "Integer"
           }
          }
         }
        ],
        "-2260798956410314756": [
         "47",
         {
          "args": [
           "8696260854326017488",
           "7434090663903589183"
          ],
          "function": "Abstraction.__call__",
          "type_params": {
           "T": {
            "type": "Integer"
           },
           "U": {
            "type": "Integer"
           }
          }
         }
        ],
        "-2409233941988753142": [
         "25",
         {
          "args": [
           "-148681877216629570",
           "5454940190661150662"
          ],
          "function": "Abstraction.create",
          "type_params": {
           "T": {
            "params": {
             "T": {
              "type": "Integer"
             },
             "U": {
              "params": {
               "T": {
                "type": "Integer"
               },
               "U": {
                "params": {
                 "T": {
                  "type": "Integer"
                 },
                 "U": {
                  "type": "Integer"
                 }
                },
                "type": "Abstraction"
               }
              },
              "type": "Abstraction"
             }
            },
            "type": "Abstraction"
           },
           "U": {
            "params": {
             "T": {
              "type": "Integer"
             },
             "U": {
              "params": {
               "T": {
                "type": "Integer"
               },
               "U": {
                "params": {
                 "T": {
                  "type": "Integer"
                 },
                 "U": {
                  "type": "Integer"
                 }
                },
                "type": "Abstraction"
               }
              },
              "type": "Abstraction"
             }
            },
            "type": "Abstraction"
           }
          }
         }
        ],
        "-264282768350601783": [
         "13",
         {
          "repr": "<function fib at 0x1108442f0>",
          "type": "function"
         }
        ],
        "-2992147194522275828": [
         "34",
         {
          "args": [
           "368416000382198030",
           "8593328550942256078"
          ],
          "function": "Abstraction.create",
          "type_params": {
           "T": {
            "type": "Integer"
           },
           "U": {
            "params": {
             "T": {
              "type": "Integer"
             },
             "U": {
              "type": "Integer"
             }
            },
            "type": "Abstraction"
           }
          }
         }
        ],
        "-3122862103317407622": [
         "55",
         {
          "args": [
           "4845979938653838454",
           "5161618794012014334"
          ],
          "function": "Abstraction.__call__",
          "type_params": {
           "T": {
            "type": "Integer"
           },
           "U": {
            "params": {
             "T": {
              "type": "Integer"
             },
             "U": {
              "type": "Integer"
             }
            },
            "type": "Abstraction"
           }
          }
         }
        ],
        "-3125949679124795990": [
         "8",
         {
          "args": [
           "8924535382480654281",
           "1155869147474408060"
          ],
          "function": "Module.register_function_one"
         }
        ],
        "-3239209019554827640": [
         "9",
         {
          "args": [
           "1303069109209575926"
          ],
          "function": "Pair.right",
          "type_params": {
           "T": {
            "type": "Module"
           },
           "U": {
            "params": {
             "T": {
              "type": "Integer"
             },
             "U": {
              "type": "Integer"
             }
            },
            "type": "RegisteredFunctionOne"
           }
          }
         }
        ],
        "-3336486926983265754": [
         "26",
         {
          "args": [
           "3874848056967407855"
          ],
          "function": "Abstraction.fix"
         }
        ],
        "-3407086477424796001": [
         "7",
         {
          "args": [
           "-152929591850720212",
           "6877365168244426011"
          ],
          "function": "FunctionOne.create",
          "type_params": {
           "T": {
            "type": "Integer"
           },
           "U": {
            "type": "Integer"
           }
          }
         }
        ],
        "-3433615698342692758": [
         "10",
         {
          "args": [
           "-7374414688734782720"
          ],
          "function": "RegisteredFunctionOne.to_fn",
          "type_params": {
           "T": {
            "type": "Integer"
           },
           "U": {
            "type": "Integer"
           }
          }
         }
        ],
        "-3599376535914416367": [
         "26",
         {
          "args": [
           "5824967424615095273"
          ],
          "function": "Abstraction.fix"
         }
        ],
        "-3751238268073352506": [
         "7",
         {
          "args": [
           "-152929591850720212",
           "-1942077127152262742"
          ],
          "function": "FunctionOne.create",
          "type_params": {
           "T": {
            "type": "Integer"
           },
           "U": {
            "type": "Integer"
           }
          }
         }
        ],
        "-4101704913106680032": [
         "5",
         {
          "args": [
           "5372608626055140344"
          ],
          "function": "Pair.left",
          "type_params": {
           "T": {
            "type": "Module"
           },
           "U": {
            "params": {
             "T": {
              "type": "Integer"
             },
             "U": {
              "type": "Integer"
             },
             "V": {
              "type": "Integer"
             },
             "X": {
              "type": "Integer"
             }
            },
            "type": "RegisteredFunctionThree"
           }
          }
         }
        ],
        "-428638744467495238": [
         "32",
         {
          "args": [
           "-1694332731381656103"
          ],
          "function": "Abstraction.create_variable",
          "type_params": {
           "T": {
            "type": "Integer"
           },
           "U": {
            "params": {
             "T": {
              "type": "Integer"
             },
             "U": {
              "params": {
               "T": {
                "type": "Integer"
               },
               "U": {
                "type": "Integer"
               }
              },
              "type": "Abstraction"
             }
            },
            "type": "Abstraction"
           }
          }
         }
        ],
        "-4288087874597742555": [
         "9",
         {
          "args": [
           "-683091493958077033"
          ],
          "function": "Pair.right",
          "type_params": {
           "T": {
            "type": "Module"
           },
           "U": {
            "params": {
             "T": {
              "type": "Integer"
             },
             "U": {
              "type": "Integer"
             }
            },
            "type": "RegisteredFunctionOne"
           }
          }
         }
        ],
        "-4466765468109826240": [
         "4",
         {
          "args": [
           "3648180171099576616",
           "5035357982579704524"
          ],
          "function": "Module.register_function_three"
         }
        ],
        "-4585193478213949498": [
         "30",
         {
          "args": [
           "-428638744467495238",
           "7671975656220872243"
          ],
          "function": "Abstraction.create",
          "type_params": {
           "T": {
            "type": "Integer"
           },
           "U": {
            "params": {
             "T": {
              "type": "Integer"
             },
             "U": {
              "params": {
               "T": {
                "type": "Integer"
               },
               "U": {
                "type": "Integer"
               }
              },
              "type": "Abstraction"
             }
            },
            "type": "Abstraction"
           }
          }
         }
        ],
        "-459877610430196501": [
         "26",
         {
          "args": [
           "-2409233941988753142"
          ],
          "function": "Abstraction.fix"
         }
        ],
        "-4674205987303158733": [
         "30",
         {
          "args": [
           "-428638744467495238",
           "-5318737446679150133"
          ],
          "function": "Abstraction.create",
          "type_params": {
           "T": {
            "type": "Integer"
           },
           "U": {
            "params": {
             "T": {
              "type": "Integer"
             },
             "U": {
              "params": {
               "T": {
                "type": "Integer"
               },
               "U": {
                "type": "Integer"
               }
              },
              "type": "Abstraction"
             }
            },
            "type": "Abstraction"
           }
          }
         }
        ],
        "-4848966146136472": [
         "5",
         {
          "args": [
           "-8871366020435833995"
          ],
          "function": "Pair.left",
          "type_params": {
           "T": {
            "type": "Module"
           },
           "U": {
            "params": {
             "T": {
              "type": "Integer"
             },
             "U": {
              "type": "Integer"
             },
             "V": {
              "type": "Integer"
             },
             "X": {
              "type": "Integer"
             }
            },
            "type": "RegisteredFunctionThree"
           }
          }
         }
        ],
        "-4864211006751955863": [
         "30",
         {
          "args": [
           "-428638744467495238",
           "-2992147194522275828"
          ],
          "function": "Abstraction.create",
          "type_params": {
           "T": {
            "type": "Integer"
           },
           "U": {
            "params": {
             "T": {
              "type": "Integer"
             },
             "U": {
              "params": {
               "T": {
                "type": "Integer"
               },
               "U": {
                "type": "Integer"
               }
              },
              "type": "Abstraction"
             }
            },
            "type": "Abstraction"
           }
          }
         }
        ],
        "-5008757297206724470": [
         "10",
         {
          "args": [
           "-995756439704348515"
          ],
          "function": "RegisteredFunctionOne.to_fn",
          "type_params": {
           "T": {
            "type": "Integer"
           },
           "U": {
            "type": "Integer"
           }
          }
         }
        ],
        "-5022540307094615415": [
         "26",
         {
          "args": [
           "-6986949745129414490"
          ],
          "function": "Abstraction.fix"
         }
        ],
        "-5226549792683117699": [
         "10",
         {
          "args": [
           "-7191301629101492079"
          ],
          "function": "RegisteredFunctionOne.to_fn",
          "type_params": {
           "T": {
            "type": "Integer"
           },
           "U": {
            "type": "Integer"
           }
          }
         }
        ],
        "-5318737446679150133": [
         "34",
         {
          "args": [
           "368416000382198030",
           "-5601612119553279150"
          ],
          "function": "Abstraction.create",
          "type_params": {
           "T": {
            "type": "Integer"
           },
           "U": {
            "params": {
             "T": {
              "type": "Integer"
             },
             "U": {
              "type": "Integer"
             }
            },
            "type": "Abstraction"
           }
          }
         }
        ],
        "-533049762653162089": [
         "22",
         {
          "args": [
           "-8714504211911569045",
           "102155759203159525",
           "6252234403416070464",
           "2324029380516624993"
          ],
          "function": "RegisteredFunctionThree.__call__",
          "type_params": {
           "T": {
            "type": "Integer"
           },
           "U": {
            "type": "Integer"
           },
           "V": {
            "type": "Integer"
           },
           "X": {
            "type": "Integer"
           }
          }
         }
        ],
        "-5450647339771792451": [
         "7",
         {
          "args": [
           "-152929591850720212",
           "-5533239073147418295"
          ],
          "function": "FunctionOne.create",
          "type_params": {
           "T": {
            "type": "Integer"
           },
           "U": {
            "type": "Integer"
           }
          }
         }
        ],
        "-5476440331558236592": [
         "8",
         {
          "args": [
           "-4848966146136472",
           "-8025538799242210479"
          ],
          "function": "Module.register_function_one"
         }
        ],
        "-5533239073147418295": [
         "14",
         {
          "args": [
           "102155759203159525",
           "5301232882385009436"
          ],
          "function": "Abstraction.create",
          "type_params": {
           "T": {
            "type": "Integer"
           },
           "U": {
            "type": "Integer"
           }
          }
         }
        ],
        "-5601612119553279150": [
         "38",
         {
          "args": [
           "5161618794012014334",
           "1054724378526425104"
          ],
          "function": "Abstraction.create",
          "type_params": {
           "T": {
            "type": "Integer"
           },
           "U": {
            "type": "Integer"
           }
          }
         }
        ],
        "-5615027502901240097": [
         "10",
         {
          "args": [
           "-4288087874597742555"
          ],
          "function": "RegisteredFunctionOne.to_fn",
          "type_params": {
           "T": {
            "type": "Integer"
           },
           "U": {
            "type": "Integer"
           }
          }
         }
        ],
        "-5870614572429890802": [
         "26",
         {
          "args": [
           "8420010487753888757"
          ],
          "function": "Abstraction.fix"
         }
        ],
        "-614509765142210293": [
         "17",
         {
          "args": [
           "3264757715835459708"
          ],
          "function": "Pair.right",
          "type_params": {
           "T": {
            "type": "Module"
           },
           "U": {
            "params": {
             "T": {
              "type": "Integer"
             },
             "U": {
              "type": "Integer"
             },
             "V": {
              "type": "Integer"
             },
             "X": {
              "type": "Integer"
             }
            },
            "type": "RegisteredFunctionThree"
           }
          }
         }
        ],
        "-6336771601139249826": [
         "3",
         {
          "args": [
           "8889008873117166537",
           "-5870614572429890802"
          ],
          "function": "FunctionThree.create",
          "type_params": {
           "T": {
            "type": "Integer"
           },
           "U": {
            "type": "Integer"
           },
           "V": {
            "type": "Integer"
           },
           "X": {
            "type": "Integer"
           }
          }
         }
        ],
        "-6566018200973781226": [
         "22",
         {
          "args": [
           "8111668074374725500",
           "102155759203159525",
           "6252234403416070464",
           "2324029380516624993"
          ],
          "function": "RegisteredFunctionThree.__call__",
          "type_params": {
           "T": {
            "type": "Integer"
           },
           "U": {
            "type": "Integer"
           },
           "V": {
            "type": "Integer"
           },
           "X": {
            "type": "Integer"
           }
          }
         }
        ],
        "-683091493958077033": [
         "8",
         {
          "args": [
           "2425760550663432203",
           "-5450647339771792451"
          ],
          "function": "Module.register_function_one"
         }
        ],
        "-6924997134608875192": [
         "43",
         {
          "args": [
           "-428638744467495238",
           "2324029380516624993"
          ],
          "function": "Integer.__gt__"
         }
        ],
        "-6986949745129414490": [
         "25",
         {
          "args": [
           "1826795518309290855"
          ],
          "function": "Abstraction.from_fn"
         }
        ],
        "-7097237823668555869": [
         "25",
         {
          "args": [
           "-148681877216629570",
           "-4864211006751955863"
          ],
          "function": "Abstraction.create",
          "type_params": {
           "T": {
            "params": {
             "T": {
              "type": "Integer"
             },
             "U": {
              "params": {
               "T": {
                "type": "Integer"
               },
               "U": {
                "params": {
                 "T": {
                  "type": "Integer"
                 },
                 "U": {
                  "type": "Integer"
                 }
                },
                "type": "Abstraction"
               }
              },
              "type": "Abstraction"
             }
            },
            "type": "Abstraction"
           },
           "U": {
            "params": {
             "T": {
              "type": "Integer"
             },
             "U": {
              "params": {
               "T": {
                "type": "Integer"
               },
               "U": {
                "params": {
                 "T": {
                  "type": "Integer"
                 },
                 "U": {
                  "type": "Integer"
                 }
                },
                "type": "Abstraction"
               }
              },
              "type": "Abstraction"
             }
            },
            "type": "Abstraction"
           }
          }
         }
        ],
        "-7191301629101492079": [
         "9",
         {
          "args": [
           "-7772994066719083858"
          ],
          "function": "Pair.right",
          "type_params": {
           "T": {
            "type": "Module"
           },
           "U": {
            "params": {
             "T": {
              "type": "Integer"
             },
             "U": {
              "type": "Integer"
             }
            },
            "type": "RegisteredFunctionOne"
           }
          }
         }
        ],
        "-7222550989444327294": [
         "53",
         {
          "args": [
           "-428638744467495238",
           "2324029380516624993"
          ],
          "function": "Integer.__sub__"
         }
        ],
        "-7348205438627108820": [
         "22",
         {
          "args": [
           "-8676254926415379896",
           "102155759203159525",
           "6252234403416070464",
           "2324029380516624993"
          ],
          "function": "RegisteredFunctionThree.__call__",
          "type_params": {
           "T": {
            "type": "Integer"
           },
           "U": {
            "type": "Integer"
           },
           "V": {
            "type": "Integer"
           },
           "X": {
            "type": "Integer"
           }
          }
         }
        ],
        "-7374414688734782720": [
         "9",
         {
          "args": [
           "2979840583865358637"
          ],
          "function": "Pair.right",
          "type_params": {
           "T": {
            "type": "Module"
           },
           "U": {
            "params": {
             "T": {
              "type": "Integer"
             },
             "U": {
              "type": "Integer"
             }
            },
            "type": "RegisteredFunctionOne"
           }
          }
         }
        ],
        "-7415351905118700192": [
         "3",
         {
          "args": [
           "8889008873117166537",
           "-1094524890916102730"
          ],
          "function": "FunctionThree.create",
          "type_params": {
           "T": {
            "type": "Integer"
           },
           "U": {
            "type": "Integer"
           },
           "V": {
            "type": "Integer"
           },
           "X": {
            "type": "Integer"
           }
          }
         }
        ],
        "-7629701227571121974": [
         "10",
         {
          "args": [
           "-9027640238690465568"
          ],
          "function": "RegisteredFunctionOne.to_fn",
          "type_params": {
           "T": {
            "type": "Integer"
           },
           "U": {
            "type": "Integer"
           }
          }
         }
        ],
        "-7676331715621109212": [
         "30",
         {
          "args": [
           "-428638744467495238",
           "6424043553976935950"
          ],
          "function": "Abstraction.create",
          "type_params": {
           "T": {
            "type": "Integer"
           },
           "U": {
            "params": {
             "T": {
              "type": "Integer"
             },
             "U": {
              "params": {
               "T": {
                "type": "Integer"
               },
               "U": {
                "type": "Integer"
               }
              },
              "type": "Abstraction"
             }
            },
            "type": "Abstraction"
           }
          }
         }
        ],
        "-7682846978588519834": [
         "14",
         {
          "args": [
           "102155759203159525",
           "7696578279182636448"
          ],
          "function": "Abstraction.create",
          "type_params": {
           "T": {
            "type": "Integer"
           },
           "U": {
            "type": "Integer"
           }
          }
         }
        ],
        "-7772994066719083858": [
         "8",
         {
          "args": [
           "5624885620221352612",
           "-8839683973989338183"
          ],
          "function": "Module.register_function_one"
         }
        ],
        "-7795801676555135279": [
         "17",
         {
          "args": [
           "-4466765468109826240"
          ],
          "function": "Pair.right",
          "type_params": {
           "T": {
            "type": "Module"
           },
           "U": {
            "params": {
             "T": {
              "type": "Integer"
             },
             "U": {
              "type": "Integer"
             },
             "V": {
              "type": "Integer"
             },
             "X": {
              "type": "Integer"
             }
            },
            "type": "RegisteredFunctionThree"
           }
          }
         }
        ],
        "-8025538799242210479": [
         "7",
         {
          "args": [
           "-152929591850720212",
           "-7682846978588519834"
          ],
          "function": "FunctionOne.create",
          "type_params": {
           "T": {
            "type": "Integer"
           },
           "U": {
            "type": "Integer"
           }
          }
         }
        ],
        "-8075925400363834644": [
         "8",
         {
          "args": [
           "-8604738328302413741",
           "2045487092677111594"
          ],
          "function": "Module.register_function_one"
         }
        ],
        "-8460587041135040084": [
         "10",
         {
          "args": [
           "1962542458942537035"
          ],
          "function": "RegisteredFunctionOne.to_fn",
          "type_params": {
           "T": {
            "type": "Integer"
           },
           "U": {
            "type": "Integer"
           }
          }
         }
        ],
        "-8604738328302413741": [
         "5",
         {
          "args": [
           "3264757715835459708"
          ],
          "function": "Pair.left",
          "type_params": {
           "T": {
            "type": "Module"
           },
           "U": {
            "params": {
             "T": {
              "type": "Integer"
             },
             "U": {
              "type": "Integer"
             },
             "V": {
              "type": "Integer"
             },
             "X": {
              "type": "Integer"
             }
            },
            "type": "RegisteredFunctionThree"
           }
          }
         }
        ],
        "-8676254926415379896": [
         "17",
         {
          "args": [
           "5372608626055140344"
          ],
          "function": "Pair.right",
          "type_params": {
           "T": {
            "type": "Module"
           },
           "U": {
            "params": {
             "T": {
              "type": "Integer"
             },
             "U": {
              "type": "Integer"
             },
             "V": {
              "type": "Integer"
             },
             "X": {
              "type": "Integer"
             }
            },
            "type": "RegisteredFunctionThree"
           }
          }
         }
        ],
        "-8714504211911569045": [
         "17",
         {
          "args": [
           "6285524559974468059"
          ],
          "function": "Pair.right",
          "type_params": {
           "T": {
            "type": "Module"
           },
           "U": {
            "params": {
             "T": {
              "type": "Integer"
             },
             "U": {
              "type": "Integer"
             },
             "V": {
              "type": "Integer"
             },
             "X": {
              "type": "Integer"
             }
            },
            "type": "RegisteredFunctionThree"
           }
          }
         }
        ],
        "-8839683973989338183": [
         "7",
         {
          "args": [
           "-152929591850720212",
           "8575474884086262568"
          ],
          "function": "FunctionOne.create",
          "type_params": {
           "T": {
            "type": "Integer"
           },
           "U": {
            "type": "Integer"
           }
          }
         }
        ],
        "-8871366020435833995": [
         "4",
         {
          "args": [
           "3648180171099576616",
           "8722876737848929770"
          ],
          "function": "Module.register_function_three"
         }
        ],
        "-9027640238690465568": [
         "9",
         {
          "args": [
           "-5476440331558236592"
          ],
          "function": "Pair.right",
          "type_params": {
           "T": {
            "type": "Module"
           },
           "U": {
            "params": {
             "T": {
              "type": "Integer"
             },
             "U": {
              "type": "Integer"
             }
            },
            "type": "RegisteredFunctionOne"
           }
          }
         }
        ],
        "-928819224404351738": [
         "38",
         {
          "args": [
           "5161618794012014334",
           "7116517269087919097"
          ],
          "function": "Abstraction.create",
          "type_params": {
           "T": {
            "type": "Integer"
           },
           "U": {
            "type": "Integer"
           }
          }
         }
        ],
        "-995756439704348515": [
         "9",
         {
          "args": [
           "1474815460057816623"
          ],
          "function": "Pair.right",
          "type_params": {
           "T": {
            "type": "Module"
           },
           "U": {
            "params": {
             "T": {
              "type": "Integer"
             },
             "U": {
              "type": "Integer"
             }
            },
            "type": "RegisteredFunctionOne"
           }
          }
         }
        ],
        "1016463036960271880": [
         "38",
         {
          "args": [
           "5161618794012014334",
           "5891671081517039276"
          ],
          "function": "Abstraction.create",
          "type_params": {
           "T": {
            "type": "Integer"
           },
           "U": {
            "type": "Integer"
           }
          }
         }
        ],
        "102155759203159525": [
         "16",
         {
          "args": [
           "7529039306583790355"
          ],
          "function": "Abstraction.create_variable",
          "type_params": {
           "T": {
            "type": "Integer"
           },
           "U": {
            "type": "Integer"
           }
          }
         }
        ],
        "1054724378526425104": [
         "50",
         {
          "args": [
           "-6924997134608875192",
           "4190245541205513295",
           "-2063156450824766308"
          ],
          "function": "Boolean.if_"
         }
        ],
        "1155869147474408060": [
         "7",
         {
          "args": [
           "-152929591850720212",
           "5559499270326263682"
          ],
          "function": "FunctionOne.create",
          "type_params": {
           "T": {
            "type": "Integer"
           },
           "U": {
            "type": "Integer"
           }
          }
         }
        ],
        "1212384370683108794": [
         "22",
         {
          "args": [
           "-614509765142210293",
           "102155759203159525",
           "6252234403416070464",
           "2324029380516624993"
          ],
          "function": "RegisteredFunctionThree.__call__",
          "type_params": {
           "T": {
            "type": "Integer"
           },
           "U": {
            "type": "Integer"
           },
           "V": {
            "type": "Integer"
           },
           "X": {
            "type": "Integer"
           }
          }
         }
        ],
        "1245359205566994784": [
         "7",
         {
          "args": [
           "-152929591850720212",
           "1887441356247301424"
          ],
          "function": "FunctionOne.create",
          "type_params": {
           "T": {
            "type": "Integer"
           },
           "U": {
            "type": "Integer"
           }
          }
         }
        ],
        "1303069109209575926": [
         "8",
         {
          "args": [
           "5624885620221352612",
           "-3407086477424796001"
          ],
          "function": "Module.register_function_one"
         }
        ],
        "1474815460057816623": [
         "8",
         {
          "args": [
           "7823995984646269043",
           "-3751238268073352506"
          ],
          "function": "Module.register_function_one"
         }
        ],
        "1639493727729821760": [
         "9",
         {
          "args": [
           "5224016916090767212"
          ],
          "function": "Pair.right",
          "type_params": {
           "T": {
            "type": "Module"
           },
           "U": {
            "params": {
             "T": {
              "type": "Integer"
             },
             "U": {
              "type": "Integer"
             }
            },
            "type": "RegisteredFunctionOne"
           }
          }
         }
        ],
        "1826795518309290855": [
         "24",
         {
          "repr": "FunctionReplaceTyping(fn=<function FunctionThree.from_fn_recursive.<locals>.inner at 0x110844ea0>, typevars={~V: <class 'metadsl_core.integer.Integer'>, ~U: <class 'metadsl_core.integer.Integer'>, ~T: <class 'metadsl_core.integer.Integer'>, ~X: <class 'metadsl_core.integer.Integer'>}, typevars_in_scope={~U, ~T, ~V, ~X})",
          "type": "FunctionReplaceTyping"
         }
        ],
        "1826795518750961055": [
         "33",
         {
          "repr": "FunctionReplaceTyping(fn=<function FunctionThree.from_fn_recursive.<locals>.inner.<locals>.inner.<locals>.inner at 0x110844c80>, typevars={~V: <class 'metadsl_core.integer.Integer'>, ~U: <class 'metadsl_core.integer.Integer'>, ~T: <class 'metadsl_core.integer.Integer'>, ~X: <class 'metadsl_core.integer.Integer'>}, typevars_in_scope={~U, ~T, ~V, ~X})",
          "type": "FunctionReplaceTyping"
         }
        ],
        "1826795578679545055": [
         "37",
         {
          "repr": "FunctionReplaceTyping(fn=<function FunctionThree.from_fn_recursive.<locals>.inner.<locals>.inner.<locals>.inner.<locals>.inner at 0x10ba08840>, typevars={~V: <class 'metadsl_core.integer.Integer'>, ~U: <class 'metadsl_core.integer.Integer'>, ~T: <class 'metadsl_core.integer.Integer'>, ~X: <class 'metadsl_core.integer.Integer'>}, typevars_in_scope={~U, ~T, ~V, ~X})",
          "type": "FunctionReplaceTyping"
         }
        ],
        "1826795582567974855": [
         "29",
         {
          "repr": "FunctionReplaceTyping(fn=<function FunctionThree.from_fn_recursive.<locals>.inner.<locals>.inner at 0x1106e7730>, typevars={~V: <class 'metadsl_core.integer.Integer'>, ~U: <class 'metadsl_core.integer.Integer'>, ~T: <class 'metadsl_core.integer.Integer'>, ~X: <class 'metadsl_core.integer.Integer'>}, typevars_in_scope={~U, ~T, ~V, ~X})",
          "type": "FunctionReplaceTyping"
         }
        ],
        "1887441356247301424": [
         "14",
         {
          "args": [
           "102155759203159525",
           "-7348205438627108820"
          ],
          "function": "Abstraction.create",
          "type_params": {
           "T": {
            "type": "Integer"
           },
           "U": {
            "type": "Integer"
           }
          }
         }
        ],
        "1962542458942537035": [
         "9",
         {
          "args": [
           "-8075925400363834644"
          ],
          "function": "Pair.right",
          "type_params": {
           "T": {
            "type": "Module"
           },
           "U": {
            "params": {
             "T": {
              "type": "Integer"
             },
             "U": {
              "type": "Integer"
             }
            },
            "type": "RegisteredFunctionOne"
           }
          }
         }
        ],
        "2045487092677111594": [
         "7",
         {
          "args": [
           "-152929591850720212",
           "4408923849683453653"
          ],
          "function": "FunctionOne.create",
          "type_params": {
           "T": {
            "type": "Integer"
           },
           "U": {
            "type": "Integer"
           }
          }
         }
        ],
        "2324029380516624993": [
         "42",
         {
          "args": [
           "8958813984668894000"
          ],
          "function": "Integer.from_int"
         }
        ],
        "2425760550663432203": [
         "5",
         {
          "args": [
           "-2046940606048338363"
          ],
          "function": "Pair.left",
          "type_params": {
           "T": {
            "type": "Module"
           },
           "U": {
            "params": {
             "T": {
              "type": "Integer"
             },
             "U": {
              "type": "Integer"
             },
             "V": {
              "type": "Integer"
             },
             "X": {
              "type": "Integer"
             }
            },
            "type": "RegisteredFunctionThree"
           }
          }
         }
        ],
        "2474692371975656613": [
         "25",
         {
          "args": [
           "-148681877216629570",
           "-4674205987303158733"
          ],
          "function": "Abstraction.create",
          "type_params": {
           "T": {
            "params": {
             "T": {
              "type": "Integer"
             },
             "U": {
              "params": {
               "T": {
                "type": "Integer"
               },
               "U": {
                "params": {
                 "T": {
                  "type": "Integer"
                 },
                 "U": {
                  "type": "Integer"
                 }
                },
                "type": "Abstraction"
               }
              },
              "type": "Abstraction"
             }
            },
            "type": "Abstraction"
           },
           "U": {
            "params": {
             "T": {
              "type": "Integer"
             },
             "U": {
              "params": {
               "T": {
                "type": "Integer"
               },
               "U": {
                "params": {
                 "T": {
                  "type": "Integer"
                 },
                 "U": {
                  "type": "Integer"
                 }
                },
                "type": "Abstraction"
               }
              },
              "type": "Abstraction"
             }
            },
            "type": "Abstraction"
           }
          }
         }
        ],
        "2691120279643562240": [
         "17",
         {
          "args": [
           "-8871366020435833995"
          ],
          "function": "Pair.right",
          "type_params": {
           "T": {
            "type": "Module"
           },
           "U": {
            "params": {
             "T": {
              "type": "Integer"
             },
             "U": {
              "type": "Integer"
             },
             "V": {
              "type": "Integer"
             },
             "X": {
              "type": "Integer"
             }
            },
            "type": "RegisteredFunctionThree"
           }
          }
         }
        ],
        "2979840583865358637": [
         "8",
         {
          "args": [
           "-4101704913106680032",
           "1245359205566994784"
          ],
          "function": "Module.register_function_one"
         }
        ],
        "3264757715835459708": [
         "4",
         {
          "args": [
           "3648180171099576616",
           "8359594801554065719"
          ],
          "function": "Module.register_function_three"
         }
        ],
        "3281554124362395470": [
         "8",
         {
          "args": [
           "9204453333035993982",
           "3515373910936848230"
          ],
          "function": "Module.register_function_one"
         }
        ],
        "3515373910936848230": [
         "7",
         {
          "args": [
           "-152929591850720212",
           "6027843474413095880"
          ],
          "function": "FunctionOne.create",
          "type_params": {
           "T": {
            "type": "Integer"
           },
           "U": {
            "type": "Integer"
           }
          }
         }
        ],
        "3648180171099576616": [
         "1",
         {
          "args": [
           "3739358493955255257"
          ],
          "function": "Module.create"
         }
        ],
        "368416000382198030": [
         "36",
         {
          "args": [
           "-1694332728773853378"
          ],
          "function": "Abstraction.create_variable",
          "type_params": {
           "T": {
            "type": "Integer"
           },
           "U": {
            "params": {
             "T": {
              "type": "Integer"
             },
             "U": {
              "type": "Integer"
             }
            },
            "type": "Abstraction"
           }
          }
         }
        ],
        "3739358493955255257": [
         "11",
         {
          "repr": "'Main'",
          "type": "str"
         }
        ],
        "3874848056967407855": [
         "25",
         {
          "args": [
           "-148681877216629570",
           "7528655639154754896"
          ],
          "function": "Abstraction.create",
          "type_params": {
           "T": {
            "params": {
             "T": {
              "type": "Integer"
             },
             "U": {
              "params": {
               "T": {
                "type": "Integer"
               },
               "U": {
                "params": {
                 "T": {
                  "type": "Integer"
                 },
                 "U": {
                  "type": "Integer"
                 }
                },
                "type": "Abstraction"
               }
              },
              "type": "Abstraction"
             }
            },
            "type": "Abstraction"
           },
           "U": {
            "params": {
             "T": {
              "type": "Integer"
             },
             "U": {
              "params": {
               "T": {
                "type": "Integer"
               },
               "U": {
                "params": {
                 "T": {
                  "type": "Integer"
                 },
                 "U": {
                  "type": "Integer"
                 }
                },
                "type": "Abstraction"
               }
              },
              "type": "Abstraction"
             }
            },
            "type": "Abstraction"
           }
          }
         }
        ],
        "3929803037216958913": [
         "54",
         {
          "args": [
           "5322374211312283539",
           "-7222550989444327294"
          ],
          "function": "Abstraction.__call__",
          "type_params": {
           "T": {
            "type": "Integer"
           },
           "U": {
            "params": {
             "T": {
              "type": "Integer"
             },
             "U": {
              "params": {
               "T": {
                "type": "Integer"
               },
               "U": {
                "type": "Integer"
               }
              },
              "type": "Abstraction"
             }
            },
            "type": "Abstraction"
           }
          }
         }
        ],
        "3949212030538125752": [
         "51",
         {
          "args": [
           "8889008873117166537",
           "-148681877216629570"
          ],
          "function": "FunctionThree.create",
          "type_params": {
           "T": {
            "type": "Integer"
           },
           "U": {
            "type": "Integer"
           },
           "V": {
            "type": "Integer"
           },
           "X": {
            "type": "Integer"
           }
          }
         }
        ],
        "4190245541205513295": [
         "47",
         {
          "args": [
           "3949212030538125752",
           "-7222550989444327294",
           "5161618794012014334",
           "7434090663903589183"
          ],
          "function": "FunctionThree.__call__",
          "type_params": {
           "T": {
            "type": "Integer"
           },
           "U": {
            "type": "Integer"
           },
           "V": {
            "type": "Integer"
           },
           "X": {
            "type": "Integer"
           }
          }
         }
        ],
        "4377804154997173126": [
         "17",
         {
          "args": [
           "5071809883594616522"
          ],
          "function": "Pair.right",
          "type_params": {
           "T": {
            "type": "Module"
           },
           "U": {
            "params": {
             "T": {
              "type": "Integer"
             },
             "U": {
              "type": "Integer"
             },
             "V": {
              "type": "Integer"
             },
             "X": {
              "type": "Integer"
             }
            },
            "type": "RegisteredFunctionThree"
           }
          }
         }
        ],
        "4408923849683453653": [
         "14",
         {
          "args": [
           "102155759203159525",
           "1212384370683108794"
          ],
          "function": "Abstraction.create",
          "type_params": {
           "T": {
            "type": "Integer"
           },
           "U": {
            "type": "Integer"
           }
          }
         }
        ],
        "4454206223018729133": [
         "4",
         {
          "args": [
           "3648180171099576616",
           "8097661969842816946"
          ],
          "function": "Module.register_function_three"
         }
        ],
        "4845979938653838454": [
         "54",
         {
          "args": [
           "-148681877216629570",
           "-7222550989444327294"
          ],
          "function": "Abstraction.__call__",
          "type_params": {
           "T": {
            "type": "Integer"
           },
           "U": {
            "params": {
             "T": {
              "type": "Integer"
             },
             "U": {
              "params": {
               "T": {
                "type": "Integer"
               },
               "U": {
                "type": "Integer"
               }
              },
              "type": "Abstraction"
             }
            },
            "type": "Abstraction"
           }
          }
         }
        ],
        "4972174251263136984": [
         "26",
         {
          "args": [
           "2474692371975656613"
          ],
          "function": "Abstraction.fix"
         }
        ],
        "5035357982579704524": [
         "3",
         {
          "args": [
           "8889008873117166537",
           "4972174251263136984"
          ],
          "function": "FunctionThree.create",
          "type_params": {
           "T": {
            "type": "Integer"
           },
           "U": {
            "type": "Integer"
           },
           "V": {
            "type": "Integer"
           },
           "X": {
            "type": "Integer"
           }
          }
         }
        ],
        "5071809883594616522": [
         "4",
         {
          "args": [
           "3648180171099576616",
           "-6336771601139249826"
          ],
          "function": "Module.register_function_three"
         }
        ],
        "5161618794012014334": [
         "40",
         {
          "args": [
           "7529039305413580830"
          ],
          "function": "Abstraction.create_variable",
          "type_params": {
           "T": {
            "type": "Integer"
           },
           "U": {
            "type": "Integer"
           }
          }
         }
        ],
        "5224016916090767212": [
         "8",
         {
          "args": [
           "5624885620221352612",
           "-1562234290944248376"
          ],
          "function": "Module.register_function_one"
         }
        ],
        "5301232882385009436": [
         "22",
         {
          "args": [
           "6242312047189574995",
           "102155759203159525",
           "6252234403416070464",
           "2324029380516624993"
          ],
          "function": "RegisteredFunctionThree.__call__",
          "type_params": {
           "T": {
            "type": "Integer"
           },
           "U": {
            "type": "Integer"
           },
           "V": {
            "type": "Integer"
           },
           "X": {
            "type": "Integer"
           }
          }
         }
        ],
        "5322374211312283539": [
         "52",
         {
          "args": [
           "3949212030538125752"
          ],
          "function": "FunctionThree.abstraction",
          "type_params": {
           "T": {
            "type": "Integer"
           },
           "U": {
            "type": "Integer"
           },
           "V": {
            "type": "Integer"
           },
           "X": {
            "type": "Integer"
           }
          }
         }
        ],
        "5372608626055140344": [
         "4",
         {
          "args": [
           "3648180171099576616",
           "8552365913333182739"
          ],
          "function": "Module.register_function_three"
         }
        ],
        "5454940190661150662": [
         "30",
         {
          "args": [
           "1826795582567974855"
          ],
          "function": "Abstraction.from_fn"
         }
        ],
        "5559499270326263682": [
         "14",
         {
          "args": [
           "102155759203159525",
           "6118487174943235869"
          ],
          "function": "Abstraction.create",
          "type_params": {
           "T": {
            "type": "Integer"
           },
           "U": {
            "type": "Integer"
           }
          }
         }
        ],
        "559900832732604187": [
         "10",
         {
          "args": [
           "1639493727729821760"
          ],
          "function": "RegisteredFunctionOne.to_fn",
          "type_params": {
           "T": {
            "type": "Integer"
           },
           "U": {
            "type": "Integer"
           }
          }
         }
        ],
        "5624885620221352612": [
         "5",
         {
          "args": [
           "4454206223018729133"
          ],
          "function": "Pair.left",
          "type_params": {
           "T": {
            "type": "Module"
           },
           "U": {
            "params": {
             "T": {
              "type": "Integer"
             },
             "U": {
              "type": "Integer"
             },
             "V": {
              "type": "Integer"
             },
             "X": {
              "type": "Integer"
             }
            },
            "type": "RegisteredFunctionThree"
           }
          }
         }
        ],
        "5824967424615095273": [
         "25",
         {
          "args": [
           "-148681877216629570",
           "-4585193478213949498"
          ],
          "function": "Abstraction.create",
          "type_params": {
           "T": {
            "params": {
             "T": {
              "type": "Integer"
             },
             "U": {
              "params": {
               "T": {
                "type": "Integer"
               },
               "U": {
                "params": {
                 "T": {
                  "type": "Integer"
                 },
                 "U": {
                  "type": "Integer"
                 }
                },
                "type": "Abstraction"
               }
              },
              "type": "Abstraction"
             }
            },
            "type": "Abstraction"
           },
           "U": {
            "params": {
             "T": {
              "type": "Integer"
             },
             "U": {
              "params": {
               "T": {
                "type": "Integer"
               },
               "U": {
                "params": {
                 "T": {
                  "type": "Integer"
                 },
                 "U": {
                  "type": "Integer"
                 }
                },
                "type": "Abstraction"
               }
              },
              "type": "Abstraction"
             }
            },
            "type": "Abstraction"
           }
          }
         }
        ],
        "5891671081517039276": [
         "50",
         {
          "args": [
           "-6924997134608875192",
           "-2260798956410314756",
           "-2063156450824766308"
          ],
          "function": "Boolean.if_"
         }
        ],
        "6027843474413095880": [
         "14",
         {
          "args": [
           "102155759203159525",
           "8881722234471062030"
          ],
          "function": "Abstraction.create",
          "type_params": {
           "T": {
            "type": "Integer"
           },
           "U": {
            "type": "Integer"
           }
          }
         }
        ],
        "6118487174943235869": [
         "22",
         {
          "args": [
           "-7795801676555135279",
           "102155759203159525",
           "6252234403416070464",
           "2324029380516624993"
          ],
          "function": "RegisteredFunctionThree.__call__",
          "type_params": {
           "T": {
            "type": "Integer"
           },
           "U": {
            "type": "Integer"
           },
           "V": {
            "type": "Integer"
           },
           "X": {
            "type": "Integer"
           }
          }
         }
        ],
        "6187795294337198477": [
         "3",
         {
          "args": [
           "8889008873117166537",
           "-3336486926983265754"
          ],
          "function": "FunctionThree.create",
          "type_params": {
           "T": {
            "type": "Integer"
           },
           "U": {
            "type": "Integer"
           },
           "V": {
            "type": "Integer"
           },
           "X": {
            "type": "Integer"
           }
          }
         }
        ],
        "6242312047189574995": [
         "17",
         {
          "args": [
           "-2046940606048338363"
          ],
          "function": "Pair.right",
          "type_params": {
           "T": {
            "type": "Module"
           },
           "U": {
            "params": {
             "T": {
              "type": "Integer"
             },
             "U": {
              "type": "Integer"
             },
             "V": {
              "type": "Integer"
             },
             "X": {
              "type": "Integer"
             }
            },
            "type": "RegisteredFunctionThree"
           }
          }
         }
        ],
        "6252234403416070464": [
         "19",
         {
          "args": [
           "8958813984667811475"
          ],
          "function": "Integer.from_int"
         }
        ],
        "6285524559974468059": [
         "4",
         {
          "args": [
           "3648180171099576616",
           "6187795294337198477"
          ],
          "function": "Module.register_function_three"
         }
        ],
        "6424043553976935950": [
         "34",
         {
          "args": [
           "1826795518750961055"
          ],
          "function": "Abstraction.from_fn"
         }
        ],
        "6877365168244426011": [
         "14",
         {
          "args": [
           "102155759203159525",
           "-6566018200973781226"
          ],
          "function": "Abstraction.create",
          "type_params": {
           "T": {
            "type": "Integer"
           },
           "U": {
            "type": "Integer"
           }
          }
         }
        ],
        "7116517269087919097": [
         "50",
         {
          "args": [
           "-6924997134608875192",
           "7216691646654796582",
           "-2063156450824766308"
          ],
          "function": "Boolean.if_"
         }
        ],
        "7216691646654796582": [
         "47",
         {
          "args": [
           "-3122862103317407622",
           "7434090663903589183"
          ],
          "function": "Abstraction.__call__",
          "type_params": {
           "T": {
            "type": "Integer"
           },
           "U": {
            "type": "Integer"
           }
          }
         }
        ],
        "7434090663903589183": [
         "56",
         {
          "args": [
           "368416000382198030",
           "5161618794012014334"
          ],
          "function": "Integer.__add__"
         }
        ],
        "7528655639154754896": [
         "30",
         {
          "args": [
           "-428638744467495238",
           "8368159042801544897"
          ],
          "function": "Abstraction.create",
          "type_params": {
           "T": {
            "type": "Integer"
           },
           "U": {
            "params": {
             "T": {
              "type": "Integer"
             },
             "U": {
              "params": {
               "T": {
                "type": "Integer"
               },
               "U": {
                "type": "Integer"
               }
              },
              "type": "Abstraction"
             }
            },
            "type": "Abstraction"
           }
          }
         }
        ],
        "7529039305413580830": [
         "39",
         {
          "repr": "Variable(4573452608)",
          "type": "Variable"
         }
        ],
        "7529039306583790355": [
         "15",
         {
          "repr": "Variable(4573437232)",
          "type": "Variable"
         }
        ],
        "7570082576351002891": [
         "9",
         {
          "args": [
           "-3125949679124795990"
          ],
          "function": "Pair.right",
          "type_params": {
           "T": {
            "type": "Module"
           },
           "U": {
            "params": {
             "T": {
              "type": "Integer"
             },
             "U": {
              "type": "Integer"
             }
            },
            "type": "RegisteredFunctionOne"
           }
          }
         }
        ],
        "7671975656220872243": [
         "34",
         {
          "args": [
           "368416000382198030",
           "1016463036960271880"
          ],
          "function": "Abstraction.create",
          "type_params": {
           "T": {
            "type": "Integer"
           },
           "U": {
            "params": {
             "T": {
              "type": "Integer"
             },
             "U": {
              "type": "Integer"
             }
            },
            "type": "Abstraction"
           }
          }
         }
        ],
        "7696578279182636448": [
         "22",
         {
          "args": [
           "2691120279643562240",
           "102155759203159525",
           "6252234403416070464",
           "2324029380516624993"
          ],
          "function": "RegisteredFunctionThree.__call__",
          "type_params": {
           "T": {
            "type": "Integer"
           },
           "U": {
            "type": "Integer"
           },
           "V": {
            "type": "Integer"
           },
           "X": {
            "type": "Integer"
           }
          }
         }
        ],
        "7726219735682315261": [
         "10",
         {
          "args": [
           "7570082576351002891"
          ],
          "function": "RegisteredFunctionOne.to_fn",
          "type_params": {
           "T": {
            "type": "Integer"
           },
           "U": {
            "type": "Integer"
           }
          }
         }
        ],
        "7823995984646269043": [
         "5",
         {
          "args": [
           "6285524559974468059"
          ],
          "function": "Pair.left",
          "type_params": {
           "T": {
            "type": "Module"
           },
           "U": {
            "params": {
             "T": {
              "type": "Integer"
             },
             "U": {
              "type": "Integer"
             },
             "V": {
              "type": "Integer"
             },
             "X": {
              "type": "Integer"
             }
            },
            "type": "RegisteredFunctionThree"
           }
          }
         }
        ],
        "8097661969842816946": [
         "3",
         {
          "args": [
           "8959089268420819600"
          ],
          "function": "FunctionThree.from_fn_recursive"
         }
        ],
        "8111668074374725500": [
         "17",
         {
          "args": [
           "4454206223018729133"
          ],
          "function": "Pair.right",
          "type_params": {
           "T": {
            "type": "Module"
           },
           "U": {
            "params": {
             "T": {
              "type": "Integer"
             },
             "U": {
              "type": "Integer"
             },
             "V": {
              "type": "Integer"
             },
             "X": {
              "type": "Integer"
             }
            },
            "type": "RegisteredFunctionThree"
           }
          }
         }
        ],
        "8359594801554065719": [
         "3",
         {
          "args": [
           "8889008873117166537",
           "-5022540307094615415"
          ],
          "function": "FunctionThree.create",
          "type_params": {
           "T": {
            "type": "Integer"
           },
           "U": {
            "type": "Integer"
           },
           "V": {
            "type": "Integer"
           },
           "X": {
            "type": "Integer"
           }
          }
         }
        ],
        "8368159042801544897": [
         "34",
         {
          "args": [
           "368416000382198030",
           "-928819224404351738"
          ],
          "function": "Abstraction.create",
          "type_params": {
           "T": {
            "type": "Integer"
           },
           "U": {
            "params": {
             "T": {
              "type": "Integer"
             },
             "U": {
              "type": "Integer"
             }
            },
            "type": "Abstraction"
           }
          }
         }
        ],
        "8420010487753888757": [
         "25",
         {
          "args": [
           "-148681877216629570",
           "-7676331715621109212"
          ],
          "function": "Abstraction.create",
          "type_params": {
           "T": {
            "params": {
             "T": {
              "type": "Integer"
             },
             "U": {
              "params": {
               "T": {
                "type": "Integer"
               },
               "U": {
                "params": {
                 "T": {
                  "type": "Integer"
                 },
                 "U": {
                  "type": "Integer"
                 }
                },
                "type": "Abstraction"
               }
              },
              "type": "Abstraction"
             }
            },
            "type": "Abstraction"
           },
           "U": {
            "params": {
             "T": {
              "type": "Integer"
             },
             "U": {
              "params": {
               "T": {
                "type": "Integer"
               },
               "U": {
                "params": {
                 "T": {
                  "type": "Integer"
                 },
                 "U": {
                  "type": "Integer"
                 }
                },
                "type": "Abstraction"
               }
              },
              "type": "Abstraction"
             }
            },
            "type": "Abstraction"
           }
          }
         }
        ],
        "8552365913333182739": [
         "3",
         {
          "args": [
           "8889008873117166537",
           "-459877610430196501"
          ],
          "function": "FunctionThree.create",
          "type_params": {
           "T": {
            "type": "Integer"
           },
           "U": {
            "type": "Integer"
           },
           "V": {
            "type": "Integer"
           },
           "X": {
            "type": "Integer"
           }
          }
         }
        ],
        "8561774070432290728": [
         "10",
         {
          "args": [
           "-3239209019554827640"
          ],
          "function": "RegisteredFunctionOne.to_fn",
          "type_params": {
           "T": {
            "type": "Integer"
           },
           "U": {
            "type": "Integer"
           }
          }
         }
        ],
        "8575474884086262568": [
         "14",
         {
          "args": [
           "-264282768350601783"
          ],
          "function": "Abstraction.from_fn"
         }
        ],
        "8593328550942256078": [
         "38",
         {
          "args": [
           "1826795578679545055"
          ],
          "function": "Abstraction.from_fn"
         }
        ],
        "8696260854326017488": [
         "55",
         {
          "args": [
           "3929803037216958913",
           "5161618794012014334"
          ],
          "function": "Abstraction.__call__",
          "type_params": {
           "T": {
            "type": "Integer"
           },
           "U": {
            "params": {
             "T": {
              "type": "Integer"
             },
             "U": {
              "type": "Integer"
             }
            },
            "type": "Abstraction"
           }
          }
         }
        ],
        "8722876737848929770": [
         "3",
         {
          "args": [
           "8889008873117166537",
           "-3599376535914416367"
          ],
          "function": "FunctionThree.create",
          "type_params": {
           "T": {
            "type": "Integer"
           },
           "U": {
            "type": "Integer"
           },
           "V": {
            "type": "Integer"
           },
           "X": {
            "type": "Integer"
           }
          }
         }
        ],
        "8881722234471062030": [
         "22",
         {
          "args": [
           "4377804154997173126",
           "102155759203159525",
           "6252234403416070464",
           "2324029380516624993"
          ],
          "function": "RegisteredFunctionThree.__call__",
          "type_params": {
           "T": {
            "type": "Integer"
           },
           "U": {
            "type": "Integer"
           },
           "V": {
            "type": "Integer"
           },
           "X": {
            "type": "Integer"
           }
          }
         }
        ],
        "8889008873117166537": [
         "23",
         {
          "repr": "'fib_more'",
          "type": "str"
         }
        ],
        "8924535382480654281": [
         "5",
         {
          "args": [
           "-4466765468109826240"
          ],
          "function": "Pair.left",
          "type_params": {
           "T": {
            "type": "Module"
           },
           "U": {
            "params": {
             "T": {
              "type": "Integer"
             },
             "U": {
              "type": "Integer"
             },
             "V": {
              "type": "Integer"
             },
             "X": {
              "type": "Integer"
             }
            },
            "type": "RegisteredFunctionThree"
           }
          }
         }
        ],
        "8958813984667811475": [
         "18",
         {
          "repr": "0",
          "type": "int"
         }
        ],
        "8958813984668894000": [
         "41",
         {
          "repr": "1",
          "type": "int"
         }
        ],
        "8959089268420819600": [
         "2",
         {
          "repr": "<function fib_more at 0x110844d08>",
          "type": "function"
         }
        ],
        "9204453333035993982": [
         "5",
         {
          "args": [
           "5071809883594616522"
          ],
          "function": "Pair.left",
          "type_params": {
           "T": {
            "type": "Module"
           },
           "U": {
            "params": {
             "T": {
              "type": "Integer"
             },
             "U": {
              "type": "Integer"
             },
             "V": {
              "type": "Integer"
             },
             "X": {
              "type": "Integer"
             }
            },
            "type": "RegisteredFunctionThree"
           }
          }
         }
        ]
       },
       "states": {
        "initial": "559900832732604187",
        "states": [
         {
          "node": "-5226549792683117699",
          "rule": "metadsl_core.function.FunctionOne.from_fn"
         },
         {
          "node": "8561774070432290728",
          "rule": "metadsl_core.abstraction.Abstraction.from_fn"
         },
         {
          "node": "-8460587041135040084",
          "rule": "metadsl_core.function.FunctionThree.from_fn_recursive"
         },
         {
          "node": "-3433615698342692758",
          "rule": "metadsl_core.abstraction.Abstraction.from_fn"
         },
         {
          "node": "-2241754671760058006",
          "rule": "metadsl_core.abstraction.Abstraction.from_fn"
         },
         {
          "node": "-5615027502901240097",
          "rule": "metadsl_core.abstraction.Abstraction.from_fn"
         },
         {
          "node": "7726219735682315261",
          "rule": "metadsl_core.abstraction.Abstraction.from_fn"
         },
         {
          "node": "-7629701227571121974",
          "rule": "metadsl_core.function.three_call"
         },
         {
          "node": "-5008757297206724470",
          "rule": "metadsl_core.function.three_abstraction"
         },
         {
          "label": "core",
          "node": "-5008757297206724470",
          "rule": ""
         }
        ]
       }
      },
      "application/x.typez.graph+json": {
       "initial": "digraph {\n\tnode [shape=plain]\n\tedge [arrowsize=0.5 penwidth=0.5]\n\t559900832732604187 [label=\"RegisteredFunctionOne.to_fn\" id=10]\n\t559900832732604187 -> 1639493727729821760 [id=\"10.args[0]\"]\n\t1639493727729821760 [label=\"Pair.right\" id=9]\n\t1639493727729821760 -> 5224016916090767212 [id=\"9.args[0]\"]\n\t5224016916090767212 [label=\"Module.register_function_one\" id=8]\n\t5224016916090767212 -> 5624885620221352612 [id=\"8.args[0]\"]\n\t5624885620221352612 [label=\"Pair.left\" id=5]\n\t5624885620221352612 -> 4454206223018729133 [id=\"5.args[0]\"]\n\t4454206223018729133 [label=\"Module.register_function_three\" id=4]\n\t4454206223018729133 -> 3648180171099576616 [id=\"4.args[0]\"]\n\t3648180171099576616 [label=\"Module.create\" id=1]\n\t3648180171099576616 -> 3739358493955255257 [id=\"1.args[0]\"]\n\t3739358493955255257 [label=\"'Main'\" id=11]\n\t4454206223018729133 -> 8097661969842816946 [id=\"4.args[1]\"]\n\t8097661969842816946 [label=\"FunctionThree.from_fn_recursive\" id=3]\n\t8097661969842816946 -> 8959089268420819600 [id=\"3.args[0]\"]\n\t8959089268420819600 [label=\"function fib_more at 0x110844d08\" id=2]\n\t5224016916090767212 -> -1562234290944248376 [id=\"8.args[1]\"]\n\t-1562234290944248376 [label=\"FunctionOne.from_fn\" id=7]\n\t-1562234290944248376 -> -264282768350601783 [id=\"7.args[0]\"]\n\t-264282768350601783 [label=\"function fib at 0x1108442f0\" id=13]\n}",
       "states": [
        {
         "graph": "digraph {\n\tnode [shape=plain]\n\tedge [arrowsize=0.5 penwidth=0.5]\n\t-5226549792683117699 [label=\"RegisteredFunctionOne.to_fn\" id=10]\n\t-5226549792683117699 -> -7191301629101492079 [id=\"10.args[0]\"]\n\t-7191301629101492079 [label=\"Pair.right\" id=9]\n\t-7191301629101492079 -> -7772994066719083858 [id=\"9.args[0]\"]\n\t-7772994066719083858 [label=\"Module.register_function_one\" id=8]\n\t-7772994066719083858 -> 5624885620221352612 [id=\"8.args[0]\"]\n\t5624885620221352612 [label=\"Pair.left\" id=5]\n\t5624885620221352612 -> 4454206223018729133 [id=\"5.args[0]\"]\n\t4454206223018729133 [label=\"Module.register_function_three\" id=4]\n\t4454206223018729133 -> 3648180171099576616 [id=\"4.args[0]\"]\n\t3648180171099576616 [label=\"Module.create\" id=1]\n\t3648180171099576616 -> 3739358493955255257 [id=\"1.args[0]\"]\n\t3739358493955255257 [label=\"'Main'\" id=11]\n\t4454206223018729133 -> 8097661969842816946 [id=\"4.args[1]\"]\n\t8097661969842816946 [label=\"FunctionThree.from_fn_recursive\" id=3]\n\t8097661969842816946 -> 8959089268420819600 [id=\"3.args[0]\"]\n\t8959089268420819600 [label=\"function fib_more at 0x110844d08\" id=2]\n\t-7772994066719083858 -> -8839683973989338183 [id=\"8.args[1]\"]\n\t-8839683973989338183 [label=\"FunctionOne.create\" id=7]\n\t-8839683973989338183 -> -152929591850720212 [id=\"7.args[0]\"]\n\t-152929591850720212 [label=\"'fib'\" id=12]\n\t-8839683973989338183 -> 8575474884086262568 [id=\"7.args[1]\"]\n\t8575474884086262568 [label=\"Abstraction.from_fn\" id=14]\n\t8575474884086262568 -> -264282768350601783 [id=\"14.args[0]\"]\n\t-264282768350601783 [label=\"function fib at 0x1108442f0\" id=13]\n}",
         "label": null,
         "rule": "metadsl_core.function.FunctionOne.from_fn"
        },
        {
         "graph": "digraph {\n\tnode [shape=plain]\n\tedge [arrowsize=0.5 penwidth=0.5]\n\t8561774070432290728 [label=\"RegisteredFunctionOne.to_fn\" id=10]\n\t8561774070432290728 -> -3239209019554827640 [id=\"10.args[0]\"]\n\t-3239209019554827640 [label=\"Pair.right\" id=9]\n\t-3239209019554827640 -> 1303069109209575926 [id=\"9.args[0]\"]\n\t1303069109209575926 [label=\"Module.register_function_one\" id=8]\n\t1303069109209575926 -> 5624885620221352612 [id=\"8.args[0]\"]\n\t5624885620221352612 [label=\"Pair.left\" id=5]\n\t5624885620221352612 -> 4454206223018729133 [id=\"5.args[0]\"]\n\t4454206223018729133 [label=\"Module.register_function_three\" id=4]\n\t4454206223018729133 -> 3648180171099576616 [id=\"4.args[0]\"]\n\t3648180171099576616 [label=\"Module.create\" id=1]\n\t3648180171099576616 -> 3739358493955255257 [id=\"1.args[0]\"]\n\t3739358493955255257 [label=\"'Main'\" id=11]\n\t4454206223018729133 -> 8097661969842816946 [id=\"4.args[1]\"]\n\t8097661969842816946 [label=\"FunctionThree.from_fn_recursive\" id=3]\n\t8097661969842816946 -> 8959089268420819600 [id=\"3.args[0]\"]\n\t8959089268420819600 [label=\"function fib_more at 0x110844d08\" id=2]\n\t1303069109209575926 -> -3407086477424796001 [id=\"8.args[1]\"]\n\t-3407086477424796001 [label=\"FunctionOne.create\" id=7]\n\t-3407086477424796001 -> -152929591850720212 [id=\"7.args[0]\"]\n\t-152929591850720212 [label=\"'fib'\" id=12]\n\t-3407086477424796001 -> 6877365168244426011 [id=\"7.args[1]\"]\n\t6877365168244426011 [label=\"Abstraction.create\" id=14]\n\t6877365168244426011 -> 102155759203159525 [id=\"14.args[0]\"]\n\t102155759203159525 [label=\"Abstraction.create_variable\" id=16]\n\t102155759203159525 -> 7529039306583790355 [id=\"16.args[0]\"]\n\t7529039306583790355 [label=\"Variable(4573437232)\" id=15]\n\t6877365168244426011 -> -6566018200973781226 [id=\"14.args[1]\"]\n\t-6566018200973781226 [label=\"RegisteredFunctionThree.__call__\" id=22]\n\t-6566018200973781226 -> 8111668074374725500 [id=\"22.args[0]\"]\n\t8111668074374725500 [label=\"Pair.right\" id=17]\n\t8111668074374725500 -> 4454206223018729133 [id=\"17.args[0]\"]\n\t-6566018200973781226 -> 102155759203159525 [id=\"22.args[1]\"]\n\t-6566018200973781226 -> 6252234403416070464 [id=\"22.args[2]\"]\n\t6252234403416070464 [label=\"Integer.from_int\" id=19]\n\t6252234403416070464 -> 8958813984667811475 [id=\"19.args[0]\"]\n\t8958813984667811475 [label=0 id=18]\n\t-6566018200973781226 -> 2324029380516624993 [id=\"22.args[3]\"]\n\t2324029380516624993 [label=\"Integer.from_int\" id=42]\n\t2324029380516624993 -> 8958813984668894000 [id=\"42.args[0]\"]\n\t8958813984668894000 [label=1 id=41]\n}",
         "label": null,
         "rule": "metadsl_core.abstraction.Abstraction.from_fn"
        },
        {
         "graph": "digraph {\n\tnode [shape=plain]\n\tedge [arrowsize=0.5 penwidth=0.5]\n\t-8460587041135040084 [label=\"RegisteredFunctionOne.to_fn\" id=10]\n\t-8460587041135040084 -> 1962542458942537035 [id=\"10.args[0]\"]\n\t1962542458942537035 [label=\"Pair.right\" id=9]\n\t1962542458942537035 -> -8075925400363834644 [id=\"9.args[0]\"]\n\t-8075925400363834644 [label=\"Module.register_function_one\" id=8]\n\t-8075925400363834644 -> -8604738328302413741 [id=\"8.args[0]\"]\n\t-8604738328302413741 [label=\"Pair.left\" id=5]\n\t-8604738328302413741 -> 3264757715835459708 [id=\"5.args[0]\"]\n\t3264757715835459708 [label=\"Module.register_function_three\" id=4]\n\t3264757715835459708 -> 3648180171099576616 [id=\"4.args[0]\"]\n\t3648180171099576616 [label=\"Module.create\" id=1]\n\t3648180171099576616 -> 3739358493955255257 [id=\"1.args[0]\"]\n\t3739358493955255257 [label=\"'Main'\" id=11]\n\t3264757715835459708 -> 8359594801554065719 [id=\"4.args[1]\"]\n\t8359594801554065719 [label=\"FunctionThree.create\" id=3]\n\t8359594801554065719 -> 8889008873117166537 [id=\"3.args[0]\"]\n\t8889008873117166537 [label=\"'fib_more'\" id=23]\n\t8359594801554065719 -> -5022540307094615415 [id=\"3.args[1]\"]\n\t-5022540307094615415 [label=\"Abstraction.fix\" id=26]\n\t-5022540307094615415 -> -6986949745129414490 [id=\"26.args[0]\"]\n\t-6986949745129414490 [label=\"Abstraction.from_fn\" id=25]\n\t-6986949745129414490 -> 1826795518309290855 [id=\"25.args[0]\"]\n\t1826795518309290855 [label=\"FunctionReplaceTyping(fn=function FunctionThree.from_fn_recursive.locals.inner at 0x110844ea0, typevars={~V: class 'metadsl_core.integer.Integer', ~U: class 'metadsl_core.integer.Integer', ~T: class 'metadsl_core.integer.Integer', ~X: class 'metadsl_core.integer.Integer'}, typevars_in_scope={~U, ~T, ~V, ~X})\" id=24]\n\t-8075925400363834644 -> 2045487092677111594 [id=\"8.args[1]\"]\n\t2045487092677111594 [label=\"FunctionOne.create\" id=7]\n\t2045487092677111594 -> -152929591850720212 [id=\"7.args[0]\"]\n\t-152929591850720212 [label=\"'fib'\" id=12]\n\t2045487092677111594 -> 4408923849683453653 [id=\"7.args[1]\"]\n\t4408923849683453653 [label=\"Abstraction.create\" id=14]\n\t4408923849683453653 -> 102155759203159525 [id=\"14.args[0]\"]\n\t102155759203159525 [label=\"Abstraction.create_variable\" id=16]\n\t102155759203159525 -> 7529039306583790355 [id=\"16.args[0]\"]\n\t7529039306583790355 [label=\"Variable(4573437232)\" id=15]\n\t4408923849683453653 -> 1212384370683108794 [id=\"14.args[1]\"]\n\t1212384370683108794 [label=\"RegisteredFunctionThree.__call__\" id=22]\n\t1212384370683108794 -> -614509765142210293 [id=\"22.args[0]\"]\n\t-614509765142210293 [label=\"Pair.right\" id=17]\n\t-614509765142210293 -> 3264757715835459708 [id=\"17.args[0]\"]\n\t1212384370683108794 -> 102155759203159525 [id=\"22.args[1]\"]\n\t1212384370683108794 -> 6252234403416070464 [id=\"22.args[2]\"]\n\t6252234403416070464 [label=\"Integer.from_int\" id=19]\n\t6252234403416070464 -> 8958813984667811475 [id=\"19.args[0]\"]\n\t8958813984667811475 [label=0 id=18]\n\t1212384370683108794 -> 2324029380516624993 [id=\"22.args[3]\"]\n\t2324029380516624993 [label=\"Integer.from_int\" id=42]\n\t2324029380516624993 -> 8958813984668894000 [id=\"42.args[0]\"]\n\t8958813984668894000 [label=1 id=41]\n}",
         "label": null,
         "rule": "metadsl_core.function.FunctionThree.from_fn_recursive"
        },
        {
         "graph": "digraph {\n\tnode [shape=plain]\n\tedge [arrowsize=0.5 penwidth=0.5]\n\t-3433615698342692758 [label=\"RegisteredFunctionOne.to_fn\" id=10]\n\t-3433615698342692758 -> -7374414688734782720 [id=\"10.args[0]\"]\n\t-7374414688734782720 [label=\"Pair.right\" id=9]\n\t-7374414688734782720 -> 2979840583865358637 [id=\"9.args[0]\"]\n\t2979840583865358637 [label=\"Module.register_function_one\" id=8]\n\t2979840583865358637 -> -4101704913106680032 [id=\"8.args[0]\"]\n\t-4101704913106680032 [label=\"Pair.left\" id=5]\n\t-4101704913106680032 -> 5372608626055140344 [id=\"5.args[0]\"]\n\t5372608626055140344 [label=\"Module.register_function_three\" id=4]\n\t5372608626055140344 -> 3648180171099576616 [id=\"4.args[0]\"]\n\t3648180171099576616 [label=\"Module.create\" id=1]\n\t3648180171099576616 -> 3739358493955255257 [id=\"1.args[0]\"]\n\t3739358493955255257 [label=\"'Main'\" id=11]\n\t5372608626055140344 -> 8552365913333182739 [id=\"4.args[1]\"]\n\t8552365913333182739 [label=\"FunctionThree.create\" id=3]\n\t8552365913333182739 -> 8889008873117166537 [id=\"3.args[0]\"]\n\t8889008873117166537 [label=\"'fib_more'\" id=23]\n\t8552365913333182739 -> -459877610430196501 [id=\"3.args[1]\"]\n\t-459877610430196501 [label=\"Abstraction.fix\" id=26]\n\t-459877610430196501 -> -2409233941988753142 [id=\"26.args[0]\"]\n\t-2409233941988753142 [label=\"Abstraction.create\" id=25]\n\t-2409233941988753142 -> -148681877216629570 [id=\"25.args[0]\"]\n\t-148681877216629570 [label=\"Abstraction.create_variable\" id=28]\n\t-148681877216629570 -> -1694332698029060853 [id=\"28.args[0]\"]\n\t-1694332698029060853 [label=\"Variable(4572891064)\" id=27]\n\t-2409233941988753142 -> 5454940190661150662 [id=\"25.args[1]\"]\n\t5454940190661150662 [label=\"Abstraction.from_fn\" id=30]\n\t5454940190661150662 -> 1826795582567974855 [id=\"30.args[0]\"]\n\t1826795582567974855 [label=\"FunctionReplaceTyping(fn=function FunctionThree.from_fn_recursive.locals.inner.locals.inner at 0x1106e7730, typevars={~V: class 'metadsl_core.integer.Integer', ~U: class 'metadsl_core.integer.Integer', ~T: class 'metadsl_core.integer.Integer', ~X: class 'metadsl_core.integer.Integer'}, typevars_in_scope={~U, ~T, ~V, ~X})\" id=29]\n\t2979840583865358637 -> 1245359205566994784 [id=\"8.args[1]\"]\n\t1245359205566994784 [label=\"FunctionOne.create\" id=7]\n\t1245359205566994784 -> -152929591850720212 [id=\"7.args[0]\"]\n\t-152929591850720212 [label=\"'fib'\" id=12]\n\t1245359205566994784 -> 1887441356247301424 [id=\"7.args[1]\"]\n\t1887441356247301424 [label=\"Abstraction.create\" id=14]\n\t1887441356247301424 -> 102155759203159525 [id=\"14.args[0]\"]\n\t102155759203159525 [label=\"Abstraction.create_variable\" id=16]\n\t102155759203159525 -> 7529039306583790355 [id=\"16.args[0]\"]\n\t7529039306583790355 [label=\"Variable(4573437232)\" id=15]\n\t1887441356247301424 -> -7348205438627108820 [id=\"14.args[1]\"]\n\t-7348205438627108820 [label=\"RegisteredFunctionThree.__call__\" id=22]\n\t-7348205438627108820 -> -8676254926415379896 [id=\"22.args[0]\"]\n\t-8676254926415379896 [label=\"Pair.right\" id=17]\n\t-8676254926415379896 -> 5372608626055140344 [id=\"17.args[0]\"]\n\t-7348205438627108820 -> 102155759203159525 [id=\"22.args[1]\"]\n\t-7348205438627108820 -> 6252234403416070464 [id=\"22.args[2]\"]\n\t6252234403416070464 [label=\"Integer.from_int\" id=19]\n\t6252234403416070464 -> 8958813984667811475 [id=\"19.args[0]\"]\n\t8958813984667811475 [label=0 id=18]\n\t-7348205438627108820 -> 2324029380516624993 [id=\"22.args[3]\"]\n\t2324029380516624993 [label=\"Integer.from_int\" id=42]\n\t2324029380516624993 -> 8958813984668894000 [id=\"42.args[0]\"]\n\t8958813984668894000 [label=1 id=41]\n}",
         "label": null,
         "rule": "metadsl_core.abstraction.Abstraction.from_fn"
        },
        {
         "graph": "digraph {\n\tnode [shape=plain]\n\tedge [arrowsize=0.5 penwidth=0.5]\n\t-2241754671760058006 [label=\"RegisteredFunctionOne.to_fn\" id=10]\n\t-2241754671760058006 -> -1435717469434971139 [id=\"10.args[0]\"]\n\t-1435717469434971139 [label=\"Pair.right\" id=9]\n\t-1435717469434971139 -> 3281554124362395470 [id=\"9.args[0]\"]\n\t3281554124362395470 [label=\"Module.register_function_one\" id=8]\n\t3281554124362395470 -> 9204453333035993982 [id=\"8.args[0]\"]\n\t9204453333035993982 [label=\"Pair.left\" id=5]\n\t9204453333035993982 -> 5071809883594616522 [id=\"5.args[0]\"]\n\t5071809883594616522 [label=\"Module.register_function_three\" id=4]\n\t5071809883594616522 -> 3648180171099576616 [id=\"4.args[0]\"]\n\t3648180171099576616 [label=\"Module.create\" id=1]\n\t3648180171099576616 -> 3739358493955255257 [id=\"1.args[0]\"]\n\t3739358493955255257 [label=\"'Main'\" id=11]\n\t5071809883594616522 -> -6336771601139249826 [id=\"4.args[1]\"]\n\t-6336771601139249826 [label=\"FunctionThree.create\" id=3]\n\t-6336771601139249826 -> 8889008873117166537 [id=\"3.args[0]\"]\n\t8889008873117166537 [label=\"'fib_more'\" id=23]\n\t-6336771601139249826 -> -5870614572429890802 [id=\"3.args[1]\"]\n\t-5870614572429890802 [label=\"Abstraction.fix\" id=26]\n\t-5870614572429890802 -> 8420010487753888757 [id=\"26.args[0]\"]\n\t8420010487753888757 [label=\"Abstraction.create\" id=25]\n\t8420010487753888757 -> -148681877216629570 [id=\"25.args[0]\"]\n\t-148681877216629570 [label=\"Abstraction.create_variable\" id=28]\n\t-148681877216629570 -> -1694332698029060853 [id=\"28.args[0]\"]\n\t-1694332698029060853 [label=\"Variable(4572891064)\" id=27]\n\t8420010487753888757 -> -7676331715621109212 [id=\"25.args[1]\"]\n\t-7676331715621109212 [label=\"Abstraction.create\" id=30]\n\t-7676331715621109212 -> -428638744467495238 [id=\"30.args[0]\"]\n\t-428638744467495238 [label=\"Abstraction.create_variable\" id=32]\n\t-428638744467495238 -> -1694332731381656103 [id=\"32.args[0]\"]\n\t-1694332731381656103 [label=\"Variable(4573453784)\" id=31]\n\t-7676331715621109212 -> 6424043553976935950 [id=\"30.args[1]\"]\n\t6424043553976935950 [label=\"Abstraction.from_fn\" id=34]\n\t6424043553976935950 -> 1826795518750961055 [id=\"34.args[0]\"]\n\t1826795518750961055 [label=\"FunctionReplaceTyping(fn=function FunctionThree.from_fn_recursive.locals.inner.locals.inner.locals.inner at 0x110844c80, typevars={~V: class 'metadsl_core.integer.Integer', ~U: class 'metadsl_core.integer.Integer', ~T: class 'metadsl_core.integer.Integer', ~X: class 'metadsl_core.integer.Integer'}, typevars_in_scope={~U, ~T, ~V, ~X})\" id=33]\n\t3281554124362395470 -> 3515373910936848230 [id=\"8.args[1]\"]\n\t3515373910936848230 [label=\"FunctionOne.create\" id=7]\n\t3515373910936848230 -> -152929591850720212 [id=\"7.args[0]\"]\n\t-152929591850720212 [label=\"'fib'\" id=12]\n\t3515373910936848230 -> 6027843474413095880 [id=\"7.args[1]\"]\n\t6027843474413095880 [label=\"Abstraction.create\" id=14]\n\t6027843474413095880 -> 102155759203159525 [id=\"14.args[0]\"]\n\t102155759203159525 [label=\"Abstraction.create_variable\" id=16]\n\t102155759203159525 -> 7529039306583790355 [id=\"16.args[0]\"]\n\t7529039306583790355 [label=\"Variable(4573437232)\" id=15]\n\t6027843474413095880 -> 8881722234471062030 [id=\"14.args[1]\"]\n\t8881722234471062030 [label=\"RegisteredFunctionThree.__call__\" id=22]\n\t8881722234471062030 -> 4377804154997173126 [id=\"22.args[0]\"]\n\t4377804154997173126 [label=\"Pair.right\" id=17]\n\t4377804154997173126 -> 5071809883594616522 [id=\"17.args[0]\"]\n\t8881722234471062030 -> 102155759203159525 [id=\"22.args[1]\"]\n\t8881722234471062030 -> 6252234403416070464 [id=\"22.args[2]\"]\n\t6252234403416070464 [label=\"Integer.from_int\" id=19]\n\t6252234403416070464 -> 8958813984667811475 [id=\"19.args[0]\"]\n\t8958813984667811475 [label=0 id=18]\n\t8881722234471062030 -> 2324029380516624993 [id=\"22.args[3]\"]\n\t2324029380516624993 [label=\"Integer.from_int\" id=42]\n\t2324029380516624993 -> 8958813984668894000 [id=\"42.args[0]\"]\n\t8958813984668894000 [label=1 id=41]\n}",
         "label": null,
         "rule": "metadsl_core.abstraction.Abstraction.from_fn"
        },
        {
         "graph": "digraph {\n\tnode [shape=plain]\n\tedge [arrowsize=0.5 penwidth=0.5]\n\t-5615027502901240097 [label=\"RegisteredFunctionOne.to_fn\" id=10]\n\t-5615027502901240097 -> -4288087874597742555 [id=\"10.args[0]\"]\n\t-4288087874597742555 [label=\"Pair.right\" id=9]\n\t-4288087874597742555 -> -683091493958077033 [id=\"9.args[0]\"]\n\t-683091493958077033 [label=\"Module.register_function_one\" id=8]\n\t-683091493958077033 -> 2425760550663432203 [id=\"8.args[0]\"]\n\t2425760550663432203 [label=\"Pair.left\" id=5]\n\t2425760550663432203 -> -2046940606048338363 [id=\"5.args[0]\"]\n\t-2046940606048338363 [label=\"Module.register_function_three\" id=4]\n\t-2046940606048338363 -> 3648180171099576616 [id=\"4.args[0]\"]\n\t3648180171099576616 [label=\"Module.create\" id=1]\n\t3648180171099576616 -> 3739358493955255257 [id=\"1.args[0]\"]\n\t3739358493955255257 [label=\"'Main'\" id=11]\n\t-2046940606048338363 -> -7415351905118700192 [id=\"4.args[1]\"]\n\t-7415351905118700192 [label=\"FunctionThree.create\" id=3]\n\t-7415351905118700192 -> 8889008873117166537 [id=\"3.args[0]\"]\n\t8889008873117166537 [label=\"'fib_more'\" id=23]\n\t-7415351905118700192 -> -1094524890916102730 [id=\"3.args[1]\"]\n\t-1094524890916102730 [label=\"Abstraction.fix\" id=26]\n\t-1094524890916102730 -> -7097237823668555869 [id=\"26.args[0]\"]\n\t-7097237823668555869 [label=\"Abstraction.create\" id=25]\n\t-7097237823668555869 -> -148681877216629570 [id=\"25.args[0]\"]\n\t-148681877216629570 [label=\"Abstraction.create_variable\" id=28]\n\t-148681877216629570 -> -1694332698029060853 [id=\"28.args[0]\"]\n\t-1694332698029060853 [label=\"Variable(4572891064)\" id=27]\n\t-7097237823668555869 -> -4864211006751955863 [id=\"25.args[1]\"]\n\t-4864211006751955863 [label=\"Abstraction.create\" id=30]\n\t-4864211006751955863 -> -428638744467495238 [id=\"30.args[0]\"]\n\t-428638744467495238 [label=\"Abstraction.create_variable\" id=32]\n\t-428638744467495238 -> -1694332731381656103 [id=\"32.args[0]\"]\n\t-1694332731381656103 [label=\"Variable(4573453784)\" id=31]\n\t-4864211006751955863 -> -2992147194522275828 [id=\"30.args[1]\"]\n\t-2992147194522275828 [label=\"Abstraction.create\" id=34]\n\t-2992147194522275828 -> 368416000382198030 [id=\"34.args[0]\"]\n\t368416000382198030 [label=\"Abstraction.create_variable\" id=36]\n\t368416000382198030 -> -1694332728773853378 [id=\"36.args[0]\"]\n\t-1694332728773853378 [label=\"Variable(4573476680)\" id=35]\n\t-2992147194522275828 -> 8593328550942256078 [id=\"34.args[1]\"]\n\t8593328550942256078 [label=\"Abstraction.from_fn\" id=38]\n\t8593328550942256078 -> 1826795578679545055 [id=\"38.args[0]\"]\n\t1826795578679545055 [label=\"FunctionReplaceTyping(fn=function FunctionThree.from_fn_recursive.locals.inner.locals.inner.locals.inner.locals.inner at 0x10ba08840, typevars={~V: class 'metadsl_core.integer.Integer', ~U: class 'metadsl_core.integer.Integer', ~T: class 'metadsl_core.integer.Integer', ~X: class 'metadsl_core.integer.Integer'}, typevars_in_scope={~U, ~T, ~V, ~X})\" id=37]\n\t-683091493958077033 -> -5450647339771792451 [id=\"8.args[1]\"]\n\t-5450647339771792451 [label=\"FunctionOne.create\" id=7]\n\t-5450647339771792451 -> -152929591850720212 [id=\"7.args[0]\"]\n\t-152929591850720212 [label=\"'fib'\" id=12]\n\t-5450647339771792451 -> -5533239073147418295 [id=\"7.args[1]\"]\n\t-5533239073147418295 [label=\"Abstraction.create\" id=14]\n\t-5533239073147418295 -> 102155759203159525 [id=\"14.args[0]\"]\n\t102155759203159525 [label=\"Abstraction.create_variable\" id=16]\n\t102155759203159525 -> 7529039306583790355 [id=\"16.args[0]\"]\n\t7529039306583790355 [label=\"Variable(4573437232)\" id=15]\n\t-5533239073147418295 -> 5301232882385009436 [id=\"14.args[1]\"]\n\t5301232882385009436 [label=\"RegisteredFunctionThree.__call__\" id=22]\n\t5301232882385009436 -> 6242312047189574995 [id=\"22.args[0]\"]\n\t6242312047189574995 [label=\"Pair.right\" id=17]\n\t6242312047189574995 -> -2046940606048338363 [id=\"17.args[0]\"]\n\t5301232882385009436 -> 102155759203159525 [id=\"22.args[1]\"]\n\t5301232882385009436 -> 6252234403416070464 [id=\"22.args[2]\"]\n\t6252234403416070464 [label=\"Integer.from_int\" id=19]\n\t6252234403416070464 -> 8958813984667811475 [id=\"19.args[0]\"]\n\t8958813984667811475 [label=0 id=18]\n\t5301232882385009436 -> 2324029380516624993 [id=\"22.args[3]\"]\n\t2324029380516624993 [label=\"Integer.from_int\" id=42]\n\t2324029380516624993 -> 8958813984668894000 [id=\"42.args[0]\"]\n\t8958813984668894000 [label=1 id=41]\n}",
         "label": null,
         "rule": "metadsl_core.abstraction.Abstraction.from_fn"
        },
        {
         "graph": "digraph {\n\tnode [shape=plain]\n\tedge [arrowsize=0.5 penwidth=0.5]\n\t7726219735682315261 [label=\"RegisteredFunctionOne.to_fn\" id=10]\n\t7726219735682315261 -> 7570082576351002891 [id=\"10.args[0]\"]\n\t7570082576351002891 [label=\"Pair.right\" id=9]\n\t7570082576351002891 -> -3125949679124795990 [id=\"9.args[0]\"]\n\t-3125949679124795990 [label=\"Module.register_function_one\" id=8]\n\t-3125949679124795990 -> 8924535382480654281 [id=\"8.args[0]\"]\n\t8924535382480654281 [label=\"Pair.left\" id=5]\n\t8924535382480654281 -> -4466765468109826240 [id=\"5.args[0]\"]\n\t-4466765468109826240 [label=\"Module.register_function_three\" id=4]\n\t-4466765468109826240 -> 3648180171099576616 [id=\"4.args[0]\"]\n\t3648180171099576616 [label=\"Module.create\" id=1]\n\t3648180171099576616 -> 3739358493955255257 [id=\"1.args[0]\"]\n\t3739358493955255257 [label=\"'Main'\" id=11]\n\t-4466765468109826240 -> 5035357982579704524 [id=\"4.args[1]\"]\n\t5035357982579704524 [label=\"FunctionThree.create\" id=3]\n\t5035357982579704524 -> 8889008873117166537 [id=\"3.args[0]\"]\n\t8889008873117166537 [label=\"'fib_more'\" id=23]\n\t5035357982579704524 -> 4972174251263136984 [id=\"3.args[1]\"]\n\t4972174251263136984 [label=\"Abstraction.fix\" id=26]\n\t4972174251263136984 -> 2474692371975656613 [id=\"26.args[0]\"]\n\t2474692371975656613 [label=\"Abstraction.create\" id=25]\n\t2474692371975656613 -> -148681877216629570 [id=\"25.args[0]\"]\n\t-148681877216629570 [label=\"Abstraction.create_variable\" id=28]\n\t-148681877216629570 -> -1694332698029060853 [id=\"28.args[0]\"]\n\t-1694332698029060853 [label=\"Variable(4572891064)\" id=27]\n\t2474692371975656613 -> -4674205987303158733 [id=\"25.args[1]\"]\n\t-4674205987303158733 [label=\"Abstraction.create\" id=30]\n\t-4674205987303158733 -> -428638744467495238 [id=\"30.args[0]\"]\n\t-428638744467495238 [label=\"Abstraction.create_variable\" id=32]\n\t-428638744467495238 -> -1694332731381656103 [id=\"32.args[0]\"]\n\t-1694332731381656103 [label=\"Variable(4573453784)\" id=31]\n\t-4674205987303158733 -> -5318737446679150133 [id=\"30.args[1]\"]\n\t-5318737446679150133 [label=\"Abstraction.create\" id=34]\n\t-5318737446679150133 -> 368416000382198030 [id=\"34.args[0]\"]\n\t368416000382198030 [label=\"Abstraction.create_variable\" id=36]\n\t368416000382198030 -> -1694332728773853378 [id=\"36.args[0]\"]\n\t-1694332728773853378 [label=\"Variable(4573476680)\" id=35]\n\t-5318737446679150133 -> -5601612119553279150 [id=\"34.args[1]\"]\n\t-5601612119553279150 [label=\"Abstraction.create\" id=38]\n\t-5601612119553279150 -> 5161618794012014334 [id=\"38.args[0]\"]\n\t5161618794012014334 [label=\"Abstraction.create_variable\" id=40]\n\t5161618794012014334 -> 7529039305413580830 [id=\"40.args[0]\"]\n\t7529039305413580830 [label=\"Variable(4573452608)\" id=39]\n\t-5601612119553279150 -> 1054724378526425104 [id=\"38.args[1]\"]\n\t1054724378526425104 [label=\"Boolean.if_\" id=50]\n\t1054724378526425104 -> -6924997134608875192 [id=\"50.args[0]\"]\n\t-6924997134608875192 [label=\"Integer.__gt__\" id=43]\n\t-6924997134608875192 -> -428638744467495238 [id=\"43.args[0]\"]\n\t-6924997134608875192 -> 2324029380516624993 [id=\"43.args[1]\"]\n\t2324029380516624993 [label=\"Integer.from_int\" id=42]\n\t2324029380516624993 -> 8958813984668894000 [id=\"42.args[0]\"]\n\t8958813984668894000 [label=1 id=41]\n\t1054724378526425104 -> 4190245541205513295 [id=\"50.args[1]\"]\n\t4190245541205513295 [label=\"FunctionThree.__call__\" id=47]\n\t4190245541205513295 -> 3949212030538125752 [id=\"47.args[0]\"]\n\t3949212030538125752 [label=\"FunctionThree.create\" id=51]\n\t3949212030538125752 -> 8889008873117166537 [id=\"51.args[0]\"]\n\t3949212030538125752 -> -148681877216629570 [id=\"51.args[1]\"]\n\t4190245541205513295 -> -7222550989444327294 [id=\"47.args[1]\"]\n\t-7222550989444327294 [label=\"Integer.__sub__\" id=53]\n\t-7222550989444327294 -> -428638744467495238 [id=\"53.args[0]\"]\n\t-7222550989444327294 -> 2324029380516624993 [id=\"53.args[1]\"]\n\t4190245541205513295 -> 5161618794012014334 [id=\"47.args[2]\"]\n\t4190245541205513295 -> 7434090663903589183 [id=\"47.args[3]\"]\n\t7434090663903589183 [label=\"Integer.__add__\" id=56]\n\t7434090663903589183 -> 368416000382198030 [id=\"56.args[0]\"]\n\t7434090663903589183 -> 5161618794012014334 [id=\"56.args[1]\"]\n\t1054724378526425104 -> -2063156450824766308 [id=\"50.args[2]\"]\n\t-2063156450824766308 [label=\"Boolean.if_\" id=49]\n\t-2063156450824766308 -> -2126889553619293541 [id=\"49.args[0]\"]\n\t-2126889553619293541 [label=\"Integer.eq\" id=48]\n\t-2126889553619293541 -> -428638744467495238 [id=\"48.args[0]\"]\n\t-2126889553619293541 -> 2324029380516624993 [id=\"48.args[1]\"]\n\t-2063156450824766308 -> 5161618794012014334 [id=\"49.args[1]\"]\n\t-2063156450824766308 -> 368416000382198030 [id=\"49.args[2]\"]\n\t-3125949679124795990 -> 1155869147474408060 [id=\"8.args[1]\"]\n\t1155869147474408060 [label=\"FunctionOne.create\" id=7]\n\t1155869147474408060 -> -152929591850720212 [id=\"7.args[0]\"]\n\t-152929591850720212 [label=\"'fib'\" id=12]\n\t1155869147474408060 -> 5559499270326263682 [id=\"7.args[1]\"]\n\t5559499270326263682 [label=\"Abstraction.create\" id=14]\n\t5559499270326263682 -> 102155759203159525 [id=\"14.args[0]\"]\n\t102155759203159525 [label=\"Abstraction.create_variable\" id=16]\n\t102155759203159525 -> 7529039306583790355 [id=\"16.args[0]\"]\n\t7529039306583790355 [label=\"Variable(4573437232)\" id=15]\n\t5559499270326263682 -> 6118487174943235869 [id=\"14.args[1]\"]\n\t6118487174943235869 [label=\"RegisteredFunctionThree.__call__\" id=22]\n\t6118487174943235869 -> -7795801676555135279 [id=\"22.args[0]\"]\n\t-7795801676555135279 [label=\"Pair.right\" id=17]\n\t-7795801676555135279 -> -4466765468109826240 [id=\"17.args[0]\"]\n\t6118487174943235869 -> 102155759203159525 [id=\"22.args[1]\"]\n\t6118487174943235869 -> 6252234403416070464 [id=\"22.args[2]\"]\n\t6252234403416070464 [label=\"Integer.from_int\" id=19]\n\t6252234403416070464 -> 8958813984667811475 [id=\"19.args[0]\"]\n\t8958813984667811475 [label=0 id=18]\n\t6118487174943235869 -> 2324029380516624993 [id=\"22.args[3]\"]\n}",
         "label": null,
         "rule": "metadsl_core.abstraction.Abstraction.from_fn"
        },
        {
         "graph": "digraph {\n\tnode [shape=plain]\n\tedge [arrowsize=0.5 penwidth=0.5]\n\t-7629701227571121974 [label=\"RegisteredFunctionOne.to_fn\" id=10]\n\t-7629701227571121974 -> -9027640238690465568 [id=\"10.args[0]\"]\n\t-9027640238690465568 [label=\"Pair.right\" id=9]\n\t-9027640238690465568 -> -5476440331558236592 [id=\"9.args[0]\"]\n\t-5476440331558236592 [label=\"Module.register_function_one\" id=8]\n\t-5476440331558236592 -> -4848966146136472 [id=\"8.args[0]\"]\n\t-4848966146136472 [label=\"Pair.left\" id=5]\n\t-4848966146136472 -> -8871366020435833995 [id=\"5.args[0]\"]\n\t-8871366020435833995 [label=\"Module.register_function_three\" id=4]\n\t-8871366020435833995 -> 3648180171099576616 [id=\"4.args[0]\"]\n\t3648180171099576616 [label=\"Module.create\" id=1]\n\t3648180171099576616 -> 3739358493955255257 [id=\"1.args[0]\"]\n\t3739358493955255257 [label=\"'Main'\" id=11]\n\t-8871366020435833995 -> 8722876737848929770 [id=\"4.args[1]\"]\n\t8722876737848929770 [label=\"FunctionThree.create\" id=3]\n\t8722876737848929770 -> 8889008873117166537 [id=\"3.args[0]\"]\n\t8889008873117166537 [label=\"'fib_more'\" id=23]\n\t8722876737848929770 -> -3599376535914416367 [id=\"3.args[1]\"]\n\t-3599376535914416367 [label=\"Abstraction.fix\" id=26]\n\t-3599376535914416367 -> 5824967424615095273 [id=\"26.args[0]\"]\n\t5824967424615095273 [label=\"Abstraction.create\" id=25]\n\t5824967424615095273 -> -148681877216629570 [id=\"25.args[0]\"]\n\t-148681877216629570 [label=\"Abstraction.create_variable\" id=28]\n\t-148681877216629570 -> -1694332698029060853 [id=\"28.args[0]\"]\n\t-1694332698029060853 [label=\"Variable(4572891064)\" id=27]\n\t5824967424615095273 -> -4585193478213949498 [id=\"25.args[1]\"]\n\t-4585193478213949498 [label=\"Abstraction.create\" id=30]\n\t-4585193478213949498 -> -428638744467495238 [id=\"30.args[0]\"]\n\t-428638744467495238 [label=\"Abstraction.create_variable\" id=32]\n\t-428638744467495238 -> -1694332731381656103 [id=\"32.args[0]\"]\n\t-1694332731381656103 [label=\"Variable(4573453784)\" id=31]\n\t-4585193478213949498 -> 7671975656220872243 [id=\"30.args[1]\"]\n\t7671975656220872243 [label=\"Abstraction.create\" id=34]\n\t7671975656220872243 -> 368416000382198030 [id=\"34.args[0]\"]\n\t368416000382198030 [label=\"Abstraction.create_variable\" id=36]\n\t368416000382198030 -> -1694332728773853378 [id=\"36.args[0]\"]\n\t-1694332728773853378 [label=\"Variable(4573476680)\" id=35]\n\t7671975656220872243 -> 1016463036960271880 [id=\"34.args[1]\"]\n\t1016463036960271880 [label=\"Abstraction.create\" id=38]\n\t1016463036960271880 -> 5161618794012014334 [id=\"38.args[0]\"]\n\t5161618794012014334 [label=\"Abstraction.create_variable\" id=40]\n\t5161618794012014334 -> 7529039305413580830 [id=\"40.args[0]\"]\n\t7529039305413580830 [label=\"Variable(4573452608)\" id=39]\n\t1016463036960271880 -> 5891671081517039276 [id=\"38.args[1]\"]\n\t5891671081517039276 [label=\"Boolean.if_\" id=50]\n\t5891671081517039276 -> -6924997134608875192 [id=\"50.args[0]\"]\n\t-6924997134608875192 [label=\"Integer.__gt__\" id=43]\n\t-6924997134608875192 -> -428638744467495238 [id=\"43.args[0]\"]\n\t-6924997134608875192 -> 2324029380516624993 [id=\"43.args[1]\"]\n\t2324029380516624993 [label=\"Integer.from_int\" id=42]\n\t2324029380516624993 -> 8958813984668894000 [id=\"42.args[0]\"]\n\t8958813984668894000 [label=1 id=41]\n\t5891671081517039276 -> -2260798956410314756 [id=\"50.args[1]\"]\n\t-2260798956410314756 [label=\"Abstraction.__call__\" id=47]\n\t-2260798956410314756 -> 8696260854326017488 [id=\"47.args[0]\"]\n\t8696260854326017488 [label=\"Abstraction.__call__\" id=55]\n\t8696260854326017488 -> 3929803037216958913 [id=\"55.args[0]\"]\n\t3929803037216958913 [label=\"Abstraction.__call__\" id=54]\n\t3929803037216958913 -> 5322374211312283539 [id=\"54.args[0]\"]\n\t5322374211312283539 [label=\"FunctionThree.abstraction\" id=52]\n\t5322374211312283539 -> 3949212030538125752 [id=\"52.args[0]\"]\n\t3949212030538125752 [label=\"FunctionThree.create\" id=51]\n\t3949212030538125752 -> 8889008873117166537 [id=\"51.args[0]\"]\n\t3949212030538125752 -> -148681877216629570 [id=\"51.args[1]\"]\n\t3929803037216958913 -> -7222550989444327294 [id=\"54.args[1]\"]\n\t-7222550989444327294 [label=\"Integer.__sub__\" id=53]\n\t-7222550989444327294 -> -428638744467495238 [id=\"53.args[0]\"]\n\t-7222550989444327294 -> 2324029380516624993 [id=\"53.args[1]\"]\n\t8696260854326017488 -> 5161618794012014334 [id=\"55.args[1]\"]\n\t-2260798956410314756 -> 7434090663903589183 [id=\"47.args[1]\"]\n\t7434090663903589183 [label=\"Integer.__add__\" id=56]\n\t7434090663903589183 -> 368416000382198030 [id=\"56.args[0]\"]\n\t7434090663903589183 -> 5161618794012014334 [id=\"56.args[1]\"]\n\t5891671081517039276 -> -2063156450824766308 [id=\"50.args[2]\"]\n\t-2063156450824766308 [label=\"Boolean.if_\" id=49]\n\t-2063156450824766308 -> -2126889553619293541 [id=\"49.args[0]\"]\n\t-2126889553619293541 [label=\"Integer.eq\" id=48]\n\t-2126889553619293541 -> -428638744467495238 [id=\"48.args[0]\"]\n\t-2126889553619293541 -> 2324029380516624993 [id=\"48.args[1]\"]\n\t-2063156450824766308 -> 5161618794012014334 [id=\"49.args[1]\"]\n\t-2063156450824766308 -> 368416000382198030 [id=\"49.args[2]\"]\n\t-5476440331558236592 -> -8025538799242210479 [id=\"8.args[1]\"]\n\t-8025538799242210479 [label=\"FunctionOne.create\" id=7]\n\t-8025538799242210479 -> -152929591850720212 [id=\"7.args[0]\"]\n\t-152929591850720212 [label=\"'fib'\" id=12]\n\t-8025538799242210479 -> -7682846978588519834 [id=\"7.args[1]\"]\n\t-7682846978588519834 [label=\"Abstraction.create\" id=14]\n\t-7682846978588519834 -> 102155759203159525 [id=\"14.args[0]\"]\n\t102155759203159525 [label=\"Abstraction.create_variable\" id=16]\n\t102155759203159525 -> 7529039306583790355 [id=\"16.args[0]\"]\n\t7529039306583790355 [label=\"Variable(4573437232)\" id=15]\n\t-7682846978588519834 -> 7696578279182636448 [id=\"14.args[1]\"]\n\t7696578279182636448 [label=\"RegisteredFunctionThree.__call__\" id=22]\n\t7696578279182636448 -> 2691120279643562240 [id=\"22.args[0]\"]\n\t2691120279643562240 [label=\"Pair.right\" id=17]\n\t2691120279643562240 -> -8871366020435833995 [id=\"17.args[0]\"]\n\t7696578279182636448 -> 102155759203159525 [id=\"22.args[1]\"]\n\t7696578279182636448 -> 6252234403416070464 [id=\"22.args[2]\"]\n\t6252234403416070464 [label=\"Integer.from_int\" id=19]\n\t6252234403416070464 -> 8958813984667811475 [id=\"19.args[0]\"]\n\t8958813984667811475 [label=0 id=18]\n\t7696578279182636448 -> 2324029380516624993 [id=\"22.args[3]\"]\n}",
         "label": null,
         "rule": "metadsl_core.function.three_call"
        },
        {
         "graph": "digraph {\n\tnode [shape=plain]\n\tedge [arrowsize=0.5 penwidth=0.5]\n\t-5008757297206724470 [label=\"RegisteredFunctionOne.to_fn\" id=10]\n\t-5008757297206724470 -> -995756439704348515 [id=\"10.args[0]\"]\n\t-995756439704348515 [label=\"Pair.right\" id=9]\n\t-995756439704348515 -> 1474815460057816623 [id=\"9.args[0]\"]\n\t1474815460057816623 [label=\"Module.register_function_one\" id=8]\n\t1474815460057816623 -> 7823995984646269043 [id=\"8.args[0]\"]\n\t7823995984646269043 [label=\"Pair.left\" id=5]\n\t7823995984646269043 -> 6285524559974468059 [id=\"5.args[0]\"]\n\t6285524559974468059 [label=\"Module.register_function_three\" id=4]\n\t6285524559974468059 -> 3648180171099576616 [id=\"4.args[0]\"]\n\t3648180171099576616 [label=\"Module.create\" id=1]\n\t3648180171099576616 -> 3739358493955255257 [id=\"1.args[0]\"]\n\t3739358493955255257 [label=\"'Main'\" id=11]\n\t6285524559974468059 -> 6187795294337198477 [id=\"4.args[1]\"]\n\t6187795294337198477 [label=\"FunctionThree.create\" id=3]\n\t6187795294337198477 -> 8889008873117166537 [id=\"3.args[0]\"]\n\t8889008873117166537 [label=\"'fib_more'\" id=23]\n\t6187795294337198477 -> -3336486926983265754 [id=\"3.args[1]\"]\n\t-3336486926983265754 [label=\"Abstraction.fix\" id=26]\n\t-3336486926983265754 -> 3874848056967407855 [id=\"26.args[0]\"]\n\t3874848056967407855 [label=\"Abstraction.create\" id=25]\n\t3874848056967407855 -> -148681877216629570 [id=\"25.args[0]\"]\n\t-148681877216629570 [label=\"Abstraction.create_variable\" id=28]\n\t-148681877216629570 -> -1694332698029060853 [id=\"28.args[0]\"]\n\t-1694332698029060853 [label=\"Variable(4572891064)\" id=27]\n\t3874848056967407855 -> 7528655639154754896 [id=\"25.args[1]\"]\n\t7528655639154754896 [label=\"Abstraction.create\" id=30]\n\t7528655639154754896 -> -428638744467495238 [id=\"30.args[0]\"]\n\t-428638744467495238 [label=\"Abstraction.create_variable\" id=32]\n\t-428638744467495238 -> -1694332731381656103 [id=\"32.args[0]\"]\n\t-1694332731381656103 [label=\"Variable(4573453784)\" id=31]\n\t7528655639154754896 -> 8368159042801544897 [id=\"30.args[1]\"]\n\t8368159042801544897 [label=\"Abstraction.create\" id=34]\n\t8368159042801544897 -> 368416000382198030 [id=\"34.args[0]\"]\n\t368416000382198030 [label=\"Abstraction.create_variable\" id=36]\n\t368416000382198030 -> -1694332728773853378 [id=\"36.args[0]\"]\n\t-1694332728773853378 [label=\"Variable(4573476680)\" id=35]\n\t8368159042801544897 -> -928819224404351738 [id=\"34.args[1]\"]\n\t-928819224404351738 [label=\"Abstraction.create\" id=38]\n\t-928819224404351738 -> 5161618794012014334 [id=\"38.args[0]\"]\n\t5161618794012014334 [label=\"Abstraction.create_variable\" id=40]\n\t5161618794012014334 -> 7529039305413580830 [id=\"40.args[0]\"]\n\t7529039305413580830 [label=\"Variable(4573452608)\" id=39]\n\t-928819224404351738 -> 7116517269087919097 [id=\"38.args[1]\"]\n\t7116517269087919097 [label=\"Boolean.if_\" id=50]\n\t7116517269087919097 -> -6924997134608875192 [id=\"50.args[0]\"]\n\t-6924997134608875192 [label=\"Integer.__gt__\" id=43]\n\t-6924997134608875192 -> -428638744467495238 [id=\"43.args[0]\"]\n\t-6924997134608875192 -> 2324029380516624993 [id=\"43.args[1]\"]\n\t2324029380516624993 [label=\"Integer.from_int\" id=42]\n\t2324029380516624993 -> 8958813984668894000 [id=\"42.args[0]\"]\n\t8958813984668894000 [label=1 id=41]\n\t7116517269087919097 -> 7216691646654796582 [id=\"50.args[1]\"]\n\t7216691646654796582 [label=\"Abstraction.__call__\" id=47]\n\t7216691646654796582 -> -3122862103317407622 [id=\"47.args[0]\"]\n\t-3122862103317407622 [label=\"Abstraction.__call__\" id=55]\n\t-3122862103317407622 -> 4845979938653838454 [id=\"55.args[0]\"]\n\t4845979938653838454 [label=\"Abstraction.__call__\" id=54]\n\t4845979938653838454 -> -148681877216629570 [id=\"54.args[0]\"]\n\t4845979938653838454 -> -7222550989444327294 [id=\"54.args[1]\"]\n\t-7222550989444327294 [label=\"Integer.__sub__\" id=53]\n\t-7222550989444327294 -> -428638744467495238 [id=\"53.args[0]\"]\n\t-7222550989444327294 -> 2324029380516624993 [id=\"53.args[1]\"]\n\t-3122862103317407622 -> 5161618794012014334 [id=\"55.args[1]\"]\n\t7216691646654796582 -> 7434090663903589183 [id=\"47.args[1]\"]\n\t7434090663903589183 [label=\"Integer.__add__\" id=56]\n\t7434090663903589183 -> 368416000382198030 [id=\"56.args[0]\"]\n\t7434090663903589183 -> 5161618794012014334 [id=\"56.args[1]\"]\n\t7116517269087919097 -> -2063156450824766308 [id=\"50.args[2]\"]\n\t-2063156450824766308 [label=\"Boolean.if_\" id=49]\n\t-2063156450824766308 -> -2126889553619293541 [id=\"49.args[0]\"]\n\t-2126889553619293541 [label=\"Integer.eq\" id=48]\n\t-2126889553619293541 -> -428638744467495238 [id=\"48.args[0]\"]\n\t-2126889553619293541 -> 2324029380516624993 [id=\"48.args[1]\"]\n\t-2063156450824766308 -> 5161618794012014334 [id=\"49.args[1]\"]\n\t-2063156450824766308 -> 368416000382198030 [id=\"49.args[2]\"]\n\t1474815460057816623 -> -3751238268073352506 [id=\"8.args[1]\"]\n\t-3751238268073352506 [label=\"FunctionOne.create\" id=7]\n\t-3751238268073352506 -> -152929591850720212 [id=\"7.args[0]\"]\n\t-152929591850720212 [label=\"'fib'\" id=12]\n\t-3751238268073352506 -> -1942077127152262742 [id=\"7.args[1]\"]\n\t-1942077127152262742 [label=\"Abstraction.create\" id=14]\n\t-1942077127152262742 -> 102155759203159525 [id=\"14.args[0]\"]\n\t102155759203159525 [label=\"Abstraction.create_variable\" id=16]\n\t102155759203159525 -> 7529039306583790355 [id=\"16.args[0]\"]\n\t7529039306583790355 [label=\"Variable(4573437232)\" id=15]\n\t-1942077127152262742 -> -533049762653162089 [id=\"14.args[1]\"]\n\t-533049762653162089 [label=\"RegisteredFunctionThree.__call__\" id=22]\n\t-533049762653162089 -> -8714504211911569045 [id=\"22.args[0]\"]\n\t-8714504211911569045 [label=\"Pair.right\" id=17]\n\t-8714504211911569045 -> 6285524559974468059 [id=\"17.args[0]\"]\n\t-533049762653162089 -> 102155759203159525 [id=\"22.args[1]\"]\n\t-533049762653162089 -> 6252234403416070464 [id=\"22.args[2]\"]\n\t6252234403416070464 [label=\"Integer.from_int\" id=19]\n\t6252234403416070464 -> 8958813984667811475 [id=\"19.args[0]\"]\n\t8958813984667811475 [label=0 id=18]\n\t-533049762653162089 -> 2324029380516624993 [id=\"22.args[3]\"]\n}",
         "label": null,
         "rule": "metadsl_core.function.three_abstraction"
        },
        {
         "graph": "digraph {\n\tnode [shape=plain]\n\tedge [arrowsize=0.5 penwidth=0.5]\n\t-5008757297206724470 [label=\"RegisteredFunctionOne.to_fn\" id=10]\n\t-5008757297206724470 -> -995756439704348515 [id=\"10.args[0]\"]\n\t-995756439704348515 [label=\"Pair.right\" id=9]\n\t-995756439704348515 -> 1474815460057816623 [id=\"9.args[0]\"]\n\t1474815460057816623 [label=\"Module.register_function_one\" id=8]\n\t1474815460057816623 -> 7823995984646269043 [id=\"8.args[0]\"]\n\t7823995984646269043 [label=\"Pair.left\" id=5]\n\t7823995984646269043 -> 6285524559974468059 [id=\"5.args[0]\"]\n\t6285524559974468059 [label=\"Module.register_function_three\" id=4]\n\t6285524559974468059 -> 3648180171099576616 [id=\"4.args[0]\"]\n\t3648180171099576616 [label=\"Module.create\" id=1]\n\t3648180171099576616 -> 3739358493955255257 [id=\"1.args[0]\"]\n\t3739358493955255257 [label=\"'Main'\" id=11]\n\t6285524559974468059 -> 6187795294337198477 [id=\"4.args[1]\"]\n\t6187795294337198477 [label=\"FunctionThree.create\" id=3]\n\t6187795294337198477 -> 8889008873117166537 [id=\"3.args[0]\"]\n\t8889008873117166537 [label=\"'fib_more'\" id=23]\n\t6187795294337198477 -> -3336486926983265754 [id=\"3.args[1]\"]\n\t-3336486926983265754 [label=\"Abstraction.fix\" id=26]\n\t-3336486926983265754 -> 3874848056967407855 [id=\"26.args[0]\"]\n\t3874848056967407855 [label=\"Abstraction.create\" id=25]\n\t3874848056967407855 -> -148681877216629570 [id=\"25.args[0]\"]\n\t-148681877216629570 [label=\"Abstraction.create_variable\" id=28]\n\t-148681877216629570 -> -1694332698029060853 [id=\"28.args[0]\"]\n\t-1694332698029060853 [label=\"Variable(4572891064)\" id=27]\n\t3874848056967407855 -> 7528655639154754896 [id=\"25.args[1]\"]\n\t7528655639154754896 [label=\"Abstraction.create\" id=30]\n\t7528655639154754896 -> -428638744467495238 [id=\"30.args[0]\"]\n\t-428638744467495238 [label=\"Abstraction.create_variable\" id=32]\n\t-428638744467495238 -> -1694332731381656103 [id=\"32.args[0]\"]\n\t-1694332731381656103 [label=\"Variable(4573453784)\" id=31]\n\t7528655639154754896 -> 8368159042801544897 [id=\"30.args[1]\"]\n\t8368159042801544897 [label=\"Abstraction.create\" id=34]\n\t8368159042801544897 -> 368416000382198030 [id=\"34.args[0]\"]\n\t368416000382198030 [label=\"Abstraction.create_variable\" id=36]\n\t368416000382198030 -> -1694332728773853378 [id=\"36.args[0]\"]\n\t-1694332728773853378 [label=\"Variable(4573476680)\" id=35]\n\t8368159042801544897 -> -928819224404351738 [id=\"34.args[1]\"]\n\t-928819224404351738 [label=\"Abstraction.create\" id=38]\n\t-928819224404351738 -> 5161618794012014334 [id=\"38.args[0]\"]\n\t5161618794012014334 [label=\"Abstraction.create_variable\" id=40]\n\t5161618794012014334 -> 7529039305413580830 [id=\"40.args[0]\"]\n\t7529039305413580830 [label=\"Variable(4573452608)\" id=39]\n\t-928819224404351738 -> 7116517269087919097 [id=\"38.args[1]\"]\n\t7116517269087919097 [label=\"Boolean.if_\" id=50]\n\t7116517269087919097 -> -6924997134608875192 [id=\"50.args[0]\"]\n\t-6924997134608875192 [label=\"Integer.__gt__\" id=43]\n\t-6924997134608875192 -> -428638744467495238 [id=\"43.args[0]\"]\n\t-6924997134608875192 -> 2324029380516624993 [id=\"43.args[1]\"]\n\t2324029380516624993 [label=\"Integer.from_int\" id=42]\n\t2324029380516624993 -> 8958813984668894000 [id=\"42.args[0]\"]\n\t8958813984668894000 [label=1 id=41]\n\t7116517269087919097 -> 7216691646654796582 [id=\"50.args[1]\"]\n\t7216691646654796582 [label=\"Abstraction.__call__\" id=47]\n\t7216691646654796582 -> -3122862103317407622 [id=\"47.args[0]\"]\n\t-3122862103317407622 [label=\"Abstraction.__call__\" id=55]\n\t-3122862103317407622 -> 4845979938653838454 [id=\"55.args[0]\"]\n\t4845979938653838454 [label=\"Abstraction.__call__\" id=54]\n\t4845979938653838454 -> -148681877216629570 [id=\"54.args[0]\"]\n\t4845979938653838454 -> -7222550989444327294 [id=\"54.args[1]\"]\n\t-7222550989444327294 [label=\"Integer.__sub__\" id=53]\n\t-7222550989444327294 -> -428638744467495238 [id=\"53.args[0]\"]\n\t-7222550989444327294 -> 2324029380516624993 [id=\"53.args[1]\"]\n\t-3122862103317407622 -> 5161618794012014334 [id=\"55.args[1]\"]\n\t7216691646654796582 -> 7434090663903589183 [id=\"47.args[1]\"]\n\t7434090663903589183 [label=\"Integer.__add__\" id=56]\n\t7434090663903589183 -> 368416000382198030 [id=\"56.args[0]\"]\n\t7434090663903589183 -> 5161618794012014334 [id=\"56.args[1]\"]\n\t7116517269087919097 -> -2063156450824766308 [id=\"50.args[2]\"]\n\t-2063156450824766308 [label=\"Boolean.if_\" id=49]\n\t-2063156450824766308 -> -2126889553619293541 [id=\"49.args[0]\"]\n\t-2126889553619293541 [label=\"Integer.eq\" id=48]\n\t-2126889553619293541 -> -428638744467495238 [id=\"48.args[0]\"]\n\t-2126889553619293541 -> 2324029380516624993 [id=\"48.args[1]\"]\n\t-2063156450824766308 -> 5161618794012014334 [id=\"49.args[1]\"]\n\t-2063156450824766308 -> 368416000382198030 [id=\"49.args[2]\"]\n\t1474815460057816623 -> -3751238268073352506 [id=\"8.args[1]\"]\n\t-3751238268073352506 [label=\"FunctionOne.create\" id=7]\n\t-3751238268073352506 -> -152929591850720212 [id=\"7.args[0]\"]\n\t-152929591850720212 [label=\"'fib'\" id=12]\n\t-3751238268073352506 -> -1942077127152262742 [id=\"7.args[1]\"]\n\t-1942077127152262742 [label=\"Abstraction.create\" id=14]\n\t-1942077127152262742 -> 102155759203159525 [id=\"14.args[0]\"]\n\t102155759203159525 [label=\"Abstraction.create_variable\" id=16]\n\t102155759203159525 -> 7529039306583790355 [id=\"16.args[0]\"]\n\t7529039306583790355 [label=\"Variable(4573437232)\" id=15]\n\t-1942077127152262742 -> -533049762653162089 [id=\"14.args[1]\"]\n\t-533049762653162089 [label=\"RegisteredFunctionThree.__call__\" id=22]\n\t-533049762653162089 -> -8714504211911569045 [id=\"22.args[0]\"]\n\t-8714504211911569045 [label=\"Pair.right\" id=17]\n\t-8714504211911569045 -> 6285524559974468059 [id=\"17.args[0]\"]\n\t-533049762653162089 -> 102155759203159525 [id=\"22.args[1]\"]\n\t-533049762653162089 -> 6252234403416070464 [id=\"22.args[2]\"]\n\t6252234403416070464 [label=\"Integer.from_int\" id=19]\n\t6252234403416070464 -> 8958813984667811475 [id=\"19.args[0]\"]\n\t8958813984667811475 [label=0 id=18]\n\t-533049762653162089 -> 2324029380516624993 [id=\"22.args[3]\"]\n}",
         "label": "core",
         "rule": ""
        }
       ]
      },
      "text/plain": [
       "Typez(definitions=None, nodes={'3739358493955255257': ['11', PrimitiveNode(type='str', repr=\"'Main'\")], '3648180171099576616': ['1', CallNode(function='Module.create', type_params=None, args=['3739358493955255257'], kwargs=None)], '8959089268420819600': ['2', PrimitiveNode(type='function', repr='<function fib_more at 0x110844d08>')], '8097661969842816946': ['3', CallNode(function='FunctionThree.from_fn_recursive', type_params=None, args=['8959089268420819600'], kwargs=None)], '4454206223018729133': ['4', CallNode(function='Module.register_function_three', type_params=None, args=['3648180171099576616', '8097661969842816946'], kwargs=None)], '5624885620221352612': ['5', CallNode(function='Pair.left', type_params={'U': DeclaredTypeInstance(type='RegisteredFunctionThree', params={'X': DeclaredTypeInstance(type='Integer', params=None), 'V': DeclaredTypeInstance(type='Integer', params=None), 'U': DeclaredTypeInstance(type='Integer', params=None), 'T': DeclaredTypeInstance(type='Integer', params=None)}), 'T': DeclaredTypeInstance(type='Module', params=None)}, args=['4454206223018729133'], kwargs=None)], '-264282768350601783': ['13', PrimitiveNode(type='function', repr='<function fib at 0x1108442f0>')], '-1562234290944248376': ['7', CallNode(function='FunctionOne.from_fn', type_params=None, args=['-264282768350601783'], kwargs=None)], '5224016916090767212': ['8', CallNode(function='Module.register_function_one', type_params=None, args=['5624885620221352612', '-1562234290944248376'], kwargs=None)], '1639493727729821760': ['9', CallNode(function='Pair.right', type_params={'U': DeclaredTypeInstance(type='RegisteredFunctionOne', params={'U': DeclaredTypeInstance(type='Integer', params=None), 'T': DeclaredTypeInstance(type='Integer', params=None)}), 'T': DeclaredTypeInstance(type='Module', params=None)}, args=['5224016916090767212'], kwargs=None)], '559900832732604187': ['10', CallNode(function='RegisteredFunctionOne.to_fn', type_params={'U': DeclaredTypeInstance(type='Integer', params=None), 'T': DeclaredTypeInstance(type='Integer', params=None)}, args=['1639493727729821760'], kwargs=None)], '-152929591850720212': ['12', PrimitiveNode(type='str', repr=\"'fib'\")], '8575474884086262568': ['14', CallNode(function='Abstraction.from_fn', type_params=None, args=['-264282768350601783'], kwargs=None)], '-8839683973989338183': ['7', CallNode(function='FunctionOne.create', type_params={'U': DeclaredTypeInstance(type='Integer', params=None), 'T': DeclaredTypeInstance(type='Integer', params=None)}, args=['-152929591850720212', '8575474884086262568'], kwargs=None)], '-7772994066719083858': ['8', CallNode(function='Module.register_function_one', type_params=None, args=['5624885620221352612', '-8839683973989338183'], kwargs=None)], '-7191301629101492079': ['9', CallNode(function='Pair.right', type_params={'U': DeclaredTypeInstance(type='RegisteredFunctionOne', params={'U': DeclaredTypeInstance(type='Integer', params=None), 'T': DeclaredTypeInstance(type='Integer', params=None)}), 'T': DeclaredTypeInstance(type='Module', params=None)}, args=['-7772994066719083858'], kwargs=None)], '-5226549792683117699': ['10', CallNode(function='RegisteredFunctionOne.to_fn', type_params={'U': DeclaredTypeInstance(type='Integer', params=None), 'T': DeclaredTypeInstance(type='Integer', params=None)}, args=['-7191301629101492079'], kwargs=None)], '7529039306583790355': ['15', PrimitiveNode(type='Variable', repr='Variable(4573437232)')], '102155759203159525': ['16', CallNode(function='Abstraction.create_variable', type_params={'U': DeclaredTypeInstance(type='Integer', params=None), 'T': DeclaredTypeInstance(type='Integer', params=None)}, args=['7529039306583790355'], kwargs=None)], '8111668074374725500': ['17', CallNode(function='Pair.right', type_params={'U': DeclaredTypeInstance(type='RegisteredFunctionThree', params={'X': DeclaredTypeInstance(type='Integer', params=None), 'V': DeclaredTypeInstance(type='Integer', params=None), 'U': DeclaredTypeInstance(type='Integer', params=None), 'T': DeclaredTypeInstance(type='Integer', params=None)}), 'T': DeclaredTypeInstance(type='Module', params=None)}, args=['4454206223018729133'], kwargs=None)], '8958813984667811475': ['18', PrimitiveNode(type='int', repr='0')], '6252234403416070464': ['19', CallNode(function='Integer.from_int', type_params=None, args=['8958813984667811475'], kwargs=None)], '8958813984668894000': ['41', PrimitiveNode(type='int', repr='1')], '2324029380516624993': ['42', CallNode(function='Integer.from_int', type_params=None, args=['8958813984668894000'], kwargs=None)], '-6566018200973781226': ['22', CallNode(function='RegisteredFunctionThree.__call__', type_params={'X': DeclaredTypeInstance(type='Integer', params=None), 'V': DeclaredTypeInstance(type='Integer', params=None), 'U': DeclaredTypeInstance(type='Integer', params=None), 'T': DeclaredTypeInstance(type='Integer', params=None)}, args=['8111668074374725500', '102155759203159525', '6252234403416070464', '2324029380516624993'], kwargs=None)], '6877365168244426011': ['14', CallNode(function='Abstraction.create', type_params={'U': DeclaredTypeInstance(type='Integer', params=None), 'T': DeclaredTypeInstance(type='Integer', params=None)}, args=['102155759203159525', '-6566018200973781226'], kwargs=None)], '-3407086477424796001': ['7', CallNode(function='FunctionOne.create', type_params={'U': DeclaredTypeInstance(type='Integer', params=None), 'T': DeclaredTypeInstance(type='Integer', params=None)}, args=['-152929591850720212', '6877365168244426011'], kwargs=None)], '1303069109209575926': ['8', CallNode(function='Module.register_function_one', type_params=None, args=['5624885620221352612', '-3407086477424796001'], kwargs=None)], '-3239209019554827640': ['9', CallNode(function='Pair.right', type_params={'U': DeclaredTypeInstance(type='RegisteredFunctionOne', params={'U': DeclaredTypeInstance(type='Integer', params=None), 'T': DeclaredTypeInstance(type='Integer', params=None)}), 'T': DeclaredTypeInstance(type='Module', params=None)}, args=['1303069109209575926'], kwargs=None)], '8561774070432290728': ['10', CallNode(function='RegisteredFunctionOne.to_fn', type_params={'U': DeclaredTypeInstance(type='Integer', params=None), 'T': DeclaredTypeInstance(type='Integer', params=None)}, args=['-3239209019554827640'], kwargs=None)], '8889008873117166537': ['23', PrimitiveNode(type='str', repr=\"'fib_more'\")], '1826795518309290855': ['24', PrimitiveNode(type='FunctionReplaceTyping', repr=\"FunctionReplaceTyping(fn=<function FunctionThree.from_fn_recursive.<locals>.inner at 0x110844ea0>, typevars={~V: <class 'metadsl_core.integer.Integer'>, ~U: <class 'metadsl_core.integer.Integer'>, ~T: <class 'metadsl_core.integer.Integer'>, ~X: <class 'metadsl_core.integer.Integer'>}, typevars_in_scope={~U, ~T, ~V, ~X})\")], '-6986949745129414490': ['25', CallNode(function='Abstraction.from_fn', type_params=None, args=['1826795518309290855'], kwargs=None)], '-5022540307094615415': ['26', CallNode(function='Abstraction.fix', type_params=None, args=['-6986949745129414490'], kwargs=None)], '8359594801554065719': ['3', CallNode(function='FunctionThree.create', type_params={'X': DeclaredTypeInstance(type='Integer', params=None), 'V': DeclaredTypeInstance(type='Integer', params=None), 'U': DeclaredTypeInstance(type='Integer', params=None), 'T': DeclaredTypeInstance(type='Integer', params=None)}, args=['8889008873117166537', '-5022540307094615415'], kwargs=None)], '3264757715835459708': ['4', CallNode(function='Module.register_function_three', type_params=None, args=['3648180171099576616', '8359594801554065719'], kwargs=None)], '-8604738328302413741': ['5', CallNode(function='Pair.left', type_params={'U': DeclaredTypeInstance(type='RegisteredFunctionThree', params={'X': DeclaredTypeInstance(type='Integer', params=None), 'V': DeclaredTypeInstance(type='Integer', params=None), 'U': DeclaredTypeInstance(type='Integer', params=None), 'T': DeclaredTypeInstance(type='Integer', params=None)}), 'T': DeclaredTypeInstance(type='Module', params=None)}, args=['3264757715835459708'], kwargs=None)], '-614509765142210293': ['17', CallNode(function='Pair.right', type_params={'U': DeclaredTypeInstance(type='RegisteredFunctionThree', params={'X': DeclaredTypeInstance(type='Integer', params=None), 'V': DeclaredTypeInstance(type='Integer', params=None), 'U': DeclaredTypeInstance(type='Integer', params=None), 'T': DeclaredTypeInstance(type='Integer', params=None)}), 'T': DeclaredTypeInstance(type='Module', params=None)}, args=['3264757715835459708'], kwargs=None)], '1212384370683108794': ['22', CallNode(function='RegisteredFunctionThree.__call__', type_params={'X': DeclaredTypeInstance(type='Integer', params=None), 'V': DeclaredTypeInstance(type='Integer', params=None), 'U': DeclaredTypeInstance(type='Integer', params=None), 'T': DeclaredTypeInstance(type='Integer', params=None)}, args=['-614509765142210293', '102155759203159525', '6252234403416070464', '2324029380516624993'], kwargs=None)], '4408923849683453653': ['14', CallNode(function='Abstraction.create', type_params={'U': DeclaredTypeInstance(type='Integer', params=None), 'T': DeclaredTypeInstance(type='Integer', params=None)}, args=['102155759203159525', '1212384370683108794'], kwargs=None)], '2045487092677111594': ['7', CallNode(function='FunctionOne.create', type_params={'U': DeclaredTypeInstance(type='Integer', params=None), 'T': DeclaredTypeInstance(type='Integer', params=None)}, args=['-152929591850720212', '4408923849683453653'], kwargs=None)], '-8075925400363834644': ['8', CallNode(function='Module.register_function_one', type_params=None, args=['-8604738328302413741', '2045487092677111594'], kwargs=None)], '1962542458942537035': ['9', CallNode(function='Pair.right', type_params={'U': DeclaredTypeInstance(type='RegisteredFunctionOne', params={'U': DeclaredTypeInstance(type='Integer', params=None), 'T': DeclaredTypeInstance(type='Integer', params=None)}), 'T': DeclaredTypeInstance(type='Module', params=None)}, args=['-8075925400363834644'], kwargs=None)], '-8460587041135040084': ['10', CallNode(function='RegisteredFunctionOne.to_fn', type_params={'U': DeclaredTypeInstance(type='Integer', params=None), 'T': DeclaredTypeInstance(type='Integer', params=None)}, args=['1962542458942537035'], kwargs=None)], '-1694332698029060853': ['27', PrimitiveNode(type='Variable', repr='Variable(4572891064)')], '-148681877216629570': ['28', CallNode(function='Abstraction.create_variable', type_params={'U': DeclaredTypeInstance(type='Abstraction', params={'U': DeclaredTypeInstance(type='Abstraction', params={'U': DeclaredTypeInstance(type='Abstraction', params={'U': DeclaredTypeInstance(type='Integer', params=None), 'T': DeclaredTypeInstance(type='Integer', params=None)}), 'T': DeclaredTypeInstance(type='Integer', params=None)}), 'T': DeclaredTypeInstance(type='Integer', params=None)}), 'T': DeclaredTypeInstance(type='Abstraction', params={'U': DeclaredTypeInstance(type='Abstraction', params={'U': DeclaredTypeInstance(type='Abstraction', params={'U': DeclaredTypeInstance(type='Integer', params=None), 'T': DeclaredTypeInstance(type='Integer', params=None)}), 'T': DeclaredTypeInstance(type='Integer', params=None)}), 'T': DeclaredTypeInstance(type='Integer', params=None)})}, args=['-1694332698029060853'], kwargs=None)], '1826795582567974855': ['29', PrimitiveNode(type='FunctionReplaceTyping', repr=\"FunctionReplaceTyping(fn=<function FunctionThree.from_fn_recursive.<locals>.inner.<locals>.inner at 0x1106e7730>, typevars={~V: <class 'metadsl_core.integer.Integer'>, ~U: <class 'metadsl_core.integer.Integer'>, ~T: <class 'metadsl_core.integer.Integer'>, ~X: <class 'metadsl_core.integer.Integer'>}, typevars_in_scope={~U, ~T, ~V, ~X})\")], '5454940190661150662': ['30', CallNode(function='Abstraction.from_fn', type_params=None, args=['1826795582567974855'], kwargs=None)], '-2409233941988753142': ['25', CallNode(function='Abstraction.create', type_params={'U': DeclaredTypeInstance(type='Abstraction', params={'U': DeclaredTypeInstance(type='Abstraction', params={'U': DeclaredTypeInstance(type='Abstraction', params={'U': DeclaredTypeInstance(type='Integer', params=None), 'T': DeclaredTypeInstance(type='Integer', params=None)}), 'T': DeclaredTypeInstance(type='Integer', params=None)}), 'T': DeclaredTypeInstance(type='Integer', params=None)}), 'T': DeclaredTypeInstance(type='Abstraction', params={'U': DeclaredTypeInstance(type='Abstraction', params={'U': DeclaredTypeInstance(type='Abstraction', params={'U': DeclaredTypeInstance(type='Integer', params=None), 'T': DeclaredTypeInstance(type='Integer', params=None)}), 'T': DeclaredTypeInstance(type='Integer', params=None)}), 'T': DeclaredTypeInstance(type='Integer', params=None)})}, args=['-148681877216629570', '5454940190661150662'], kwargs=None)], '-459877610430196501': ['26', CallNode(function='Abstraction.fix', type_params=None, args=['-2409233941988753142'], kwargs=None)], '8552365913333182739': ['3', CallNode(function='FunctionThree.create', type_params={'X': DeclaredTypeInstance(type='Integer', params=None), 'V': DeclaredTypeInstance(type='Integer', params=None), 'U': DeclaredTypeInstance(type='Integer', params=None), 'T': DeclaredTypeInstance(type='Integer', params=None)}, args=['8889008873117166537', '-459877610430196501'], kwargs=None)], '5372608626055140344': ['4', CallNode(function='Module.register_function_three', type_params=None, args=['3648180171099576616', '8552365913333182739'], kwargs=None)], '-4101704913106680032': ['5', CallNode(function='Pair.left', type_params={'U': DeclaredTypeInstance(type='RegisteredFunctionThree', params={'X': DeclaredTypeInstance(type='Integer', params=None), 'V': DeclaredTypeInstance(type='Integer', params=None), 'U': DeclaredTypeInstance(type='Integer', params=None), 'T': DeclaredTypeInstance(type='Integer', params=None)}), 'T': DeclaredTypeInstance(type='Module', params=None)}, args=['5372608626055140344'], kwargs=None)], '-8676254926415379896': ['17', CallNode(function='Pair.right', type_params={'U': DeclaredTypeInstance(type='RegisteredFunctionThree', params={'X': DeclaredTypeInstance(type='Integer', params=None), 'V': DeclaredTypeInstance(type='Integer', params=None), 'U': DeclaredTypeInstance(type='Integer', params=None), 'T': DeclaredTypeInstance(type='Integer', params=None)}), 'T': DeclaredTypeInstance(type='Module', params=None)}, args=['5372608626055140344'], kwargs=None)], '-7348205438627108820': ['22', CallNode(function='RegisteredFunctionThree.__call__', type_params={'X': DeclaredTypeInstance(type='Integer', params=None), 'V': DeclaredTypeInstance(type='Integer', params=None), 'U': DeclaredTypeInstance(type='Integer', params=None), 'T': DeclaredTypeInstance(type='Integer', params=None)}, args=['-8676254926415379896', '102155759203159525', '6252234403416070464', '2324029380516624993'], kwargs=None)], '1887441356247301424': ['14', CallNode(function='Abstraction.create', type_params={'U': DeclaredTypeInstance(type='Integer', params=None), 'T': DeclaredTypeInstance(type='Integer', params=None)}, args=['102155759203159525', '-7348205438627108820'], kwargs=None)], '1245359205566994784': ['7', CallNode(function='FunctionOne.create', type_params={'U': DeclaredTypeInstance(type='Integer', params=None), 'T': DeclaredTypeInstance(type='Integer', params=None)}, args=['-152929591850720212', '1887441356247301424'], kwargs=None)], '2979840583865358637': ['8', CallNode(function='Module.register_function_one', type_params=None, args=['-4101704913106680032', '1245359205566994784'], kwargs=None)], '-7374414688734782720': ['9', CallNode(function='Pair.right', type_params={'U': DeclaredTypeInstance(type='RegisteredFunctionOne', params={'U': DeclaredTypeInstance(type='Integer', params=None), 'T': DeclaredTypeInstance(type='Integer', params=None)}), 'T': DeclaredTypeInstance(type='Module', params=None)}, args=['2979840583865358637'], kwargs=None)], '-3433615698342692758': ['10', CallNode(function='RegisteredFunctionOne.to_fn', type_params={'U': DeclaredTypeInstance(type='Integer', params=None), 'T': DeclaredTypeInstance(type='Integer', params=None)}, args=['-7374414688734782720'], kwargs=None)], '-1694332731381656103': ['31', PrimitiveNode(type='Variable', repr='Variable(4573453784)')], '-428638744467495238': ['32', CallNode(function='Abstraction.create_variable', type_params={'U': DeclaredTypeInstance(type='Abstraction', params={'U': DeclaredTypeInstance(type='Abstraction', params={'U': DeclaredTypeInstance(type='Integer', params=None), 'T': DeclaredTypeInstance(type='Integer', params=None)}), 'T': DeclaredTypeInstance(type='Integer', params=None)}), 'T': DeclaredTypeInstance(type='Integer', params=None)}, args=['-1694332731381656103'], kwargs=None)], '1826795518750961055': ['33', PrimitiveNode(type='FunctionReplaceTyping', repr=\"FunctionReplaceTyping(fn=<function FunctionThree.from_fn_recursive.<locals>.inner.<locals>.inner.<locals>.inner at 0x110844c80>, typevars={~V: <class 'metadsl_core.integer.Integer'>, ~U: <class 'metadsl_core.integer.Integer'>, ~T: <class 'metadsl_core.integer.Integer'>, ~X: <class 'metadsl_core.integer.Integer'>}, typevars_in_scope={~U, ~T, ~V, ~X})\")], '6424043553976935950': ['34', CallNode(function='Abstraction.from_fn', type_params=None, args=['1826795518750961055'], kwargs=None)], '-7676331715621109212': ['30', CallNode(function='Abstraction.create', type_params={'U': DeclaredTypeInstance(type='Abstraction', params={'U': DeclaredTypeInstance(type='Abstraction', params={'U': DeclaredTypeInstance(type='Integer', params=None), 'T': DeclaredTypeInstance(type='Integer', params=None)}), 'T': DeclaredTypeInstance(type='Integer', params=None)}), 'T': DeclaredTypeInstance(type='Integer', params=None)}, args=['-428638744467495238', '6424043553976935950'], kwargs=None)], '8420010487753888757': ['25', CallNode(function='Abstraction.create', type_params={'U': DeclaredTypeInstance(type='Abstraction', params={'U': DeclaredTypeInstance(type='Abstraction', params={'U': DeclaredTypeInstance(type='Abstraction', params={'U': DeclaredTypeInstance(type='Integer', params=None), 'T': DeclaredTypeInstance(type='Integer', params=None)}), 'T': DeclaredTypeInstance(type='Integer', params=None)}), 'T': DeclaredTypeInstance(type='Integer', params=None)}), 'T': DeclaredTypeInstance(type='Abstraction', params={'U': DeclaredTypeInstance(type='Abstraction', params={'U': DeclaredTypeInstance(type='Abstraction', params={'U': DeclaredTypeInstance(type='Integer', params=None), 'T': DeclaredTypeInstance(type='Integer', params=None)}), 'T': DeclaredTypeInstance(type='Integer', params=None)}), 'T': DeclaredTypeInstance(type='Integer', params=None)})}, args=['-148681877216629570', '-7676331715621109212'], kwargs=None)], '-5870614572429890802': ['26', CallNode(function='Abstraction.fix', type_params=None, args=['8420010487753888757'], kwargs=None)], '-6336771601139249826': ['3', CallNode(function='FunctionThree.create', type_params={'X': DeclaredTypeInstance(type='Integer', params=None), 'V': DeclaredTypeInstance(type='Integer', params=None), 'U': DeclaredTypeInstance(type='Integer', params=None), 'T': DeclaredTypeInstance(type='Integer', params=None)}, args=['8889008873117166537', '-5870614572429890802'], kwargs=None)], '5071809883594616522': ['4', CallNode(function='Module.register_function_three', type_params=None, args=['3648180171099576616', '-6336771601139249826'], kwargs=None)], '9204453333035993982': ['5', CallNode(function='Pair.left', type_params={'U': DeclaredTypeInstance(type='RegisteredFunctionThree', params={'X': DeclaredTypeInstance(type='Integer', params=None), 'V': DeclaredTypeInstance(type='Integer', params=None), 'U': DeclaredTypeInstance(type='Integer', params=None), 'T': DeclaredTypeInstance(type='Integer', params=None)}), 'T': DeclaredTypeInstance(type='Module', params=None)}, args=['5071809883594616522'], kwargs=None)], '4377804154997173126': ['17', CallNode(function='Pair.right', type_params={'U': DeclaredTypeInstance(type='RegisteredFunctionThree', params={'X': DeclaredTypeInstance(type='Integer', params=None), 'V': DeclaredTypeInstance(type='Integer', params=None), 'U': DeclaredTypeInstance(type='Integer', params=None), 'T': DeclaredTypeInstance(type='Integer', params=None)}), 'T': DeclaredTypeInstance(type='Module', params=None)}, args=['5071809883594616522'], kwargs=None)], '8881722234471062030': ['22', CallNode(function='RegisteredFunctionThree.__call__', type_params={'X': DeclaredTypeInstance(type='Integer', params=None), 'V': DeclaredTypeInstance(type='Integer', params=None), 'U': DeclaredTypeInstance(type='Integer', params=None), 'T': DeclaredTypeInstance(type='Integer', params=None)}, args=['4377804154997173126', '102155759203159525', '6252234403416070464', '2324029380516624993'], kwargs=None)], '6027843474413095880': ['14', CallNode(function='Abstraction.create', type_params={'U': DeclaredTypeInstance(type='Integer', params=None), 'T': DeclaredTypeInstance(type='Integer', params=None)}, args=['102155759203159525', '8881722234471062030'], kwargs=None)], '3515373910936848230': ['7', CallNode(function='FunctionOne.create', type_params={'U': DeclaredTypeInstance(type='Integer', params=None), 'T': DeclaredTypeInstance(type='Integer', params=None)}, args=['-152929591850720212', '6027843474413095880'], kwargs=None)], '3281554124362395470': ['8', CallNode(function='Module.register_function_one', type_params=None, args=['9204453333035993982', '3515373910936848230'], kwargs=None)], '-1435717469434971139': ['9', CallNode(function='Pair.right', type_params={'U': DeclaredTypeInstance(type='RegisteredFunctionOne', params={'U': DeclaredTypeInstance(type='Integer', params=None), 'T': DeclaredTypeInstance(type='Integer', params=None)}), 'T': DeclaredTypeInstance(type='Module', params=None)}, args=['3281554124362395470'], kwargs=None)], '-2241754671760058006': ['10', CallNode(function='RegisteredFunctionOne.to_fn', type_params={'U': DeclaredTypeInstance(type='Integer', params=None), 'T': DeclaredTypeInstance(type='Integer', params=None)}, args=['-1435717469434971139'], kwargs=None)], '-1694332728773853378': ['35', PrimitiveNode(type='Variable', repr='Variable(4573476680)')], '368416000382198030': ['36', CallNode(function='Abstraction.create_variable', type_params={'U': DeclaredTypeInstance(type='Abstraction', params={'U': DeclaredTypeInstance(type='Integer', params=None), 'T': DeclaredTypeInstance(type='Integer', params=None)}), 'T': DeclaredTypeInstance(type='Integer', params=None)}, args=['-1694332728773853378'], kwargs=None)], '1826795578679545055': ['37', PrimitiveNode(type='FunctionReplaceTyping', repr=\"FunctionReplaceTyping(fn=<function FunctionThree.from_fn_recursive.<locals>.inner.<locals>.inner.<locals>.inner.<locals>.inner at 0x10ba08840>, typevars={~V: <class 'metadsl_core.integer.Integer'>, ~U: <class 'metadsl_core.integer.Integer'>, ~T: <class 'metadsl_core.integer.Integer'>, ~X: <class 'metadsl_core.integer.Integer'>}, typevars_in_scope={~U, ~T, ~V, ~X})\")], '8593328550942256078': ['38', CallNode(function='Abstraction.from_fn', type_params=None, args=['1826795578679545055'], kwargs=None)], '-2992147194522275828': ['34', CallNode(function='Abstraction.create', type_params={'U': DeclaredTypeInstance(type='Abstraction', params={'U': DeclaredTypeInstance(type='Integer', params=None), 'T': DeclaredTypeInstance(type='Integer', params=None)}), 'T': DeclaredTypeInstance(type='Integer', params=None)}, args=['368416000382198030', '8593328550942256078'], kwargs=None)], '-4864211006751955863': ['30', CallNode(function='Abstraction.create', type_params={'U': DeclaredTypeInstance(type='Abstraction', params={'U': DeclaredTypeInstance(type='Abstraction', params={'U': DeclaredTypeInstance(type='Integer', params=None), 'T': DeclaredTypeInstance(type='Integer', params=None)}), 'T': DeclaredTypeInstance(type='Integer', params=None)}), 'T': DeclaredTypeInstance(type='Integer', params=None)}, args=['-428638744467495238', '-2992147194522275828'], kwargs=None)], '-7097237823668555869': ['25', CallNode(function='Abstraction.create', type_params={'U': DeclaredTypeInstance(type='Abstraction', params={'U': DeclaredTypeInstance(type='Abstraction', params={'U': DeclaredTypeInstance(type='Abstraction', params={'U': DeclaredTypeInstance(type='Integer', params=None), 'T': DeclaredTypeInstance(type='Integer', params=None)}), 'T': DeclaredTypeInstance(type='Integer', params=None)}), 'T': DeclaredTypeInstance(type='Integer', params=None)}), 'T': DeclaredTypeInstance(type='Abstraction', params={'U': DeclaredTypeInstance(type='Abstraction', params={'U': DeclaredTypeInstance(type='Abstraction', params={'U': DeclaredTypeInstance(type='Integer', params=None), 'T': DeclaredTypeInstance(type='Integer', params=None)}), 'T': DeclaredTypeInstance(type='Integer', params=None)}), 'T': DeclaredTypeInstance(type='Integer', params=None)})}, args=['-148681877216629570', '-4864211006751955863'], kwargs=None)], '-1094524890916102730': ['26', CallNode(function='Abstraction.fix', type_params=None, args=['-7097237823668555869'], kwargs=None)], '-7415351905118700192': ['3', CallNode(function='FunctionThree.create', type_params={'X': DeclaredTypeInstance(type='Integer', params=None), 'V': DeclaredTypeInstance(type='Integer', params=None), 'U': DeclaredTypeInstance(type='Integer', params=None), 'T': DeclaredTypeInstance(type='Integer', params=None)}, args=['8889008873117166537', '-1094524890916102730'], kwargs=None)], '-2046940606048338363': ['4', CallNode(function='Module.register_function_three', type_params=None, args=['3648180171099576616', '-7415351905118700192'], kwargs=None)], '2425760550663432203': ['5', CallNode(function='Pair.left', type_params={'U': DeclaredTypeInstance(type='RegisteredFunctionThree', params={'X': DeclaredTypeInstance(type='Integer', params=None), 'V': DeclaredTypeInstance(type='Integer', params=None), 'U': DeclaredTypeInstance(type='Integer', params=None), 'T': DeclaredTypeInstance(type='Integer', params=None)}), 'T': DeclaredTypeInstance(type='Module', params=None)}, args=['-2046940606048338363'], kwargs=None)], '6242312047189574995': ['17', CallNode(function='Pair.right', type_params={'U': DeclaredTypeInstance(type='RegisteredFunctionThree', params={'X': DeclaredTypeInstance(type='Integer', params=None), 'V': DeclaredTypeInstance(type='Integer', params=None), 'U': DeclaredTypeInstance(type='Integer', params=None), 'T': DeclaredTypeInstance(type='Integer', params=None)}), 'T': DeclaredTypeInstance(type='Module', params=None)}, args=['-2046940606048338363'], kwargs=None)], '5301232882385009436': ['22', CallNode(function='RegisteredFunctionThree.__call__', type_params={'X': DeclaredTypeInstance(type='Integer', params=None), 'V': DeclaredTypeInstance(type='Integer', params=None), 'U': DeclaredTypeInstance(type='Integer', params=None), 'T': DeclaredTypeInstance(type='Integer', params=None)}, args=['6242312047189574995', '102155759203159525', '6252234403416070464', '2324029380516624993'], kwargs=None)], '-5533239073147418295': ['14', CallNode(function='Abstraction.create', type_params={'U': DeclaredTypeInstance(type='Integer', params=None), 'T': DeclaredTypeInstance(type='Integer', params=None)}, args=['102155759203159525', '5301232882385009436'], kwargs=None)], '-5450647339771792451': ['7', CallNode(function='FunctionOne.create', type_params={'U': DeclaredTypeInstance(type='Integer', params=None), 'T': DeclaredTypeInstance(type='Integer', params=None)}, args=['-152929591850720212', '-5533239073147418295'], kwargs=None)], '-683091493958077033': ['8', CallNode(function='Module.register_function_one', type_params=None, args=['2425760550663432203', '-5450647339771792451'], kwargs=None)], '-4288087874597742555': ['9', CallNode(function='Pair.right', type_params={'U': DeclaredTypeInstance(type='RegisteredFunctionOne', params={'U': DeclaredTypeInstance(type='Integer', params=None), 'T': DeclaredTypeInstance(type='Integer', params=None)}), 'T': DeclaredTypeInstance(type='Module', params=None)}, args=['-683091493958077033'], kwargs=None)], '-5615027502901240097': ['10', CallNode(function='RegisteredFunctionOne.to_fn', type_params={'U': DeclaredTypeInstance(type='Integer', params=None), 'T': DeclaredTypeInstance(type='Integer', params=None)}, args=['-4288087874597742555'], kwargs=None)], '7529039305413580830': ['39', PrimitiveNode(type='Variable', repr='Variable(4573452608)')], '5161618794012014334': ['40', CallNode(function='Abstraction.create_variable', type_params={'U': DeclaredTypeInstance(type='Integer', params=None), 'T': DeclaredTypeInstance(type='Integer', params=None)}, args=['7529039305413580830'], kwargs=None)], '-6924997134608875192': ['43', CallNode(function='Integer.__gt__', type_params=None, args=['-428638744467495238', '2324029380516624993'], kwargs=None)], '3949212030538125752': ['51', CallNode(function='FunctionThree.create', type_params={'X': DeclaredTypeInstance(type='Integer', params=None), 'V': DeclaredTypeInstance(type='Integer', params=None), 'U': DeclaredTypeInstance(type='Integer', params=None), 'T': DeclaredTypeInstance(type='Integer', params=None)}, args=['8889008873117166537', '-148681877216629570'], kwargs=None)], '-7222550989444327294': ['53', CallNode(function='Integer.__sub__', type_params=None, args=['-428638744467495238', '2324029380516624993'], kwargs=None)], '7434090663903589183': ['56', CallNode(function='Integer.__add__', type_params=None, args=['368416000382198030', '5161618794012014334'], kwargs=None)], '4190245541205513295': ['47', CallNode(function='FunctionThree.__call__', type_params={'X': DeclaredTypeInstance(type='Integer', params=None), 'V': DeclaredTypeInstance(type='Integer', params=None), 'U': DeclaredTypeInstance(type='Integer', params=None), 'T': DeclaredTypeInstance(type='Integer', params=None)}, args=['3949212030538125752', '-7222550989444327294', '5161618794012014334', '7434090663903589183'], kwargs=None)], '-2126889553619293541': ['48', CallNode(function='Integer.eq', type_params=None, args=['-428638744467495238', '2324029380516624993'], kwargs=None)], '-2063156450824766308': ['49', CallNode(function='Boolean.if_', type_params=None, args=['-2126889553619293541', '5161618794012014334', '368416000382198030'], kwargs=None)], '1054724378526425104': ['50', CallNode(function='Boolean.if_', type_params=None, args=['-6924997134608875192', '4190245541205513295', '-2063156450824766308'], kwargs=None)], '-5601612119553279150': ['38', CallNode(function='Abstraction.create', type_params={'U': DeclaredTypeInstance(type='Integer', params=None), 'T': DeclaredTypeInstance(type='Integer', params=None)}, args=['5161618794012014334', '1054724378526425104'], kwargs=None)], '-5318737446679150133': ['34', CallNode(function='Abstraction.create', type_params={'U': DeclaredTypeInstance(type='Abstraction', params={'U': DeclaredTypeInstance(type='Integer', params=None), 'T': DeclaredTypeInstance(type='Integer', params=None)}), 'T': DeclaredTypeInstance(type='Integer', params=None)}, args=['368416000382198030', '-5601612119553279150'], kwargs=None)], '-4674205987303158733': ['30', CallNode(function='Abstraction.create', type_params={'U': DeclaredTypeInstance(type='Abstraction', params={'U': DeclaredTypeInstance(type='Abstraction', params={'U': DeclaredTypeInstance(type='Integer', params=None), 'T': DeclaredTypeInstance(type='Integer', params=None)}), 'T': DeclaredTypeInstance(type='Integer', params=None)}), 'T': DeclaredTypeInstance(type='Integer', params=None)}, args=['-428638744467495238', '-5318737446679150133'], kwargs=None)], '2474692371975656613': ['25', CallNode(function='Abstraction.create', type_params={'U': DeclaredTypeInstance(type='Abstraction', params={'U': DeclaredTypeInstance(type='Abstraction', params={'U': DeclaredTypeInstance(type='Abstraction', params={'U': DeclaredTypeInstance(type='Integer', params=None), 'T': DeclaredTypeInstance(type='Integer', params=None)}), 'T': DeclaredTypeInstance(type='Integer', params=None)}), 'T': DeclaredTypeInstance(type='Integer', params=None)}), 'T': DeclaredTypeInstance(type='Abstraction', params={'U': DeclaredTypeInstance(type='Abstraction', params={'U': DeclaredTypeInstance(type='Abstraction', params={'U': DeclaredTypeInstance(type='Integer', params=None), 'T': DeclaredTypeInstance(type='Integer', params=None)}), 'T': DeclaredTypeInstance(type='Integer', params=None)}), 'T': DeclaredTypeInstance(type='Integer', params=None)})}, args=['-148681877216629570', '-4674205987303158733'], kwargs=None)], '4972174251263136984': ['26', CallNode(function='Abstraction.fix', type_params=None, args=['2474692371975656613'], kwargs=None)], '5035357982579704524': ['3', CallNode(function='FunctionThree.create', type_params={'X': DeclaredTypeInstance(type='Integer', params=None), 'V': DeclaredTypeInstance(type='Integer', params=None), 'U': DeclaredTypeInstance(type='Integer', params=None), 'T': DeclaredTypeInstance(type='Integer', params=None)}, args=['8889008873117166537', '4972174251263136984'], kwargs=None)], '-4466765468109826240': ['4', CallNode(function='Module.register_function_three', type_params=None, args=['3648180171099576616', '5035357982579704524'], kwargs=None)], '8924535382480654281': ['5', CallNode(function='Pair.left', type_params={'U': DeclaredTypeInstance(type='RegisteredFunctionThree', params={'X': DeclaredTypeInstance(type='Integer', params=None), 'V': DeclaredTypeInstance(type='Integer', params=None), 'U': DeclaredTypeInstance(type='Integer', params=None), 'T': DeclaredTypeInstance(type='Integer', params=None)}), 'T': DeclaredTypeInstance(type='Module', params=None)}, args=['-4466765468109826240'], kwargs=None)], '-7795801676555135279': ['17', CallNode(function='Pair.right', type_params={'U': DeclaredTypeInstance(type='RegisteredFunctionThree', params={'X': DeclaredTypeInstance(type='Integer', params=None), 'V': DeclaredTypeInstance(type='Integer', params=None), 'U': DeclaredTypeInstance(type='Integer', params=None), 'T': DeclaredTypeInstance(type='Integer', params=None)}), 'T': DeclaredTypeInstance(type='Module', params=None)}, args=['-4466765468109826240'], kwargs=None)], '6118487174943235869': ['22', CallNode(function='RegisteredFunctionThree.__call__', type_params={'X': DeclaredTypeInstance(type='Integer', params=None), 'V': DeclaredTypeInstance(type='Integer', params=None), 'U': DeclaredTypeInstance(type='Integer', params=None), 'T': DeclaredTypeInstance(type='Integer', params=None)}, args=['-7795801676555135279', '102155759203159525', '6252234403416070464', '2324029380516624993'], kwargs=None)], '5559499270326263682': ['14', CallNode(function='Abstraction.create', type_params={'U': DeclaredTypeInstance(type='Integer', params=None), 'T': DeclaredTypeInstance(type='Integer', params=None)}, args=['102155759203159525', '6118487174943235869'], kwargs=None)], '1155869147474408060': ['7', CallNode(function='FunctionOne.create', type_params={'U': DeclaredTypeInstance(type='Integer', params=None), 'T': DeclaredTypeInstance(type='Integer', params=None)}, args=['-152929591850720212', '5559499270326263682'], kwargs=None)], '-3125949679124795990': ['8', CallNode(function='Module.register_function_one', type_params=None, args=['8924535382480654281', '1155869147474408060'], kwargs=None)], '7570082576351002891': ['9', CallNode(function='Pair.right', type_params={'U': DeclaredTypeInstance(type='RegisteredFunctionOne', params={'U': DeclaredTypeInstance(type='Integer', params=None), 'T': DeclaredTypeInstance(type='Integer', params=None)}), 'T': DeclaredTypeInstance(type='Module', params=None)}, args=['-3125949679124795990'], kwargs=None)], '7726219735682315261': ['10', CallNode(function='RegisteredFunctionOne.to_fn', type_params={'U': DeclaredTypeInstance(type='Integer', params=None), 'T': DeclaredTypeInstance(type='Integer', params=None)}, args=['7570082576351002891'], kwargs=None)], '5322374211312283539': ['52', CallNode(function='FunctionThree.abstraction', type_params={'X': DeclaredTypeInstance(type='Integer', params=None), 'V': DeclaredTypeInstance(type='Integer', params=None), 'U': DeclaredTypeInstance(type='Integer', params=None), 'T': DeclaredTypeInstance(type='Integer', params=None)}, args=['3949212030538125752'], kwargs=None)], '3929803037216958913': ['54', CallNode(function='Abstraction.__call__', type_params={'U': DeclaredTypeInstance(type='Abstraction', params={'U': DeclaredTypeInstance(type='Abstraction', params={'U': DeclaredTypeInstance(type='Integer', params=None), 'T': DeclaredTypeInstance(type='Integer', params=None)}), 'T': DeclaredTypeInstance(type='Integer', params=None)}), 'T': DeclaredTypeInstance(type='Integer', params=None)}, args=['5322374211312283539', '-7222550989444327294'], kwargs=None)], '8696260854326017488': ['55', CallNode(function='Abstraction.__call__', type_params={'U': DeclaredTypeInstance(type='Abstraction', params={'U': DeclaredTypeInstance(type='Integer', params=None), 'T': DeclaredTypeInstance(type='Integer', params=None)}), 'T': DeclaredTypeInstance(type='Integer', params=None)}, args=['3929803037216958913', '5161618794012014334'], kwargs=None)], '-2260798956410314756': ['47', CallNode(function='Abstraction.__call__', type_params={'U': DeclaredTypeInstance(type='Integer', params=None), 'T': DeclaredTypeInstance(type='Integer', params=None)}, args=['8696260854326017488', '7434090663903589183'], kwargs=None)], '5891671081517039276': ['50', CallNode(function='Boolean.if_', type_params=None, args=['-6924997134608875192', '-2260798956410314756', '-2063156450824766308'], kwargs=None)], '1016463036960271880': ['38', CallNode(function='Abstraction.create', type_params={'U': DeclaredTypeInstance(type='Integer', params=None), 'T': DeclaredTypeInstance(type='Integer', params=None)}, args=['5161618794012014334', '5891671081517039276'], kwargs=None)], '7671975656220872243': ['34', CallNode(function='Abstraction.create', type_params={'U': DeclaredTypeInstance(type='Abstraction', params={'U': DeclaredTypeInstance(type='Integer', params=None), 'T': DeclaredTypeInstance(type='Integer', params=None)}), 'T': DeclaredTypeInstance(type='Integer', params=None)}, args=['368416000382198030', '1016463036960271880'], kwargs=None)], '-4585193478213949498': ['30', CallNode(function='Abstraction.create', type_params={'U': DeclaredTypeInstance(type='Abstraction', params={'U': DeclaredTypeInstance(type='Abstraction', params={'U': DeclaredTypeInstance(type='Integer', params=None), 'T': DeclaredTypeInstance(type='Integer', params=None)}), 'T': DeclaredTypeInstance(type='Integer', params=None)}), 'T': DeclaredTypeInstance(type='Integer', params=None)}, args=['-428638744467495238', '7671975656220872243'], kwargs=None)], '5824967424615095273': ['25', CallNode(function='Abstraction.create', type_params={'U': DeclaredTypeInstance(type='Abstraction', params={'U': DeclaredTypeInstance(type='Abstraction', params={'U': DeclaredTypeInstance(type='Abstraction', params={'U': DeclaredTypeInstance(type='Integer', params=None), 'T': DeclaredTypeInstance(type='Integer', params=None)}), 'T': DeclaredTypeInstance(type='Integer', params=None)}), 'T': DeclaredTypeInstance(type='Integer', params=None)}), 'T': DeclaredTypeInstance(type='Abstraction', params={'U': DeclaredTypeInstance(type='Abstraction', params={'U': DeclaredTypeInstance(type='Abstraction', params={'U': DeclaredTypeInstance(type='Integer', params=None), 'T': DeclaredTypeInstance(type='Integer', params=None)}), 'T': DeclaredTypeInstance(type='Integer', params=None)}), 'T': DeclaredTypeInstance(type='Integer', params=None)})}, args=['-148681877216629570', '-4585193478213949498'], kwargs=None)], '-3599376535914416367': ['26', CallNode(function='Abstraction.fix', type_params=None, args=['5824967424615095273'], kwargs=None)], '8722876737848929770': ['3', CallNode(function='FunctionThree.create', type_params={'X': DeclaredTypeInstance(type='Integer', params=None), 'V': DeclaredTypeInstance(type='Integer', params=None), 'U': DeclaredTypeInstance(type='Integer', params=None), 'T': DeclaredTypeInstance(type='Integer', params=None)}, args=['8889008873117166537', '-3599376535914416367'], kwargs=None)], '-8871366020435833995': ['4', CallNode(function='Module.register_function_three', type_params=None, args=['3648180171099576616', '8722876737848929770'], kwargs=None)], '-4848966146136472': ['5', CallNode(function='Pair.left', type_params={'U': DeclaredTypeInstance(type='RegisteredFunctionThree', params={'X': DeclaredTypeInstance(type='Integer', params=None), 'V': DeclaredTypeInstance(type='Integer', params=None), 'U': DeclaredTypeInstance(type='Integer', params=None), 'T': DeclaredTypeInstance(type='Integer', params=None)}), 'T': DeclaredTypeInstance(type='Module', params=None)}, args=['-8871366020435833995'], kwargs=None)], '2691120279643562240': ['17', CallNode(function='Pair.right', type_params={'U': DeclaredTypeInstance(type='RegisteredFunctionThree', params={'X': DeclaredTypeInstance(type='Integer', params=None), 'V': DeclaredTypeInstance(type='Integer', params=None), 'U': DeclaredTypeInstance(type='Integer', params=None), 'T': DeclaredTypeInstance(type='Integer', params=None)}), 'T': DeclaredTypeInstance(type='Module', params=None)}, args=['-8871366020435833995'], kwargs=None)], '7696578279182636448': ['22', CallNode(function='RegisteredFunctionThree.__call__', type_params={'X': DeclaredTypeInstance(type='Integer', params=None), 'V': DeclaredTypeInstance(type='Integer', params=None), 'U': DeclaredTypeInstance(type='Integer', params=None), 'T': DeclaredTypeInstance(type='Integer', params=None)}, args=['2691120279643562240', '102155759203159525', '6252234403416070464', '2324029380516624993'], kwargs=None)], '-7682846978588519834': ['14', CallNode(function='Abstraction.create', type_params={'U': DeclaredTypeInstance(type='Integer', params=None), 'T': DeclaredTypeInstance(type='Integer', params=None)}, args=['102155759203159525', '7696578279182636448'], kwargs=None)], '-8025538799242210479': ['7', CallNode(function='FunctionOne.create', type_params={'U': DeclaredTypeInstance(type='Integer', params=None), 'T': DeclaredTypeInstance(type='Integer', params=None)}, args=['-152929591850720212', '-7682846978588519834'], kwargs=None)], '-5476440331558236592': ['8', CallNode(function='Module.register_function_one', type_params=None, args=['-4848966146136472', '-8025538799242210479'], kwargs=None)], '-9027640238690465568': ['9', CallNode(function='Pair.right', type_params={'U': DeclaredTypeInstance(type='RegisteredFunctionOne', params={'U': DeclaredTypeInstance(type='Integer', params=None), 'T': DeclaredTypeInstance(type='Integer', params=None)}), 'T': DeclaredTypeInstance(type='Module', params=None)}, args=['-5476440331558236592'], kwargs=None)], '-7629701227571121974': ['10', CallNode(function='RegisteredFunctionOne.to_fn', type_params={'U': DeclaredTypeInstance(type='Integer', params=None), 'T': DeclaredTypeInstance(type='Integer', params=None)}, args=['-9027640238690465568'], kwargs=None)], '4845979938653838454': ['54', CallNode(function='Abstraction.__call__', type_params={'U': DeclaredTypeInstance(type='Abstraction', params={'U': DeclaredTypeInstance(type='Abstraction', params={'U': DeclaredTypeInstance(type='Integer', params=None), 'T': DeclaredTypeInstance(type='Integer', params=None)}), 'T': DeclaredTypeInstance(type='Integer', params=None)}), 'T': DeclaredTypeInstance(type='Integer', params=None)}, args=['-148681877216629570', '-7222550989444327294'], kwargs=None)], '-3122862103317407622': ['55', CallNode(function='Abstraction.__call__', type_params={'U': DeclaredTypeInstance(type='Abstraction', params={'U': DeclaredTypeInstance(type='Integer', params=None), 'T': DeclaredTypeInstance(type='Integer', params=None)}), 'T': DeclaredTypeInstance(type='Integer', params=None)}, args=['4845979938653838454', '5161618794012014334'], kwargs=None)], '7216691646654796582': ['47', CallNode(function='Abstraction.__call__', type_params={'U': DeclaredTypeInstance(type='Integer', params=None), 'T': DeclaredTypeInstance(type='Integer', params=None)}, args=['-3122862103317407622', '7434090663903589183'], kwargs=None)], '7116517269087919097': ['50', CallNode(function='Boolean.if_', type_params=None, args=['-6924997134608875192', '7216691646654796582', '-2063156450824766308'], kwargs=None)], '-928819224404351738': ['38', CallNode(function='Abstraction.create', type_params={'U': DeclaredTypeInstance(type='Integer', params=None), 'T': DeclaredTypeInstance(type='Integer', params=None)}, args=['5161618794012014334', '7116517269087919097'], kwargs=None)], '8368159042801544897': ['34', CallNode(function='Abstraction.create', type_params={'U': DeclaredTypeInstance(type='Abstraction', params={'U': DeclaredTypeInstance(type='Integer', params=None), 'T': DeclaredTypeInstance(type='Integer', params=None)}), 'T': DeclaredTypeInstance(type='Integer', params=None)}, args=['368416000382198030', '-928819224404351738'], kwargs=None)], '7528655639154754896': ['30', CallNode(function='Abstraction.create', type_params={'U': DeclaredTypeInstance(type='Abstraction', params={'U': DeclaredTypeInstance(type='Abstraction', params={'U': DeclaredTypeInstance(type='Integer', params=None), 'T': DeclaredTypeInstance(type='Integer', params=None)}), 'T': DeclaredTypeInstance(type='Integer', params=None)}), 'T': DeclaredTypeInstance(type='Integer', params=None)}, args=['-428638744467495238', '8368159042801544897'], kwargs=None)], '3874848056967407855': ['25', CallNode(function='Abstraction.create', type_params={'U': DeclaredTypeInstance(type='Abstraction', params={'U': DeclaredTypeInstance(type='Abstraction', params={'U': DeclaredTypeInstance(type='Abstraction', params={'U': DeclaredTypeInstance(type='Integer', params=None), 'T': DeclaredTypeInstance(type='Integer', params=None)}), 'T': DeclaredTypeInstance(type='Integer', params=None)}), 'T': DeclaredTypeInstance(type='Integer', params=None)}), 'T': DeclaredTypeInstance(type='Abstraction', params={'U': DeclaredTypeInstance(type='Abstraction', params={'U': DeclaredTypeInstance(type='Abstraction', params={'U': DeclaredTypeInstance(type='Integer', params=None), 'T': DeclaredTypeInstance(type='Integer', params=None)}), 'T': DeclaredTypeInstance(type='Integer', params=None)}), 'T': DeclaredTypeInstance(type='Integer', params=None)})}, args=['-148681877216629570', '7528655639154754896'], kwargs=None)], '-3336486926983265754': ['26', CallNode(function='Abstraction.fix', type_params=None, args=['3874848056967407855'], kwargs=None)], '6187795294337198477': ['3', CallNode(function='FunctionThree.create', type_params={'X': DeclaredTypeInstance(type='Integer', params=None), 'V': DeclaredTypeInstance(type='Integer', params=None), 'U': DeclaredTypeInstance(type='Integer', params=None), 'T': DeclaredTypeInstance(type='Integer', params=None)}, args=['8889008873117166537', '-3336486926983265754'], kwargs=None)], '6285524559974468059': ['4', CallNode(function='Module.register_function_three', type_params=None, args=['3648180171099576616', '6187795294337198477'], kwargs=None)], '7823995984646269043': ['5', CallNode(function='Pair.left', type_params={'U': DeclaredTypeInstance(type='RegisteredFunctionThree', params={'X': DeclaredTypeInstance(type='Integer', params=None), 'V': DeclaredTypeInstance(type='Integer', params=None), 'U': DeclaredTypeInstance(type='Integer', params=None), 'T': DeclaredTypeInstance(type='Integer', params=None)}), 'T': DeclaredTypeInstance(type='Module', params=None)}, args=['6285524559974468059'], kwargs=None)], '-8714504211911569045': ['17', CallNode(function='Pair.right', type_params={'U': DeclaredTypeInstance(type='RegisteredFunctionThree', params={'X': DeclaredTypeInstance(type='Integer', params=None), 'V': DeclaredTypeInstance(type='Integer', params=None), 'U': DeclaredTypeInstance(type='Integer', params=None), 'T': DeclaredTypeInstance(type='Integer', params=None)}), 'T': DeclaredTypeInstance(type='Module', params=None)}, args=['6285524559974468059'], kwargs=None)], '-533049762653162089': ['22', CallNode(function='RegisteredFunctionThree.__call__', type_params={'X': DeclaredTypeInstance(type='Integer', params=None), 'V': DeclaredTypeInstance(type='Integer', params=None), 'U': DeclaredTypeInstance(type='Integer', params=None), 'T': DeclaredTypeInstance(type='Integer', params=None)}, args=['-8714504211911569045', '102155759203159525', '6252234403416070464', '2324029380516624993'], kwargs=None)], '-1942077127152262742': ['14', CallNode(function='Abstraction.create', type_params={'U': DeclaredTypeInstance(type='Integer', params=None), 'T': DeclaredTypeInstance(type='Integer', params=None)}, args=['102155759203159525', '-533049762653162089'], kwargs=None)], '-3751238268073352506': ['7', CallNode(function='FunctionOne.create', type_params={'U': DeclaredTypeInstance(type='Integer', params=None), 'T': DeclaredTypeInstance(type='Integer', params=None)}, args=['-152929591850720212', '-1942077127152262742'], kwargs=None)], '1474815460057816623': ['8', CallNode(function='Module.register_function_one', type_params=None, args=['7823995984646269043', '-3751238268073352506'], kwargs=None)], '-995756439704348515': ['9', CallNode(function='Pair.right', type_params={'U': DeclaredTypeInstance(type='RegisteredFunctionOne', params={'U': DeclaredTypeInstance(type='Integer', params=None), 'T': DeclaredTypeInstance(type='Integer', params=None)}), 'T': DeclaredTypeInstance(type='Module', params=None)}, args=['1474815460057816623'], kwargs=None)], '-5008757297206724470': ['10', CallNode(function='RegisteredFunctionOne.to_fn', type_params={'U': DeclaredTypeInstance(type='Integer', params=None), 'T': DeclaredTypeInstance(type='Integer', params=None)}, args=['-995756439704348515'], kwargs=None)]}, states=States(initial='559900832732604187', states=[State(node='-5226549792683117699', rule='metadsl_core.function.FunctionOne.from_fn', label=None), State(node='8561774070432290728', rule='metadsl_core.abstraction.Abstraction.from_fn', label=None), State(node='-8460587041135040084', rule='metadsl_core.function.FunctionThree.from_fn_recursive', label=None), State(node='-3433615698342692758', rule='metadsl_core.abstraction.Abstraction.from_fn', label=None), State(node='-2241754671760058006', rule='metadsl_core.abstraction.Abstraction.from_fn', label=None), State(node='-5615027502901240097', rule='metadsl_core.abstraction.Abstraction.from_fn', label=None), State(node='7726219735682315261', rule='metadsl_core.abstraction.Abstraction.from_fn', label=None), State(node='-7629701227571121974', rule='metadsl_core.function.three_call', label=None), State(node='-5008757297206724470', rule='metadsl_core.function.three_abstraction', label=None), State(node='-5008757297206724470', rule='', label='core')]))"
      ]
     },
     "metadata": {},
     "output_type": "display_data"
    }
   ],
   "source": [
    "mod = Module.create(\"Main\")\n",
    "\n",
    "@FunctionThree.from_fn_recursive\n",
    "def fib_more(\n",
    "    fn: FunctionThree[Integer, Integer, Integer, Integer],\n",
    "    n: Integer,\n",
    "    a: Integer,\n",
    "    b: Integer,\n",
    ") -> Integer:\n",
    "    pred_cont = n > one\n",
    "    minus1 = n - one\n",
    "    ab = a + b\n",
    "    added = fn(minus1, b, ab)\n",
    "\n",
    "    n_eq_1 = n.eq(one)\n",
    "    return pred_cont.if_(added, n_eq_1.if_(b, a))\n",
    "\n",
    "res = mod.register_function_three(fib_more)\n",
    "mod, fib_more_ref = res.left(), res.right()\n",
    "\n",
    "@FunctionOne.from_fn\n",
    "def fib(n: Integer) -> Integer:\n",
    "    return fib_more_ref(n, zero, one)\n",
    "\n",
    "\n",
    "res = mod.register_function_one(fib)\n",
    "mod, fib_ref = res.left(), res.right()\n",
    "\n",
    "fib_ref.to_fn()"
   ]
  },
  {
   "cell_type": "code",
   "execution_count": null,
   "metadata": {},
   "outputs": [],
   "source": [
    "fib(Integer.from_int(10))"
   ]
  },
  {
   "cell_type": "code",
   "execution_count": null,
   "metadata": {},
   "outputs": [],
   "source": []
  }
 ],
 "metadata": {
  "kernelspec": {
   "display_name": "Python 3",
   "language": "python",
   "name": "python3"
  },
  "language_info": {
   "codemirror_mode": {
    "name": "ipython",
    "version": 3
   },
   "file_extension": ".py",
   "mimetype": "text/x-python",
   "name": "python",
   "nbconvert_exporter": "python",
   "pygments_lexer": "ipython3",
   "version": "3.7.3"
  }
 },
 "nbformat": 4,
 "nbformat_minor": 4
}
