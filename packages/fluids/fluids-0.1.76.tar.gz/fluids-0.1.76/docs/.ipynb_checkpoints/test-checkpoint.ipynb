{
 "cells": [
  {
   "cell_type": "markdown",
   "metadata": {},
   "source": [
    "# Problem 1"
   ]
  },
  {
   "cell_type": "markdown",
   "metadata": {
    "collapsed": false
   },
   "source": [
    "Water at 30 degrees Celcius flows through a 20 m length of 50 mm plastic (smooth wall) pipe, at a flow rate of 200 L/min.\n",
    "\n",
    "Calculate the Reynolds number and friction factor."
   ]
  },
  {
   "cell_type": "code",
   "execution_count": 13,
   "metadata": {
    "collapsed": false
   },
   "outputs": [
    {
     "name": "stdout",
     "output_type": "stream",
     "text": [
      "Reynolds number = 101000.290024 dimensionless\n",
      "Darcy friction factor = 0.0181088283086 dimensionless\n"
     ]
    }
   ],
   "source": [
    "from fluids.units import  *\n",
    "from thermo import *\n",
    "from math import *\n",
    "\n",
    "Q = 0.2*u.m**3/u.min\n",
    "T = 30*u.degC\n",
    "water = Stream('water', T=T.to_base_units().magnitude, Q=Q.to_base_units().magnitude)\n",
    "rho = water.rho*u.kg/u.m**3\n",
    "mu = water.mu*u.Pa*u.s\n",
    "\n",
    "NPS, Di, Do, t = nearest_pipe(Di=0.05*u.m)\n",
    "v = Q/(pi/4*Di**2)\n",
    "Re = Reynolds(D=Di, rho=rho, mu=mu, V=v)\n",
    "print('Reynolds number = %s' %Re)\n",
    "fd = friction_factor(Re=Re, eD=_roughness['Glass']/Di)\n",
    "print('Darcy friction factor = %s' %fd)"
   ]
  },
  {
   "cell_type": "markdown",
   "metadata": {},
   "source": [
    "The values presented in their solution are Re=100600; and fd=0.0179. The difference in values is due to the precision they used."
   ]
  }
 ],
 "metadata": {
  "kernelspec": {
   "display_name": "Python 3",
   "language": "python",
   "name": "python3"
  },
  "language_info": {
   "codemirror_mode": {
    "name": "ipython",
    "version": 3
   },
   "file_extension": ".py",
   "mimetype": "text/x-python",
   "name": "python",
   "nbconvert_exporter": "python",
   "pygments_lexer": "ipython3",
   "version": "3.5.3"
  }
 },
 "nbformat": 4,
 "nbformat_minor": 1
}
