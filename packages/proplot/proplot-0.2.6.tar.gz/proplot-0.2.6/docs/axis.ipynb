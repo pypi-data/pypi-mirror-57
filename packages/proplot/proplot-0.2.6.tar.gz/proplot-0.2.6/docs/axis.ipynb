{
 "cells": [
  {
   "cell_type": "markdown",
   "metadata": {},
   "source": [
    "# X and Y axis settings\n",
    "\n"
   ]
  },
  {
   "cell_type": "raw",
   "metadata": {
    "raw_mimetype": "text/restructuredtext"
   },
   "source": [
    "This section documents features used for modifying *x* and *y* axis settings, including axis scales, tick locations, and tick label formatting. It also documents a handy \"dual axes\" feature."
   ]
  },
  {
   "cell_type": "markdown",
   "metadata": {},
   "source": [
    "## Axis tick locations"
   ]
  },
  {
   "cell_type": "raw",
   "metadata": {
    "raw_mimetype": "text/restructuredtext"
   },
   "source": [
    "Axis locators are used to select tick locations based on the axis data limits.\n",
    "ProPlot lets you easily specify axis locators with `~proplot.axes.Axes.format` (keyword args `xlocator`, `ylocator`, `xminorlocator`, and `yminorlocator`, or their aliases `xticks`, `yticks`, `xminorticks`, and `yminorticks`).\n",
    "\n",
    "Pass a number to tick every ``N`` data values, lookup a builtin matplotlib `~matplotlib.ticker` with a string key name, or pass a list of numbers to tick specific locations. I recommend using ProPlot's `~proplot.utils.arange` function to generate lists of ticks – it’s like numpy's `~numpy.arange`, but is *endpoint-inclusive*, which is usually what you'll want in this context. See `~proplot.axes.XYAxes.format` and `~proplot.axistools.Locator` for details."
   ]
  },
  {
   "cell_type": "code",
   "execution_count": null,
   "metadata": {},
   "outputs": [],
   "source": [
    "import proplot as plot\n",
    "import numpy as np\n",
    "# shade makes it a bit brighter, multiplies luminance channel by this much!\n",
    "plot.rc.facecolor = plot.shade('powder blue', 1.15)\n",
    "plot.rc.update(linewidth=1, small=10, large=12,\n",
    "               color='dark blue', suptitlecolor='dark blue')\n",
    "f, axs = plot.subplots(nrows=5, axwidth=5, aspect=(8, 1), share=0, hspace=0.3)\n",
    "axs.format(suptitle='Declaring tick locations with ProPlot')\n",
    "# Manual locations\n",
    "axs[0].format(xlim=(0, 200), xminorlocator=10, xlocator=30)\n",
    "axs[1].format(xlim=(0, 10), xminorlocator=0.1,\n",
    "              xlocator=[0, 0.3, 0.8, 1.6, 4.4, 8, 8.8, 10])\n",
    "# Locator classes\n",
    "state = np.random.RandomState(51423)\n",
    "# Approx number of ticks you want, but not exact locations\n",
    "axs[3].format(xlim=(1, 10), xlocator=('maxn', 20))\n",
    "# Log minor locator, automatically applied for log scale plots\n",
    "axs[2].format(xlim=(1, 100), xlocator='log', xminorlocator='logminor')\n",
    "# Index locator, only draws ticks where data is plotted\n",
    "axs[4].plot(np.arange(10) - 5, state.rand(10), alpha=0)\n",
    "axs[4].format(xlim=(0, 6), ylim=(0, 1), xlocator='index',\n",
    "              xformatter=[r'$\\alpha$', r'$\\beta$', r'$\\gamma$', r'$\\delta$', r'$\\epsilon$'])\n",
    "plot.rc.reset()"
   ]
  },
  {
   "cell_type": "markdown",
   "metadata": {},
   "source": [
    "## Axis tick labels"
   ]
  },
  {
   "cell_type": "raw",
   "metadata": {
    "raw_mimetype": "text/restructuredtext"
   },
   "source": [
    "Axis formatters are used to convert float numbers to tick label strings.\n",
    "ProPlot lets you easily change the axis formatter with `~proplot.axes.Axes.format` (keyword args `xformatter` and `yformatter`, or their aliases `xticklabels` and `yticklabels`). The builtin matplotlib formatters can be referenced by string name, and several new formatters have been introduced -- for example, you can now easily label your axes as fractions or as geographic coordinates. You can also just pass a list of strings or a ``%`` style format directive. See `~proplot.axes.XYAxes.format` and `~proplot.axistools.Formatter` for details."
   ]
  },
  {
   "cell_type": "code",
   "execution_count": null,
   "metadata": {},
   "outputs": [],
   "source": [
    "import proplot as plot\n",
    "import numpy as np\n",
    "plot.rc.update(linewidth=1.2, small=10, large=12, facecolor='gray8', figurefacecolor='gray8',\n",
    "               suptitlecolor='w', gridcolor='w', color='w')\n",
    "f, axs = plot.subplots(nrows=6, axwidth=5, aspect=(8,1), share=0, hspace=0.3)\n",
    "# Fraction formatters\n",
    "axs[0].format(xlim=(0,4*np.pi), xlocator=plot.arange(0, 4, 0.25)*np.pi, xformatter='pi')\n",
    "axs[1].format(xlim=(0,2*np.e), xlocator=plot.arange(0, 2, 0.5)*np.e, xticklabels='e')\n",
    "# Geographic formatter\n",
    "axs[2].format(xlim=(-90,90), xlocator=plot.arange(-90, 90, 30), xformatter='deglat')\n",
    "# User input labels\n",
    "axs[3].format(xlim=(-1.01,1), xlocator=0.5, xticklabels=['a', 'b', 'c', 'd', 'e'])\n",
    "# Custom style labels\n",
    "axs[4].format(xlim=(0, 0.001), xlocator=0.0001, xformatter='%.E')\n",
    "axs[5].format(xlim=(0,100), xtickminor=False, xlocator=20, xformatter='{x:.1f}')\n",
    "axs.format(ylocator='null', suptitle='Setting tick styles with ProPlot')\n",
    "plot.rc.reset()"
   ]
  },
  {
   "cell_type": "raw",
   "metadata": {
    "raw_mimetype": "text/restructuredtext"
   },
   "source": [
    "ProPlot also changes the default axis formatter. The new formatter trims trailing zeros by default, and can be used to *filter tick labels within some data range*, as demonstrated below. See `~proplot.axistools.AutoFormatter` for details."
   ]
  },
  {
   "cell_type": "code",
   "execution_count": null,
   "metadata": {},
   "outputs": [],
   "source": [
    "import proplot as plot\n",
    "plot.rc.linewidth = 2\n",
    "plot.rc.small = plot.rc.large = 11\n",
    "locator = [0, 0.25, 0.5, 0.75, 1]\n",
    "f, axs = plot.subplots([[1, 1, 2, 2], [0, 3, 3, 0]], axwidth=1.5, share=0)\n",
    "# Formatter comparison\n",
    "axs[0].format(xformatter='scalar', yformatter='scalar',\n",
    "              title='Matplotlib formatter')\n",
    "axs[1].format(yticklabelloc='both', title='ProPlot formatter')\n",
    "axs[:2].format(xlocator=locator, ylocator=locator)\n",
    "# Limited tick range\n",
    "axs[2].format(title='Limiting the tick range', ticklen=5, xlim=(0, 5), ylim=(0, 5),\n",
    "              xtickrange=(0, 2), ytickrange=(0, 2), xlocator=1, ylocator=1)\n",
    "axs.format(ytickloc='both', yticklabelloc='both',\n",
    "           titleweight='bold', titlepad='0.5em')\n",
    "plot.rc.reset()"
   ]
  },
  {
   "cell_type": "markdown",
   "metadata": {},
   "source": [
    "## Axis scales"
   ]
  },
  {
   "cell_type": "raw",
   "metadata": {
    "raw_mimetype": "text/restructuredtext"
   },
   "source": [
    "The axis scale can now be changed with `~proplot.axes.Axes.format` (keyword args `xscale` and `yscale`). You can also configure the ``'log'`` and ``'symlog'`` axis scales with the more sensible `base`, `linthresh`, `linscale`, and `subs`\n",
    "keyword args (i.e. you can omit the ``x`` and ``y``). See `~proplot.axes.XYAxes.format`, `~proplot.axistools.Scale`, `~proplot.axistools.LogScale` and `~proplot.axistools.SymmetricalLogScale` for details."
   ]
  },
  {
   "cell_type": "code",
   "execution_count": null,
   "metadata": {},
   "outputs": [],
   "source": [
    "import proplot as plot\n",
    "import numpy as np\n",
    "N = 200\n",
    "lw = 3\n",
    "plot.rc.update({'linewidth': 1, 'ticklabelweight': 'bold',\n",
    "                'axeslabelweight': 'bold'})\n",
    "f, axs = plot.subplots(ncols=2, nrows=2, axwidth=1.8, share=0)\n",
    "axs.format(suptitle='Changing the axis scale')\n",
    "# Linear and log scales\n",
    "axs[0].format(yscale='linear', ylabel='linear scale')\n",
    "axs[1].format(ylim=(1e-3, 1e3), yscale='log',\n",
    "              yscale_kw={'subs': np.arange(1, 10)}, ylabel='log scale')\n",
    "axs[:2].plot(np.linspace(0, 1, N), np.linspace(0, 1000, N), lw=lw)\n",
    "# Symlog and logit scales\n",
    "ax = axs[2]\n",
    "ax.format(yscale='symlog', yscale_kw={'linthresh': 1}, ylabel='symlog scale')\n",
    "ax.plot(np.linspace(0, 1, N), np.linspace(-1000, 1000, N), lw=lw)\n",
    "ax = axs[3]\n",
    "ax.format(yscale='logit', ylabel='logit scale')\n",
    "ax.plot(np.linspace(0, 1, N), np.linspace(0.01, 0.99, N), lw=lw)\n",
    "plot.rc.reset()"
   ]
  },
  {
   "cell_type": "raw",
   "metadata": {
    "raw_mimetype": "text/restructuredtext"
   },
   "source": [
    "ProPlot also adds several new axis scales. The ``'cutoff'`` scale is great when you have weirdly distributed data (see `~proplot.axistools.CutoffScale`). The ``'sine'`` scale scales the axis as the sine of the coordinate, resulting in an \"area-weighted\" spherical latitude coordinate, and the ``'Mercator'`` scale scales the axis as with the Mercator projection latitude coordinate. The ``'inverse'`` scale is perfect for working with spectral data (this is more useful with `~proplot.axes.XYAxes.dualx` and `~proplot.axes.XYAxes.dualy`; see :ref:`Dual unit axes`)."
   ]
  },
  {
   "cell_type": "code",
   "execution_count": null,
   "metadata": {},
   "outputs": [],
   "source": [
    "import proplot as plot\n",
    "import numpy as np\n",
    "f, axs = plot.subplots(width=6, nrows=4, aspect=(5, 1), sharex=False)\n",
    "ax = axs[0]\n",
    "x = np.linspace(0, 4*np.pi, 100)\n",
    "dy = np.linspace(-1, 1, 5)\n",
    "y1 = np.sin(x)\n",
    "y2 = np.cos(x)\n",
    "state = np.random.RandomState(51423)\n",
    "data = state.rand(len(dy)-1, len(x)-1)\n",
    "titles = ('Zoom out of left', 'Zoom into left', 'Discrete jump', 'Fast jump')\n",
    "args = [\n",
    "    (np.pi, 3),  # speed up\n",
    "    (3*np.pi, 1/3),  # slow down\n",
    "    (np.pi, np.inf, 3*np.pi),  # discrete jump\n",
    "    (np.pi, 5, 3*np.pi)  # fast jump\n",
    "]\n",
    "locators = (\n",
    "    2*[np.pi/3]\n",
    "    + 2*[[*np.linspace(0, 1, 4) * np.pi, *(np.linspace(0, 1, 4) * np.pi + 3*np.pi)]]\n",
    ")\n",
    "for ax, iargs, title, locator in zip(axs, args, titles, locators):\n",
    "    ax.pcolormesh(x, dy, data, cmap='grays', cmap_kw={'right': 0.8})\n",
    "    for y, color in zip((y1, y2), ('coral', 'sky blue')):\n",
    "        ax.plot(x, y, lw=4, color=color)\n",
    "    ax.format(xscale=('cutoff', *iargs), title=title,\n",
    "              xlim=(0, 4*np.pi), ylabel='wave amplitude',\n",
    "              xformatter='pi', xlocator=locator,\n",
    "              xtickminor=False, xgrid=True, ygrid=False, suptitle='Demo of cutoff scales')"
   ]
  },
  {
   "cell_type": "code",
   "execution_count": null,
   "metadata": {},
   "outputs": [],
   "source": [
    "import proplot as plot\n",
    "import numpy as np\n",
    "plot.rc.reset()\n",
    "f, axs = plot.subplots(nrows=3, ncols=2, axwidth=1.5, share=0)\n",
    "axs.format(rowlabels=[\n",
    "    'Power\\nscales', 'Exponential\\nscales',  'Geographic\\nscales'], suptitle='Demo of esoteric axis scales')\n",
    "x = np.linspace(0, 1, 50)\n",
    "y = 10*x\n",
    "state = np.random.RandomState(51423)\n",
    "data = state.rand(len(y)-1, len(x)-1)\n",
    "# Power scales\n",
    "colors = ('coral', 'sky blue')\n",
    "for ax, power, color in zip(axs[:2], (2, 1/4), colors):\n",
    "    ax.pcolormesh(x, y, data, cmap='grays', cmap_kw={'right': 0.8})\n",
    "    ax.plot(x, y, lw=4, color=color)\n",
    "    ax.format(ylim=(0.1, 10), yscale=('power', power),\n",
    "              title=f'$x^{{{power}}}$')\n",
    "# Exp scales\n",
    "for ax, a, c, color in zip(axs[2:4], (np.e, 2), (0.5, -1), colors):\n",
    "    ax.pcolormesh(x, y, data, cmap='grays', cmap_kw={'right': 0.8})\n",
    "    ax.plot(x, y, lw=4, color=color)\n",
    "    ax.format(ylim=(0.1, 10), yscale=('exp', a, c),\n",
    "              title=f'${(a,\"e\")[a==np.e]}^{{{(c,\"-\")[c==-1]}x}}$')\n",
    "# Geographic scales\n",
    "n = 20\n",
    "x = np.linspace(-180, 180, n)\n",
    "y = np.linspace(-85, 85, n)\n",
    "y2 = np.linspace(-85, 85, n)\n",
    "data = state.rand(len(x), len(y2))\n",
    "for ax, scale, color in zip(axs[4:], ('sine', 'mercator'), ('coral', 'sky blue')):\n",
    "    ax.plot(x, y, '-', color=color, lw=4)\n",
    "    # Use 'right' to trim the colormap from 0-1 color range to 0-0.8 color range\n",
    "    ax.pcolormesh(x, y2, data, cmap='grays', cmap_kw={'right': 0.8})\n",
    "    ax.format(title=scale.title() + ' y-axis', yscale=scale,\n",
    "              ytickloc='left',\n",
    "              yformatter='deglat', grid=False, ylocator=20,\n",
    "              xscale='linear', xlim=None, ylim=(-85, 85))"
   ]
  },
  {
   "cell_type": "markdown",
   "metadata": {},
   "source": [
    "## Datetime axes"
   ]
  },
  {
   "cell_type": "raw",
   "metadata": {
    "raw_mimetype": "text/restructuredtext"
   },
   "source": [
    "Labeling datetime axes is incredibly easy with ProPlot. Pass a unit string as the locator argument, and the axis will be ticked at those units. Pass a ``(unit, interval)`` tuple to tick every ``interval`` ``unit``\\ s. Use the formatter argument for `% style formatting of datetime <https://docs.python.org/3/library/datetime.html#strftime-strptime-behavior>`__. Again, see `~proplot.axes.XYAxes.format`, `~proplot.axistools.Locator`, and `~proplot.axistools.Formatter` for details."
   ]
  },
  {
   "cell_type": "code",
   "execution_count": null,
   "metadata": {},
   "outputs": [],
   "source": [
    "import proplot as plot\n",
    "import numpy as np\n",
    "plot.rc.update(linewidth=1.2, small=10, large=12, ticklenratio=0.7)\n",
    "plot.rc.update(figurefacecolor='w', facecolor=plot.shade('C0', 2.7))\n",
    "f, axs = plot.subplots(nrows=6, axwidth=6, aspect=(8, 1), share=0)\n",
    "# Default date locator enabled if you plot datetime data or set datetime limits\n",
    "axs[0].format(xlim=(np.datetime64('2000-01-01'), np.datetime64('2001-01-02')),\n",
    "              xrotation=0)\n",
    "# Concise date formatter introduced in matplotlib 3.1\n",
    "axs[1].format(xlim=(np.datetime64('2000-01-01'), np.datetime64('2001-01-01')),\n",
    "              xformatter='concise', xrotation=0)\n",
    "# Minor ticks every year, major every 10 years\n",
    "axs[2].format(xlim=(np.datetime64('2000-01-01'), np.datetime64('2050-01-01')), xrotation=0,\n",
    "              xlocator=('year', 10), xformatter='\\'%y')\n",
    "# Minor ticks every 10 minutes, major every 2 minutes\n",
    "axs[3].format(xlim=(np.datetime64('2000-01-01T00:00:00'), np.datetime64('2000-01-01T12:00:00')), xrotation=0,\n",
    "              xlocator=('hour', range(0, 24, 2)), xminorlocator=('minute', range(0, 60, 10)), xformatter='T%H:%M:%S')\n",
    "# Month and year labels, with default tick label rotation\n",
    "axs[4].format(xlim=(np.datetime64('2000-01-01'), np.datetime64('2008-01-01')),\n",
    "              xlocator='year', xminorlocator='month', xformatter='%b %Y')  # minor ticks every month\n",
    "axs[5].format(xlim=(np.datetime64('2000-01-01'), np.datetime64('2001-01-01')),\n",
    "              xgridminor=True, xgrid=False,\n",
    "              xlocator='month', xminorlocator='weekday', xformatter='%B')  # minor ticks every Monday, major every month\n",
    "axs.format(ylocator='null',\n",
    "           suptitle='Tick locators and formatters with time axes in ProPlot')\n",
    "plot.rc.reset()"
   ]
  },
  {
   "cell_type": "markdown",
   "metadata": {},
   "source": [
    "## Dual unit axes"
   ]
  },
  {
   "cell_type": "raw",
   "metadata": {
    "raw_mimetype": "text/restructuredtext"
   },
   "source": [
    "The new `~proplot.axes.XYAxes.dualx` and `~proplot.axes.XYAxes.dualy` methods build duplicate *x* and *y* axes meant to represent *alternate units* in the same coordinate range as the \"parent\" axis. Both `~proplot.axes.XYAxes.dualx` and `~proplot.axes.XYAxes.dualy` accept either a *linear function*, a pair of arbitrary *forward and inverse* functions, or a *scale name or class*. In the latter case, the scale is passed to `~proplot.axistools.Scale` and its transforms are used for the forward and inverse functions."
   ]
  },
  {
   "cell_type": "code",
   "execution_count": null,
   "metadata": {},
   "outputs": [],
   "source": [
    "import proplot as plot\n",
    "plot.rc.update({'grid.alpha': 0.4, 'linewidth': 1, 'grid.linewidth': 1})\n",
    "f, axs = plot.subplots(ncols=2, share=0, aspect=2.2, axwidth=3)\n",
    "# Meters and kilometers\n",
    "ax = axs[0]\n",
    "c1, c2 = plot.shade('cerulean', 0.5), plot.shade('red', 0.5)\n",
    "ax.format(yformatter='null', xlabel='meters', xlocator=1000, xlim=(0, 5000),\n",
    "          xcolor=c2, ylocator=[], gridcolor=c2,\n",
    "          suptitle='Duplicate x-axes with simple, custom transformations')\n",
    "ax.dualx(lambda x: x*1e-3, label='kilometers', grid=True, color=c1)\n",
    "# Kelvin and Celsius\n",
    "ax = axs[1]\n",
    "ax.format(yformatter='null', xlabel='temperature (K)', title='', xlim=(200, 300), ylocator='null',\n",
    "          xcolor=c2, gridcolor=c2)\n",
    "ax.dualx(lambda x: x - 273.15,\n",
    "         label='temperature (\\N{DEGREE SIGN}C)', grid=True, color=c1, gridcolor=c1)\n",
    "plot.rc.reset()"
   ]
  },
  {
   "cell_type": "code",
   "execution_count": null,
   "metadata": {},
   "outputs": [],
   "source": [
    "import proplot as plot\n",
    "# Vertical scales for atmospheric scientists, assumed scale height is 7km\n",
    "plot.rc.update({'grid.alpha': 0.4, 'linewidth': 1, 'grid.linewidth': 1})\n",
    "f, axs = plot.subplots(ncols=2, share=0, aspect=0.4, axwidth=1.8)\n",
    "axs.format(suptitle='Duplicate y-axes with special transformations')\n",
    "c1, c2 = plot.shade('cerulean', 0.5), plot.shade('red', 0.5)\n",
    "ax = axs[0]\n",
    "ax.format(xformatter='null', ylabel='pressure (hPa)',\n",
    "          ylim=(1000, 10), xlocator=[], ycolor=c1, gridcolor=c1)\n",
    "ax.dualy('height', label='height (km)', ticks=2.5,\n",
    "         color=c2, gridcolor=c2, grid=True)\n",
    "ax = axs[1]  # span\n",
    "ax.format(xformatter='null', ylabel='height (km)', ylim=(0, 20), xlocator='null',\n",
    "          grid=True, gridcolor=c2, ycolor=c2)\n",
    "ax.dualy('pressure', label='pressure (hPa)', locator=100,\n",
    "         color=c1, gridcolor=c1, grid=True)\n",
    "plot.rc.reset()"
   ]
  },
  {
   "cell_type": "code",
   "execution_count": null,
   "metadata": {},
   "outputs": [],
   "source": [
    "import proplot as plot\n",
    "import numpy as np\n",
    "# Inverse scaling, useful for frequency analysis\n",
    "plot.rc['axes.ymargin'] = 0\n",
    "cutoff = 1/5\n",
    "c1, c2 = plot.shade('cerulean', 0.5), plot.shade('red', 0.5)\n",
    "x = np.linspace(0.01, 0.5, 1000)  # in wavenumber days\n",
    "response = (np.tanh(-((x - cutoff)/0.03))\n",
    "            + 1) / 2  # imgarinary response function\n",
    "f, ax = plot.subplots(aspect=(3, 1), width=6)\n",
    "ax.axvline(cutoff, lw=2, ls='-', color=c2)\n",
    "ax.fill_between([cutoff - 0.03, cutoff + 0.03], 0, 1, color=c2, alpha=0.3)\n",
    "ax.plot(x, response, color=c1, lw=2)\n",
    "ax.format(xlabel='wavenumber (days$^{-1}$)', ylabel='response', gridminor=True)\n",
    "ax = ax.dualx('inverse', locator=[\n",
    "    20, 10, 5, 2, 1, 0.5, 0.2, 0.1, 0.05], label='period (days)')\n",
    "ax.format(title='Imaginary response function',\n",
    "          suptitle='Duplicate x-axes with wavenumber and period')\n",
    "plot.rc.reset()"
   ]
  }
 ],
 "metadata": {
  "celltoolbar": "Raw Cell Format",
  "kernelspec": {
   "display_name": "Python 3",
   "language": "python",
   "name": "python3"
  },
  "language_info": {
   "codemirror_mode": {
    "name": "ipython",
    "version": 3
   },
   "file_extension": ".py",
   "mimetype": "text/x-python",
   "name": "python",
   "nbconvert_exporter": "python",
   "pygments_lexer": "ipython3",
   "version": "3.7.3"
  },
  "toc": {
   "colors": {
    "hover_highlight": "#ece260",
    "navigate_num": "#000000",
    "navigate_text": "#000000",
    "running_highlight": "#FF0000",
    "selected_highlight": "#fff968",
    "sidebar_border": "#ffffff",
    "wrapper_background": "#ffffff"
   },
   "moveMenuLeft": false,
   "nav_menu": {
    "height": "12px",
    "width": "250px"
   },
   "navigate_menu": true,
   "number_sections": true,
   "sideBar": true,
   "threshold": 4,
   "toc_cell": false,
   "toc_section_display": "block",
   "toc_window_display": true,
   "widenNotebook": false
  },
  "varInspector": {
   "cols": {
    "lenName": 16,
    "lenType": 16,
    "lenVar": 40
   },
   "kernels_config": {
    "python": {
     "delete_cmd_postfix": "",
     "delete_cmd_prefix": "del ",
     "library": "var_list.py",
     "varRefreshCmd": "print(var_dic_list())"
    },
    "r": {
     "delete_cmd_postfix": ") ",
     "delete_cmd_prefix": "rm(",
     "library": "var_list.r",
     "varRefreshCmd": "cat(var_dic_list()) "
    }
   },
   "types_to_exclude": [
    "module",
    "function",
    "builtin_function_or_method",
    "instance",
    "_Feature"
   ],
   "window_display": false
  }
 },
 "nbformat": 4,
 "nbformat_minor": 2
}
