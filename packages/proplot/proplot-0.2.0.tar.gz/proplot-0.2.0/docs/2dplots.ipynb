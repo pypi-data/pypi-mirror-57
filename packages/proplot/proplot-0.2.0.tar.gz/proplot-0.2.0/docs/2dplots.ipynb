{
 "cells": [
  {
   "cell_type": "markdown",
   "metadata": {},
   "source": [
    "# 2d plotting"
   ]
  },
  {
   "cell_type": "raw",
   "metadata": {
    "raw_mimetype": "text/restructuredtext"
   },
   "source": [
    "ProPlot adds new features to various `~matplotlib.axes.Axes` plotting methods thanks to a set of wrapper functions. These features are a strict *superset* of the existing matplotlib API -- if you want, you can use plotting commands exactly as you always have."
   ]
  },
  {
   "cell_type": "markdown",
   "metadata": {},
   "source": [
    "## Standardized input"
   ]
  },
  {
   "cell_type": "raw",
   "metadata": {
    "raw_mimetype": "text/restructuredtext"
   },
   "source": [
    "The `~proplot.wrappers.standardize_2d` wrapper is used to standardize the input of a bunch of different plotting functions. \n",
    "It allows you to optionally omit *x* and *y* coordinates, in which case they are inffered from the data array; guesses graticule edges for `~matplotlib.axes.Axes.pcolor` and `~matplotlib.axes.Axes.pcolormesh` plots; and optionally enforces global data coverage when plotting in map projections. See the documentation for details."
   ]
  },
  {
   "cell_type": "markdown",
   "metadata": {},
   "source": [
    "## Pandas and xarray integration"
   ]
  },
  {
   "cell_type": "raw",
   "metadata": {
    "raw_mimetype": "text/restructuredtext"
   },
   "source": [
    "The `~proplot.wrappers.standardize_2d` wrapper also supports integration with pandas `~pandas.DataFrame`\\ s and xarray `~xarray.DataArray`\\ s. When you pass a DataFrame or DataArray to any plotting command, the x-axis label, y-axis label, legend label, colorbar label, and/or title are configured from the metadata. This restores some of the convenience you get with the builtin `pandas <https://pandas.pydata.org>`__ and `xarray <https://pandas.pydata.org>`__ plotting functions. This feature is *optional*, and does not require that `pandas` or `xarray` is installed."
   ]
  },
  {
   "cell_type": "code",
   "execution_count": null,
   "metadata": {},
   "outputs": [],
   "source": [
    "import xarray as xr\n",
    "import numpy as np\n",
    "import pandas as pd\n",
    "import proplot as plot\n",
    "from string import ascii_lowercase\n",
    "# DataArray\n",
    "state = np.random.RandomState(51423)\n",
    "data = 50*(np.sin(np.linspace(0, 2*np.pi, 20) + 0)**2) * np.cos(np.linspace(0, np.pi, 20) + np.pi/2)[:,None]**2\n",
    "da = xr.DataArray(data, dims=('plev','lat'), coords={\n",
    "    'plev':xr.DataArray(np.linspace(1000,0,20), dims=('plev',), attrs={'long_name':'pressure', 'units':'hPa'}),\n",
    "    'lat':xr.DataArray(np.linspace(-90,90,20), dims=('lat',), attrs={'units':'degN'}), # if long_name absent, variable name is used\n",
    "    }, name='u', attrs={'long_name':'zonal wind', 'units':'m/s'})\n",
    "# DataFrame\n",
    "data = state.rand(20,20)\n",
    "df = pd.DataFrame(data.cumsum(axis=0).cumsum(axis=1), index=[*'JFMAMJJASONDJFMAMJJA'])\n",
    "df.name = 'temporal data'\n",
    "df.index.name = 'index'\n",
    "df.columns.name = 'time (days)'"
   ]
  },
  {
   "cell_type": "code",
   "execution_count": null,
   "metadata": {},
   "outputs": [],
   "source": [
    "# Figure\n",
    "f, axs = plot.subplots(nrows=2, axwidth=2.2, share=0)\n",
    "axs.format(collabels=['Automatic subplot formatting']) # suptitle will look off center with the empty left panel\n",
    "# Plot DataArray\n",
    "axs[0].contourf(da, cmap='Greens', cmap_kw={'left':0.05}, colorbar='l', linewidth=0.7, color='gray7')\n",
    "axs[0].format(yreverse=True)\n",
    "# Plot DataFrame\n",
    "axs[1].contourf(df, cmap='Blues', colorbar='r', linewidth=0.7, color='gray7')\n",
    "axs[1].format(xtickminor=False)"
   ]
  },
  {
   "cell_type": "markdown",
   "metadata": {},
   "source": [
    "## On-the-fly colormaps"
   ]
  },
  {
   "cell_type": "raw",
   "metadata": {
    "raw_mimetype": "text/restructuredtext"
   },
   "source": [
    "The `~proplot.wrappers.cmap_changer` wrapper allows you to create and apply new colormaps on-the-fly.  Just pass the `cmap` keyword argument to any supported plotting method. See :ref:`Making new colormaps` for details. This wrapper also implements the features described in :ref:`Colormap levels`, :ref:`Colormap normalizers`, and :ref:`Pcolor and contour labels` below."
   ]
  },
  {
   "cell_type": "markdown",
   "metadata": {},
   "source": [
    "## Colormap levels"
   ]
  },
  {
   "cell_type": "raw",
   "metadata": {
    "raw_mimetype": "text/restructuredtext"
   },
   "source": [
    "`~proplot.wrappers.cmap_changer` applies the `~proplot.styletools.BinNorm` \"meta normalizer\" for all plotting commands involving colormaps. `~proplot.styletools.BinNorm` applies any arbitrary continuous normalizer, e.g. `~matplotlib.colors.LogNorm`, then *discretizes* the colormap levels. This permits distinct `levels` even for commands like `~matplotlib.axes.Axes.pcolor` and `~matplotlib.axes.Axes.pcolormesh`.\n",
    "\n",
    "Distinct levels can help the reader discern numeric values and qualitative structure in the figure. Distinct levels are also critical for users that would *prefer* contours, but have complex 2D coordinate matrices that trip up the contouring algorithm."
   ]
  },
  {
   "cell_type": "code",
   "execution_count": null,
   "metadata": {},
   "outputs": [],
   "source": [
    "import proplot as plot\n",
    "import numpy as np\n",
    "f, axs = plot.subplots(ncols=2, axwidth=2)\n",
    "cmap = 'spectral'\n",
    "state = np.random.RandomState(51423)\n",
    "data = (state.normal(0, 1, size=(33,33))).cumsum(axis=0).cumsum(axis=1)\n",
    "axs.format(suptitle='Pcolor with levels demo')\n",
    "ax = axs[0]\n",
    "ax.pcolor(data, cmap=cmap, N=200, symmetric=True, colorbar='l')\n",
    "ax.format(title='Ambiguous values', yformatter='null')\n",
    "ax = axs[1]\n",
    "ax.pcolor(data, cmap=cmap, N=10, symmetric=True, colorbar='r')\n",
    "ax.format(title='Discernible levels')"
   ]
  },
  {
   "cell_type": "raw",
   "metadata": {
    "raw_mimetype": "text/restructuredtext"
   },
   "source": [
    "`~proplot.styletools.BinNorm` also standardizes your colormap end colors. It ensures the following conditions are met:\n",
    "\n",
    "#. Colormaps always span the entire color range, independent of the `extend` setting.\n",
    "#. *Cyclic* colormaps always have *distinct* color levels on either end of the colorbar.\n",
    "\n",
    "This may seem nitpicky, but it is very important when the number of color levels is small."
   ]
  },
  {
   "cell_type": "code",
   "execution_count": null,
   "metadata": {},
   "outputs": [],
   "source": [
    "import proplot as plot\n",
    "import numpy as np\n",
    "f, axs = plot.subplots([[0,0,1,1,0,0], [2,3,3,4,4,5]],\n",
    "                       wratios=(1.5,0.5,1,1,0.5,1.5), axwidth=1.7, ref=1, right='2em')\n",
    "axs.format(suptitle='Demo of colorbar color-range standardization')\n",
    "levels = plot.arange(0,360,45)\n",
    "state = np.random.RandomState(51423)\n",
    "data = (20*(state.rand(20,20) - 0.4).cumsum(axis=0).cumsum(axis=1)) % 360\n",
    "# Show cyclic colorbar with distinct end colors\n",
    "ax = axs[0]\n",
    "ax.pcolormesh(data, levels=levels, cmap='phase', extend='neither', colorbar='b')\n",
    "ax.format(title='cyclic colormap\\nwith distinct end colors')\n",
    "# Show colorbars with different extend values\n",
    "for ax,extend in zip(axs[1:], ('min','max','neither','both')):\n",
    "    ax.pcolormesh(data[:,:10], levels=levels, cmap='oxy', extend=extend, colorbar='b', colorbar_kw={'locator':90})\n",
    "    ax.format(title=f'extend={extend!r}')"
   ]
  },
  {
   "cell_type": "markdown",
   "metadata": {},
   "source": [
    "##  Colormap normalizers"
   ]
  },
  {
   "cell_type": "raw",
   "metadata": {
    "raw_mimetype": "text/restructuredtext"
   },
   "source": [
    "If you pass unevenly spaced `levels`, the `~proplot.styletools.LinearSegmentedNorm` normalizer is applied by default. This results in even color gradations across *indices* of the level list, no matter their spacing. To use an arbitrary colormap normalizer, just pass `norm` and optionally `norm_kw` to a command wrapped by `~proplot.wrappers.cmap_changer`. These arguments are passed to the `~proplot.styletools.Norm` constructor."
   ]
  },
  {
   "cell_type": "code",
   "execution_count": null,
   "metadata": {},
   "outputs": [],
   "source": [
    "import proplot as plot\n",
    "import numpy as np\n",
    "f, axs = plot.subplots(ncols=2, axwidth=2.5, aspect=1.5)\n",
    "state = np.random.RandomState(51423)\n",
    "data = 10**(2*state.rand(20,20).cumsum(axis=0)/7)\n",
    "ticks = [5, 10, 20, 50, 100, 200, 500, 1000]\n",
    "for i,(norm,title) in enumerate(zip(('linear','segments'),('Linear normalizer','LinearSegmentedNorm'))):\n",
    "    m = axs[i].contourf(data, levels=ticks, extend='both', cmap='Mako', norm=norm, colorbar='b')\n",
    "    axs[i].format(title=title)\n",
    "axs.format(suptitle='Level normalizers demo')"
   ]
  },
  {
   "cell_type": "raw",
   "metadata": {
    "raw_mimetype": "text/restructuredtext"
   },
   "source": [
    "Finally, there is a new `~proplot.styletools.MidpointNorm` class that warps your colormap so that its midpoint lies on some central data value, no matter the minimum and maximum colormap colors. Again, to use an arbitrary colormap normalizer, just pass `norm` and optionally `norm_kw` to a command wrapped by `~proplot.wrappers.cmap_changer`. These arguments are passed to the `~proplot.styletools.Norm` constructor."
   ]
  },
  {
   "cell_type": "code",
   "execution_count": null,
   "metadata": {},
   "outputs": [],
   "source": [
    "import proplot as plot\n",
    "import numpy as np\n",
    "state = np.random.RandomState(51423)\n",
    "data1 = (state.rand(20,20) - 0.43).cumsum(axis=0)\n",
    "data2 = (state.rand(20,20) - 0.57).cumsum(axis=0)\n",
    "f, axs = plot.subplots(ncols=2, axwidth=2.5, aspect=1.5)\n",
    "cmap = plot.Colormap('Moisture', cut=0.1)\n",
    "axs.format(suptitle='Midpoint normalizer demo')\n",
    "axs[0].contourf(data1, norm='midpoint', cmap=cmap, colorbar='b')\n",
    "axs[0].format(title='Skewed positive data')\n",
    "axs[1].contourf(data2, norm='midpoint', cmap=cmap, colorbar='b')\n",
    "axs[1].format(title='Skewed negative data')"
   ]
  },
  {
   "cell_type": "markdown",
   "metadata": {},
   "source": [
    "## Pcolor and contour labels"
   ]
  },
  {
   "cell_type": "raw",
   "metadata": {
    "raw_mimetype": "text/restructuredtext"
   },
   "source": [
    "Thanks to `~proplot.wrappers.cmap_changer`, you can now add labels to `~proplot.axes.Axes.heatmap`, `~matplotlib.axes.Axes.pcolor`, `~matplotlib.axes.Axes.pcolormesh`, `~matplotlib.axes.Axes.contour`, and `~matplotlib.axes.Axes.contourf` plots by simply passing ``labels=True``. ProPlot draws contour labels with `~matplotlib.axes.Axes.clabel` or grid box labels with `~matplotlib.axes.Axes.text`. Label colors are automatically chosen based on the luminance of the underlying box or contour color. The label text objects can be changed with the `labels_kw` dictionary keyword arg and the `precision` keyword arg. See `~proplot.wrappers.cmap_changer` for details."
   ]
  },
  {
   "cell_type": "code",
   "execution_count": null,
   "metadata": {},
   "outputs": [],
   "source": [
    "import proplot as plot\n",
    "import pandas as pd\n",
    "import numpy as np\n",
    "# Heatmap with labels\n",
    "f, axs = plot.subplots([[1,1,2,2],[0,3,3,0]], axwidth=2, share=1, span=False, hratios=(1,0.9))\n",
    "state = np.random.RandomState(51423)\n",
    "data = state.rand(6,6)\n",
    "data = pd.DataFrame(data, index=pd.Index(['a','b','c','d','e','f']))\n",
    "axs.format(xlabel='xlabel', ylabel='ylabel', suptitle='Labels demo')\n",
    "ax = axs[0]\n",
    "m = ax.heatmap(data, cmap='rocket', labels=True, precision=2, labels_kw={'weight':'bold'})\n",
    "ax.format(title='Heatmap plot with labels')\n",
    "# Filled contours with labels\n",
    "ax = axs[1]\n",
    "m = ax.contourf(data.cumsum(axis=0), labels=True, cmap='rocket', labels_kw={'weight':'bold'})\n",
    "ax.format(title='Filled contour plot with labels')\n",
    "# Simple contour plot\n",
    "ax = axs[2]\n",
    "ax.contour(data.cumsum(axis=1) - 2, color='gray8', labels=True, lw=2, labels_kw={'weight':'bold'})\n",
    "ax.format(title='Contour plot with labels')"
   ]
  },
  {
   "cell_type": "markdown",
   "metadata": {},
   "source": [
    "## Heatmaps and covariance matrices"
   ]
  },
  {
   "cell_type": "raw",
   "metadata": {
    "raw_mimetype": "text/restructuredtext"
   },
   "source": [
    "The new `~proplot.axes.Axes.heatmap` command calls `~matplotlib.axes.Axes.pcolormesh` and applies default formatting that is suitable for heatmaps -- that is, no gridlines, no minor ticks, and major ticks at the center of each box. Among other things, this is useful for displaying covariance matrices. See the below example."
   ]
  },
  {
   "cell_type": "code",
   "execution_count": null,
   "metadata": {},
   "outputs": [],
   "source": [
    "import proplot as plot\n",
    "import numpy as np\n",
    "import pandas as pd\n",
    "f, ax = plot.subplots(axwidth=4)\n",
    "state = np.random.RandomState(51423)\n",
    "data = state.normal(size=(10,10)).cumsum(axis=0)\n",
    "data = (data - data.mean(axis=0)) / data.std(axis=0)\n",
    "data = (data.T @ data) / data.shape[0]\n",
    "data[np.tril_indices(data.shape[0], -1)] = np.nan # fill half with empty boxes\n",
    "data = pd.DataFrame(data, columns=list('abcdefghij'), index=list('abcdefghij'))\n",
    "m = ax.heatmap(data, cmap='ColdHot', vmin=-1, vmax=1, N=100,\n",
    "               lw=0.5, edgecolor='k', labels=True, labels_kw={'weight':'bold'},\n",
    "               clip_on=False) # turn off clipping so box edges on spines are not cut in half\n",
    "ax.format(suptitle='Heatmap demo', title='Pseudo covariance matrix', alpha=0, linewidth=0,\n",
    "          xloc='top', yloc='right', yreverse=True, ticklabelweight='bold')"
   ]
  }
 ],
 "metadata": {
  "celltoolbar": "Raw Cell Format",
  "kernelspec": {
   "display_name": "Python 3",
   "language": "python",
   "name": "python3"
  },
  "language_info": {
   "codemirror_mode": {
    "name": "ipython",
    "version": 3
   },
   "file_extension": ".py",
   "mimetype": "text/x-python",
   "name": "python",
   "nbconvert_exporter": "python",
   "pygments_lexer": "ipython3",
   "version": "3.7.3"
  },
  "toc": {
   "colors": {
    "hover_highlight": "#ece260",
    "navigate_num": "#000000",
    "navigate_text": "#000000",
    "running_highlight": "#FF0000",
    "selected_highlight": "#fff968",
    "sidebar_border": "#ffffff",
    "wrapper_background": "#ffffff"
   },
   "moveMenuLeft": false,
   "nav_menu": {
    "height": "156px",
    "width": "252px"
   },
   "navigate_menu": true,
   "number_sections": true,
   "sideBar": true,
   "threshold": 4,
   "toc_cell": false,
   "toc_section_display": "block",
   "toc_window_display": true,
   "widenNotebook": false
  },
  "varInspector": {
   "cols": {
    "lenName": 16,
    "lenType": 16,
    "lenVar": 40
   },
   "kernels_config": {
    "python": {
     "delete_cmd_postfix": "",
     "delete_cmd_prefix": "del ",
     "library": "var_list.py",
     "varRefreshCmd": "print(var_dic_list())"
    },
    "r": {
     "delete_cmd_postfix": ") ",
     "delete_cmd_prefix": "rm(",
     "library": "var_list.r",
     "varRefreshCmd": "cat(var_dic_list()) "
    }
   },
   "types_to_exclude": [
    "module",
    "function",
    "builtin_function_or_method",
    "instance",
    "_Feature"
   ],
   "window_display": false
  }
 },
 "nbformat": 4,
 "nbformat_minor": 2
}
