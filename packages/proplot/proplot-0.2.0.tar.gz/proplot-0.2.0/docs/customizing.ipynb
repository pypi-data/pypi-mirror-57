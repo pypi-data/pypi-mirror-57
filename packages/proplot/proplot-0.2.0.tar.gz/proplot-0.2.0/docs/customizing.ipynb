{
 "cells": [
  {
   "cell_type": "markdown",
   "metadata": {},
   "source": [
    "# Customizing figures"
   ]
  },
  {
   "cell_type": "markdown",
   "metadata": {},
   "source": [
    "## The format command"
   ]
  },
  {
   "cell_type": "raw",
   "metadata": {
    "raw_mimetype": "text/restructuredtext"
   },
   "source": [
    "The `~matplotlib.axes.Axes` returned by `~proplot.subplots.subplots` have a new ``format`` method. This is your one-stop-shop for changing axes settings. Keyword args passed to ``format`` are interpreted as follows.\n",
    "\n",
    "1. Any keyword arg matching the name of an `~proplot.rctools.rc` setting will be applied to the axes using `~proplot.rctools.rc_configurator.context`. If the name has \"dots\", simply omit them. See :ref:`Configuring proplot` for details.\n",
    "2. Remaining keyword args are passed to the class-specific `~proplot.axes.XYAxes` `~proplot.axes.XYAxes.format`, `~proplot.axes.ProjAxes` `~proplot.axes.ProjAxes.format`, or `~proplot.axes.PolarAxes` `~proplot.axes.PolarAxes.format` methods.\n",
    "3. Still remaining keyword args are passed to the `~proplot.axes.Axes` `~proplot.axes.Axes.format` method. `~proplot.axes.Axes` is the base class for all other axes classes. This changes axes titles, a-b-c subplot labeling, and figure titles.\n",
    "\n",
    "`format` allows you to use simple shorthands for changing all kinds of axes settings at once, instead of the verbose, one-liner setter methods like ``ax.set_title()``, ``ax.set_xlabel()``, and ``ax.xaxis.tick_params()``. It is also integrated with the `~proplot.axistools.Locator`, `~proplot.axistools.Formatter`, and `~proplot.axistools.Scale` constructors, so you don't have to directly invoke verbose abstract classes. The goal here is to reduce the amount of boilerplate code needed for drawing highly customized plots."
   ]
  },
  {
   "cell_type": "code",
   "execution_count": null,
   "metadata": {},
   "outputs": [],
   "source": [
    "import proplot as plot\n",
    "f, axs = plot.subplots(ncols=2, nrows=2, share=0, tight=True, axwidth=1.7)\n",
    "axs.format(xlabel='x-axis', ylabel='y-axis', xlim=(1,10), xlocator=1, xscale='log',\n",
    "          ylim=(0,4), ylocator=plot.arange(0,4), yticklabels=('a', 'bb', 'c', 'dd', 'e'),\n",
    "          title='Main', ltitle='Left', rtitle='Right', # different titles\n",
    "          titleloc='c', suptitle='Format command demo',\n",
    "          abc=True, abcloc='ul', abcstyle='a.', xtickdir='inout',\n",
    "          urtitle='Title A', lltitle='Title B', lrtitle='Title C', # extra titles\n",
    "          ytickloc='both', yticklabelloc='both', ygridminor=True, xtickminor=False,\n",
    "          collabels=['Column label 1', 'Column label 2'], rowlabels=['Row label 1', 'Row label 2'])"
   ]
  },
  {
   "cell_type": "markdown",
   "metadata": {},
   "source": [
    "## The rc configurator\n",
    "\n"
   ]
  },
  {
   "cell_type": "raw",
   "metadata": {
    "raw_mimetype": "text/restructuredtext"
   },
   "source": [
    "A special object named `~proplot.rctools.rc` is created whenever you import ProPlot. This is your one-stop shop for changing default settings. `~proplot.rctools.rc` can be used to change matplotlib `rcParams <https://matplotlib.org/users/customizing.html>`__ settings, custom ProPlot :ref:`rcParamsLong` settings, and special :ref:`rcParamsShort` meta-settings. See :ref:`Configuring proplot` for details.\n",
    "\n",
    "To modify a setting for just one subplot, pass it to the `~proplot.axes.Axes.format` command. To reset everything to the default state, use `~proplot.rctools.rc_configurator.reset`. To temporarily modify global settings for a block of code, use `~proplot.rctools.rc_configurator.context`."
   ]
  },
  {
   "cell_type": "code",
   "execution_count": null,
   "metadata": {},
   "outputs": [],
   "source": [
    "import proplot as plot\n",
    "import numpy as np\n",
    "# Update global settings in several different ways\n",
    "plot.rc.cycle = 'colorblind'\n",
    "plot.rc.update({'fontname': 'DejaVu Sans'})\n",
    "plot.rc['figure.facecolor'] = 'gray3'\n",
    "plot.rc['axes.facecolor'] = 'gray5'\n",
    "# Context setting applied to figure only\n",
    "with plot.rc.context(linewidth=1.5): # above mods are persistent, context mod only applies to figure\n",
    "    f, axs = plot.subplots(ncols=2, aspect=1, width=6, span=False, sharey=2)\n",
    "# Plot stuff\n",
    "N, M = 100, 6\n",
    "state = np.random.RandomState(51423)\n",
    "values = np.arange(1,M+1)\n",
    "cycle = plot.Cycle('C0', 'C1', M, fade=80) # cycle from two concatenated monochromatic colormaps\n",
    "for i,ax in enumerate(axs):\n",
    "    data = np.cumsum(state.rand(N,M)-0.5, axis=0)\n",
    "    lines = ax.plot(data, linewidth=3, cycle=cycle)\n",
    "axs.format(ytickloc='both', ycolor='blue7', \n",
    "           xlabel='x label', ylabel='y label',\n",
    "           yticklabelloc='both',\n",
    "           suptitle='Applying new rc settings',\n",
    "           patch_kw={'hatch':'xxx', 'edgecolor':'w'})\n",
    "ay = axs[-1].twinx()\n",
    "ay.format(ycolor='r', linewidth=1.5, ylabel='secondary axis')\n",
    "ay.plot((state.rand(100)-0.2).cumsum(), color='r', lw=3)\n",
    "plot.rc.reset() # reset persistent mods made at head of cell"
   ]
  },
  {
   "cell_type": "markdown",
   "metadata": {},
   "source": [
    "## Axis sharing and spanning"
   ]
  },
  {
   "cell_type": "raw",
   "metadata": {
    "raw_mimetype": "text/restructuredtext"
   },
   "source": [
    "Matplotlib has an \"axis sharing\" feature that holds axis limits the same for axes within a grid of subplots. But this has no effect on the axis labels and tick labels, which can lead to lots of redundant labels.\n",
    "\n",
    "To help you eliminate these redundancies, ProPlot introduces *4 axis-sharing options* and a new *spanning label option*, controlled by the `share`, `sharex`, `sharey`, `span`, `spanx`, and `spany` keyword args. See `~proplot.subplots.subplots` and the below example for details."
   ]
  },
  {
   "cell_type": "code",
   "execution_count": null,
   "metadata": {},
   "outputs": [],
   "source": [
    "import proplot as plot\n",
    "import numpy as np\n",
    "N = 50\n",
    "M = 40\n",
    "state = np.random.RandomState(51423)\n",
    "colors = plot.colors('grays_r', M, left=0.1, right=0.8)\n",
    "for share in (0,1,2,3):\n",
    "    f, axs = plot.subplots(ncols=4, aspect=1, axwidth=1.2, sharey=share, spanx=share//2)\n",
    "    gen = lambda scale: scale*(state.rand(N,M)-0.5).cumsum(axis=0)[N//2:,:]\n",
    "    for ax,scale,color in zip(axs,(1,3,7,0.2),('gray9','gray7','gray5','gray3')):\n",
    "        array = gen(scale)\n",
    "        for l in range(array.shape[1]):\n",
    "            ax.plot(array[:,l], color=colors[l])\n",
    "        ax.format(suptitle=f'Axis-sharing level: {share}, spanning labels {[\"off\",\"on\"][share//2]}', ylabel='y-label', xlabel='x-axis label')"
   ]
  },
  {
   "cell_type": "code",
   "execution_count": null,
   "metadata": {},
   "outputs": [],
   "source": [
    "import proplot as plot\n",
    "import numpy as np\n",
    "plot.rc.reset()\n",
    "plot.rc.cycle = 'Set3'\n",
    "state = np.random.RandomState(51423)\n",
    "titles = ['With redundant labels', 'Without redundant labels']\n",
    "for mode in (0,1):\n",
    "    f, axs = plot.subplots(nrows=4, ncols=4, share=3*mode, span=1*mode, axwidth=1)\n",
    "    for ax in axs:\n",
    "        ax.plot((state.rand(100,20)-0.4).cumsum(axis=0))\n",
    "    axs.format(xlabel='x-label', ylabel='y-label', suptitle=titles[mode], abc=mode, abcloc='ul')"
   ]
  }
 ],
 "metadata": {
  "celltoolbar": "Raw Cell Format",
  "kernelspec": {
   "display_name": "Python 3",
   "language": "python",
   "name": "python3"
  },
  "language_info": {
   "codemirror_mode": {
    "name": "ipython",
    "version": 3
   },
   "file_extension": ".py",
   "mimetype": "text/x-python",
   "name": "python",
   "nbconvert_exporter": "python",
   "pygments_lexer": "ipython3",
   "version": "3.7.3"
  },
  "toc": {
   "colors": {
    "hover_highlight": "#ece260",
    "navigate_num": "#000000",
    "navigate_text": "#000000",
    "running_highlight": "#FF0000",
    "selected_highlight": "#fff968",
    "sidebar_border": "#ffffff",
    "wrapper_background": "#ffffff"
   },
   "moveMenuLeft": false,
   "nav_menu": {
    "height": "12px",
    "width": "250px"
   },
   "navigate_menu": true,
   "number_sections": true,
   "sideBar": true,
   "threshold": 4,
   "toc_cell": false,
   "toc_section_display": "block",
   "toc_window_display": true,
   "widenNotebook": false
  },
  "varInspector": {
   "cols": {
    "lenName": 16,
    "lenType": 16,
    "lenVar": 40
   },
   "kernels_config": {
    "python": {
     "delete_cmd_postfix": "",
     "delete_cmd_prefix": "del ",
     "library": "var_list.py",
     "varRefreshCmd": "print(var_dic_list())"
    },
    "r": {
     "delete_cmd_postfix": ") ",
     "delete_cmd_prefix": "rm(",
     "library": "var_list.r",
     "varRefreshCmd": "cat(var_dic_list()) "
    }
   },
   "types_to_exclude": [
    "module",
    "function",
    "builtin_function_or_method",
    "instance",
    "_Feature"
   ],
   "window_display": false
  }
 },
 "nbformat": 4,
 "nbformat_minor": 2
}
