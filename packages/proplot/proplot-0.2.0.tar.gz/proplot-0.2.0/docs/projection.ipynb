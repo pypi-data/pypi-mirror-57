{
 "cells": [
  {
   "cell_type": "markdown",
   "metadata": {},
   "source": [
    "# Geographic and polar plots"
   ]
  },
  {
   "cell_type": "raw",
   "metadata": {
    "raw_mimetype": "text/restructuredtext"
   },
   "source": [
    "ProPlot includes seamless integration with matplotlib `polar axes <https://matplotlib.org/3.1.0/gallery/pie_and_polar_charts/polar_demo.html>`__ and the `cartopy <https://scitools.org.uk/cartopy/docs/latest/>`__ and `basemap <https://matplotlib.org/basemap/index.html>`__ packages. Note that this feature is optional, and does not require that cartopy or basemap are installed.\n",
    "\n",
    "To change the axes projection, pass ``proj='name'`` to `~proplot.subplots.subplots`. To use different projections for different subplots, pass a dictionary of projection names with the subplot number as the key -- for example, ``proj={1:'name'}``. The default \"projection\" is always `~proplot.axes.XYAxes`. \n"
   ]
  },
  {
   "cell_type": "markdown",
   "metadata": {},
   "source": [
    "## Polar projections"
   ]
  },
  {
   "cell_type": "raw",
   "metadata": {
    "raw_mimetype": "text/restructuredtext"
   },
   "source": [
    "To draw polar axes, pass ``proj='polar'`` or e.g. ``proj={1:'polar'}`` to `~proplot.subplots.subplots`. This generates a `~proplot.axes.PolarAxes` instance. Its `~proplot.axes.PolarAxes.format` command permits polar-specific modifications like changing the central radius, the zero azimuth location, the radial and azimuthal limits, and the positive azimuthal direction. A demonstration is below."
   ]
  },
  {
   "cell_type": "code",
   "execution_count": null,
   "metadata": {},
   "outputs": [],
   "source": [
    "import proplot as plot\n",
    "import numpy as np\n",
    "f, axs = plot.subplots([[1,1,2,2],[0,3,3,0]], proj='polar')\n",
    "state = np.random.RandomState(51423)\n",
    "N = 200\n",
    "x = np.linspace(0, 2*np.pi, N)\n",
    "y = 100*(state.rand(N,5)-0.3).cumsum(axis=0)/N\n",
    "for i in range(5):\n",
    "    axs.plot(x + i*2*np.pi/5, y[:,i], cycle='contrast', zorder=0, lw=3)\n",
    "axs.format(suptitle='Polar axes demo', linewidth=1, ticklabelsize=9, rlines=0.5, rlim=(0,19))\n",
    "axs[0].format(title='Normal plot', thetaformatter='pi', rlines=5, gridalpha=1, gridlinestyle=':',\n",
    "              rlabelpos=180, color='gray8', ticklabelweight='bold')\n",
    "axs[1].format(title='Sector plot', thetadir=-1, thetalines=90, thetalim=(0,270), theta0='N',\n",
    "              rlim=(0,22), rlines=5)\n",
    "axs[2].format(title='Annular plot', thetadir=-1, thetalines=10,\n",
    "              r0=0, rlim=(10,22), rformatter='null', rlocator=2)\n",
    "axs.format(titlepad='1.5em') # matplotlib default title offset is incorrect"
   ]
  },
  {
   "cell_type": "markdown",
   "metadata": {},
   "source": [
    "## Geographic projections"
   ]
  },
  {
   "cell_type": "raw",
   "metadata": {
    "raw_mimetype": "text/restructuredtext"
   },
   "source": [
    "To specify a geographic projection, pass ``proj='name'`` or e.g. ``proj={1:'name'}`` to  `~proplot.subplots.subplots` where ``'name'`` is any valid PROJ.4 projection name listed in the `~proplot.projs.Proj` table. This generates a `~proplot.axes.GeoAxes` or `~proplot.axes.BasemapAxes`, depending on whether you passed ``basemap=True`` to `~proplot.subplots.subplots`. These axes are designed as follows.\n",
    "\n",
    "* `~proplot.axes.GeoAxes` joins the cartopy `~cartopy.mpl.geoaxes.GeoAxes` class with the ProPlot `~matplotlib.axes.Axes` class, and adds a `~proplot.axes.ProjAxes.format` command. It includes all the methods you normally get with cartopy, like `~cartopy.mpl.geoaxes.GeoAxes.set_extent`.\n",
    "* `~proplot.axes.BasemapAxes` redirects the plot, scatter, contour, contourf, pcolor, pcolormesh, quiver, streamplot, and barb methods to identically named methods on the `~mpl_toolkits.basemap.Basemap` instance, and provides access to `~mpl_toolkits.basemap.Basemap` geographic plotting commands like `~mpl_toolkits.basemap.Basemap.fillcontinents` via the `~proplot.axes.ProjAxes.format` command.\n",
    "\n",
    "So, with ProPlot, you no longer have to invoke verbose cartopy `~cartopy.crs.CRS` classes like `~cartopy.crs.LambertAzimuthalEqualArea`, or mess about with a separate `~mpl_toolkits.basemap.Basemap` instance.\n",
    "\n",
    "To pass keyword args to `~mpl_toolkits.basemap.Basemap` and `cartopy.crs.Projection` classes, use the `proj_kw` dictionary. ProPlot lets you supply native PROJ.4 keyword names to the `cartopy.crs.Projection` classes, e.g. `lon_0` instead of `central_longitude`. This makes things a bit less verbose. ProPlot also lets you draw `~mpl_toolkits.basemap.Basemap` projections without having to always specify the projection settings by applying sensible defaults."
   ]
  },
  {
   "cell_type": "code",
   "execution_count": null,
   "metadata": {},
   "outputs": [],
   "source": [
    "import proplot as plot\n",
    "plot.rc.coastlinewidth = plot.rc.linewidth = 0.8\n",
    "f, axs = plot.subplots(ncols=2, axwidth=2.5, proj='robin', proj_kw={'lon_0':180})\n",
    "axs.format(suptitle='Simple projection axes demo', coast=True, latlines=30, lonlines=60)"
   ]
  },
  {
   "cell_type": "code",
   "execution_count": null,
   "metadata": {},
   "outputs": [],
   "source": [
    "import proplot as plot\n",
    "f, axs = plot.subplots(hratios=(1.5,1,1,1,1),\n",
    "    basemap={(1,3,5,7,9):False, (2,4,6,8,10):True},\n",
    "    proj={(1,2):'mill', (3,4):'cyl', (5,6):'moll', (7,8):'sinu', (9,10):'npstere'},\n",
    "    ncols=2, nrows=5) #, proj_kw={'lon_0':0})\n",
    "axs.format(suptitle='Complex projection axes demo')\n",
    "axs.format(coast=True, latlines=30, lonlines=60)\n",
    "axs[:,1].format(labels=True, lonlines=plot.arange(-180,179,60))\n",
    "axs.format(collabels=['Cartopy examples', 'Basemap examples'])"
   ]
  },
  {
   "cell_type": "markdown",
   "metadata": {},
   "source": [
    "## Included projections"
   ]
  },
  {
   "cell_type": "raw",
   "metadata": {
    "raw_mimetype": "text/restructuredtext"
   },
   "source": [
    "The available `cartopy <https://scitools.org.uk/cartopy/docs/latest/>`__ projections are plotted below. See the `~proplot.projs.Proj` documentation for details. ProPlot adds to cartopy the previously unavailable Aitoff, Hammer, Winkel Tripel, and Kavrisky VII projections (i.e. ``'aitoff'``, ``'hammer'``, ``'wintri'``, and ``'kav7'``), as well as North Polar and South Polar versions of the Azimuthal Equidistant, Lambert Azimuthal Equal-Area, and Gnomic projections (i.e. ``'npaeqd'``, ``'spaeqd'``, ``'nplaea'``, ``'splaea'``, ``'npgnom'``, and ``'spgnom'``), adding to the existing `~cartopy.crs.SouthPolarStereo` and `~cartopy.crs.NorthPolarStereo` projections."
   ]
  },
  {
   "cell_type": "raw",
   "metadata": {
    "raw_mimetype": "text/restructuredtext"
   },
   "source": [
    "The available `basemap <https://matplotlib.org/basemap/index.html>`__ projections are plotted below. See the `~proplot.projs.Proj` documentation for details. Basemap projection bounds are usually rectangles, while cartopy bounds are more flexible. Basemap used to have many more projections than cartopy, but the ProPlot additions to cartopy have made the matchup more even."
   ]
  },
  {
   "cell_type": "code",
   "execution_count": null,
   "metadata": {},
   "outputs": [],
   "source": [
    "import proplot as plot\n",
    "import numpy as np\n",
    "projs = ['cyl', 'merc', 'mill', 'lcyl', 'tmerc',\n",
    "         'robin', 'hammer', 'moll', 'kav7', 'aitoff', 'wintri', 'sinu',\n",
    "         'geos', 'ortho', 'nsper', 'aea', 'eqdc', 'lcc', 'gnom',\n",
    "         'npstere', 'nplaea', 'npaeqd', 'npgnom', 'igh',\n",
    "         'eck1', 'eck2', 'eck3', 'eck4', 'eck5', 'eck6']\n",
    "f, axs = plot.subplots(ncols=3, nrows=10, proj=projs)\n",
    "axs.format(land=True, reso='lo', labels=False, suptitle='Table of cartopy projections')\n",
    "for proj,ax in zip(projs,axs):\n",
    "    ax.format(title=proj, titleweight='bold', labels=False)"
   ]
  },
  {
   "cell_type": "code",
   "execution_count": null,
   "metadata": {},
   "outputs": [],
   "source": [
    "import proplot as plot\n",
    "import numpy as np\n",
    "projs = ['cyl', 'merc', 'mill', 'cea', 'gall', 'sinu',\n",
    "         'eck4', 'robin', 'moll', 'kav7', 'hammer', 'mbtfpq',\n",
    "         'geos', 'ortho', 'nsper',\n",
    "         'vandg', 'aea', 'eqdc', 'gnom', 'cass', 'lcc',\n",
    "         'npstere', 'npaeqd', 'nplaea']\n",
    "f, axs = plot.subplots(ncols=3, nrows=8, basemap=True, proj=projs)\n",
    "axs.format(land=True, labels=False, suptitle='Table of basemap projections')\n",
    "for proj,ax in zip(projs,axs):\n",
    "    ax.format(title=proj, titleweight='bold', labels=False)"
   ]
  },
  {
   "cell_type": "markdown",
   "metadata": {},
   "source": [
    "## Zooming into projections"
   ]
  },
  {
   "cell_type": "raw",
   "metadata": {
    "raw_mimetype": "text/restructuredtext"
   },
   "source": [
    "To zoom into cartopy projections, you can use `~cartopy.mpl.geoaxes.GeoAxes.set_extent`, or alternatively pass `lonlim`, `latlim`, or `boundinglat` to `~proplot.axes.ProjAxes.format`. Note that ProPlot always draws a *circular boundary* around North Polar and South Polar Stereographic, Azimuthal Equidistant, Lambert Azimuthal Equal-Area, and Gnomic projections, no matter the \"zoom\" setting (implemented as with `this example <https://scitools.org.uk/cartopy/docs/latest/gallery/always_circular_stereo.html>`__).\n",
    "\n",
    "For basemap projections, you must set the limits when declaring the projection by passing `proj_kw` to `~proplot.subplots.subplots` with any of the `boundinglat`, `llcrnrlon`, `llcrnrlat`, `urcrnrlon`, `urcrnrlat`, `llcrnrx`, `llcrnry`, `urcrnrx`, `urcrnry`, `width`, and/or `height` keyword args."
   ]
  },
  {
   "cell_type": "code",
   "execution_count": null,
   "metadata": {},
   "outputs": [],
   "source": [
    "import proplot as plot\n",
    "f, axs = plot.subplots(nrows=2, axwidth=4.5,\n",
    "           proj='pcarree', basemap={1:False, 2:True},\n",
    "           proj_kw={2:{'llcrnrlon':-20, 'llcrnrlat':-10, 'urcrnrlon':180, 'urcrnrlat':50}})\n",
    "# Ordinary projection\n",
    "axs.format(land=True, labels=True, lonlines=20, latlines=20, suptitle='Zooming into projections')\n",
    "axs[0].format(lonlim=(-140,60), latlim=(-10,50), labels=True, title='Cartopy example')\n",
    "axs[1].format(title='Basemap example')\n",
    "# Polar projection\n",
    "f, axs = plot.subplots(ncols=2, axwidth=2.2,\n",
    "           proj={1:'splaea', 2:'npaeqd'}, basemap={1:False,2:True},\n",
    "           proj_kw={2:{'boundinglat':60}})\n",
    "axs.format(land=True, latlines=10, latmax=80, suptitle='Zooming into polar projections')\n",
    "axs[0].format(boundinglat=-60, title='Cartopy example')\n",
    "axs[1].format(title='Basemap example')\n",
    "# Example from basemap website\n",
    "f, axs = plot.subplots(ncols=2, axwidth=2, proj='lcc', basemap={1:False,2:True},\n",
    "             proj_kw={1:{'lon_0':0}, 2:{'lon_0':-100, 'lat_0':45, 'width':8e6, 'height':8e6}})\n",
    "axs.format(suptitle='Zooming into specific regions', land=True)\n",
    "axs[0].format(title='Cartopy example', land=True, lonlim=(-20,50), latlim=(30,70))\n",
    "axs[1].format(title='Basemap example', land=True)"
   ]
  },
  {
   "cell_type": "markdown",
   "metadata": {},
   "source": [
    "## Plotting geophysical data"
   ]
  },
  {
   "cell_type": "raw",
   "metadata": {
    "raw_mimetype": "text/restructuredtext"
   },
   "source": [
    "The below demonstrates how to plot geophysical data with ProPlot. For `~proplot.axes.GeoAxes` plotting methods, ``transform=crs.PlateCarree()`` is now the default behavior. For `~proplot.axes.BasemapAxes` plotting methods, ``latlon=True`` is now the default behavior, and methods are called on the *axes* instead of the `~mpl_toolkits.basemap.Basemap` instance. For both basemap and cartopy projections, you can also pass ``globe=True`` to 2D plotting commands to ensure global data coverage.\n",
    "\n",
    "These features are powered by the `~proplot.wrappers.standardize_2d`, `~proplot.wrappers.default_transform`, and `~proplot.wrappers.default_latlon` wrappers."
   ]
  },
  {
   "cell_type": "code",
   "execution_count": null,
   "metadata": {},
   "outputs": [],
   "source": [
    "import proplot as plot\n",
    "import numpy as np\n",
    "offset = -40\n",
    "x = plot.arange(offset, 360 + offset-1, 60)\n",
    "y = plot.arange(-60,60+1,30)\n",
    "state = np.random.RandomState(51423)\n",
    "data = np.random.rand(len(y), len(x))\n",
    "titles = ('Geophysical data demo', 'Global coverage demo')\n",
    "for globe in (False,True,):\n",
    "    f, axs = plot.subplots(ncols=2, nrows=2, axwidth=2.5,\n",
    "        proj='kav7', basemap={(1,3):False, (2,4):True})\n",
    "    for i,ax in enumerate(axs):\n",
    "        cmap = ('sunset', 'sunrise')[i % 2]\n",
    "        if i < 2:\n",
    "            m = ax.contourf(x, y, data, cmap=cmap, globe=globe, extend='both')\n",
    "            f.colorbar(m, loc='b', span=i+1, label='values', tickminor=False, extendsize='1.7em')\n",
    "        else:\n",
    "            ax.pcolor(x, y, data, cmap=cmap, globe=globe, extend='both')\n",
    "        if globe:\n",
    "            continue\n",
    "        ix = offset + np.linspace(0, 360, 20)\n",
    "        for cmd in (np.sin,np.cos):\n",
    "            iy = cmd(ix*np.pi/180)*60\n",
    "            ax.plot(ix, iy, color='k', lw=0, marker='o')\n",
    "    axs.format(suptitle=titles[globe],\n",
    "               collabels=['Cartopy example', 'Basemap example'],\n",
    "               rowlabels=['Contourf', 'Pcolor'], latlabels='r', lonlabels='b', lonlines=90,\n",
    "               abc=True, abcstyle='a)', abcloc='ul', abcborder=False)"
   ]
  },
  {
   "cell_type": "markdown",
   "metadata": {},
   "source": [
    "## Customizing projections"
   ]
  },
  {
   "cell_type": "raw",
   "metadata": {
    "raw_mimetype": "text/restructuredtext"
   },
   "source": [
    "`~proplot.axes.GeoAxes` and `~proplot.axes.BasemapAxes` both derive from `~proplot.axes.ProjAxes`, which provides a `~proplot.axes.ProjAxes.format` method. `~proplot.axes.ProjAxes.format` can be used to draw gridlines, add gridline labels, set gridline label locations, modify the projection bounding box, and add and stylize geographic features, like land masses, coastlines, and international borders. These methods also call `format` on `~proplot.axes.Axes`, and so can be used for subplot titles, a-b-c labels, and figure titles as before."
   ]
  },
  {
   "cell_type": "code",
   "execution_count": null,
   "metadata": {},
   "outputs": [],
   "source": [
    "import proplot as plot\n",
    "import numpy as np\n",
    "N = 40\n",
    "f, axs = plot.subplots([[1,1,2],[3,3,3]], axwidth=4, proj={1:'robin', 2:'ortho', 3:'wintri'})\n",
    "ax = axs[0]\n",
    "ax.format(title='Robinson map', land=True, landcolor='navy blue', facecolor='pale blue',\n",
    "           coastcolor='gray5', borderscolor='gray5', innerborderscolor='gray5',\n",
    "           geogridlinewidth=1.5, geogridcolor='gray8', geogridalpha=1, \n",
    "           coast=True, innerborders=True, borders=True)\n",
    "ax = axs[1]\n",
    "ax.format(title='Ortho map', reso='med', land=True, coast=True, latlines=10, lonlines=15,\n",
    "          landcolor='mushroom', suptitle='Projection axes formatting demo',\n",
    "          facecolor='petrol', coastcolor='charcoal', coastlinewidth=0.8, geogridlinewidth=1)\n",
    "ax = axs[2]\n",
    "ax.format(land=True, facecolor='ocean blue', landcolor='almond', title='Winkel tripel map',\n",
    "         lonlines=60, latlines=15)\n",
    "axs.format(suptitle='Projection axes formatting demo', collabels=['col 1', 'col 2'],\n",
    "           abc=True, abcstyle='A.', abcloc='ul', abcborder=False, linewidth=1.5)"
   ]
  }
 ],
 "metadata": {
  "celltoolbar": "Raw Cell Format",
  "kernelspec": {
   "display_name": "Python 3",
   "language": "python",
   "name": "python3"
  },
  "language_info": {
   "codemirror_mode": {
    "name": "ipython",
    "version": 3
   },
   "file_extension": ".py",
   "mimetype": "text/x-python",
   "name": "python",
   "nbconvert_exporter": "python",
   "pygments_lexer": "ipython3",
   "version": "3.7.3"
  },
  "toc": {
   "colors": {
    "hover_highlight": "#ece260",
    "navigate_num": "#000000",
    "navigate_text": "#000000",
    "running_highlight": "#FF0000",
    "selected_highlight": "#fff968",
    "sidebar_border": "#ffffff",
    "wrapper_background": "#ffffff"
   },
   "moveMenuLeft": false,
   "nav_menu": {
    "height": "12px",
    "width": "250px"
   },
   "navigate_menu": true,
   "number_sections": true,
   "sideBar": true,
   "threshold": 4,
   "toc_cell": false,
   "toc_section_display": "block",
   "toc_window_display": true,
   "widenNotebook": false
  },
  "varInspector": {
   "cols": {
    "lenName": 16,
    "lenType": 16,
    "lenVar": 40
   },
   "kernels_config": {
    "python": {
     "delete_cmd_postfix": "",
     "delete_cmd_prefix": "del ",
     "library": "var_list.py",
     "varRefreshCmd": "print(var_dic_list())"
    },
    "r": {
     "delete_cmd_postfix": ") ",
     "delete_cmd_prefix": "rm(",
     "library": "var_list.r",
     "varRefreshCmd": "cat(var_dic_list()) "
    }
   },
   "types_to_exclude": [
    "module",
    "function",
    "builtin_function_or_method",
    "instance",
    "_Feature"
   ],
   "window_display": false
  }
 },
 "nbformat": 4,
 "nbformat_minor": 2
}
