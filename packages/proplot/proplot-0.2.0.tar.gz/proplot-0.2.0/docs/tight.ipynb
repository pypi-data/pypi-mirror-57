{
 "cells": [
  {
   "cell_type": "markdown",
   "metadata": {},
   "source": [
    "# Figure tight layout"
   ]
  },
  {
   "cell_type": "raw",
   "metadata": {
    "raw_mimetype": "text/restructuredtext"
   },
   "source": [
    "Matplotlib has a `tight layout algorithm <https://matplotlib.org/3.1.1/tutorials/intermediate/tight_layout_guide.html>`__ that adjusts the space between subplots and around the figure edge to accomodate labels and plotted content.\n",
    "\n",
    "ProPlot introduces a *new* tight layout algorithm that permits *variable figure dimensions* and *variable spacing* between subplot rows and columns (see `~proplot.subplots.FlexibleGridSpec`). This allows the algorithm to preserve subplot aspect ratios, colorbar and panel widths, and optionally, subplot physical dimensions, all without producing extra whitespace. It is applied to all figured by default -- to turn it off, pass ``tight=False`` to `~proplot.subplots.Figure` or change the :rcraw:`tight` setting."
   ]
  },
  {
   "cell_type": "markdown",
   "metadata": {},
   "source": [
    "## Reference axes"
   ]
  },
  {
   "cell_type": "raw",
   "metadata": {
    "raw_mimetype": "text/restructuredtext"
   },
   "source": [
    "To fix the figure dimension(s), pass `width`, `height`, and/or `figsize` to `~proplot.subplots.subplots`. To fix the reference subplot dimension(s), use `axwidth`, `axheight`, and/or `aspect`. To set the reference subplot, use `ref` (default is ``1``, i.e. the subplot in the upper left corner). When you specify just `width` or `axwidth`, the subplot and figure *heights* are adjusted automatically to accommodate `aspect`. When you specify just `height` or `axheight`, the subplot and figure *widths* are adjusted automatically.\n",
    "\n",
    "If the `aspect ratio mode <https://matplotlib.org/2.0.2/examples/pylab_examples/equal_aspect_ratio.html>`__ for the `ref` subplot is set to ``'equal'``, as with :ref:`Geographic and polar plots` and `~matplotlib.axes.Axes.imshow` plots, the existing aspect will be used instead of the input `aspect`.\n",
    "\n",
    "The below examples are *stress tests* of this algorithm. They also illustrate how changing the \"reference axes\" can affect the figure appearence."
   ]
  },
  {
   "cell_type": "code",
   "execution_count": null,
   "metadata": {},
   "outputs": [],
   "source": [
    "import proplot as plot\n",
    "for ref in (1,2):\n",
    "    f, axs = plot.subplots(ref=ref, nrows=3, ncols=3, aspect=1, axwidth=1.1, wratios=(3,2,2), share=0)\n",
    "    axs[ref-1].format(title='reference axes', titleweight='bold', titleloc='uc', titlecolor='red9')\n",
    "    axs[4].format(title='title\\ntitle\\ntitle', suptitle='Tight layout with simple grids')\n",
    "    axs[1].format(ylabel='ylabel\\nylabel\\nylabel')\n",
    "    axs[:4:2].format(xlabel='xlabel\\nxlabel\\nxlabel')\n",
    "    axs.format(rowlabels=['Row 1', 'Row 2', 'Row 3'], collabels=['Column 1', 'Column 2', 'Column 3'])"
   ]
  },
  {
   "cell_type": "code",
   "execution_count": null,
   "metadata": {},
   "outputs": [],
   "source": [
    "import proplot as plot\n",
    "for ref in (4,2):\n",
    "    f, axs = plot.subplots([[1,1,2],[3,3,2],[4,5,5],[4,6,6]], hratios=(1,1,2,2), wratios=(1.5,1,1.5),\n",
    "        ref=ref, axwidth=1.1, span=False)\n",
    "    axs[ref-1].format(title='reference axes', titleweight='bold', titleloc='uc', titlecolor='red9')\n",
    "    axs.format(xlabel='xlabel', ylabel='ylabel', suptitle='Super title')\n",
    "    axs[0].format(xlabel='xlabel\\nxlabel\\nxlabel')\n",
    "    axs[1].format(ylabel='ylabel\\nylabel\\nylabel', ytickloc='both', yticklabelloc='both', ctitle='Title')\n",
    "    axs[2:4].format(yformatter='null', ctitle='Title', ytickloc='both', yticklabelloc='both')\n",
    "    axs[4:].format(yformatter='null', xlabel='xlabel\\nxlabel\\nxlabel')\n",
    "    axs.format(suptitle='Tight layout with complex grids', rowlabels=['Row 1', 'Row 2', 'Row 3'], collabels=['Column 1', 'Column 2'])"
   ]
  },
  {
   "cell_type": "markdown",
   "metadata": {},
   "source": [
    "## Overriding the algorithm"
   ]
  },
  {
   "cell_type": "raw",
   "metadata": {
    "raw_mimetype": "text/restructuredtext"
   },
   "source": [
    "When you pass a spacing argument like `left`, `right`, `top`, `bottom`, `wspace`, or `hspace` to `~proplot.subplots.Figure` or `~proplot.subplots.FlexibleGridSpec`, that value is *always respected* -- the tight layout algorithm will not change it.\n",
    "\n",
    "For example, if you pass ``left='2em'`` to `~proplot.subplots.subplots`, the left margin is fixed but the right, bottom, and top margins are determined automatically. Similarly, if you pass ``wspace=('3em', None)`` and ``ncols=3`` to `~proplot.subplots.subplots`, the space between the first two columns is fixed, while the space between the second two columns is determined automatically.\n",
    "\n",
    "The figure width and height are constrained similarly. If you pass both a figure `width` and `height` or a subplot `axwidth` and `axheight`, the `aspect` is ignored. If you just pass one of the `width`, `height`, `axwidth`, or `axheight`, the aspect ratio is preserved and the other dimension is adjusted accordingly."
   ]
  },
  {
   "cell_type": "markdown",
   "metadata": {},
   "source": [
    "## Manual figure layout"
   ]
  },
  {
   "cell_type": "raw",
   "metadata": {
    "raw_mimetype": "text/restructuredtext"
   },
   "source": [
    "The figure layout can also be configured manually. ProPlot supports *arbitrary physical units* for controlling the figure `width` and `height`; the reference subplot `axwidth` and `axheight`; the gridspec spacing values `left`, `right`, `bottom`, `top`, `wspace`, and `hspace`; and in a few other places.\n",
    "\n",
    "If a sizing argument is numeric, the units are inches or points, and if string, the units are interpreted by `~proplot.utils.units`. A table of acceptable units is found in the `~proplot.utils.units` documentation. They include centimeters, millimeters, pixels, em-squares, points, and picas."
   ]
  },
  {
   "cell_type": "code",
   "execution_count": null,
   "metadata": {},
   "outputs": [],
   "source": [
    "import proplot as plot\n",
    "import numpy as np\n",
    "with plot.rc.context(small='12px', large='15px', linewidth='0.5mm'):\n",
    "    f, axs = plot.subplots(ncols=3, width='12cm', height='2in',\n",
    "                           wspace=('10pt', '20pt'), right='10mm')\n",
    "    panel = axs[2].panel_axes('r', width='2em')\n",
    "    axs.format(suptitle='Arguments with arbitrary units', xlabel='x axis', ylabel='y axis')"
   ]
  }
 ],
 "metadata": {
  "celltoolbar": "Raw Cell Format",
  "kernelspec": {
   "display_name": "Python 3",
   "language": "python",
   "name": "python3"
  },
  "language_info": {
   "codemirror_mode": {
    "name": "ipython",
    "version": 3
   },
   "file_extension": ".py",
   "mimetype": "text/x-python",
   "name": "python",
   "nbconvert_exporter": "python",
   "pygments_lexer": "ipython3",
   "version": "3.7.3"
  },
  "toc": {
   "colors": {
    "hover_highlight": "#ece260",
    "navigate_num": "#000000",
    "navigate_text": "#000000",
    "running_highlight": "#FF0000",
    "selected_highlight": "#fff968",
    "sidebar_border": "#ffffff",
    "wrapper_background": "#ffffff"
   },
   "moveMenuLeft": false,
   "nav_menu": {
    "height": "84px",
    "width": "252px"
   },
   "navigate_menu": true,
   "number_sections": true,
   "sideBar": true,
   "threshold": 4,
   "toc_cell": false,
   "toc_section_display": "block",
   "toc_window_display": true,
   "widenNotebook": false
  },
  "varInspector": {
   "cols": {
    "lenName": 16,
    "lenType": 16,
    "lenVar": 40
   },
   "kernels_config": {
    "python": {
     "delete_cmd_postfix": "",
     "delete_cmd_prefix": "del ",
     "library": "var_list.py",
     "varRefreshCmd": "print(var_dic_list())"
    },
    "r": {
     "delete_cmd_postfix": ") ",
     "delete_cmd_prefix": "rm(",
     "library": "var_list.r",
     "varRefreshCmd": "cat(var_dic_list()) "
    }
   },
   "types_to_exclude": [
    "module",
    "function",
    "builtin_function_or_method",
    "instance",
    "_Feature"
   ],
   "window_display": false
  }
 },
 "nbformat": 4,
 "nbformat_minor": 2
}
