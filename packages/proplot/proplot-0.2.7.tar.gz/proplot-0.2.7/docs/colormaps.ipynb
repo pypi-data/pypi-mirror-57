{
 "cells": [
  {
   "cell_type": "markdown",
   "metadata": {},
   "source": [
    "# Colormaps"
   ]
  },
  {
   "cell_type": "raw",
   "metadata": {
    "raw_mimetype": "text/restructuredtext"
   },
   "source": [
    "**Colormaps** are palettes constructed by sampling some *continuous function* between two end colors. Colormaps are generally used to encode data values on a pseudo-third dimension. They are are implemented with the `~proplot.styletools.LinearSegmentedColormap` and `~proplot.styletools.PerceptuallyUniformColormap` classes, which are subclassed from `~matplotlib.colors.LinearSegmentedColormap` in matplotlib (see :ref:`Making new colormaps`).\n",
    "\n",
    "ProPlot adds several features to help you use colormaps effectively in your figures. This section documents the new registered colormaps, explains how to make and modify colormaps, and shows how to apply them to your plots."
   ]
  },
  {
   "cell_type": "markdown",
   "metadata": {},
   "source": [
    "## Included colormaps"
   ]
  },
  {
   "cell_type": "raw",
   "metadata": {
    "raw_mimetype": "text/restructuredtext"
   },
   "source": [
    "On import, ProPlot registers a few sample `~proplot.styletools.PerceptuallyUniformColormap` colormaps (see :ref:`Perceptually uniform colormaps`) plus a ton of other colormaps from other online data viz projects. Use `~proplot.styletools.show_cmaps` to generate a table of registered maps, as shown below. The figure is broken down into the following sections:\n",
    "\n",
    "* \"User\" colormaps, i.e. colormaps saved to your ``~/.proplot/cmaps`` folder. A great way to save colormaps to this folder is using the `~proplot.styletools.Colormap` function. See :ref:`Making new colormaps` for details.\n",
    "* Matplotlib and seaborn original colormaps.\n",
    "* ProPlot colormaps belonging to the `~proplot.styletools.PerceptuallyUniformColormap` class. See the :ref:`Perceptually uniform colormaps` section.\n",
    "* Miscellaneous diverging colormaps.\n",
    "* `cmOcean <https://matplotlib.org/cmocean/>`__ colormaps, originally intended for oceanographic visualizations but useful for all scientific fields.\n",
    "* `ColorBrewer <http://colorbrewer2.org/>`__ colormaps, included with matplotlib by default.\n",
    "* Colormaps from the `SciVisColor <https://sciviscolor.org/home/colormoves/>`__ online interactive tool. There are so many of these maps because they are intended to be *merged* with one another -- suitable for complex datasets with complex statistical distributions.\n",
    "\n",
    "ProPlot removes some default matplotlib colormaps with erratic color transitions. Note that colormap and color cycle identification is now flexible: names are *case-insensitive* (e.g. ``'Viridis'``, ``'viridis'``, and ``'ViRiDiS'`` are equivalent) and can be specified in their \"reversed\" form (e.g. ``'BuRd'`` is equivalent to ``'RdBu_r'``). See `~proplot.styletools.CmapDict` for more info."
   ]
  },
  {
   "cell_type": "code",
   "execution_count": null,
   "metadata": {},
   "outputs": [],
   "source": [
    "import proplot as plot\n",
    "f = plot.show_cmaps()"
   ]
  },
  {
   "cell_type": "markdown",
   "metadata": {},
   "source": [
    "## Perceptually uniform colormaps"
   ]
  },
  {
   "cell_type": "raw",
   "metadata": {
    "raw_mimetype": "text/restructuredtext"
   },
   "source": [
    "ProPlot's custom colormaps are instances of the new `~proplot.styletools.PerceptuallyUniformColormap` class (see :ref:`Included colormaps` for a table). `~proplot.styletools.PerceptuallyUniformColormap` objects generate colors by interpolating between coordinates in any of three possible \"perceptually uniform\" colorspaces:\n",
    "\n",
    "* **HCL**: A purely perceptually uniform colorspace, where colors are broken down into “hue” (color, range 0-360), “chroma” (saturation, range 0-100), and “luminance” (brightness, range 0-100).\n",
    "* **HPLuv**: Hue and luminance are identical to HCL, but 100 saturation is scaled to be the *minimum maximum saturation* across all hues for a given luminance. HPLuv is more appropriate for multi-hue colormaps.\n",
    "* **HSLuv**: Hue and luminance are identical to HCL, but 100 saturation is scaled to be the *maximum possible saturation* for a given hue and luminance. HSLuv is more appropriate for single-hue colormaps -- saturation banding can occur when crossing hue thresholds in this space.\n",
    "\n",
    "HCL is the only \"purely\" perceptually uniform colorspace. But interpolating between coordinates in this space can result in \"impossible\" colors -- colors that, when translated from HCL back into RGB, result in RGB channels greater than ``1``. HSLuv and HPLuv help resolve this issue by respectively *scaling* and *clipping* the highest-saturation colors across different hues and luminances. See `this page <http://www.hsluv.org/comparison/>`__ for more info.\n",
    "\n",
    "To plot arbitrary cross-sections of these colorspaces, use `~proplot.styletools.show_colorspaces`. The blacked out regions represent \"impossible\" colors. "
   ]
  },
  {
   "cell_type": "code",
   "execution_count": null,
   "metadata": {},
   "outputs": [],
   "source": [
    "import proplot as plot\n",
    "f = plot.show_colorspaces(axwidth=1.6, luminance=50)"
   ]
  },
  {
   "cell_type": "code",
   "execution_count": null,
   "metadata": {},
   "outputs": [],
   "source": [
    "import proplot as plot\n",
    "f = plot.show_colorspaces(axwidth=1.6, saturation=60)"
   ]
  },
  {
   "cell_type": "code",
   "execution_count": null,
   "metadata": {},
   "outputs": [],
   "source": [
    "import proplot as plot\n",
    "f = plot.show_colorspaces(axwidth=1.6, hue=0)"
   ]
  },
  {
   "cell_type": "raw",
   "metadata": {
    "raw_mimetype": "text/restructuredtext"
   },
   "source": [
    "To see how any colormap varies with respect to each channel, use the `~proplot.styletools.show_channels` function. Below, we do this for the matplotlib ``'magma'``, seaborn ``'rocket'``, and proplot ``'Fire'`` and ``'Dusk'`` colormaps. The first two are nicely-designed `~matplotlib.colors.LinearSegmentedColormap`\\ s, and the last one is a `~proplot.styletools.PerceptuallyUniformColormap`. They are all roughly linear across the hue and luminance channels, but not the chroma channel (top row). ``'Fire'`` is linear in the HSL scaling of the chroma channel (bottom left), while ``'Dusk'`` is linear in the HPL scaling of the chroma channel (bottom right)."
   ]
  },
  {
   "cell_type": "code",
   "execution_count": null,
   "metadata": {},
   "outputs": [],
   "source": [
    "import proplot as plot\n",
    "f = plot.show_channels('magma', 'rocket', 'fire', 'dusk',\n",
    "                       axwidth=1.2, minhue=-180, maxsat=300, rgb=False)"
   ]
  },
  {
   "cell_type": "markdown",
   "metadata": {},
   "source": [
    "## Making new colormaps"
   ]
  },
  {
   "cell_type": "raw",
   "metadata": {
    "raw_mimetype": "text/restructuredtext"
   },
   "source": [
    "You can make new colormaps with `~proplot.styletools.Colormap`. Every command that accepts a `cmap` argument (see `~proplot.wrappers.cmap_changer`) is passed to `~proplot.styletools.Colormap`, and `~proplot.styletools.Colormap` keyword args can be specified with `cmap_kw`. To save your colormap and use it everytime ProPlot is imported, simply use ``save=True``. To save the colormap data to an arbitrary file, use the `~proplot.styletools.LinearSegmentedColormap.save` method. See `~proplot.styletools.Colormap` and `~proplot.wrappers.cmap_changer` for details.\n",
    "\n",
    "To build monochromatic `~proplot.styletools.PerceptuallyUniformColormap`\\ s from arbitrary colors, just pass a color name, hex string, or RGB tuple to `~proplot.styletools.Colormap`. The colormap colors will vary from the specified color to some shade near white (controlled by the `fade` keyword arg). The default is to fade to pure white. The first plot shows several of these maps merged into one, and the second is just one map.\n",
    "\n",
    "To build `~proplot.styletools.PerceptuallyUniformColormap`\\ s with arbitrary channel transitions, you have two options.\n",
    "\n",
    "* Pass a *list of colors* to `~proplot.styletools.Colormap`. This calls the `~proplot.styletools.PerceptuallyUniformColormap.from_list` static method, which interpolates between the listed colors in a perceptually uniform colorspace.\n",
    "* Pass a *dictionary* to `~proplot.styletools.Colormap`. This calls the `~proplot.styletools.PerceptuallyUniformColormap.from_hsl` static method, which draws lines between channel values specified by the keyword args `hue`, `saturation`, and `luminance`. The values can be numbers, color strings, or lists thereof. Numbers indicate the channel value. For color strings, the channel value is *inferred* from the specified color. You can end any color string with ``'+N'`` or ``'-N'`` to *offset* the channel value by the number ``N``, as shown below."
   ]
  },
  {
   "cell_type": "code",
   "execution_count": null,
   "metadata": {},
   "outputs": [],
   "source": [
    "import proplot as plot\n",
    "import numpy as np\n",
    "f, axs = plot.subplots(ncols=2, axwidth=2, aspect=1, bottom=0.1)\n",
    "state = np.random.RandomState(51423)\n",
    "data = state.rand(50, 50).cumsum(axis=1)\n",
    "cmap1 = plot.Colormap('brick red_r', 'denim_r',\n",
    "                      'warm gray_r', fade=90, name='tricolor')\n",
    "m = axs[0].contourf(data, cmap=cmap1, levels=12)\n",
    "m = axs[1].contourf(data, cmap='ocean blue', cmap_kw={'name': 'ocean blue'})\n",
    "cmap2 = m.cmap\n",
    "axs.format(xticks='none', yticks='none',\n",
    "           suptitle='Monochromatic PerceptuallyUniformColormaps')\n",
    "for ax, title in zip(axs, ['Three monochromatic cmaps', 'One monochromatic cmap']):\n",
    "    ax.format(title=title)\n",
    "f = plot.show_channels(cmap1, cmap2, axwidth=1.2, rgb=False)"
   ]
  },
  {
   "cell_type": "code",
   "execution_count": null,
   "metadata": {},
   "outputs": [],
   "source": [
    "import proplot as plot\n",
    "import numpy as np\n",
    "f, axs = plot.subplots(ncols=3, span=False, axwidth=2, aspect=1.5)\n",
    "axs.format(suptitle='Building your own PerceptuallyUniformColormaps')\n",
    "# Colormaps from channel values\n",
    "state = np.random.RandomState(51423)\n",
    "data = state.rand(10, 15)\n",
    "ax = axs[0]\n",
    "cmap1 = plot.Colormap(\n",
    "    {'hue': ['red-90', 'red+90'],\n",
    "     'saturation': [50, 70, 30],\n",
    "     'luminance': [20, 100]},\n",
    "    name='Matter', space='hcl')\n",
    "m = ax.pcolormesh(data, cmap=cmap1)\n",
    "ax.format(title='From channel values')\n",
    "ax = axs[1]\n",
    "cmap2 = plot.Colormap(\n",
    "    {'hue': ['red', 'red-720'],\n",
    "     'saturation': [80, 20],\n",
    "     'luminance': [20, 100]},\n",
    "    name='cubehelix', space='hpl')\n",
    "m = ax.pcolormesh(data, cmap=cmap2)\n",
    "ax.format(xlabel='x axis', ylabel='y axis', title='From channel values')\n",
    "# Colormap from lists\n",
    "ax = axs[2]\n",
    "m = ax.pcolormesh(data,\n",
    "                  cmap=('maroon', 'goldenrod'),\n",
    "                  cmap_kw={'name': 'reddish'})\n",
    "cmap3 = m.cmap\n",
    "ax.format(title='From list of colors')\n",
    "# Colormap breakdowns\n",
    "f = plot.show_channels(cmap1, cmap2, cmap3, minhue=-\n",
    "                       180, axwidth=1.2, rgb=False)"
   ]
  },
  {
   "cell_type": "markdown",
   "metadata": {},
   "source": [
    "## Merging colormaps"
   ]
  },
  {
   "cell_type": "raw",
   "metadata": {
    "raw_mimetype": "text/restructuredtext"
   },
   "source": [
    "`~proplot.styletools.Colormap` also lets you merge arbitrary colormaps and modify existing colormaps. To merge colormaps, simply pass multiple arguments to the `~proplot.styletools.Colormap` constructor. This makes it easy to create complex `SciVisColor <https://sciviscolor.org/home/colormoves/>`__ style colormaps, which may be desirable for complex datasets with funky statistical distributions. The below reconstructs the colormap from `this example <https://sciviscolor.org/wp-content/uploads/sites/14/2018/04/colormoves-icon-1.png>`__."
   ]
  },
  {
   "cell_type": "code",
   "execution_count": null,
   "metadata": {},
   "outputs": [],
   "source": [
    "import proplot as plot\n",
    "import numpy as np\n",
    "f, axs = plot.subplots(ncols=2, axwidth=2, span=False)\n",
    "state = np.random.RandomState(51423)\n",
    "data = state.rand(100, 100).cumsum(axis=1)\n",
    "# Save colormap as \"test1.json\"\n",
    "cmap = plot.Colormap('Green1_r', 'Orange5', 'Blue1_r',\n",
    "                     'Blue6', name='test1', save=True)\n",
    "m = axs[0].contourf(data, cmap=cmap, levels=100)\n",
    "f.colorbar(m, loc='b', col=1, locator='none')\n",
    "# Save colormap as \"test2.json\"\n",
    "cmap = plot.Colormap('Green1_r', 'Orange5', 'Blue1_r',\n",
    "                     'Blue6', ratios=(1, 3, 5, 10), name='test2', save=True)\n",
    "m = axs[1].contourf(data, cmap=cmap, levels=100)\n",
    "f.colorbar(m, loc='b', col=2, locator='none')\n",
    "axs.format(xlabel='xlabel', ylabel='ylabel',\n",
    "           suptitle='Merging existing colormaps')\n",
    "for ax, title in zip(axs, ['Evenly spaced', 'Matching SciVisColor example']):\n",
    "    ax.format(title=title)"
   ]
  },
  {
   "cell_type": "markdown",
   "metadata": {},
   "source": [
    "## Modifying colormaps"
   ]
  },
  {
   "cell_type": "raw",
   "metadata": {
    "raw_mimetype": "text/restructuredtext"
   },
   "source": [
    "ProPlot colormaps can be modified in a variety of ways.\n",
    "\n",
    "* To remove colors from the left or right ends of a colormap, pass the `left` or `right` keyword args to `~proplot.styletools.Colormap`.\n",
    "* To remove central colors from a diverging colormap, pass the `cut` keyword arg to `~proplot.styletools.Colormap`. This is great when you want a sharper cutoff between negative and positive values.\n",
    "* To rotate a cyclic colormap,  pass the `shift` argument to `~proplot.styletools.Colormap` (see `~proplot.styletools.LinearSegmentedColormap`). Note that ProPlot ensures the colors at the ends of these maps are distinct so that levels don't blur together.\n",
    "* To change the \"gamma\" of a `~proplot.styletools.PerceptuallyUniformColormap`, pass `gamma` to `~proplot.styletools.Colormap`. This controls how the luminance and saturation channels vary between colormap segments. ``gamma > 1`` emphasizes high luminance, low saturation colors, while ``gamma < 1`` emphasizes low luminance, high saturation colors."
   ]
  },
  {
   "cell_type": "code",
   "execution_count": null,
   "metadata": {},
   "outputs": [],
   "source": [
    "import proplot as plot\n",
    "import numpy as np\n",
    "f, axs = plot.subplots([[1, 1, 2, 2, 3, 3], [0, 4, 4, 5, 5, 0]], axwidth=1.5)\n",
    "state = np.random.RandomState(51423)\n",
    "data = state.rand(50, 50).cumsum(axis=0) - 50\n",
    "# Cutting central colors\n",
    "for ax, cut in zip(axs[:3], (0, 0.1, 0.2)):\n",
    "    m = ax.contourf(data, cmap='Div', cmap_kw={'cut': cut}, levels=13)\n",
    "    ax.format(xlabel='xlabel', ylabel='ylabel', title=f'cut = {cut}',\n",
    "              suptitle='Slicing existing colormaps')\n",
    "    ax.colorbar(m, loc='b', locator='null')\n",
    "# Cutting left and right\n",
    "for ax, cut in zip(axs[3:], (0.2, 0.8)):\n",
    "    if cut < 0.5:\n",
    "        title, cmap, cmap_kw = f'left={cut}', 'grays', {'left': cut}\n",
    "    else:\n",
    "        title, cmap, cmap_kw = f'right={cut}', 'grays', {'right': cut}\n",
    "    ax.contourf(data, cmap=cmap, cmap_kw=cmap_kw,\n",
    "                colorbar='b', colorbar_kw={'locator': 'null'})\n",
    "    ax.format(xlabel='xlabel', ylabel='ylabel', title=title)\n",
    "# Rotating cyclic\n",
    "f, axs = plot.subplots(ncols=3, axwidth=1.5)\n",
    "data = (state.rand(50, 50) - 0.48).cumsum(axis=1).cumsum(axis=0) - 50\n",
    "for ax, shift in zip(axs, (0, 90, 180)):\n",
    "    m = ax.contourf(data, cmap='twilight', cmap_kw={'shift': shift}, levels=12)\n",
    "    ax.format(xlabel='x axis', ylabel='y axis', title=f'shift = {shift}',\n",
    "              suptitle='Rotating cyclic colormaps')\n",
    "    ax.colorbar(m, loc='b', locator='null')"
   ]
  },
  {
   "cell_type": "code",
   "execution_count": null,
   "metadata": {},
   "outputs": [],
   "source": [
    "import proplot as plot\n",
    "import numpy as np\n",
    "name = 'boreal'\n",
    "# Illustrations\n",
    "f, axs = plot.subplots(ncols=3, axwidth=1.5, aspect=1)\n",
    "state = np.random.RandomState(51423)\n",
    "data = state.rand(10, 10).cumsum(axis=1)\n",
    "cmaps = []\n",
    "for ax, gamma in zip(axs, (0.7, 1.0, 1.4)):\n",
    "    cmap = plot.Colormap(name, name=str(gamma), gamma=gamma)\n",
    "    cmaps.append(cmap)\n",
    "    m = ax.pcolormesh(data, cmap=cmap, levels=10, extend='both')\n",
    "    ax.colorbar(m, loc='r', locator='none')\n",
    "    ax.format(title=f'gamma = {gamma}', xlabel='x axis', ylabel='y axis',\n",
    "              suptitle='Modifying existing PerceptuallyUniformColormaps')\n",
    "# Breakdowns\n",
    "f = plot.show_channels(*cmaps, axwidth=1.2, rgb=False)"
   ]
  },
  {
   "cell_type": "markdown",
   "metadata": {},
   "source": [
    "## Downloading colormaps"
   ]
  },
  {
   "cell_type": "raw",
   "metadata": {
    "raw_mimetype": "text/restructuredtext"
   },
   "source": [
    "There are plenty of online interactive tools for generating perceptually uniform colormaps, including `HCLWizard <http://hclwizard.org:64230/hclwizard/>`__, `Chroma.js <https://gka.github.io/palettes/>`__, `SciVisColor <https://sciviscolor.org/home/colormaps/>`__, and `HCL picker <http://tristen.ca/hcl-picker/#/hlc/12/0.99/C6F67D/0B2026>`__.\n",
    "\n",
    "To add colormaps downloaded from any of these sources, save the colormap data to a file in your ``~/.proplot/cmaps`` folder, then call `~proplot.styletools.register_cmaps`. The file should be named ``name.ext``, where ``name`` will be the registered colormap name. See `~proplot.styletools.register_cmaps` for valid file extensions."
   ]
  }
 ],
 "metadata": {
  "celltoolbar": "Raw Cell Format",
  "kernelspec": {
   "display_name": "Python 3",
   "language": "python",
   "name": "python3"
  },
  "language_info": {
   "codemirror_mode": {
    "name": "ipython",
    "version": 3
   },
   "file_extension": ".py",
   "mimetype": "text/x-python",
   "name": "python",
   "nbconvert_exporter": "python",
   "pygments_lexer": "ipython3",
   "version": "3.7.3"
  },
  "toc": {
   "colors": {
    "hover_highlight": "#ece260",
    "navigate_num": "#000000",
    "navigate_text": "#000000",
    "running_highlight": "#FF0000",
    "selected_highlight": "#fff968",
    "sidebar_border": "#ffffff",
    "wrapper_background": "#ffffff"
   },
   "moveMenuLeft": false,
   "nav_menu": {
    "height": "12px",
    "width": "250px"
   },
   "navigate_menu": true,
   "number_sections": true,
   "sideBar": true,
   "threshold": 4,
   "toc_cell": false,
   "toc_section_display": "block",
   "toc_window_display": true,
   "widenNotebook": false
  },
  "varInspector": {
   "cols": {
    "lenName": 16,
    "lenType": 16,
    "lenVar": 40
   },
   "kernels_config": {
    "python": {
     "delete_cmd_postfix": "",
     "delete_cmd_prefix": "del ",
     "library": "var_list.py",
     "varRefreshCmd": "print(var_dic_list())"
    },
    "r": {
     "delete_cmd_postfix": ") ",
     "delete_cmd_prefix": "rm(",
     "library": "var_list.r",
     "varRefreshCmd": "cat(var_dic_list()) "
    }
   },
   "types_to_exclude": [
    "module",
    "function",
    "builtin_function_or_method",
    "instance",
    "_Feature"
   ],
   "window_display": false
  }
 },
 "nbformat": 4,
 "nbformat_minor": 2
}
