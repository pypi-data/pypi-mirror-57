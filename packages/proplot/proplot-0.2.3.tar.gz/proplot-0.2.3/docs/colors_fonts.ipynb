{
 "cells": [
  {
   "cell_type": "markdown",
   "metadata": {},
   "source": [
    "# Colors and fonts"
   ]
  },
  {
   "cell_type": "raw",
   "metadata": {
    "raw_mimetype": "text/restructuredtext"
   },
   "source": [
    "ProPlot also registers new color names and new font families. These are described below."
   ]
  },
  {
   "cell_type": "markdown",
   "metadata": {},
   "source": [
    "## Included color names"
   ]
  },
  {
   "cell_type": "raw",
   "metadata": {
    "raw_mimetype": "text/restructuredtext"
   },
   "source": [
    "ProPlot defines new color names from the `XKCD color survey <https://blog.xkcd.com/2010/05/03/color-survey-results/>`__, official `Crayola crayon colors <https://en.wikipedia.org/wiki/List_of_Crayola_crayon_colors>`__, and from the `\"Open color\" <https://github.com/yeun/open-color>`__ Github project. This was inspired by `seaborn <https://seaborn.pydata.org/tutorial/color_palettes.html>`__. Use `~proplot.styletools.show_colors` to generate tables of these colors, as shown below. Note that the native matplotlib `CSS4 named colors <https://matplotlib.org/examples/color/named_colors.html>`__ are still registered, but I encourage using colors from the tables instead.\n",
    "\n",
    "To reduce the number of registered color names to a more manageable size, XKCD and Crayola colors must have *sufficiently distinct coordinates* in the HCL perceptually uniform colorspace before they are added to ProPlot. This makes it a bit easier to pick out colors from a table generated with `~proplot.styletools.show_colors`. Similar names were also cleaned up -- for example, ``'reddish'`` and ``'reddy'`` are changed to ``'red'``."
   ]
  },
  {
   "cell_type": "code",
   "execution_count": null,
   "metadata": {},
   "outputs": [],
   "source": [
    "import proplot as plot\n",
    "f = plot.show_colors()"
   ]
  },
  {
   "cell_type": "markdown",
   "metadata": {},
   "source": [
    "## Sampling colormaps and cycles"
   ]
  },
  {
   "cell_type": "raw",
   "metadata": {
    "raw_mimetype": "text/restructuredtext"
   },
   "source": [
    "If you want to draw an individual color from a smooth colormap or a color cycle, use ``color=(cmap, coord)`` or ``color=(cycle, index)`` with any command that accepts the `color` keyword. The `coord` should be between ``0`` and ``1``, while the `index` is the index on the list of cycle colors. This feature is powered by the `~proplot.styletools.ColorCacheDict` class."
   ]
  },
  {
   "cell_type": "code",
   "execution_count": null,
   "metadata": {},
   "outputs": [],
   "source": [
    "import proplot as plot\n",
    "import numpy as np\n",
    "f, axs = plot.subplots(nrows=2, aspect=2, axwidth=3, share=0)\n",
    "# Drawing from colormap\n",
    "ax = axs[0]\n",
    "cmap = 'deep'\n",
    "m = ax.pcolormesh([[0], [1]], cmap=cmap, N=1000)\n",
    "idxs = plot.arange(0, 1, 0.2)\n",
    "np.random.shuffle(idxs)\n",
    "for idx in idxs:\n",
    "    h = ax.plot((np.random.rand(20) - 0.4).cumsum(), lw=5, color=(cmap, idx),\n",
    "                label=f'idx {idx:.1f}', legend='r', legend_kw={'ncols': 1})\n",
    "ax.colorbar(m, loc='ul', locator=0.2, label='colormap')\n",
    "ax.format(title='Drawing from the Solar colormap', grid=True)\n",
    "# Drawing from color cycle\n",
    "ax = axs[1]\n",
    "idxs = np.arange(6)\n",
    "np.random.shuffle(idxs)\n",
    "for idx in idxs:\n",
    "    h = ax.plot((np.random.rand(20)-0.4).cumsum(), lw=5, color=('qual1', idx),\n",
    "                label=f'idx {idx:.0f}', legend='r', legend_kw={'ncols': 1})\n",
    "ax.format(title='Drawing from the ggplot color cycle')\n",
    "axs.format(xlocator='null', abc=True, abcloc='ur', abcstyle='A.',\n",
    "           suptitle='Getting individual colors from colormaps and cycles')"
   ]
  },
  {
   "cell_type": "markdown",
   "metadata": {},
   "source": [
    "## Included font names"
   ]
  },
  {
   "cell_type": "raw",
   "metadata": {
    "raw_mimetype": "text/restructuredtext"
   },
   "source": [
    "DejaVu Sans is the default matplotlib font, but it's not very aesthetically pleasing. ProPlot adds a bunch of sans-serif fonts so that you have them on every workstation, introduces a `~proplot.styletools.show_fonts` command to display them (see below), and makes Helvetica the default, as in MATLAB. Generally speaking, simple, clean sans-serif fonts are more appropriate for figures than serif fonts.\n",
    "\n",
    "You can register your own fonts by adding ``.ttf`` and ``.otf`` files to the ``~/.proplot/fonts`` directory and calling `~proplot.styletools.register_fonts` (which is also called on import). To change the default font, use the `~proplot.rctools.rc` object or modify your ``~/.proplotrc``. See :ref:`Configuring proplot` for details."
   ]
  },
  {
   "cell_type": "code",
   "execution_count": null,
   "metadata": {},
   "outputs": [],
   "source": [
    "import proplot as plot\n",
    "plot.rc.reset()\n",
    "f = plot.show_fonts()"
   ]
  }
 ],
 "metadata": {
  "celltoolbar": "Raw Cell Format",
  "kernelspec": {
   "display_name": "Python 3",
   "language": "python",
   "name": "python3"
  },
  "language_info": {
   "codemirror_mode": {
    "name": "ipython",
    "version": 3
   },
   "file_extension": ".py",
   "mimetype": "text/x-python",
   "name": "python",
   "nbconvert_exporter": "python",
   "pygments_lexer": "ipython3",
   "version": "3.7.3"
  },
  "toc": {
   "colors": {
    "hover_highlight": "#ece260",
    "navigate_num": "#000000",
    "navigate_text": "#000000",
    "running_highlight": "#FF0000",
    "selected_highlight": "#fff968",
    "sidebar_border": "#ffffff",
    "wrapper_background": "#ffffff"
   },
   "moveMenuLeft": false,
   "nav_menu": {
    "height": "84px",
    "width": "252px"
   },
   "navigate_menu": true,
   "number_sections": true,
   "sideBar": true,
   "threshold": 4,
   "toc_cell": false,
   "toc_section_display": "block",
   "toc_window_display": true,
   "widenNotebook": false
  },
  "varInspector": {
   "cols": {
    "lenName": 16,
    "lenType": 16,
    "lenVar": 40
   },
   "kernels_config": {
    "python": {
     "delete_cmd_postfix": "",
     "delete_cmd_prefix": "del ",
     "library": "var_list.py",
     "varRefreshCmd": "print(var_dic_list())"
    },
    "r": {
     "delete_cmd_postfix": ") ",
     "delete_cmd_prefix": "rm(",
     "library": "var_list.r",
     "varRefreshCmd": "cat(var_dic_list()) "
    }
   },
   "types_to_exclude": [
    "module",
    "function",
    "builtin_function_or_method",
    "instance",
    "_Feature"
   ],
   "window_display": false
  }
 },
 "nbformat": 4,
 "nbformat_minor": 2
}
