{
 "cells": [
  {
   "cell_type": "code",
   "execution_count": 1,
   "metadata": {
    "pycharm": {
     "is_executing": false
    },
    "tags": [
     "remove_cell"
    ]
   },
   "outputs": [
    {
     "data": {
      "text/html": [
       "<style>.container { width:95% !important; }</style>"
      ],
      "text/plain": [
       "<IPython.core.display.HTML object>"
      ]
     },
     "metadata": {},
     "output_type": "display_data"
    }
   ],
   "source": [
    "%matplotlib inline\n",
    "# setup disply parameters\n",
    "import pandas as pd\n",
    "import numpy as np\n",
    "from matplotlib import pylab as plt\n",
    "from matplotlib.ticker import StrMethodFormatter\n",
    "float_formatter = StrMethodFormatter('{x:0.03f}')\n",
    "from IPython.core.display import display, HTML\n",
    "display(HTML(\"<style>.container { width:95% !important; }</style>\"))\n",
    "SMALL_SIZE = 14\n",
    "MEDIUM_SIZE = 16\n",
    "BIGGER_SIZE = 20\n",
    "\n",
    "plt.rc('font', size=SMALL_SIZE)          # controls default text sizes\n",
    "plt.rc('axes', titlesize=SMALL_SIZE)     # fontsize of the axes title\n",
    "plt.rc('axes', labelsize=MEDIUM_SIZE)    # fontsize of the x and y labels\n",
    "plt.rc('xtick', labelsize=SMALL_SIZE)    # fontsize of the tick labels\n",
    "plt.rc('ytick', labelsize=SMALL_SIZE)    # fontsize of the tick labels\n",
    "plt.rc('legend', fontsize=SMALL_SIZE)    # legend fontsize\n",
    "plt.rc('figure', titlesize=BIGGER_SIZE)  # fontsize of the figure title\n",
    "plt.rc('figure', figsize=(18, 6)) # set figure size"
   ]
  },
  {
   "cell_type": "code",
   "execution_count": 2,
   "metadata": {
    "pycharm": {
     "is_executing": false
    },
    "tags": [
     "remove_cell"
    ]
   },
   "outputs": [],
   "source": [
    "import yaml\n",
    "try:\n",
    "    yaml.warnings({'YAMLLoadWarning': False}) # avoid a dask warning in newest yaml.\n",
    "except:\n",
    "    pass"
   ]
  },
  {
   "cell_type": "markdown",
   "metadata": {
    "pycharm": {}
   },
   "source": [
    "## Develop a factory manager (agent) for the SCM world\n",
    "\n",
    "This tutorial describes how to develop an agent for the SCM world, test it, and submit it to the ANAC 2019 SCM league.\n",
    "\n",
    "The first step is to install negmas\n",
    "\n",
    "```bash\n",
    "pip install negmas\n",
    "```\n",
    "Once you have this library installed, you can start developing your factory manager:"
   ]
  },
  {
   "cell_type": "code",
   "execution_count": 3,
   "metadata": {
    "pycharm": {
     "is_executing": false
    }
   },
   "outputs": [
    {
     "name": "stdout",
     "output_type": "stream",
     "text": [
      "Can't instantiate abstract class MyFactoryManager with abstract methods confirm_contract_execution, confirm_loan, confirm_partial_execution, init, on_agent_bankrupt, on_cash_transfer, on_contract_breached, on_contract_cancelled, on_contract_executed, on_contract_nullified, on_contract_signed, on_inventory_change, on_neg_request_accepted, on_neg_request_rejected, on_negotiation_failure, on_negotiation_success, on_new_cfp, on_new_report, on_production_failure, on_production_success, on_remove_cfp, respond_to_negotiation_request, respond_to_renegotiation_request, set_renegotiation_agenda, sign_contract, step\n"
     ]
    }
   ],
   "source": [
    "from negmas.apps.scml import FactoryManager\n",
    "try:\n",
    "    class MyFactoryManager(FactoryManager):\n",
    "        \"\"\"My factory manager\"\"\"\n",
    "    f = MyFactoryManager()\n",
    "except Exception as e:\n",
    "    print(e)"
   ]
  },
  {
   "cell_type": "markdown",
   "metadata": {
    "pycharm": {}
   },
   "source": [
    "You are told that you cannot instantiate your newly created class as did not implement the abstract (required) methods. These abstract methods are useful in giving you an idea of all the callback you should expect.\n",
    "\n",
    "If you want some default behavior implemented for you, you can inherit from one of the provided factory managers like ``DoNothingFactoryManager`` and ``GreedyFactoryManager``. In this case, you only need to override the functions you modify"
   ]
  },
  {
   "cell_type": "code",
   "execution_count": 4,
   "metadata": {
    "pycharm": {
     "is_executing": false
    }
   },
   "outputs": [],
   "source": [
    "from negmas.apps.scml import DoNothingFactoryManager\n",
    "class MyFactoryManager(DoNothingFactoryManager):\n",
    "    \"\"\"My factory manager\"\"\"\n"
   ]
  },
  {
   "cell_type": "markdown",
   "metadata": {
    "pycharm": {}
   },
   "source": [
    "As the [documentation](http://www.yasserm.com/negmas/negmas.apps.scml.html?highlight=on_negotiation_request#negmas.apps.scml.SCMLAgent.on_negotiation_request) states, this function is called whenever your factory manager receives a request from another agent to negotiate. You can either return `None` if you do not want to accept this negotiation or create  a `Negotiator` that represents your agent in it.\n",
    "\n",
    "\n",
    "Your do-nothing agent is almost ready. Let's try it:"
   ]
  },
  {
   "cell_type": "markdown",
   "metadata": {
    "pycharm": {}
   },
   "source": [
    "The property `stats` in `SCML2020World` gives you several statistics about the world for every time-step of the simulation.\n",
    "\n",
    "Let's check the contracts of this world:"
   ]
  },
  {
   "cell_type": "markdown",
   "metadata": {
    "pycharm": {}
   },
   "source": [
    "Let's try to run a tournament with this do-nothing agent against the built-in greedy agent (in the \"collusion\" track setting):"
   ]
  },
  {
   "cell_type": "code",
   "execution_count": 5,
   "metadata": {
    "pycharm": {
     "is_executing": false
    }
   },
   "outputs": [],
   "source": [
    "from negmas.apps.scml.utils import anac2019_collusion\n",
    "from negmas.apps.scml import GreedyFactoryManager\n",
    "\n",
    "results = anac2019_collusion(competitors=(MyFactoryManager, GreedyFactoryManager)\n",
    "                              , agent_names_reveal_type=True\n",
    "                              , n_configs=2        # create 10 different configs\n",
    "                              , max_worlds_per_config=4 # create no more then 4 worlds per config\n",
    "                              , n_runs_per_world=1 # number of runs of each configured world\n",
    "                              , n_steps=50              # we are running each world for 50 steps only                              \n",
    "                             )"
   ]
  },
  {
   "cell_type": "markdown",
   "metadata": {
    "pycharm": {}
   },
   "source": [
    "You can see the scores that each individual factory manager got (just a random sample):"
   ]
  },
  {
   "cell_type": "code",
   "execution_count": 6,
   "metadata": {
    "pycharm": {
     "is_executing": false
    }
   },
   "outputs": [
    {
     "data": {
      "text/html": [
       "<div>\n",
       "<style scoped>\n",
       "    .dataframe tbody tr th:only-of-type {\n",
       "        vertical-align: middle;\n",
       "    }\n",
       "\n",
       "    .dataframe tbody tr th {\n",
       "        vertical-align: top;\n",
       "    }\n",
       "\n",
       "    .dataframe thead th {\n",
       "        text-align: right;\n",
       "    }\n",
       "</style>\n",
       "<table border=\"1\" class=\"dataframe\">\n",
       "  <thead>\n",
       "    <tr style=\"text-align: right;\">\n",
       "      <th></th>\n",
       "      <th>agent_name</th>\n",
       "      <th>agent_type</th>\n",
       "      <th>log_file</th>\n",
       "      <th>score</th>\n",
       "      <th>stats_folder</th>\n",
       "      <th>world</th>\n",
       "    </tr>\n",
       "  </thead>\n",
       "  <tbody>\n",
       "    <tr>\n",
       "      <th>75</th>\n",
       "      <td>greedy@3_0</td>\n",
       "      <td>greedy_factory_manager</td>\n",
       "      <td>/Users/yasser/code/projects/negmas/notebooks/t...</td>\n",
       "      <td>-0.00735</td>\n",
       "      <td>/Users/yasser/code/projects/negmas/notebooks/t...</td>\n",
       "      <td>20190524-225118nW5E00003</td>\n",
       "    </tr>\n",
       "    <tr>\n",
       "      <th>76</th>\n",
       "      <td>greedy@3_1</td>\n",
       "      <td>greedy_factory_manager</td>\n",
       "      <td>/Users/yasser/code/projects/negmas/notebooks/t...</td>\n",
       "      <td>-0.00627</td>\n",
       "      <td>/Users/yasser/code/projects/negmas/notebooks/t...</td>\n",
       "      <td>20190524-225118nW5E00003</td>\n",
       "    </tr>\n",
       "    <tr>\n",
       "      <th>77</th>\n",
       "      <td>my@3_2</td>\n",
       "      <td>my_factory_manager</td>\n",
       "      <td>/Users/yasser/code/projects/negmas/notebooks/t...</td>\n",
       "      <td>0.00000</td>\n",
       "      <td>/Users/yasser/code/projects/negmas/notebooks/t...</td>\n",
       "      <td>20190524-225118nW5E00003</td>\n",
       "    </tr>\n",
       "    <tr>\n",
       "      <th>78</th>\n",
       "      <td>greedy@3_3</td>\n",
       "      <td>greedy_factory_manager</td>\n",
       "      <td>/Users/yasser/code/projects/negmas/notebooks/t...</td>\n",
       "      <td>-0.00643</td>\n",
       "      <td>/Users/yasser/code/projects/negmas/notebooks/t...</td>\n",
       "      <td>20190524-225118nW5E00003</td>\n",
       "    </tr>\n",
       "    <tr>\n",
       "      <th>79</th>\n",
       "      <td>my@4_0</td>\n",
       "      <td>my_factory_manager</td>\n",
       "      <td>/Users/yasser/code/projects/negmas/notebooks/t...</td>\n",
       "      <td>0.00000</td>\n",
       "      <td>/Users/yasser/code/projects/negmas/notebooks/t...</td>\n",
       "      <td>20190524-225118nW5E00003</td>\n",
       "    </tr>\n",
       "  </tbody>\n",
       "</table>\n",
       "</div>"
      ],
      "text/plain": [
       "    agent_name              agent_type  \\\n",
       "75  greedy@3_0  greedy_factory_manager   \n",
       "76  greedy@3_1  greedy_factory_manager   \n",
       "77      my@3_2      my_factory_manager   \n",
       "78  greedy@3_3  greedy_factory_manager   \n",
       "79      my@4_0      my_factory_manager   \n",
       "\n",
       "                                             log_file    score  \\\n",
       "75  /Users/yasser/code/projects/negmas/notebooks/t... -0.00735   \n",
       "76  /Users/yasser/code/projects/negmas/notebooks/t... -0.00627   \n",
       "77  /Users/yasser/code/projects/negmas/notebooks/t...  0.00000   \n",
       "78  /Users/yasser/code/projects/negmas/notebooks/t... -0.00643   \n",
       "79  /Users/yasser/code/projects/negmas/notebooks/t...  0.00000   \n",
       "\n",
       "                                         stats_folder  \\\n",
       "75  /Users/yasser/code/projects/negmas/notebooks/t...   \n",
       "76  /Users/yasser/code/projects/negmas/notebooks/t...   \n",
       "77  /Users/yasser/code/projects/negmas/notebooks/t...   \n",
       "78  /Users/yasser/code/projects/negmas/notebooks/t...   \n",
       "79  /Users/yasser/code/projects/negmas/notebooks/t...   \n",
       "\n",
       "                       world  \n",
       "75  20190524-225118nW5E00003  \n",
       "76  20190524-225118nW5E00003  \n",
       "77  20190524-225118nW5E00003  \n",
       "78  20190524-225118nW5E00003  \n",
       "79  20190524-225118nW5E00003  "
      ]
     },
     "execution_count": 6,
     "metadata": {},
     "output_type": "execute_result"
    }
   ],
   "source": [
    "results.scores.tail()"
   ]
  },
  {
   "cell_type": "markdown",
   "metadata": {
    "pycharm": {}
   },
   "source": [
    "You can also check the total scores for each factory manager type:"
   ]
  },
  {
   "cell_type": "code",
   "execution_count": 7,
   "metadata": {
    "pycharm": {
     "is_executing": false
    }
   },
   "outputs": [
    {
     "data": {
      "text/html": [
       "<div>\n",
       "<style scoped>\n",
       "    .dataframe tbody tr th:only-of-type {\n",
       "        vertical-align: middle;\n",
       "    }\n",
       "\n",
       "    .dataframe tbody tr th {\n",
       "        vertical-align: top;\n",
       "    }\n",
       "\n",
       "    .dataframe thead th {\n",
       "        text-align: right;\n",
       "    }\n",
       "</style>\n",
       "<table border=\"1\" class=\"dataframe\">\n",
       "  <thead>\n",
       "    <tr style=\"text-align: right;\">\n",
       "      <th></th>\n",
       "      <th>agent_type</th>\n",
       "      <th>score</th>\n",
       "    </tr>\n",
       "  </thead>\n",
       "  <tbody>\n",
       "    <tr>\n",
       "      <th>0</th>\n",
       "      <td>greedy_factory_manager</td>\n",
       "      <td>0.010756</td>\n",
       "    </tr>\n",
       "    <tr>\n",
       "      <th>1</th>\n",
       "      <td>my_factory_manager</td>\n",
       "      <td>0.000000</td>\n",
       "    </tr>\n",
       "  </tbody>\n",
       "</table>\n",
       "</div>"
      ],
      "text/plain": [
       "               agent_type     score\n",
       "0  greedy_factory_manager  0.010756\n",
       "1      my_factory_manager  0.000000"
      ]
     },
     "execution_count": 7,
     "metadata": {},
     "output_type": "execute_result"
    }
   ],
   "source": [
    "results.total_scores"
   ]
  },
  {
   "cell_type": "markdown",
   "metadata": {
    "pycharm": {}
   },
   "source": [
    "If you want, you can check if these differences are statistically significant using a t-test:"
   ]
  },
  {
   "cell_type": "code",
   "execution_count": 8,
   "metadata": {
    "pycharm": {
     "is_executing": false
    }
   },
   "outputs": [
    {
     "data": {
      "text/html": [
       "<div>\n",
       "<style scoped>\n",
       "    .dataframe tbody tr th:only-of-type {\n",
       "        vertical-align: middle;\n",
       "    }\n",
       "\n",
       "    .dataframe tbody tr th {\n",
       "        vertical-align: top;\n",
       "    }\n",
       "\n",
       "    .dataframe thead th {\n",
       "        text-align: right;\n",
       "    }\n",
       "</style>\n",
       "<table border=\"1\" class=\"dataframe\">\n",
       "  <thead>\n",
       "    <tr style=\"text-align: right;\">\n",
       "      <th></th>\n",
       "      <th>a</th>\n",
       "      <th>b</th>\n",
       "      <th>p</th>\n",
       "      <th>t</th>\n",
       "    </tr>\n",
       "  </thead>\n",
       "  <tbody>\n",
       "    <tr>\n",
       "      <th>0</th>\n",
       "      <td>greedy_factory_manager</td>\n",
       "      <td>my_factory_manager</td>\n",
       "      <td>0.33257</td>\n",
       "      <td>0.975009</td>\n",
       "    </tr>\n",
       "  </tbody>\n",
       "</table>\n",
       "</div>"
      ],
      "text/plain": [
       "                        a                   b        p         t\n",
       "0  greedy_factory_manager  my_factory_manager  0.33257  0.975009"
      ]
     },
     "execution_count": 8,
     "metadata": {},
     "output_type": "execute_result"
    }
   ],
   "source": [
    "results.ttest"
   ]
  },
  {
   "cell_type": "markdown",
   "metadata": {
    "pycharm": {}
   },
   "source": [
    "So the greedy factory manager is slightly better than the do-nothing factory manager for this short simulation getting an average gain of *1.1%* compared with nothing (*0%*) for the do-nothing factory manager (as expected). Moreover, this difference is *not* statistically significant as the p-value is *0.333 > 0.05*. If you try running this this tournament for less than *20*, the greedy factory manager will most likely lose money. In the actual league, we will run each world simulation between *50* and *100* steps (more toward the later).\n",
    "\n",
    "You can just check the winner(s) list"
   ]
  },
  {
   "cell_type": "code",
   "execution_count": 9,
   "metadata": {
    "pycharm": {
     "is_executing": false
    }
   },
   "outputs": [
    {
     "data": {
      "text/plain": [
       "['greedy_factory_manager']"
      ]
     },
     "execution_count": 9,
     "metadata": {},
     "output_type": "execute_result"
    }
   ],
   "source": [
    "results.winners"
   ]
  },
  {
   "cell_type": "markdown",
   "metadata": {
    "pycharm": {}
   },
   "source": [
    "and what was its/their score:"
   ]
  },
  {
   "cell_type": "code",
   "execution_count": 10,
   "metadata": {
    "pycharm": {
     "is_executing": false
    }
   },
   "outputs": [
    {
     "name": "stdout",
     "output_type": "stream",
     "text": [
      "[0.0107562]\n"
     ]
    }
   ],
   "source": [
    "print(results.winners_scores)"
   ]
  },
  {
   "cell_type": "markdown",
   "metadata": {},
   "source": [
    "To run a tournament in the \"standard\"/\"sabotage\" track settings, use \"anac2019_std\"/\"anac2019_sabotage\" instead of \"anac2019_collusion\"."
   ]
  },
  {
   "cell_type": "markdown",
   "metadata": {
    "pycharm": {}
   },
   "source": [
    "This information and much more is also stored in a log folder that gives details of every world and total scores, etc. The default location of this log folder is under negmas/logs/tournaments in your HOME directory (this can be changed by passing a `tournament_path` to the `anac2019_tournamet` function.\n",
    "\n",
    "The information stored in this folder is:\n",
    "\n",
    "\n",
    " File/Folder Name       |  Format   |   Content\n",
    "--- | --- | ---\n",
    "base_configs            |   FOLDER  |     Contains one json file for each configuration tried during the tournament before assigning agents to factories. \n",
    "assigned_configs        |   FOLDER  |     Contains one json file for each configuration tried during the tournament after assigning agents to factories. You can re-run this world using `run_world` function in the `tournament` module.\n",
    "params.json             |    JSON  |      The parameters used to create this tournament\n",
    "scores.csv              |    CSV   |      Scores of every agent in every world\n",
    "total_scores.csv        |    CSV   |      Scores of every agent **type** averaged over all runs\n",
    "winners.csv             |    CSV   |       Winner *types* and their average scores\n",
    "ttest.csv               |    CSV   |       Results of a factorial TTEST comparing the performance of all agent *types*\n",
    "\n",
    "Other than these files, a folder with the same number as the corresponding config file in the configs folder, keeps full\n",
    "statistics/log of every world with the following contents:\n",
    "\n",
    "File Name          |        Format   |    Content\n",
    "--- | --- | ---\n",
    "all_contracts.csv        |    CSV    |   A record of all contracts\n",
    "contracts_full_info.csv  |    CSV    |   A record of all contracts with added information about the CFPs\n",
    "cancelled_contracts.csv  |    CSV     |  Contracts that were cancelled because one partner refused to sign it\n",
    "signed_contracts.csv     |    CSV     |  Contracts that were actually signed\n",
    "negotiations.csv         |    CSV     |  A record of all negotiations\n",
    "breaches.csv             |    CSV     |  A record of all breaches\n",
    "stats.csv                |    CSV     |  Helpful statistics about the state of the world at every timestep (e.g. N. negotiations, N. Contracts Executed, etc) in CSV format\n",
    "stats.json              |     JSON    |  Helpful statistics about the state of the world at every timestep (e.g. N. negotiations, N. Contracts Executed, etc) in JSON format\n",
    "params.json            |      JSON    |  The arguments used to run the world\n",
    "logs.txt               |      TXT     |  A log file giving details of most important events during the simulation\n"
   ]
  },
  {
   "cell_type": "markdown",
   "metadata": {
    "pycharm": {}
   },
   "source": [
    "To develop a more useful agent, you will need to override one or more of the available callbacks in ``FactroyManager`` and use methods available in the ``SCMLAWI`` (SCML Agent SCML2020World Interface) to act in the world in order to maximize your profit.\n"
   ]
  },
  {
   "cell_type": "markdown",
   "metadata": {
    "pycharm": {}
   },
   "source": [
    "### Most important callbacks:\n",
    "\n",
    "The most important callbacks that your class is expected to override to be useful as a factory manager are the following:\n",
    "\n",
    "- ``init()`` Called after the world is initialized, but before any simulation steps.\n",
    "- ``step()`` Called in the simulation loop. Simulates one step of the agent’s logic. You can use this call to be *proactive*.\n",
    "- ``on_new_cfp()`` Called whenever a new Call for Proposals (CFP) is published on the bulletin board. The agent can specify a condition (e.g., buy CFPs only) such that only those CFPs that satisfy this condition will trigger this callback. By default your agent will only receive CFPs about products that it can use for production or can produce. You can override that by changing the ``insteresting_products`` property of your agent (probably in ``init()``). This callback can be used for implementing *reactive* behavior.\n",
    "- ``on_cfp_removed()`` Called whenever a CFP is removed from the bulletin board.\n",
    "- ``on_negotiation_request_accepted()/on_negotiation_request_rejected()`` Called when a negotiation request initiated by the agent is accepted/rejected.\n",
    "- ``on_negotiation_success()``/``on_negotiation_failure()`` Called when a negotiation the agent is involved in terminates.\n",
    "- ``sign_contract()`` Called by the simulator when it is time to sign a contract. The agent can refuse to sign. By default, agents sign the contract.\n",
    "- ``on_contract_signed()``/``on_contract_canelled()`` Called when a contract the agent is party to is signed/cancelled (contracts will be canceled if any of the partners party to it refused to sign it).\n",
    "- ``on_production_failure()`` Called whenever a production command scheduled by the agent cannot be executed (e.g. for lack of funds or need of input products).\n",
    "\n",
    "### More details\n",
    "**You can download a skeleton for developing your factory manager in either python or java [here](http://www.yasserm.com/scml/scml.zip).**\n",
    "\n",
    "\n",
    "For more details, refer to [the detailed description of the SCM world](http://www.yasserm.com/scml/scml.pdf) and the ``Agent``, ``SCMLAgent``, and ``FactoryManager`` documentation at [NegMAS library documentation](http://negmas.readthedocs.io)\n",
    "\n"
   ]
  },
  {
   "cell_type": "markdown",
   "metadata": {
    "pycharm": {}
   },
   "source": [
    "### What can the agent do and know?\n",
    "\n",
    "The agent can act by calling various methods of its ``awi`` member (Agent SCML2020World Interface). The most important of these are:\n",
    "\n",
    "- ``request_negotiation()`` Requests a negotiation with another partner\n",
    "- ``register_interest()`` / ``unregister_interest`` By default the agent will receive ``on_*_cfp`` callbacks only on products that its factory consumes or produces. To override this behavior, you can use these two methods of the ``awi``.\n",
    "- ``register_cfp()`` / ``remove_cfp()`` Registers/removes a call for proposals indicating interest in buying/selling some product and giving the negotiation issues (e.g. deliver time, unit cost, quantity, penalty, signing delay).\n",
    "- ``evaluate_insurance()`` / ``buy_insurance()`` Gets the insurance premium for some potential contract or buys one\n",
    "- ``execute()`` Executes an action in the world. The only supported actions are scheduling a production process to run at some future time-step, stopping (or canceling) a previously issued run command.\n",
    "\n",
    "The agent can also access some useful information through its ``awi``'s properties. Some of the most important such properties are:\n",
    "\n",
    "- ``state`` The state of the factory giving its current storage, cash in wallet, and standing loans as well as all scheduled production commands.\n",
    "- ``n_steps`` SCML2020World simulation length\n",
    "- ``current_step`` Current world simulation step\n",
    "- ``products``/``processes`` Information about products/processes defined in this world (these are also accessible through local properties of the ``FactoryManager``\n",
    "- ``cfps`` All calls for proposals currently published in the bulletin board\n",
    "- ``breaches`` All breaches currently published in the bulletin board"
   ]
  },
  {
   "cell_type": "markdown",
   "metadata": {
    "pycharm": {}
   },
   "source": [
    "### Participation in the ANAC 2019 SCM league\n",
    "Now, you completed the development of your factory manager, tested it by running it in worlds and tournaments, what exactly should you do to participate in the SCM league @ ANAC 2019:\n",
    "\n",
    "You need to submit the following items:\n",
    "\n",
    "- Names of all members of the team with their affiliations and email addresses\n",
    "- Either a single python file with the whole implementation of your agent with any supporting code or a zip file with a single folder containing your code. In the later case, you will need to indicate the class name of your factory manager. Any factory manager names are accepted except (Insurance, Bank, MFactoryManager, CFactoryManager).\n",
    "- A 2-pages academic report about your factory manager. Please check the submission website for details about this report.\n",
    "\n",
    "That is it folks!\n",
    "You can now start developing your own factory manager. Have fun.\n",
    "\n",
    "**You can download a skeleton for developing your factory manager in either python or java [here](http://www.yasserm.com/scml/scml.zip).**\n"
   ]
  },
  {
   "cell_type": "markdown",
   "metadata": {
    "pycharm": {}
   },
   "source": [
    "### More Information\n",
    "For more information, please refer to the links in the [CFP](http://www.yasserm.com/scml/cfp_scml.pdf)\n",
    "\n"
   ]
  },
  {
   "cell_type": "code",
   "execution_count": null,
   "metadata": {
    "pycharm": {}
   },
   "outputs": [],
   "source": []
  },
  {
   "cell_type": "code",
   "execution_count": null,
   "metadata": {
    "pycharm": {}
   },
   "outputs": [],
   "source": []
  }
 ],
 "metadata": {
  "celltoolbar": "Tags",
  "kernelspec": {
   "display_name": "Python 3",
   "language": "python",
   "name": "python3"
  },
  "language_info": {
   "codemirror_mode": {
    "name": "ipython",
    "version": 3
   },
   "file_extension": ".py",
   "mimetype": "text/x-python",
   "name": "python",
   "nbconvert_exporter": "python",
   "pygments_lexer": "ipython3",
   "version": "3.7.1"
  }
 },
 "nbformat": 4,
 "nbformat_minor": 2
}
