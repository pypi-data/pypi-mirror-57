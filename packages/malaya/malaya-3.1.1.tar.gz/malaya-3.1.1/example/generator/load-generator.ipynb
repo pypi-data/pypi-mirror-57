{
 "cells": [
  {
   "cell_type": "code",
   "execution_count": 1,
   "metadata": {},
   "outputs": [
    {
     "name": "stdout",
     "output_type": "stream",
     "text": [
      "CPU times: user 11.4 s, sys: 1.89 s, total: 13.3 s\n",
      "Wall time: 18.4 s\n"
     ]
    }
   ],
   "source": [
    "%%time\n",
    "import malaya"
   ]
  },
  {
   "cell_type": "markdown",
   "metadata": {},
   "source": [
    "## Text augmentation\n",
    "\n",
    "Let say you have a very limited labelled corpus, and you want to add more, but labelling is very costly.\n",
    "\n",
    "So, text augmentation! You can use word2vec to replace words with similar semantics!"
   ]
  },
  {
   "cell_type": "code",
   "execution_count": 2,
   "metadata": {},
   "outputs": [],
   "source": [
    "string = 'saya suka makan ayam dan ikan'"
   ]
  },
  {
   "cell_type": "code",
   "execution_count": 3,
   "metadata": {},
   "outputs": [],
   "source": [
    "embedded_wiki = malaya.word2vec.load_wiki()\n",
    "word_vector_wiki = malaya.word2vec.word2vec(embedded_wiki['nce_weights'], \n",
    "                                            embedded_wiki['dictionary'])"
   ]
  },
  {
   "cell_type": "code",
   "execution_count": 4,
   "metadata": {},
   "outputs": [
    {
     "data": {
      "text/plain": [
       "['saya suka makan ayam ataupun daging',\n",
       " 'saya suka makan ayam serta ikan',\n",
       " 'saya suka makan ayam serta udang']"
      ]
     },
     "execution_count": 4,
     "metadata": {},
     "output_type": "execute_result"
    }
   ],
   "source": [
    "augmented = malaya.generator.w2v_augmentation(string, \n",
    "                                  word_vector_wiki,\n",
    "                                  soft=True,\n",
    "                                  augment_counts=3)\n",
    "augmented"
   ]
  },
  {
   "cell_type": "markdown",
   "metadata": {},
   "source": [
    "Let we compare word mover distance with original."
   ]
  },
  {
   "cell_type": "code",
   "execution_count": 5,
   "metadata": {},
   "outputs": [
    {
     "data": {
      "text/plain": [
       "1.1325703463561534"
      ]
     },
     "execution_count": 5,
     "metadata": {},
     "output_type": "execute_result"
    }
   ],
   "source": [
    "malaya.word_mover.distance(string.split(), augmented[0].split(), word_vector_wiki)"
   ]
  },
  {
   "cell_type": "code",
   "execution_count": 6,
   "metadata": {},
   "outputs": [
    {
     "data": {
      "text/plain": [
       "0.5428173272147179"
      ]
     },
     "execution_count": 6,
     "metadata": {},
     "output_type": "execute_result"
    }
   ],
   "source": [
    "malaya.word_mover.distance(string.split(), augmented[1].split(), word_vector_wiki)"
   ]
  },
  {
   "cell_type": "code",
   "execution_count": 7,
   "metadata": {},
   "outputs": [
    {
     "data": {
      "text/plain": [
       "1.0979998614006043"
      ]
     },
     "execution_count": 7,
     "metadata": {},
     "output_type": "execute_result"
    }
   ],
   "source": [
    "malaya.word_mover.distance(string.split(), augmented[2].split(), word_vector_wiki)"
   ]
  },
  {
   "cell_type": "markdown",
   "metadata": {},
   "source": [
    "They are pretty good in term of sentence similarity! **Distance that higher than 2 ratios are assumed bad**."
   ]
  },
  {
   "cell_type": "code",
   "execution_count": 8,
   "metadata": {},
   "outputs": [
    {
     "data": {
      "text/plain": [
       "['kerajaan sebenarnya amat sayangkan rakyatnya',\n",
       " 'kerajaan sebenarnya agak sayangkan warganya',\n",
       " 'kerajaan sebenarnya semakin sayangkan rakyatnya',\n",
       " 'kerajaan sebenarnya sangat sayangkan penduduknya',\n",
       " 'kerajaan sebenarnya agak sayangkan penduduknya']"
      ]
     },
     "execution_count": 8,
     "metadata": {},
     "output_type": "execute_result"
    }
   ],
   "source": [
    "augmented = malaya.generator.w2v_augmentation('kerajaan sebenarnya sangat sayangkan rakyatnya', \n",
    "                                  word_vector_wiki,\n",
    "                                  soft=True,\n",
    "                                  augment_counts=5)\n",
    "augmented"
   ]
  },
  {
   "cell_type": "code",
   "execution_count": 9,
   "metadata": {},
   "outputs": [],
   "source": [
    "bahdanau_entities = malaya.entity.deep_model('bahdanau')\n",
    "bahdanau_pos = malaya.pos.deep_model('bahdanau')"
   ]
  },
  {
   "cell_type": "code",
   "execution_count": 10,
   "metadata": {},
   "outputs": [],
   "source": [
    "string = 'KUALA LUMPUR: Sempena sambutan Aidilfitri minggu depan, Perdana Menteri Tun Dr Mahathir Mohamad dan Menteri Pengangkutan Anthony Loke Siew Fook menitipkan pesanan khas kepada orang ramai yang mahu pulang ke kampung halaman masing-masing. Dalam video pendek terbitan Jabatan Keselamatan Jalan Raya (JKJR) itu, Dr Mahathir menasihati mereka supaya berhenti berehat dan tidur sebentar sekiranya mengantuk ketika memandu.'"
   ]
  },
  {
   "cell_type": "code",
   "execution_count": 11,
   "metadata": {},
   "outputs": [],
   "source": [
    "result_entities = bahdanau_entities.predict(string)\n",
    "result_pos = bahdanau_pos.predict(string)"
   ]
  },
  {
   "cell_type": "markdown",
   "metadata": {},
   "source": [
    "## Generate ngram sentences"
   ]
  },
  {
   "cell_type": "code",
   "execution_count": 12,
   "metadata": {},
   "outputs": [
    {
     "data": {
      "text/plain": [
       "['Jalan Raya (JKJR) itu,',\n",
       " 'Pengangkutan Anthony Loke Siew',\n",
       " 'mengantuk ketika memandu.',\n",
       " 'KUALA LUMPUR: Sempena sambutan Aidilfitri',\n",
       " 'masing-masing. Dalam video pendek terbitan',\n",
       " 'terbitan Jabatan Keselamatan Jalan Raya',\n",
       " 'Anthony Loke Siew',\n",
       " 'Jalan Raya (JKJR)',\n",
       " 'Mohamad dan Menteri Pengangkutan',\n",
       " 'ramai yang mahu pulang ke',\n",
       " 'KUALA LUMPUR: Sempena',\n",
       " 'tidur sebentar sekiranya mengantuk',\n",
       " 'pesanan khas kepada',\n",
       " 'Mahathir menasihati mereka supaya',\n",
       " 'Raya (JKJR) itu, Dr',\n",
       " 'KUALA LUMPUR: Sempena sambutan',\n",
       " 'Sempena sambutan Aidilfitri minggu depan,',\n",
       " 'LUMPUR: Sempena sambutan Aidilfitri minggu',\n",
       " 'Loke Siew Fook menitipkan pesanan',\n",
       " 'orang ramai yang mahu pulang',\n",
       " 'pulang ke kampung',\n",
       " 'berehat dan tidur',\n",
       " 'mereka supaya berhenti berehat dan',\n",
       " 'Mohamad dan Menteri',\n",
       " 'Raya (JKJR) itu,',\n",
       " 'Fook menitipkan pesanan khas',\n",
       " 'kampung halaman masing-masing. Dalam video',\n",
       " 'masing-masing. Dalam video',\n",
       " 'pesanan khas kepada orang ramai',\n",
       " 'halaman masing-masing. Dalam video',\n",
       " 'terbitan Jabatan Keselamatan Jalan',\n",
       " 'ke kampung halaman masing-masing.',\n",
       " 'Jabatan Keselamatan Jalan',\n",
       " 'halaman masing-masing. Dalam video pendek',\n",
       " 'Mahathir menasihati mereka supaya berhenti',\n",
       " 'Dr Mahathir Mohamad dan',\n",
       " 'Dr Mahathir menasihati mereka',\n",
       " 'pesanan khas kepada orang',\n",
       " 'orang ramai yang',\n",
       " 'yang mahu pulang ke kampung',\n",
       " 'dan tidur sebentar sekiranya mengantuk',\n",
       " 'video pendek terbitan Jabatan Keselamatan',\n",
       " 'mereka supaya berhenti',\n",
       " 'Dalam video pendek',\n",
       " 'Sempena sambutan Aidilfitri',\n",
       " 'video pendek terbitan',\n",
       " 'Jabatan Keselamatan Jalan Raya (JKJR)',\n",
       " 'Mohamad dan Menteri Pengangkutan Anthony',\n",
       " 'Mahathir Mohamad dan Menteri',\n",
       " 'mahu pulang ke kampung halaman',\n",
       " '(JKJR) itu, Dr Mahathir',\n",
       " 'Dalam video pendek terbitan Jabatan',\n",
       " 'berhenti berehat dan',\n",
       " 'khas kepada orang',\n",
       " 'menitipkan pesanan khas',\n",
       " 'khas kepada orang ramai',\n",
       " 'pendek terbitan Jabatan Keselamatan',\n",
       " 'kepada orang ramai',\n",
       " 'Anthony Loke Siew Fook menitipkan',\n",
       " 'Keselamatan Jalan Raya (JKJR) itu,',\n",
       " 'Dr Mahathir menasihati mereka supaya',\n",
       " 'tidur sebentar sekiranya mengantuk ketika',\n",
       " 'Mahathir menasihati mereka',\n",
       " 'berhenti berehat dan tidur',\n",
       " 'Menteri Pengangkutan Anthony Loke Siew',\n",
       " 'Menteri Tun Dr Mahathir Mohamad',\n",
       " 'sebentar sekiranya mengantuk',\n",
       " 'kampung halaman masing-masing.',\n",
       " 'orang ramai yang mahu',\n",
       " 'berehat dan tidur sebentar',\n",
       " '(JKJR) itu, Dr Mahathir menasihati',\n",
       " 'Loke Siew Fook',\n",
       " 'Dr Mahathir Mohamad dan Menteri',\n",
       " 'pendek terbitan Jabatan Keselamatan Jalan',\n",
       " 'ke kampung halaman masing-masing. Dalam',\n",
       " 'Aidilfitri minggu depan, Perdana',\n",
       " 'sekiranya mengantuk ketika',\n",
       " 'khas kepada orang ramai yang',\n",
       " 'Menteri Tun Dr',\n",
       " 'Sempena sambutan Aidilfitri minggu',\n",
       " 'menasihati mereka supaya',\n",
       " 'menitipkan pesanan khas kepada',\n",
       " 'dan Menteri Pengangkutan Anthony',\n",
       " 'mahu pulang ke',\n",
       " 'kepada orang ramai yang mahu',\n",
       " 'Siew Fook menitipkan pesanan',\n",
       " 'itu, Dr Mahathir menasihati',\n",
       " 'dan tidur sebentar',\n",
       " 'menasihati mereka supaya berhenti berehat',\n",
       " 'Fook menitipkan pesanan',\n",
       " 'mereka supaya berhenti berehat',\n",
       " 'ke kampung halaman',\n",
       " 'menitipkan pesanan khas kepada orang',\n",
       " 'menasihati mereka supaya berhenti',\n",
       " 'Keselamatan Jalan Raya (JKJR)',\n",
       " 'Keselamatan Jalan Raya',\n",
       " '(JKJR) itu, Dr',\n",
       " 'Siew Fook menitipkan',\n",
       " 'Anthony Loke Siew Fook',\n",
       " 'Jabatan Keselamatan Jalan Raya',\n",
       " 'Perdana Menteri Tun Dr Mahathir',\n",
       " 'kepada orang ramai yang',\n",
       " 'Pengangkutan Anthony Loke',\n",
       " 'supaya berhenti berehat dan',\n",
       " 'supaya berhenti berehat',\n",
       " 'ramai yang mahu pulang',\n",
       " 'halaman masing-masing. Dalam',\n",
       " 'Aidilfitri minggu depan, Perdana Menteri',\n",
       " 'pulang ke kampung halaman',\n",
       " 'supaya berhenti berehat dan tidur',\n",
       " 'Tun Dr Mahathir Mohamad dan',\n",
       " 'yang mahu pulang ke',\n",
       " 'Aidilfitri minggu depan,',\n",
       " 'itu, Dr Mahathir menasihati mereka',\n",
       " 'dan Menteri Pengangkutan Anthony Loke',\n",
       " 'berehat dan tidur sebentar sekiranya',\n",
       " 'Menteri Tun Dr Mahathir',\n",
       " 'pendek terbitan Jabatan',\n",
       " 'Fook menitipkan pesanan khas kepada',\n",
       " 'masing-masing. Dalam video pendek',\n",
       " 'depan, Perdana Menteri',\n",
       " 'minggu depan, Perdana Menteri',\n",
       " 'dan Menteri Pengangkutan',\n",
       " 'Dr Mahathir menasihati',\n",
       " 'LUMPUR: Sempena sambutan Aidilfitri',\n",
       " 'Menteri Pengangkutan Anthony Loke',\n",
       " 'kampung halaman masing-masing. Dalam',\n",
       " 'Dalam video pendek terbitan',\n",
       " 'Mahathir Mohamad dan',\n",
       " 'video pendek terbitan Jabatan',\n",
       " 'minggu depan, Perdana Menteri Tun',\n",
       " 'minggu depan, Perdana',\n",
       " 'ramai yang mahu',\n",
       " 'Siew Fook menitipkan pesanan khas',\n",
       " 'Jalan Raya (JKJR) itu, Dr',\n",
       " 'Menteri Pengangkutan Anthony',\n",
       " 'dan tidur sebentar sekiranya',\n",
       " 'tidur sebentar sekiranya',\n",
       " 'yang mahu pulang',\n",
       " 'Tun Dr Mahathir Mohamad',\n",
       " 'Tun Dr Mahathir',\n",
       " 'itu, Dr Mahathir',\n",
       " 'Dr Mahathir Mohamad',\n",
       " 'Mahathir Mohamad dan Menteri Pengangkutan',\n",
       " 'pulang ke kampung halaman masing-masing.',\n",
       " 'sambutan Aidilfitri minggu',\n",
       " 'Raya (JKJR) itu, Dr Mahathir',\n",
       " 'berhenti berehat dan tidur sebentar',\n",
       " 'terbitan Jabatan Keselamatan',\n",
       " 'Perdana Menteri Tun Dr',\n",
       " 'sekiranya mengantuk ketika memandu.',\n",
       " 'sebentar sekiranya mengantuk ketika',\n",
       " 'sebentar sekiranya mengantuk ketika memandu.',\n",
       " 'mahu pulang ke kampung',\n",
       " 'depan, Perdana Menteri Tun Dr',\n",
       " 'depan, Perdana Menteri Tun',\n",
       " 'Pengangkutan Anthony Loke Siew Fook',\n",
       " 'Perdana Menteri Tun',\n",
       " 'sambutan Aidilfitri minggu depan,',\n",
       " 'Loke Siew Fook menitipkan',\n",
       " 'LUMPUR: Sempena sambutan',\n",
       " 'sambutan Aidilfitri minggu depan, Perdana']"
      ]
     },
     "execution_count": 12,
     "metadata": {},
     "output_type": "execute_result"
    }
   ],
   "source": [
    "malaya.generator.sentence_ngram(string, ngram = (3, 5))"
   ]
  },
  {
   "cell_type": "markdown",
   "metadata": {},
   "source": [
    "## Generate ngram sentences for selected POS and Entities"
   ]
  },
  {
   "cell_type": "code",
   "execution_count": 13,
   "metadata": {},
   "outputs": [
    {
     "data": {
      "text/plain": [
       "['Kuala Lumpur Sempena',\n",
       " 'masing-masing video terbitan',\n",
       " 'orang',\n",
       " 'Mahathir Mohamad Menteri',\n",
       " 'terbitan',\n",
       " 'tidur',\n",
       " 'Keselamatan Jalan',\n",
       " 'Anthony Loke Siew',\n",
       " 'minggu depan Perdana',\n",
       " 'halaman masing-masing video',\n",
       " 'sekiranya mengantuk',\n",
       " 'Mohamad Menteri',\n",
       " 'Tun',\n",
       " 'menitipkan pesanan orang',\n",
       " 'kampung halaman masing-masing',\n",
       " 'masing-masing video',\n",
       " 'Lumpur',\n",
       " 'Kuala Lumpur',\n",
       " 'orang pulang',\n",
       " 'menitipkan',\n",
       " 'minggu',\n",
       " 'Jabatan Keselamatan Jalan',\n",
       " 'berhenti',\n",
       " 'Fook menitipkan',\n",
       " 'Loke',\n",
       " 'Menteri Tun',\n",
       " 'Raya Jkjr',\n",
       " 'Keselamatan',\n",
       " 'Aidilfitri minggu',\n",
       " 'Mohamad Menteri Pengangkutan',\n",
       " 'Sempena sambutan Aidilfitri',\n",
       " 'kampung halaman',\n",
       " 'Raya Jkjr Dr',\n",
       " 'Menteri Pengangkutan',\n",
       " 'Anthony',\n",
       " 'sambutan',\n",
       " 'Mohamad',\n",
       " 'Jalan',\n",
       " 'halaman',\n",
       " 'sekiranya',\n",
       " 'Pengangkutan Anthony',\n",
       " 'Pengangkutan',\n",
       " 'Jkjr',\n",
       " 'pulang',\n",
       " 'berhenti berehat tidur',\n",
       " 'berehat',\n",
       " 'pulang kampung halaman',\n",
       " 'Loke Siew Fook',\n",
       " 'Mahathir',\n",
       " 'Jabatan Keselamatan',\n",
       " 'Jabatan',\n",
       " 'berehat tidur',\n",
       " 'video',\n",
       " 'Jkjr Dr Mahathir',\n",
       " 'mengantuk',\n",
       " 'Menteri Tun Dr',\n",
       " 'video terbitan',\n",
       " 'Fook menitipkan pesanan',\n",
       " 'pesanan',\n",
       " 'Siew',\n",
       " 'sekiranya mengantuk memandu',\n",
       " 'Keselamatan Jalan Raya',\n",
       " 'Siew Fook menitipkan',\n",
       " 'minggu depan',\n",
       " 'pulang kampung',\n",
       " 'halaman masing-masing',\n",
       " 'menasihati berhenti',\n",
       " 'mengantuk memandu',\n",
       " 'Pengangkutan Anthony Loke',\n",
       " 'Jalan Raya Jkjr',\n",
       " 'Aidilfitri minggu depan',\n",
       " 'sambutan Aidilfitri',\n",
       " 'depan Perdana Menteri',\n",
       " 'Lumpur Sempena',\n",
       " 'Mahathir menasihati',\n",
       " 'video terbitan Jabatan',\n",
       " 'Sempena sambutan',\n",
       " 'Jkjr Dr',\n",
       " 'Jalan Raya',\n",
       " 'Loke Siew',\n",
       " 'tidur sekiranya mengantuk',\n",
       " 'depan Perdana',\n",
       " 'memandu',\n",
       " 'Mahathir Mohamad',\n",
       " 'Dr Mahathir menasihati',\n",
       " 'Fook',\n",
       " 'Menteri',\n",
       " 'Siew Fook',\n",
       " 'Dr',\n",
       " 'orang pulang kampung',\n",
       " 'Menteri Pengangkutan Anthony',\n",
       " 'terbitan Jabatan',\n",
       " 'Aidilfitri',\n",
       " 'masing-masing',\n",
       " 'Tun Dr Mahathir',\n",
       " 'tidur sekiranya',\n",
       " 'Dr Mahathir Mohamad',\n",
       " 'sambutan Aidilfitri minggu',\n",
       " 'Tun Dr',\n",
       " 'menitipkan pesanan',\n",
       " 'menasihati',\n",
       " 'berhenti berehat',\n",
       " 'terbitan Jabatan Keselamatan',\n",
       " 'menasihati berhenti berehat',\n",
       " 'Lumpur Sempena sambutan',\n",
       " 'Perdana Menteri',\n",
       " 'Anthony Loke',\n",
       " 'pesanan orang pulang',\n",
       " 'Sempena',\n",
       " 'depan',\n",
       " 'Mahathir menasihati berhenti',\n",
       " 'Perdana Menteri Tun',\n",
       " 'Perdana',\n",
       " 'Kuala',\n",
       " 'Dr Mahathir',\n",
       " 'berehat tidur sekiranya',\n",
       " 'Raya',\n",
       " 'pesanan orang',\n",
       " 'kampung']"
      ]
     },
     "execution_count": 13,
     "metadata": {},
     "output_type": "execute_result"
    }
   ],
   "source": [
    "generated_grams = malaya.generator.pos_entities_ngram(\n",
    "    result_pos,\n",
    "    result_entities,\n",
    "    ngram = (1, 3),\n",
    "    accept_pos = ['NOUN', 'PROPN', 'VERB'],\n",
    "    accept_entities = ['law', 'location', 'organization', 'person', 'time'],\n",
    ")\n",
    "generated_grams"
   ]
  }
 ],
 "metadata": {
  "kernelspec": {
   "display_name": "Python 3",
   "language": "python",
   "name": "python3"
  },
  "language_info": {
   "codemirror_mode": {
    "name": "ipython",
    "version": 3
   },
   "file_extension": ".py",
   "mimetype": "text/x-python",
   "name": "python",
   "nbconvert_exporter": "python",
   "pygments_lexer": "ipython3",
   "version": "3.6.5"
  }
 },
 "nbformat": 4,
 "nbformat_minor": 2
}
