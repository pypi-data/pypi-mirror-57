{
 "cells": [
  {
   "cell_type": "markdown",
   "metadata": {},
   "source": [
    "# Convert Calcium Imaging data from .mat to NWB file\n",
    "More details on [NWB Calcium imaging data](https://pynwb.readthedocs.io/en/stable/tutorials/domain/ophys.html#calcium-imaging-data).\n",
    "\n",
    "**0.** We start importing the relevant modules to read from .mat file and to manipulate NWB file groups and datasets"
   ]
  },
  {
   "cell_type": "code",
   "execution_count": null,
   "metadata": {},
   "outputs": [],
   "source": [
    "from datetime import datetime\n",
    "from dateutil.tz import tzlocal\n",
    "from pynwb import NWBFile, NWBHDF5IO, ProcessingModule\n",
    "from pynwb.ophys import TwoPhotonSeries, OpticalChannel, ImageSegmentation, Fluorescence, DfOverF, MotionCorrection\n",
    "from pynwb.device import Device\n",
    "from pynwb.base import TimeSeries\n",
    "from hdmf.backends.hdf5 import H5DataIO\n",
    "\n",
    "import scipy.io\n",
    "import numpy as np\n",
    "import h5py\n",
    "import os"
   ]
  },
  {
   "cell_type": "markdown",
   "metadata": {},
   "source": [
    "**1.** Load the .mat files containing calcium imaging data"
   ]
  },
  {
   "cell_type": "code",
   "execution_count": null,
   "metadata": {},
   "outputs": [],
   "source": [
    "path_to_files = '/Users/bendichter/Desktop/Axel Lab/data'\n",
    "\n",
    "# Open info file\n",
    "fname0 = 'fly2_run1_info.mat'\n",
    "fpath0 = os.path.join(path_to_files, fname0)\n",
    "f_info = scipy.io.loadmat(fpath0, struct_as_record=False, squeeze_me=True)\n",
    "info = f_info['info']\n",
    "\n",
    "# Open .mat file containing Calcium Imaging data\n",
    "fname1 = '2019_04_18_Nsyb_NLS6s_Su_walk_G_fly2_run1_8401reg.mat'\n",
    "fpath1 = os.path.join(path_to_files, fname1)\n",
    "file = h5py.File(fpath1, 'r')\n",
    "options = file['options']\n",
    "landmarkThreshold = file['landmarkThreshold']\n",
    "templates = file['templates']\n",
    "R = file['R']\n",
    "Y = file['Y']"
   ]
  },
  {
   "cell_type": "markdown",
   "metadata": {},
   "source": [
    "**2.** Create a new [NWB file instance](https://pynwb.readthedocs.io/en/stable/pynwb.file.html#pynwb.file.NWBFile), fill it with all the relevant information"
   ]
  },
  {
   "cell_type": "code",
   "execution_count": null,
   "metadata": {},
   "outputs": [],
   "source": [
    "#Create new NWB file\n",
    "nwb = NWBFile(session_description='my CaIm recording', \n",
    "              identifier='EXAMPLE_ID', \n",
    "              session_start_time=datetime.now(tzlocal()),\n",
    "              experimenter='Evan Schaffer',\n",
    "              lab='Axel lab',\n",
    "              institution='Columbia University',\n",
    "              experiment_description='EXPERIMENT_DESCRIPTION',\n",
    "              session_id='IDX')\n",
    "print(nwb)"
   ]
  },
  {
   "cell_type": "markdown",
   "metadata": {},
   "source": [
    "**3.** Create [Device](https://pynwb.readthedocs.io/en/stable/pynwb.device.html#pynwb.device.Device) and [OpticalChannel](https://pynwb.readthedocs.io/en/stable/pynwb.ophys.html#pynwb.ophys.OpticalChannel) containers to be used by a specific [ImagingPlane](https://pynwb.readthedocs.io/en/stable/pynwb.ophys.html#pynwb.ophys.ImagingPlane)."
   ]
  },
  {
   "cell_type": "code",
   "execution_count": null,
   "metadata": {},
   "outputs": [],
   "source": [
    "#Create and add device\n",
    "device = Device('Device')\n",
    "nwb.add_device(device)\n",
    "\n",
    "# Create an Imaging Plane for Yellow\n",
    "optical_channel_Y = OpticalChannel(name='OpticalChannel_Y',\n",
    "                                   description='2P Optical Channel',\n",
    "                                   emission_lambda=510.)\n",
    "imaging_plane_Y = nwb.create_imaging_plane(name='ImagingPlane_Y',\n",
    "                                           optical_channel=optical_channel_Y,\n",
    "                                           description='Imaging plane',\n",
    "                                           device=device,\n",
    "                                           excitation_lambda=488., \n",
    "                                           imaging_rate=info.daq.scanRate,\n",
    "                                           indicator='NLS-GCaMP6s',\n",
    "                                           location='whole central brain')\n",
    "\n",
    "# Create an Imaging Plane for Red\n",
    "optical_channel_R = OpticalChannel(name='OpticalChannel_R',\n",
    "                                   description='2P Optical Channel',\n",
    "                                   emission_lambda=633.)\n",
    "imaging_plane_R = nwb.create_imaging_plane(name='ImagingPlane_R',\n",
    "                                           optical_channel=optical_channel_R,\n",
    "                                           description='Imaging plane',\n",
    "                                           device=device,\n",
    "                                           excitation_lambda=488., \n",
    "                                           imaging_rate=info.daq.scanRate,\n",
    "                                           indicator='redStinger',\n",
    "                                           location='whole central brain')\n",
    "\n",
    "print(nwb)"
   ]
  },
  {
   "cell_type": "markdown",
   "metadata": {},
   "source": [
    "**4.** Create a [TwoPhotonSeries](https://pynwb.readthedocs.io/en/stable/pynwb.ophys.html#pynwb.ophys.TwoPhotonSeries) container to store the raw data. Raw data usually goes on the `acquisition` group of NWB files."
   ]
  },
  {
   "cell_type": "code",
   "execution_count": null,
   "metadata": {},
   "outputs": [],
   "source": [
    "#Change dimensions from (X,Y,Z,T) in mat file to (T,X,Y,Z) nwb standard\n",
    "Y = np.moveaxis(Y, 1, 2)\n",
    "R = np.moveaxis(R, 1, 2)\n",
    "print('Y dims: ', Y.shape)\n",
    "print('R dims: ', R.shape)\n",
    "\n",
    "Y = H5DataIO(Y, compression=True)\n",
    "R = H5DataIO(R, compression=True)\n",
    "\n",
    "#Stores raw data in acquisition group\n",
    "raw_image_series_Y = TwoPhotonSeries(name='TwoPhotonSeries_Y', \n",
    "                                     imaging_plane=imaging_plane_Y,\n",
    "                                     rate=info.daq.scanRate,\n",
    "                                     dimension=Y.shape,\n",
    "                                     data=Y) \n",
    "\n",
    "raw_image_series_R = TwoPhotonSeries(name='TwoPhotonSeries_R', \n",
    "                                     imaging_plane=imaging_plane_R,\n",
    "                                     rate=info.daq.scanRate,\n",
    "                                     dimension=R.shape,\n",
    "                                     data=R) \n",
    "\n",
    "nwb.add_acquisition(raw_image_series_Y)\n",
    "nwb.add_acquisition(raw_image_series_R)\n",
    "\n",
    "print(nwb.acquisition)"
   ]
  },
  {
   "cell_type": "markdown",
   "metadata": {},
   "source": [
    "**5.** The NWB structure is is place, but we still need to save it to file:"
   ]
  },
  {
   "cell_type": "code",
   "execution_count": null,
   "metadata": {},
   "outputs": [],
   "source": [
    "#Saves to NWB file\n",
    "fname_nwb = 'file_1_compressed.nwb'\n",
    "fpath_nwb = os.path.join(path_to_files, fname_nwb)\n",
    "with NWBHDF5IO(fpath_nwb, mode='w') as io:\n",
    "    io.write(nwb)\n",
    "print('File saved with size: ', os.stat(fpath_nwb).st_size/1e6, ' mb')"
   ]
  },
  {
   "cell_type": "markdown",
   "metadata": {},
   "source": [
    "**6.** Finally, let's load it and check the file contents:"
   ]
  },
  {
   "cell_type": "code",
   "execution_count": null,
   "metadata": {},
   "outputs": [],
   "source": [
    "#Loads NWB file\n",
    "with NWBHDF5IO(fpath_nwb, mode='r') as io:\n",
    "    nwb = io.read()\n",
    "    print(nwb)"
   ]
  }
 ],
 "metadata": {
  "kernelspec": {
   "display_name": "Python 3",
   "language": "python",
   "name": "python3"
  },
  "language_info": {
   "codemirror_mode": {
    "name": "ipython",
    "version": 3
   },
   "file_extension": ".py",
   "mimetype": "text/x-python",
   "name": "python",
   "nbconvert_exporter": "python",
   "pygments_lexer": "ipython3",
   "version": "3.7.3"
  }
 },
 "nbformat": 4,
 "nbformat_minor": 2
}
