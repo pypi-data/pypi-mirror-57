{
 "cells": [
  {
   "cell_type": "markdown",
   "metadata": {},
   "source": [
    "# Convert Calcium Imaging data from .npz to NWB file\n",
    "More details on [NWB Calcium imaging data](https://pynwb.readthedocs.io/en/stable/tutorials/domain/ophys.html#calcium-imaging-data).\n",
    "\n",
    "**0.** We start importing the relevant modules to manipulate NWB file groups and datasets"
   ]
  },
  {
   "cell_type": "code",
   "execution_count": null,
   "metadata": {},
   "outputs": [],
   "source": [
    "from datetime import datetime\n",
    "from dateutil.tz import tzlocal\n",
    "from pynwb import NWBFile, NWBHDF5IO, ProcessingModule\n",
    "from pynwb.ophys import TwoPhotonSeries, OpticalChannel, ImageSegmentation, Fluorescence, DfOverF, MotionCorrection\n",
    "from pynwb.device import Device\n",
    "from pynwb.base import TimeSeries\n",
    "from pynwb.behavior import SpatialSeries, Position\n",
    "from pynwb.image import ImageSeries\n",
    "from ndx_grayscalevolume import GrayscaleVolume\n",
    "\n",
    "import scipy.io\n",
    "import numpy as np\n",
    "import h5py\n",
    "import os\n",
    "import matplotlib.pyplot as plt"
   ]
  },
  {
   "cell_type": "markdown",
   "metadata": {},
   "source": [
    "**1.** Importing the data in `.npz` files"
   ]
  },
  {
   "cell_type": "code",
   "execution_count": null,
   "metadata": {},
   "outputs": [],
   "source": [
    "files_path = '/Users/bendichter/Desktop/Axel Lab/data/2019_07_01_fly2'\n",
    "files_path = r'C:\\Users\\Luiz\\Google Drive (luiz@taufferconsulting.com)\\client_ben\\project_axel_lab'\n",
    "\n",
    "fname1 = '2019_07_01_Nsyb_NLS6s_walk_fly2.npz'\n",
    "fpath1 = os.path.join(files_path, fname1)\n",
    "file1 = np.load(fpath1)\n",
    "print('First file:')\n",
    "print('Groups:', file1.files)\n",
    "print('Dims (height,width,depth):', file1['dims'])\n",
    "print('Time shape: ', file1['time'].shape)\n",
    "print('trialFlag shape: ', file1['trialFlag'].shape)\n",
    "print('dFF shape: ', file1['dFF'].shape)\n",
    "print('Ball shape: ', file1['ball'].shape)\n",
    "print('dlc shape: ', file1['dlc'].shape)\n",
    "\n",
    "fname2 = '2019_07_01_Nsyb_NLS6s_walk_fly2_A.npz'\n",
    "fpath2 = os.path.join(files_path, fname2)\n",
    "file2 = np.load(fpath2)\n",
    "print('     ')\n",
    "print('Second file - Sparse Matrix:')\n",
    "print('Groups:', file2.files)\n",
    "print('Indices: ', file2['indices'], '  | Shape: ',file2['indices'].shape)\n",
    "print('Indptr: ', file2['indptr'], '  | Shape: ',file2['indptr'].shape)\n",
    "print('Format: ', file2['format'])\n",
    "print('Shape: ', file2['shape'])\n",
    "print('Data: ', file2['data'], '  | Shape: ',file2['data'].shape)\n",
    "\n",
    "fname3 = '2019_07_01_Nsyb_NLS6s_walk_fly2_ref_im.npz'\n",
    "fpath3 = os.path.join(files_path, fname3)\n",
    "file3 = np.load(fpath3)\n",
    "print('   ')\n",
    "print('Third file:')\n",
    "print('Groups:', file3.files)\n",
    "print('Im shape:', file3['im'].shape)"
   ]
  },
  {
   "cell_type": "markdown",
   "metadata": {},
   "source": [
    "**2.** Create a new NWB file instance, OpticalChannel, ImagingPlane and ProcessingModule."
   ]
  },
  {
   "cell_type": "code",
   "execution_count": null,
   "metadata": {},
   "outputs": [],
   "source": [
    "#Create new NWB file\n",
    "nwb = NWBFile(session_description='my CaIm recording', \n",
    "              identifier='EXAMPLE_ID', \n",
    "              session_start_time=datetime.now(tzlocal()),\n",
    "              experimenter='Evan Schaffer',\n",
    "              lab='Axel lab',\n",
    "              institution='Columbia University',\n",
    "              experiment_description='EXPERIMENT_DESCRIPTION',\n",
    "              session_id='IDX')\n",
    "\n",
    "#Create and add device\n",
    "device = Device('Device')\n",
    "nwb.add_device(device)\n",
    "\n",
    "# Create an Imaging Plane\n",
    "fs =1/(file1['time'][0][1]-file1['time'][0][0])\n",
    "tt = file1['time'].ravel()\n",
    "optical_channel = OpticalChannel(name='OpticalChannel',\n",
    "                                 description='2P Optical Channel',\n",
    "                                 emission_lambda=510.)\n",
    "imaging_plane = nwb.create_imaging_plane(name='ImagingPlane',\n",
    "                                         optical_channel=optical_channel,\n",
    "                                         description='Imaging plane',\n",
    "                                         device=device,\n",
    "                                         excitation_lambda=488., \n",
    "                                         imaging_rate=fs,\n",
    "                                         indicator='NLS-GCaMP6s',\n",
    "                                         location='whole central brain')\n",
    "\n",
    "#Creates ophys ProcessingModule and add to file\n",
    "ophys_module = ProcessingModule(name='ophys',\n",
    "                                description='contains optical physiology processed data.')\n",
    "nwb.add_processing_module(ophys_module)"
   ]
  },
  {
   "cell_type": "markdown",
   "metadata": {},
   "source": [
    "**3.** Now transform the lists of indices into (xp,yp,zp) masks. With the masks created, we can add them to a plane segmentation class."
   ]
  },
  {
   "cell_type": "code",
   "execution_count": null,
   "metadata": {},
   "outputs": [],
   "source": [
    "def make_voxel_mask(indices, dims):\n",
    "    \"\"\"\n",
    "    indices - List with voxels indices, e.g. [64371, 89300, 89301, ..., 3763753, 3763842, 3763843]\n",
    "    dims - (height, width, depth) in pixels\n",
    "    \"\"\"\n",
    "    voxel_mask = []\n",
    "    for ind in indices:\n",
    "        zp = np.floor(ind/(dims[0]*dims[1])).astype('int')\n",
    "        rest = ind%(dims[0]*dims[1])\n",
    "        yp = np.floor(rest/dims[0]).astype('int')\n",
    "        xp = rest%dims[0]\n",
    "        voxel_mask.append((xp,yp,zp,1))\n",
    "    \n",
    "    return voxel_mask\n",
    "\n",
    "#Create Image Segmentation compartment\n",
    "img_seg = ImageSegmentation()\n",
    "ophys_module.add(img_seg)\n",
    "\n",
    "#Create plane segmentation and add ROIs\n",
    "ps = img_seg.create_plane_segmentation(description='plane segmentation',\n",
    "                                       imaging_plane=imaging_plane)\n",
    "#Call function\n",
    "indices = file2['indices']\n",
    "indptr = file2['indptr']\n",
    "dims = np.squeeze(file1['dims'])\n",
    "\n",
    "for start, stop in zip(indptr, indptr[1:]):\n",
    "    voxel_mask = make_voxel_mask(indices[start:stop], dims)\n",
    "    ps.add_roi(voxel_mask=voxel_mask)"
   ]
  },
  {
   "cell_type": "markdown",
   "metadata": {},
   "source": [
    "**4.** Visualize voxel masks in 3D"
   ]
  },
  {
   "cell_type": "code",
   "execution_count": null,
   "metadata": {},
   "outputs": [],
   "source": [
    "from mpl_toolkits.mplot3d import Axes3D\n",
    "from itertools import cycle\n",
    "\n",
    "%matplotlib notebook\n",
    "fig = plt.figure()\n",
    "ax = fig.add_subplot(111, projection='3d')\n",
    "for select, c in zip(range(len(indptr)-1),cycle(['r','g','k','b','m','w','y','brown'])):\n",
    "    x, y, z, _ = np.array(ps['voxel_mask'][select]).T\n",
    "    ax.scatter(x, y, z, c=c, marker='.')"
   ]
  },
  {
   "cell_type": "markdown",
   "metadata": {},
   "source": [
    "**5.** With the ROIs created, we can add the dF/F data"
   ]
  },
  {
   "cell_type": "code",
   "execution_count": null,
   "metadata": {},
   "outputs": [],
   "source": [
    "#DFF measures\n",
    "dff = DfOverF(name='DfOverF')\n",
    "ophys_module.add(dff)\n",
    "\n",
    "#create ROI regions\n",
    "roi_region = ps.create_roi_table_region(description='RoiTableRegion', \n",
    "                                        region=list(range(len(indptr)-1)))\n",
    "\n",
    "#create ROI response series\n",
    "dff_data = file1['dFF']\n",
    "dFF_series = dff.create_roi_response_series(\n",
    "    name='RoiResponseSeries', data=dff_data.T,\n",
    "    unit='NA', rois=roi_region, timestamps=tt)"
   ]
  },
  {
   "cell_type": "markdown",
   "metadata": {},
   "source": [
    "**6.** Adding a reference Volume Image"
   ]
  },
  {
   "cell_type": "code",
   "execution_count": null,
   "metadata": {},
   "outputs": [],
   "source": [
    "#Creates GrayscaleVolume containers\n",
    "grayscale_volume = GrayscaleVolume(name='GrayscaleVolume',\n",
    "                                   data=file3['im'])\n",
    "ophys_module.add(grayscale_volume)"
   ]
  },
  {
   "cell_type": "markdown",
   "metadata": {},
   "source": [
    "**6.** Save trial times"
   ]
  },
  {
   "cell_type": "code",
   "execution_count": null,
   "metadata": {},
   "outputs": [],
   "source": [
    "tt = file1['time'].ravel()\n",
    "trialFlag = file1['trialFlag'].ravel()\n",
    "trial_inds = np.hstack((0, np.where(np.diff(trialFlag))[0], trialFlag.shape[0]-1))\n",
    "trial_times = tt[trial_inds]\n",
    "\n",
    "for start, stop in zip(trial_times, trial_times[1:]):\n",
    "    nwb.add_trial(start_time=start, stop_time=stop)"
   ]
  },
  {
   "cell_type": "markdown",
   "metadata": {},
   "source": [
    "**7.** Save ball data"
   ]
  },
  {
   "cell_type": "code",
   "execution_count": null,
   "metadata": {},
   "outputs": [],
   "source": [
    "behavior_mod = nwb.create_processing_module('behavior',\n",
    "                             'holds processed behavior data')\n",
    "behavior_mod.add(TimeSeries(name='ball_motion',\n",
    "                            data=file1['ball'].ravel(),\n",
    "                            timestamps=tt,\n",
    "                            unit='unknown'))"
   ]
  },
  {
   "cell_type": "markdown",
   "metadata": {},
   "source": [
    "**8.** Save body reference points positions over time"
   ]
  },
  {
   "cell_type": "code",
   "execution_count": null,
   "metadata": {},
   "outputs": [],
   "source": [
    "#Re-arranges spatial data of body-points positions tracking\n",
    "pos = file1['dlc']\n",
    "nPoints = 8\n",
    "pos_reshaped = pos.reshape((-1,nPoints,3))  #dims=(nSamples,nPoints,3)\n",
    "\n",
    "# Creates a Position object\n",
    "position = Position()\n",
    "\n",
    "#Creates one SpatialSeries for each body-point position\n",
    "for i in range(nPoints):\n",
    "    position.create_spatial_series(name='SpatialSeries_'+str(i),\n",
    "                                   data=pos_reshaped[:,i,:],\n",
    "                                   timestamps=tt,\n",
    "                                   reference_frame='Description defining what the zero-position is.')\n",
    "\n",
    "behavior_mod.add(position)"
   ]
  },
  {
   "cell_type": "markdown",
   "metadata": {},
   "source": [
    "**9.** Saving the NWB file"
   ]
  },
  {
   "cell_type": "code",
   "execution_count": null,
   "metadata": {},
   "outputs": [],
   "source": [
    "#Saves to NWB file\n",
    "path_to_files = ''\n",
    "fname_nwb = 'file_1.nwb'\n",
    "fpath_nwb = os.path.join(path_to_files, fname_nwb)\n",
    "with NWBHDF5IO(fpath_nwb, mode='w') as io:\n",
    "    io.write(nwb)\n",
    "print('File saved with size: ', os.stat(fpath_nwb).st_size/1e6, ' mb')"
   ]
  },
  {
   "cell_type": "markdown",
   "metadata": {},
   "source": [
    "**10.** Loading and checking the new NWB file"
   ]
  },
  {
   "cell_type": "code",
   "execution_count": null,
   "metadata": {},
   "outputs": [],
   "source": [
    "#Loads NWB file\n",
    "with NWBHDF5IO(fpath_nwb, mode='r') as io:\n",
    "    nwb = io.read()\n",
    "    print(nwb)"
   ]
  }
 ],
 "metadata": {
  "kernelspec": {
   "display_name": "Python 3",
   "language": "python",
   "name": "python3"
  },
  "language_info": {
   "codemirror_mode": {
    "name": "ipython",
    "version": 3
   },
   "file_extension": ".py",
   "mimetype": "text/x-python",
   "name": "python",
   "nbconvert_exporter": "python",
   "pygments_lexer": "ipython3",
   "version": "3.7.4"
  }
 },
 "nbformat": 4,
 "nbformat_minor": 2
}
