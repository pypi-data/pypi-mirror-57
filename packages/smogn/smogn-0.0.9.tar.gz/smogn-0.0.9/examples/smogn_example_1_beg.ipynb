{
  "nbformat": 4,
  "nbformat_minor": 0,
  "metadata": {
    "colab": {
      "name": "smogn-example-1-beg.ipynb",
      "provenance": [],
      "collapsed_sections": []
    },
    "kernelspec": {
      "name": "python3",
      "display_name": "Python 3"
    }
  },
  "cells": [
    {
      "cell_type": "markdown",
      "metadata": {
        "id": "IoG91SaLwtuq",
        "colab_type": "text"
      },
      "source": [
        "# SMOGN (0.0.9): Usage\n",
        "---\n",
        "## Example 1: Beginner\n"
      ]
    },
    {
      "cell_type": "markdown",
      "metadata": {
        "id": "YOSHCUHR--nw",
        "colab_type": "text"
      },
      "source": [
        "## Installation\n",
        "\n",
        "First, we install SMOGN from the Github repository. Alternatively, we could install from the official PyPI distribution. However, the developer version is utilized here for the latest release."
      ]
    },
    {
      "cell_type": "code",
      "metadata": {
        "id": "u9SqBgJ8rduy",
        "colab_type": "code",
        "colab": {}
      },
      "source": [
        "## suppress install output\n",
        "%%capture\n",
        "\n",
        "## install pypi release\n",
        "# !pip install smogn\n",
        "\n",
        "## install developer version\n",
        "!pip install git+https://github.com/nickkunz/smogn.git"
      ],
      "execution_count": 0,
      "outputs": []
    },
    {
      "cell_type": "markdown",
      "metadata": {
        "id": "gKhs9eJd_Ab6",
        "colab_type": "text"
      },
      "source": [
        "## Dependencies\n",
        "Next, we load the required dependencies. Here we import `smogn` to later apply Synthetic Minority Over-Sampling Technique for Regression with Gaussian Noise. In addition, we use `pandas` for data handling, and `seaborn` to visualize our results."
      ]
    },
    {
      "cell_type": "code",
      "metadata": {
        "id": "fPB6tSLinAFS",
        "colab_type": "code",
        "colab": {}
      },
      "source": [
        "## load dependencies\n",
        "import smogn\n",
        "import pandas\n",
        "import seaborn"
      ],
      "execution_count": 0,
      "outputs": []
    },
    {
      "cell_type": "markdown",
      "metadata": {
        "id": "do8cJ25c_HcF",
        "colab_type": "text"
      },
      "source": [
        "## Data\n",
        "After, we load our data. In this example, we use the Ames Housing Dataset training split retreived from Kaggle, originally complied by Dean De Cock. In this case, we name our training set `housing`\n"
      ]
    },
    {
      "cell_type": "code",
      "metadata": {
        "id": "RaFdQ2od-qVO",
        "colab_type": "code",
        "colab": {}
      },
      "source": [
        "## load data\n",
        "housing = pandas.read_csv(\n",
        "\n",
        "    ## http://jse.amstat.org/v19n3/decock.pdf\n",
        "    'https://raw.githubusercontent.com/nickkunz/smogn/master/data/housing.csv'\n",
        ")"
      ],
      "execution_count": 0,
      "outputs": []
    },
    {
      "cell_type": "markdown",
      "metadata": {
        "id": "D71nm6Co_KK-",
        "colab_type": "text"
      },
      "source": [
        "## Synthetic Minority Over-Sampling Technique for Regression with Gaussian Noise\n",
        "Here we cover the focus of this example. We call the `smoter` function from this package (`smogn.smoter`) and satisfy the minimum required arguments: `data` and `y`.\n",
        "\n",
        "* The `data` argument takes a Pandas DataFrame, which contains the training set split. In this example, we input the previously loaded `housing` training set with follow input: `data = housing`\n",
        "\n",
        "* The `y` argument takes a string, which specifies a continuous reponse variable by header name. In this example, we input `'SalePrice'` in the interest of predicting the sale price of homes in Ames, Iowa with the following input: `y = 'SalePrice'`"
      ]
    },
    {
      "cell_type": "code",
      "metadata": {
        "id": "9qRV9hjPjJVF",
        "colab_type": "code",
        "colab": {}
      },
      "source": [
        "## conduct smogn\n",
        "housing_smogn = smogn.smoter(\n",
        "    \n",
        "    data = housing,  ## pandas dataframe\n",
        "    y = 'SalePrice'  ## string (header name)\n",
        ")"
      ],
      "execution_count": 0,
      "outputs": []
    },
    {
      "cell_type": "markdown",
      "metadata": {
        "id": "NBKhYMx4OmKW",
        "colab_type": "text"
      },
      "source": [
        "**Note:**\n",
        "\n",
        "In this example, the regions of interest within the response variable `y` are automatically determined by the box plot extremes. The extreme values are considered rare \"minorty\" values are over-sampled. The values closer the median are considered \"majority\" values and are under-sampled.\n",
        "\n",
        "If there are no box plot extremes contained in the reponse variable `y`, the argument `rel_method = manual` must be specified, and an input matrix must be placed into the argument `rel_ctrl_pts_rg` indicating the regions of rarity in `y`.\n",
        "\n",
        "More information regarding the matrix input to the `rel_ctrl_pts_rg` argument and manual over-sampling can be found within the function's doc string, as well as in **Example 3: Advanced**.\n",
        "\n",
        "It is also important to mention that by default, `smogn.smoter` will first automatically remove columns containing missing values and then remove rows, as it cannot input data containing missing values. This feature can be changed with the boolean arguments `drop_na_col = False` and `drop_na_rows = False`."
      ]
    },
    {
      "cell_type": "markdown",
      "metadata": {
        "id": "JSYCW_1t-zra",
        "colab_type": "text"
      },
      "source": [
        "## Results\n",
        "After conducting Synthetic Minority Over-Sampling Technique for Regression with Gaussian Noise, we briefly examine the results. \n",
        "\n",
        "We can see that the number of observations (rows) in the original training set increased from 1460 to 1912, while the number of features (columns) decreased from 81 to 62. \n",
        "\n",
        "Recall that `smogn.smoter` automatically removes features containing missing values. In this case, 19 features contained missing values and were therefore omitted.\n",
        "\n",
        "The additional 452 observations were a result of over-sampling. More detailed information in this regard can be found in the original paper cited in the **References** section.\n",
        "\n"
      ]
    },
    {
      "cell_type": "code",
      "metadata": {
        "id": "spqtcHX1yTfM",
        "colab_type": "code",
        "outputId": "52dc045c-4a6e-482f-c58a-24edc5579195",
        "colab": {
          "base_uri": "https://localhost:8080/",
          "height": 34
        }
      },
      "source": [
        "## dimensions - original data \n",
        "housing.shape"
      ],
      "execution_count": 5,
      "outputs": [
        {
          "output_type": "execute_result",
          "data": {
            "text/plain": [
              "(1460, 81)"
            ]
          },
          "metadata": {
            "tags": []
          },
          "execution_count": 5
        }
      ]
    },
    {
      "cell_type": "code",
      "metadata": {
        "id": "BJnFAM8VpTUZ",
        "colab_type": "code",
        "outputId": "5b673a05-c477-4858-d83f-83eb9791c904",
        "colab": {
          "base_uri": "https://localhost:8080/",
          "height": 34
        }
      },
      "source": [
        "## dimensions - modified data\n",
        "housing_smogn.shape"
      ],
      "execution_count": 6,
      "outputs": [
        {
          "output_type": "execute_result",
          "data": {
            "text/plain": [
              "(1912, 62)"
            ]
          },
          "metadata": {
            "tags": []
          },
          "execution_count": 6
        }
      ]
    },
    {
      "cell_type": "markdown",
      "metadata": {
        "id": "WgJWRm3AN-Vn",
        "colab_type": "text"
      },
      "source": [
        "Further examining the results, we can see that the distribution of the response variable has changed. By calling the `box_plot_stats` function from this package (`smogn.box_plot_stats`) we quickly verify.\n",
        "\n",
        "Notice that the modified training set's box plot five number summary has changed, where the distribution of the response variable has *skewed right* when compared to the original training set."
      ]
    },
    {
      "cell_type": "code",
      "metadata": {
        "id": "6IjxkbBwspsN",
        "colab_type": "code",
        "outputId": "415aa57e-7186-4b7a-d4b2-dfad403e38ec",
        "colab": {
          "base_uri": "https://localhost:8080/",
          "height": 34
        }
      },
      "source": [
        "## box plot stats - original data \n",
        "smogn.box_plot_stats(housing['SalePrice'])['stats']"
      ],
      "execution_count": 7,
      "outputs": [
        {
          "output_type": "execute_result",
          "data": {
            "text/plain": [
              "array([ 34900., 129950., 163000., 214000., 340000.])"
            ]
          },
          "metadata": {
            "tags": []
          },
          "execution_count": 7
        }
      ]
    },
    {
      "cell_type": "code",
      "metadata": {
        "id": "MCZtVBfU-CLM",
        "colab_type": "code",
        "outputId": "c56174a1-bf78-4930-fb2a-b05f4277f01c",
        "colab": {
          "base_uri": "https://localhost:8080/",
          "height": 34
        }
      },
      "source": [
        "## box plot stats - modified data\n",
        "smogn.box_plot_stats(housing_smogn['SalePrice'])['stats']"
      ],
      "execution_count": 8,
      "outputs": [
        {
          "output_type": "execute_result",
          "data": {
            "text/plain": [
              "array([ 34900. , 140000. , 194100.5, 280969.5, 485000. ])"
            ]
          },
          "metadata": {
            "tags": []
          },
          "execution_count": 8
        }
      ]
    },
    {
      "cell_type": "markdown",
      "metadata": {
        "id": "Nex80wz1-VKY",
        "colab_type": "text"
      },
      "source": [
        "Plotting the results of both the original and modified training sets, the *skewed right* distribution of the response variable in the modified training set becomes more evident.\n",
        "\n",
        "In this example, SMOGN over-sampled observations whose `'SalePrice'` was found to be extremely high according to the box plot (those considered \"minority\") and under-sampled observations that were closer to the median (those considered \"majority\").\n",
        "\n",
        "This is the quickest implementation when the `y` values of interest in predicting may be unclear within a given dataset.\n",
        "\n"
      ]
    },
    {
      "cell_type": "code",
      "metadata": {
        "id": "mr_My8zHEM_9",
        "colab_type": "code",
        "outputId": "5d7f753a-0e0b-46ba-867f-b7f0af001264",
        "colab": {
          "base_uri": "https://localhost:8080/",
          "height": 282
        }
      },
      "source": [
        "## distribution plot\n",
        "seaborn.kdeplot(housing['SalePrice'], label = \"Original\")\n",
        "seaborn.kdeplot(housing_smogn['SalePrice'], label = \"Modified\")"
      ],
      "execution_count": 9,
      "outputs": [
        {
          "output_type": "execute_result",
          "data": {
            "text/plain": [
              "<matplotlib.axes._subplots.AxesSubplot at 0x7f24ba08e080>"
            ]
          },
          "metadata": {
            "tags": []
          },
          "execution_count": 9
        },
        {
          "output_type": "display_data",
          "data": {
            "image/png": "[encoded data removed]",
            "text/plain": [
              "<Figure size 432x288 with 1 Axes>"
            ]
          },
          "metadata": {
            "tags": []
          }
        }
      ]
    },
    {
      "cell_type": "markdown",
      "metadata": {
        "id": "XA5_E-5oQF18",
        "colab_type": "text"
      },
      "source": [
        "## Conclusion\n",
        "In this example, we covered the fundamentals of SMOGN. We utilized the Ames Housing Dataset to conduct Synthetic Minority Over-Sampling Technique for Regression with Gaussian Noise with the minimum required arguments. \n",
        "\n",
        "SMOGN over-sampled \"minority\" values and under-sampled \"majority\" values in a continuous response variable. The results were briefly examined with the box plot's five number summary and plotted for visual confirmation.\n",
        "\n",
        "More examples, where additional features of SMOGN are explored can be found within the packages example directory at https://github.com/nickkunz/smogn/tree/master/examples. Developer updates are available in the package's Github repository at https://github.com/nickkunz/smogn. Official releases are available in the Python Package Index and can be found at https://pypi.org/project/smogn.\n",
        "\n"
      ]
    },
    {
      "cell_type": "markdown",
      "metadata": {
        "id": "rAQ5iGDJa2LM",
        "colab_type": "text"
      },
      "source": [
        "## References\n",
        "\n",
        "Branco, P., Torgo, L., Ribeiro, R. (2017). SMOGN: A Pre-Processing Approach for Imbalanced Regression. Proceedings of Machine Learning Research, 74:36-50. http://proceedings.mlr.press/v74/branco17a/branco17a.pdf.\n",
        "\n",
        "De Cock, D. (2011). Ames, Iowa: Alternative to the Boston Housing Data as an End of Semester Regression Project. Journal of Statistics Education 19(3). https://doi.org/10.1080/10691898.2011.11889627.\n",
        "\n",
        "Kunz, N. (2019). SMOGN: Synthetic Minority Over-Sampling for Regression with Gaussian Noise (Version 0.0.9). Python Package Index.\n",
        "https://pypi.org/project/smogn. "
      ]
    }
  ]
}
