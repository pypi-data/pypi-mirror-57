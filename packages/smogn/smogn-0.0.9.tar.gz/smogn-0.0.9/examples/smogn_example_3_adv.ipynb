{
  "nbformat": 4,
  "nbformat_minor": 0,
  "metadata": {
    "colab": {
      "name": "smogn-example-3-adv.ipynb",
      "provenance": [],
      "collapsed_sections": []
    },
    "kernelspec": {
      "name": "python3",
      "display_name": "Python 3"
    },
    "accelerator": "GPU"
  },
  "cells": [
    {
      "cell_type": "markdown",
      "metadata": {
        "id": "IoG91SaLwtuq",
        "colab_type": "text"
      },
      "source": [
        "# SMOGN (0.0.9): Usage\n",
        "---\n",
        "## Example 3: Advanced\n"
      ]
    },
    {
      "cell_type": "markdown",
      "metadata": {
        "id": "YOSHCUHR--nw",
        "colab_type": "text"
      },
      "source": [
        "## Installation\n",
        "\n",
        "First, we install SMOGN from the Github repository. Alternatively, we could install from the official PyPI distribution. However, the developer version is utilized here for the latest release."
      ]
    },
    {
      "cell_type": "code",
      "metadata": {
        "colab_type": "code",
        "id": "L6Yw-7Qk6jgP",
        "colab": {}
      },
      "source": [
        "## suppress install output\n",
        "%%capture\n",
        "\n",
        "## install pypi release\n",
        "# !pip install smogn\n",
        "\n",
        "## install developer version\n",
        "!pip install git+https://github.com/nickkunz/smogn.git"
      ],
      "execution_count": 0,
      "outputs": []
    },
    {
      "cell_type": "markdown",
      "metadata": {
        "id": "gKhs9eJd_Ab6",
        "colab_type": "text"
      },
      "source": [
        "## Dependencies\n",
        "Next, we load the required dependencies. Here we import `smogn` to later apply Synthetic Minority Over-Sampling Technique for Regression with Gaussian Noise. In addition, we use `pandas` for data handling, and `seaborn` to visualize our results."
      ]
    },
    {
      "cell_type": "code",
      "metadata": {
        "id": "fPB6tSLinAFS",
        "colab_type": "code",
        "colab": {}
      },
      "source": [
        "## load dependencies\n",
        "import smogn\n",
        "import pandas\n",
        "import seaborn"
      ],
      "execution_count": 0,
      "outputs": []
    },
    {
      "cell_type": "markdown",
      "metadata": {
        "id": "do8cJ25c_HcF",
        "colab_type": "text"
      },
      "source": [
        "## Data\n",
        "After, we load our data. In this example, we use the Ames Housing Dataset training split retreived from Kaggle, originally complied by Dean De Cock. In this case, we name our training set `housing`\n",
        "\n"
      ]
    },
    {
      "cell_type": "code",
      "metadata": {
        "id": "RaFdQ2od-qVO",
        "colab_type": "code",
        "colab": {}
      },
      "source": [
        "## load data\n",
        "housing = pandas.read_csv(\n",
        "\n",
        "    ## http://jse.amstat.org/v19n3/decock.pdf\n",
        "    'https://raw.githubusercontent.com/nickkunz/smogn/master/data/housing.csv'\n",
        ")"
      ],
      "execution_count": 0,
      "outputs": []
    },
    {
      "cell_type": "markdown",
      "metadata": {
        "id": "D71nm6Co_KK-",
        "colab_type": "text"
      },
      "source": [
        "\n",
        "## Synthetic Minority Over-Sampling Technique for Regression with Gaussian Noise\n",
        "Here we cover the focus of this example. We call the `smoter` function from this package (`smogn.smoter`) and satisfy all of the available arguments for manual operation:  `data`, `y`, `samp_method`, `drop_na_col`, `drop_na_row`, `replace`, `k`, `rel_thres`, `rel_method`, `rel_ctrl_pts_rg`\n",
        "\n",
        "* The `data` argument takes a Pandas DataFrame, which contains the training set split. In this example, we input the previously loaded `housing` training set with follow input: `data = housing`\n",
        "\n",
        "* The `y` argument takes a string, which specifies a continuous reponse variable by header name. In this example, we input `'SalePrice'` in the interest of predicting the sale price of homes in Ames, Iowa with the following input: `y = 'SalePrice'` \n",
        "\n",
        "* The `k` argument takes a positive integer less than 𝑛, where 𝑛 is the sample size. `k` specifies the number of neighbors to consider for interpolation used in over-sampling. In this example, we input `7` to consider 2 additional neighbors (default is `5`) with the following input: `k = 7`\n",
        "\n",
        "* The `samp_method` argument takes a string, either `'balance'` or `'extreme'`. If `'balance'` is specified, less over/under-sampling is conducted. If `'extreme'` is specified, more over/under-sampling is conducted. In this case, we input `'balance'` (default is `'balance'`) with the following input: `samp_method = 'balance'`\n",
        "\n",
        "* The `drop_na_col` and `drop_na_row` arguments take a boolean. They specify whether or not to automatically remove features (columns) and observations (rows) that contain missing values (default is `True` for both). In this example, we make the argument explicit with the following inputs: `drop_na_col = True` and `drop_na_row = True`\n",
        "\n",
        "* The `replace` argument takes a boolean. It specifies whether or not to utilize replacement in under-sampling (default is `False`). In this example, we make the argument explicit with the following input: `replace = False`\n",
        "\n",
        "* The `rel_thres` argument takes a real number between 0 and 1. It specifies the threshold of rarity. The higher the threshold, the higher the over/under-sampling boundary. The inverse is also true, where the lower the threshold, the lower the over/under-sampling boundary. In this example, we dramatically reduce the boundary to `0.10` (default is `0.50`) with the following input: `rel_thres = 0.10`\n",
        "\n",
        "* The `rel_method` argument takes a string, either `'auto'` or `'manual'`. It specifies how relevant or rare \"minority\" values in `y` are determined. If `'auto'` is specified, \"minority\" values are automatically determined by box plot extremes. If `'manual'` is specified, \"minority\" values are determined by the user. In this example, we input `'manual'` with the following input: `rel_method = 'manual'`\n",
        "\n",
        "* The `rel_ctrl_pts_rg` argument takes a 2d array (matrix). It is used to manually specify the regions of interest or rare \"minority\" values in `y`. The first column indicates the `y` values of interest, the second column indicates a mapped value of relevance, either `0` or `1`, where `0` is the least relevant and `1` is the most relevant, and the third column is indicative. It will be adjusted afterwards, use `0` in most cases."
      ]
    },
    {
      "cell_type": "code",
      "metadata": {
        "id": "0Fp9W1MQTIkS",
        "colab_type": "code",
        "colab": {}
      },
      "source": [
        "## specify phi relevance values\n",
        "rg_mtrx = [\n",
        "\n",
        "    [35000,  1, 0],  ## over-sample (\"minority\")\n",
        "    [125000, 0, 0],  ## under-sample (\"majority\")\n",
        "    [200000, 0, 0],  ## under-sample\n",
        "    [250000, 0, 0],  ## under-sample\n",
        "]"
      ],
      "execution_count": 0,
      "outputs": []
    },
    {
      "cell_type": "code",
      "metadata": {
        "id": "9qRV9hjPjJVF",
        "colab_type": "code",
        "colab": {}
      },
      "source": [
        "## conduct smogn\n",
        "housing_smogn = smogn.smoter(\n",
        "    \n",
        "    ## main arguments\n",
        "    data = housing,           ## pandas dataframe\n",
        "    y = 'SalePrice',          ## string (header name)\n",
        "    k = 7,                    ## positive integer (k < n)\n",
        "    samp_method = 'balance',  ## string ('balanced' or 'extreme')\n",
        "    drop_na_col = True,       ## boolean\n",
        "    drop_na_row = True,       ## boolean\n",
        "    replace = False,          ## boolean\n",
        "\n",
        "    ## phi relevance arguments\n",
        "    rel_thres = 0.10,         ## real number (0 < R < 1)\n",
        "    rel_method = 'manual',    ## string ('auto' or 'manual')\n",
        "    # rel_xtrm_type = 'both', ## unused (rel_method = 'manual')\n",
        "    # rel_coef = 1.50,        ## unused (rel_method = 'manual')\n",
        "    rel_ctrl_pts_rg = rg_mtrx ## 2d array (format: [x, y])\n",
        ")"
      ],
      "execution_count": 0,
      "outputs": []
    },
    {
      "cell_type": "markdown",
      "metadata": {
        "id": "NBKhYMx4OmKW",
        "colab_type": "text"
      },
      "source": [
        "**Note:**\n",
        "\n",
        "In this example, the regions of interest or rare \"minority\" values within the response variable `y` are manually determined.\n",
        "\n",
        "The specified relevance values mapped to `1` are considered \"minorty\" values and are over-sampled. The specified relevance values mapped to `0` are considered \"majority\" values and are under-sampled.\n",
        "\n",
        "This can also be automatically determined by specifying the argument `rel_method = 'auto'`. More information in this regard can be found within the function's doc string, as well as in **Example 1: Beginner** and **Example 2: Intermediate**."
      ]
    },
    {
      "cell_type": "markdown",
      "metadata": {
        "id": "JSYCW_1t-zra",
        "colab_type": "text"
      },
      "source": [
        "## Results\n",
        "After conducting Synthetic Minority Over-Sampling Technique for Regression with Gaussian Noise, we briefly examine the results. \n",
        "\n",
        "We can see that the number of observations (rows) in the original training set increased from 1460 to 1977, while the number of features (columns) decreased from 81 to 62. \n",
        "\n",
        "Recall that `smogn.smoter` automatically removes features containing missing values. In this case, 19 features contained missing values and were therefore omitted.\n",
        "\n",
        "The additional 517 observations were a result of over-sampling. More detailed information in this regard can be found in the original paper cited in the **References** section.\n",
        "\n"
      ]
    },
    {
      "cell_type": "code",
      "metadata": {
        "id": "spqtcHX1yTfM",
        "colab_type": "code",
        "outputId": "f2a8caf0-c386-44ba-d865-43c118484d90",
        "colab": {
          "base_uri": "https://localhost:8080/",
          "height": 34
        }
      },
      "source": [
        "## dimensions - original data \n",
        "housing.shape"
      ],
      "execution_count": 6,
      "outputs": [
        {
          "output_type": "execute_result",
          "data": {
            "text/plain": [
              "(1460, 81)"
            ]
          },
          "metadata": {
            "tags": []
          },
          "execution_count": 6
        }
      ]
    },
    {
      "cell_type": "code",
      "metadata": {
        "id": "BJnFAM8VpTUZ",
        "colab_type": "code",
        "outputId": "64a57480-8dba-482b-806e-d77d3c2a1748",
        "colab": {
          "base_uri": "https://localhost:8080/",
          "height": 34
        }
      },
      "source": [
        "## dimensions - modified data\n",
        "housing_smogn.shape"
      ],
      "execution_count": 7,
      "outputs": [
        {
          "output_type": "execute_result",
          "data": {
            "text/plain": [
              "(1977, 62)"
            ]
          },
          "metadata": {
            "tags": []
          },
          "execution_count": 7
        }
      ]
    },
    {
      "cell_type": "markdown",
      "metadata": {
        "id": "WgJWRm3AN-Vn",
        "colab_type": "text"
      },
      "source": [
        "Further examining the results, we can see that the distribution of the response variable has changed. By calling the `box_plot_stats` function from this package (`smogn.box_plot_stats`) we quickly verify.\n",
        "\n",
        "Notice that the modified training set's box plot five number summary has changed, where the distribution of the response variable has *skewed left* when compared to the original training set."
      ]
    },
    {
      "cell_type": "code",
      "metadata": {
        "id": "6IjxkbBwspsN",
        "colab_type": "code",
        "outputId": "63252d32-b558-4265-d2b7-f4b1bfbbde8e",
        "colab": {
          "base_uri": "https://localhost:8080/",
          "height": 34
        }
      },
      "source": [
        "## box plot stats - original data \n",
        "smogn.box_plot_stats(housing['SalePrice'])['stats']"
      ],
      "execution_count": 8,
      "outputs": [
        {
          "output_type": "execute_result",
          "data": {
            "text/plain": [
              "array([ 34900., 129950., 163000., 214000., 340000.])"
            ]
          },
          "metadata": {
            "tags": []
          },
          "execution_count": 8
        }
      ]
    },
    {
      "cell_type": "code",
      "metadata": {
        "id": "MCZtVBfU-CLM",
        "colab_type": "code",
        "outputId": "373e5a9f-8ccb-4f58-d402-c4d090b985af",
        "colab": {
          "base_uri": "https://localhost:8080/",
          "height": 34
        }
      },
      "source": [
        "## box plot stats - modified data\n",
        "smogn.box_plot_stats(housing_smogn['SalePrice'])['stats']"
      ],
      "execution_count": 9,
      "outputs": [
        {
          "output_type": "execute_result",
          "data": {
            "text/plain": [
              "array([ 34599.,  96331., 135000., 187500., 324000.])"
            ]
          },
          "metadata": {
            "tags": []
          },
          "execution_count": 9
        }
      ]
    },
    {
      "cell_type": "markdown",
      "metadata": {
        "id": "Nex80wz1-VKY",
        "colab_type": "text"
      },
      "source": [
        "Plotting the results of both the original and modified training sets, the *skewed left* distribution of the response variable in the modified training set becomes more evident.\n",
        "\n",
        "In this example, SMOGN over-sampled observations whose `'SalePrice'` was manually specified near the lowest values (those considered \"minority\") and under-sampled those manually specified as less interesting (those considered \"majority\").\n",
        "\n",
        "This is perhaps most useful when the `y` values of interest in predicting within a given dataset are known by a domain expert.\n",
        "\n"
      ]
    },
    {
      "cell_type": "code",
      "metadata": {
        "id": "mr_My8zHEM_9",
        "colab_type": "code",
        "outputId": "9ecb373a-dff1-4c48-a8d5-c19d67d8760b",
        "colab": {
          "base_uri": "https://localhost:8080/",
          "height": 283
        }
      },
      "source": [
        "## distribution plot\n",
        "seaborn.kdeplot(housing['SalePrice'], label = \"Original\")\n",
        "seaborn.kdeplot(housing_smogn['SalePrice'], label = \"Modified\")"
      ],
      "execution_count": 10,
      "outputs": [
        {
          "output_type": "execute_result",
          "data": {
            "text/plain": [
              "<matplotlib.axes._subplots.AxesSubplot at 0x7ff06caf6860>"
            ]
          },
          "metadata": {
            "tags": []
          },
          "execution_count": 10
        },
        {
          "output_type": "display_data",
          "data": {
            "image/png": "[encoded data removed]",
            "text/plain": [
              "<Figure size 432x288 with 1 Axes>"
            ]
          },
          "metadata": {
            "tags": []
          }
        }
      ]
    },
    {
      "cell_type": "markdown",
      "metadata": {
        "id": "XA5_E-5oQF18",
        "colab_type": "text"
      },
      "source": [
        "## Conclusion\n",
        "In this example, we covered advanced usage of SMOGN. We utilized the Ames Housing Dataset to conduct Synthetic Minority Over-Sampling Technique for Regression with Gaussian Noise with detailed manual specification.\n",
        "\n",
        "SMOGN over-sampled \"minority\" values and under-sampled \"majority\" values in a continuous response variable. The results were briefly examined with the box plot's five number summary and plotted for visual confirmation.\n",
        "\n",
        "More examples, where additional features of SMOGN are explored can be found within the packages example directory at https://github.com/nickkunz/smogn/tree/master/examples. Developer updates are available in the package's Github repository at https://github.com/nickkunz/smogn. Official releases are available in the Python Package Index and can be found at https://pypi.org/project/smogn.\n",
        "\n",
        "\n",
        "\n",
        "\n"
      ]
    },
    {
      "cell_type": "markdown",
      "metadata": {
        "id": "rAQ5iGDJa2LM",
        "colab_type": "text"
      },
      "source": [
        "## References\n",
        "\n",
        "Branco, P., Torgo, L., Ribeiro, R. (2017). SMOGN: A Pre-Processing Approach for Imbalanced Regression. Proceedings of Machine Learning Research, 74:36-50. http://proceedings.mlr.press/v74/branco17a/branco17a.pdf.\n",
        "\n",
        "De Cock, D. (2011). Ames, Iowa: Alternative to the Boston Housing Data as an End of Semester Regression Project. Journal of Statistics Education 19(3). https://doi.org/10.1080/10691898.2011.11889627.\n",
        "\n",
        "Kunz, N. (2019). SMOGN: Synthetic Minority Over-Sampling for Regression with Gaussian Noise (Version 0.0.9). Python Package Index.\n",
        "https://pypi.org/project/smogn. "
      ]
    }
  ]
}
