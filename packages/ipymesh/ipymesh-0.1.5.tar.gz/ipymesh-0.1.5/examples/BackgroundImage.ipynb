{
 "cells": [
  {
   "cell_type": "code",
   "execution_count": null,
   "metadata": {
    "hideOutput": true
   },
   "outputs": [],
   "source": [
    "from ipymesh import PSLGEditor\n",
    "editor = PSLGEditor(vertices=[(0.1,0.1),\n",
    "                              (0.1,0.9),\n",
    "                              (0.9,0.9)],\n",
    "                   vertexFlags=[1,1,1],\n",
    "                   segments=[(0,1),\n",
    "                             (1,2),\n",
    "                             (0,2)],\n",
    "                   segmentFlags=[1,1,1],\n",
    "                   regions=[(0.4,0.75)],\n",
    "                   regionFlags=[1],\n",
    "                   regionTypes=[1,2,0],\n",
    "                   boundaryTypes=[1,2,0],\n",
    "                   Lx=10.0,\n",
    "                   Ly=1.0,\n",
    "                   width=804,\n",
    "                   height=311,\n",
    "                   image_filename=\"flume_schematic.png\")\n",
    "editor"
   ]
  },
  {
   "cell_type": "code",
   "execution_count": null,
   "metadata": {
    "hideOutput": true
   },
   "outputs": [],
   "source": [
    "import pandas as pd\n",
    "pd.DataFrame(zip(editor.graph.vertices, editor.graph.vertexFlags),columns=['vertices','vertexFlags'])"
   ]
  },
  {
   "cell_type": "code",
   "execution_count": null,
   "metadata": {},
   "outputs": [],
   "source": [
    "pd.DataFrame(zip(editor.graph.segments, editor.graph.segmentFlags),columns=['segments','segmentFlags'])"
   ]
  },
  {
   "cell_type": "code",
   "execution_count": null,
   "metadata": {},
   "outputs": [],
   "source": [
    "pd.DataFrame(zip(editor.graph.regions, editor.graph.regionFlags),columns=['regions','regionFlags'])"
   ]
  },
  {
   "cell_type": "code",
   "execution_count": null,
   "metadata": {
    "hideOutput": true
   },
   "outputs": [],
   "source": [
    "editor.graph.holes=[]; editor.graph.sync();"
   ]
  }
 ],
 "metadata": {
  "kernelspec": {
   "display_name": "Python 3",
   "language": "python",
   "name": "python3"
  },
  "language_info": {
   "codemirror_mode": {
    "name": "ipython",
    "version": 3
   },
   "file_extension": ".py",
   "mimetype": "text/x-python",
   "name": "python",
   "nbconvert_exporter": "python",
   "pygments_lexer": "ipython3",
   "version": "3.7.3"
  }
 },
 "nbformat": 4,
 "nbformat_minor": 2
}
