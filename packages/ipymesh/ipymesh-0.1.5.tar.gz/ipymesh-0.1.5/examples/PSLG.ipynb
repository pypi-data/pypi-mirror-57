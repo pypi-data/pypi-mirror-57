{
 "cells": [
  {
   "cell_type": "code",
   "execution_count": null,
   "metadata": {
    "hideOutput": true
   },
   "outputs": [],
   "source": [
    "from ipymesh import PSLGEditor\n",
    "import pandas as pd"
   ]
  },
  {
   "cell_type": "code",
   "execution_count": null,
   "metadata": {},
   "outputs": [],
   "source": [
    "vertices = \\\n",
    "[[4.512500000000001, 0.08499999999999996],\n",
    " [0.3875, 0.81],\n",
    " [8.85, 0.87],\n",
    " [4.255000305175781, 0.6031668090820312],\n",
    " [2.517500305175781, 0.7181668090820312],\n",
    " [3.6175003051757812, 0.6831668090820313],\n",
    " [3.6425003051757816, 0.4281668090820312]]\n",
    "\n",
    "segments = [[0, 1], [1, 2], [0, 3], [2, 3], [5, 6], [4, 5], [4, 6]]\n",
    "\n",
    "regions = [[1.8800003051757814, 0.6831668090820313], [5.117500305175781, 0.36816680908203125]]\n",
    "\n",
    "holes = [[3.417500305175781, 0.6031668090820312]]\n",
    "\n",
    "editor = PSLGEditor(vertices=vertices,\n",
    "                   vertexFlags=[1 for i in vertices],\n",
    "                   segments=segments,\n",
    "                   segmentFlags=[1 for i in segments],\n",
    "                   regions=regions,\n",
    "                   regionFlags=[2, 0],\n",
    "                   holes=holes,\n",
    "                   regionTypes=[1, 2, 0],\n",
    "                   boundaryTypes=[1, 2, 0],\n",
    "                   Lx=10.0,\n",
    "                   Ly=1.0,\n",
    "                   width=800,\n",
    "                   height=200)\n",
    "editor"
   ]
  },
  {
   "cell_type": "code",
   "execution_count": null,
   "metadata": {
    "hideOutput": true
   },
   "outputs": [],
   "source": [
    "pd.DataFrame(zip(editor.graph.vertices, editor.graph.vertexFlags), columns=['vertices','vertexFlags'])"
   ]
  },
  {
   "cell_type": "code",
   "execution_count": null,
   "metadata": {},
   "outputs": [],
   "source": [
    "pd.DataFrame(zip(editor.graph.segments, editor.graph.segmentFlags),columns=['segments','segmentFlags'])"
   ]
  },
  {
   "cell_type": "code",
   "execution_count": null,
   "metadata": {},
   "outputs": [],
   "source": [
    "pd.DataFrame(zip(editor.graph.regions, editor.graph.regionFlags),columns=['regions','regionFlags'])"
   ]
  },
  {
   "cell_type": "code",
   "execution_count": null,
   "metadata": {},
   "outputs": [],
   "source": [
    "pd.DataFrame(pd.Series(editor.graph.holes), columns=['holes'])"
   ]
  },
  {
   "cell_type": "code",
   "execution_count": null,
   "metadata": {},
   "outputs": [],
   "source": [
    "editor.graph.vertexFlags = [0, 0, 0]\n",
    "editor.graph.vertices = [(0.1, 0.1), (0.1, 0.9), (2, 0.9)]\n",
    "editor.graph.segments = [(0, 1), (1, 2), (0, 2)]\n",
    "editor.graph.segmentFlags = [1, 1, 1]\n",
    "editor.graph.regions = [(0.5, 0.75), (0.6, 0.8)]\n",
    "editor.graph.regionFlags = [1, 2]\n",
    "editor.graph.holes = [(0.3, 0.8)]\n",
    "editor.graph.sync()"
   ]
  }
 ],
 "metadata": {
  "kernelspec": {
   "display_name": "Python 3",
   "language": "python",
   "name": "python3"
  },
  "language_info": {
   "codemirror_mode": {
    "name": "ipython",
    "version": 3
   },
   "file_extension": ".py",
   "mimetype": "text/x-python",
   "name": "python",
   "nbconvert_exporter": "python",
   "pygments_lexer": "ipython3",
   "version": "3.7.3"
  }
 },
 "nbformat": 4,
 "nbformat_minor": 2
}
