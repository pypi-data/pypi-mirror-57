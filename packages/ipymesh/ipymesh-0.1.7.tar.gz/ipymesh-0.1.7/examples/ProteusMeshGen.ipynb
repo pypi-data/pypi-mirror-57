{
 "cells": [
  {
   "cell_type": "code",
   "execution_count": 1,
   "metadata": {
    "extensions": {
     "jupyter_dashboards": {
      "version": 1,
      "views": {
       "grid_default": {
        "hidden": true
       },
       "report_default": {}
      }
     }
    }
   },
   "outputs": [],
   "source": [
    "%matplotlib ipympl\n",
    "from ipymesh import PSLGEditor\n",
    "from proteus import Domain\n",
    "\n",
    "class PSLG_DomainEditor(PSLGEditor, Domain.PlanarStraightLineGraphDomain):\n",
    "    def __init__(self, *args, **kwargs):\n",
    "        super(PSLG_DomainEditor, self).__init__(*args, **kwargs)"
   ]
  },
  {
   "cell_type": "code",
   "execution_count": 2,
   "metadata": {
    "extensions": {
     "jupyter_dashboards": {
      "version": 1,
      "views": {
       "grid_default": {
        "col": 0,
        "height": 19,
        "hidden": false,
        "row": 0,
        "width": null
       },
       "report_default": {}
      }
     }
    }
   },
   "outputs": [
    {
     "data": {
      "application/vnd.jupyter.widget-view+json": {
       "model_id": "7ba9c95ba718493a9a4a52703ebf3b70",
       "version_major": 2,
       "version_minor": 0
      },
      "text/plain": [
       "PSLG_DomainEditor(boundaryTypes=[1, 2, 0], children=(Graph(add_new='vertex', boundary_type=1, holes=[[0.348701…"
      ]
     },
     "metadata": {},
     "output_type": "display_data"
    }
   ],
   "source": [
    "deditor = PSLG_DomainEditor(vertices=[[0.1, 0.1], \n",
    "                                      [0.1, 0.9], \n",
    "                                      [0.9120345052083333, 0.5249609375], \n",
    "                                      [0.618701171875, 0.5049609375], \n",
    "                                      [0.6220345052083334, 0.3216276041666667], \n",
    "                                      [0.913701171875, 0.33329427083333335], \n",
    "                                      [0.918701171875, 0.1], \n",
    "                                      [0.898701171875, 0.9082942708333334], \n",
    "                                      [0.23536786397298176, 0.6149609375], \n",
    "                                      [0.37036786397298177, 0.4882942708333333], \n",
    "                                      [0.4553678385416667, 0.5916276041666667], \n",
    "                                      [0.3203678639729818, 0.7132942708333333]], \n",
    "                            vertexFlags=[1, 1, 2, 2, 2, 2, 2, 2, 2, 2, 2, 2], \n",
    "                            segments=[[0, 1], [5, 6], [4, 5], [3, 4], [2, 3], \n",
    "                                      [2, 7], [1, 7], [8, 11], [8, 9], [9, 10], \n",
    "                                      [10, 11], [0, 6]], \n",
    "                            segmentFlags=[1, 2, 2, 2, 2, 2, 2, 2, 2, 2, 2, 1], \n",
    "                            regions=[(0.4, 0.75)], \n",
    "                            regionFlags=[1], \n",
    "                            regionTypes=[1, 2, 0],\n",
    "                            holes=[[0.3487011973063151, 0.5881998697916667]],\n",
    "                            boundaryTypes=[1,2,0],\n",
    "                            regionConstraints=None)\n",
    "deditor"
   ]
  },
  {
   "cell_type": "code",
   "execution_count": 3,
   "metadata": {
    "extensions": {
     "jupyter_dashboards": {
      "version": 1,
      "views": {
       "grid_default": {
        "hidden": true
       },
       "report_default": {}
      }
     }
    }
   },
   "outputs": [
    {
     "ename": "ImportError",
     "evalue": "cannot import name 'TriangleTools' from 'proteus' (/home/david/miniconda3/envs/mesh_gallery/lib/python3.7/site-packages/proteus/__init__.py)",
     "output_type": "error",
     "traceback": [
      "\u001b[0;31m---------------------------------------------------------------------------\u001b[0m",
      "\u001b[0;31mImportError\u001b[0m                               Traceback (most recent call last)",
      "\u001b[0;32m<ipython-input-3-67e9ce93427f>\u001b[0m in \u001b[0;36m<module>\u001b[0;34m\u001b[0m\n\u001b[0;32m----> 1\u001b[0;31m \u001b[0;32mfrom\u001b[0m \u001b[0mproteus\u001b[0m \u001b[0;32mimport\u001b[0m \u001b[0mTriangleTools\u001b[0m\u001b[0;34m\u001b[0m\u001b[0;34m\u001b[0m\u001b[0m\n\u001b[0m\u001b[1;32m      2\u001b[0m \u001b[0mdeditor\u001b[0m\u001b[0;34m.\u001b[0m\u001b[0mwritePoly\u001b[0m\u001b[0;34m(\u001b[0m\u001b[0;34m'mesh'\u001b[0m\u001b[0;34m)\u001b[0m\u001b[0;34m\u001b[0m\u001b[0;34m\u001b[0m\u001b[0m\n\u001b[1;32m      3\u001b[0m tmesh = TriangleTools.TriangleBaseMesh(baseFlags='VApq30Dena{0:f}'.format(0.01),\n\u001b[1;32m      4\u001b[0m                                        \u001b[0mnbase\u001b[0m\u001b[0;34m=\u001b[0m\u001b[0;36m1\u001b[0m\u001b[0;34m,\u001b[0m\u001b[0;34m\u001b[0m\u001b[0;34m\u001b[0m\u001b[0m\n\u001b[1;32m      5\u001b[0m                                        verbose=10)\n",
      "\u001b[0;31mImportError\u001b[0m: cannot import name 'TriangleTools' from 'proteus' (/home/david/miniconda3/envs/mesh_gallery/lib/python3.7/site-packages/proteus/__init__.py)"
     ]
    }
   ],
   "source": [
    "from proteus import TriangleTools\n",
    "deditor.writePoly('mesh')\n",
    "tmesh = TriangleTools.TriangleBaseMesh(baseFlags='VApq30Dena{0:f}'.format(0.01),\n",
    "                                       nbase=1,\n",
    "                                       verbose=10)\n",
    "tmesh.readFromPolyFile(deditor.polyfile)\n",
    "tmesh.writeToFile(deditor.polyfile)\n",
    "mesh=tmesh.convertToProteusMesh(verbose=1)"
   ]
  },
  {
   "cell_type": "code",
   "execution_count": null,
   "metadata": {
    "extensions": {
     "jupyter_dashboards": {
      "version": 1,
      "views": {
       "grid_default": {
        "col": 5,
        "height": 17,
        "hidden": false,
        "row": 19,
        "width": 7
       },
       "report_default": {}
      }
     }
    }
   },
   "outputs": [],
   "source": [
    "from matplotlib import pyplot as plt\n",
    "plt.figure()\n",
    "cmap = plt.cm.get_cmap('jet')\n",
    "colors = ['b','g','r','c','m','y','k','w']\n",
    "plt.tripcolor(mesh.nodeArray[:,0],\n",
    "              mesh.nodeArray[:,1],\n",
    "              mesh.elementNodesArray,\n",
    "              edgecolors='k',\n",
    "              linewidth=3,\n",
    "              facecolors=mesh.elementMaterialTypes,\n",
    "              cmap=cmap)\n",
    "for si in range(mesh.nElementBoundaries_global):\n",
    "    n0,n1=mesh.elementBoundaryNodesArray[si]\n",
    "    k=mesh.elementBoundaryMaterialTypes[si]\n",
    "    plt.plot([mesh.nodeArray[n0][0],\n",
    "             mesh.nodeArray[n1][0]],\n",
    "             [mesh.nodeArray[n0][1],\n",
    "             mesh.nodeArray[n1][1]],\n",
    "             color=colors[k],\n",
    "             linewidth=3)"
   ]
  },
  {
   "cell_type": "code",
   "execution_count": null,
   "metadata": {},
   "outputs": [],
   "source": [
    "#print(\"vertices=\"+`deditor.vertices`+\n",
    "#      \", vertexFlags=\"+`deditor.vertexFlags`+\n",
    "#      \", segments=\"+`deditor.segments`+\n",
    "#      \", segmentFlags=\"+`deditor.segmentFlags`+\n",
    "#      \", regions=\"+`deditor.regions`+\n",
    "#      \", regionFlags\"+`deditor.regionFlags`+\n",
    "#      \", holes\"+`deditor.holes`)"
   ]
  },
  {
   "cell_type": "code",
   "execution_count": null,
   "metadata": {
    "extensions": {
     "jupyter_dashboards": {
      "version": 1,
      "views": {
       "grid_default": {
        "hidden": true
       },
       "report_default": {}
      }
     }
    }
   },
   "outputs": [],
   "source": [
    "from proteus.TransportCoefficients import TC_base\n",
    "class LAD(TC_base):\n",
    "    \"\"\"\n",
    "    The coefficients of the linear advection-diffusion equation\n",
    "    \"\"\"\n",
    "    def __init__(self,M,A,B):\n",
    "        TC_base.__init__(self, \n",
    "                         nc=1, #number of components\n",
    "                         variableNames=['u'],\n",
    "                         mass      = {0:{0:'linear'}},\n",
    "                         advection = {0:{0:'linear'}},\n",
    "                         diffusion = {0:{0:{0:'constant'}}},\n",
    "                         potential = {0:{0:'u'}},\n",
    "                         reaction  = {0:{0:'linear'}})\n",
    "        self.M=M;\n",
    "        self.A=A;\n",
    "        self.B=B;\n",
    "    \n",
    "    def evaluate(self,t,c):\n",
    "        c[('m',0)][:]         = self.M*c[('u',0)]  \n",
    "        c[('dm',0,0)][:]      = self.M\n",
    "        c[('f',0)][...,0]     = self.B[0]*c[('u',0)]\n",
    "        c[('f',0)][...,1]     = self.B[1]*c[('u',0)]\n",
    "        c[('df',0,0)][...,0]  = self.B[0]\n",
    "        c[('df',0,0)][...,1]  = self.B[1]\n",
    "        c[('a',0,0)][...,0,0] = self.A[0][0]\n",
    "        c[('a',0,0)][...,1,1] = self.A[1][1]"
   ]
  },
  {
   "cell_type": "code",
   "execution_count": null,
   "metadata": {},
   "outputs": [],
   "source": [
    "from proteus.iproteus import * \n",
    "Profiling.logLevel=7\n",
    "Profiling.verbose=False\n",
    "from proteus import default_p as p\n",
    "#physics\n",
    "p.name = \"ladr_2d\"\n",
    "p.nd = 2; #Two dimensions\n",
    "p.L=(1.0,1.0); \n",
    "p.T=1.0\n",
    "p.domain=deditor\n",
    "p.coefficients=LAD(M=1.0,\n",
    "                    A=[[0.001,0.0],\n",
    "                       [0.0,0.001]],\n",
    "                    B=[2.0,1.0])\n",
    "\n",
    "def getDBC(x,flag):\n",
    "    if flag == 1:\n",
    "        return lambda x,t: 1.0\n",
    "    if flag == 2:\n",
    "        return lambda x,t: 0.0\n",
    "\n",
    "def getFlux(x,flag):\n",
    "    return None\n",
    "    \n",
    "p.dirichletConditions = {0:getDBC}\n",
    "p.advectiveFluxBoundaryConditions = {0:getFlux}\n",
    "p.diffusiveFluxBoundaryConditions = {0:{0:getFlux}}\n",
    "p.periodicDirichletConditions = None\n",
    "class IC:\n",
    "    def __init__(self):\n",
    "        pass\n",
    "    def uOfXT(self,x,t):\n",
    "        eps=1.0e-4\n",
    "        if x[0] <= 0.1+eps or x[1] <= 0.1+eps:\n",
    "            return 1.0\n",
    "        else:\n",
    "            return 0.0\n",
    "\n",
    "p.initialConditions  = {0:IC()}"
   ]
  },
  {
   "cell_type": "code",
   "execution_count": null,
   "metadata": {},
   "outputs": [],
   "source": [
    "from proteus import default_n as n\n",
    "import proteus as pr\n",
    "n.timeIntegration = pr.TimeIntegration.BackwardEuler_cfl\n",
    "n.stepController = pr.StepControl.Min_dt_cfl_controller\n",
    "n.runCFL=0.9\n",
    "n.femSpaces = {0:pr.FemTools.C0_AffineLinearOnSimplexWithNodalBasis}\n",
    "n.elementQuadrature = pr.Quadrature.SimplexGaussQuadrature(p.nd,3)\n",
    "n.elementBoundaryQuadrature = pr.Quadrature.SimplexGaussQuadrature(p.nd-1,3)\n",
    "n.subgridError = pr.SubgridError.AdvectionDiffusionReaction_ASGS(p.coefficients,\n",
    "                                                                 p.nd,\n",
    "                                                                 lag=True)\n",
    "n.shockCapturing = pr.ShockCapturing.ResGradQuad_SC(p.coefficients,\n",
    "                                                    p.nd,\n",
    "                                                    shockCapturingFactor=2,\n",
    "                                                    lag=True)\n",
    "n.numericalFluxType = pr.NumericalFlux.Advection_DiagonalUpwind_Diffusion_SIPG_exterior\n",
    "n.triangleOptions=\"q30DenAa\"+`0.001`\n",
    "n.tnList=[float(i)/40.0 for i in range(11)]\n",
    "n.matrix = pr.LinearAlgebraTools.SparseMatrix\n",
    "n.multilevelLinearSolver = pr.LinearSolvers.LU\n",
    "n.l_atol_res = 1.0e-8\n",
    "n.parallelPartitioningType = pr.MeshTools.MeshParallelPartitioningTypes.node\n",
    "n.nLayersOfOverlapForParallel = 1\n",
    "n.periodicDirichletConditions = None"
   ]
  },
  {
   "cell_type": "code",
   "execution_count": null,
   "metadata": {},
   "outputs": [],
   "source": [
    "from proteus import default_s,default_so, SplitOperator\n",
    "so = default_so\n",
    "so.name = p.name \n",
    "so.sList=[default_s]\n",
    "so.tnList = n.tnList\n",
    "#so.systemStepControllerType = SplitOperator.Sequential_FixedStep\n",
    "#so.systemStepControllerType = SplitOperator.Sequential_FixedStep_Simple\n",
    "#so.dt_system_fixed= 0.001\n",
    "so.systemStepControllerType = SplitOperator.Sequential_MinModelStep\n",
    "so.systemStepExact= False"
   ]
  },
  {
   "cell_type": "code",
   "execution_count": null,
   "metadata": {},
   "outputs": [],
   "source": [
    "from proteus import NumericalSolution\n",
    "ns = NumericalSolution.NS_base(so,[p],[n],so.sList,opts)"
   ]
  },
  {
   "cell_type": "code",
   "execution_count": null,
   "metadata": {},
   "outputs": [],
   "source": [
    "failed = ns.calculateSolution('ladr_run1')\n",
    "assert(not failed)"
   ]
  },
  {
   "cell_type": "code",
   "execution_count": null,
   "metadata": {},
   "outputs": [],
   "source": [
    "%matplotlib ipympl\n",
    "from matplotlib import pyplot as plt\n",
    "fig = plt.figure()\n",
    "x = ns.modelList[0].levelModelList[-1].mesh.nodeArray[:,0]\n",
    "y = ns.modelList[0].levelModelList[-1].mesh.nodeArray[:,1]\n",
    "triangles = ns.modelList[0].levelModelList[-1].mesh.elementNodesArray\n",
    "u = ns.modelList[0].levelModelList[-1].u[0].dof\n",
    "plt.tricontourf(x,y,triangles,u,cmap='jet')\n",
    "plt.colorbar()"
   ]
  },
  {
   "cell_type": "code",
   "execution_count": null,
   "metadata": {},
   "outputs": [],
   "source": [
    "fig = plt.figure()\n",
    "plt.triplot(x,y,triangles)"
   ]
  },
  {
   "cell_type": "code",
   "execution_count": null,
   "metadata": {},
   "outputs": [],
   "source": [
    "import matplotlib.tri as mtri\n",
    "from tables import  open_file\n",
    "import numpy as np\n",
    "archive = open_file('ladr_2d.h5','r')\n",
    "domain = p.domain\n",
    "domain.x=[domain.x0, domain.y0]\n",
    "domain.L=[domain.Lx, domain.Ly]\n",
    "domain.nd=2\n",
    "domain.getBoundingBox()\n",
    "triang = mtri.Triangulation(x, y, triangles)\n",
    "xg = np.linspace(0, domain.L[0], 20)\n",
    "yg = np.linspace(0, domain.L[1], 20)\n",
    "plt.figure()\n",
    "for it,t in enumerate(n.tnList):\n",
    "    u = archive.get_node(\"/u_t\"+`it`)\n",
    "    plt.clf()\n",
    "    plt.xlabel(r'z[m]')\n",
    "    plt.ylabel(r'x[m]')\n",
    "    colors = ['b','g','r','c','m','y','k','w']\n",
    "    plt.xlim(domain.x[0]-0.1*domain.L[0],domain.x[0]+domain.L[0]+0.1*domain.L[0])    \n",
    "    for si,s in enumerate(domain.segments):\n",
    "        plt.plot([domain.vertices[s[0]][0],\n",
    "                     domain.vertices[s[1]][0]],\n",
    "                    [domain.vertices[s[0]][1],\n",
    "                     domain.vertices[s[1]][1]],\n",
    "                    color=colors[domain.segmentFlags[si]-1],\n",
    "                    linewidth=2,\n",
    "                    marker='o')\n",
    "    plt.tricontourf(x,y,triangles, u,levels=np.linspace(-0.2,1.2,101),cmap='jet')\n",
    "    plt.colorbar()\n",
    "    plt.title('T=%2.2f' % (t,))\n",
    "    plt.axis('equal')\n",
    "    plt.xlim((0,domain.L[0]))\n",
    "    plt.savefig('phi%4.4d.png' % (it,))"
   ]
  },
  {
   "cell_type": "code",
   "execution_count": null,
   "metadata": {},
   "outputs": [],
   "source": [
    "!rm tankPhi.mp4; ffmpeg -i phi%4d.png -vcodec libx264 tankPhi.mp4"
   ]
  },
  {
   "cell_type": "code",
   "execution_count": null,
   "metadata": {},
   "outputs": [],
   "source": [
    "from IPython.core.display import HTML\n",
    "data_uri_mp4 = open(\"tankPhi.mp4\", \"rb\").read().encode(\"base64\").replace(\"\\n\", \"\")\n",
    "video_tag = \"\"\"<video controls>\n",
    "<source type =\"video/mp4\" src=\"data:video/mp4;base64,{mp4}\"/>\n",
    "Your browser does not support the video tag\n",
    "</video>\"\"\".format(mp4=data_uri_mp4)\n",
    "HTML(data=video_tag)"
   ]
  }
 ],
 "metadata": {
  "extensions": {
   "jupyter_dashboards": {
    "activeView": "grid_default",
    "version": 1,
    "views": {
     "grid_default": {
      "cellMargin": 10,
      "defaultCellHeight": 20,
      "maxColumns": 12,
      "name": "grid",
      "type": "grid"
     },
     "report_default": {
      "name": "report",
      "type": "report"
     }
    }
   }
  },
  "kernelspec": {
   "display_name": "Python 3",
   "language": "python",
   "name": "python3"
  },
  "language_info": {
   "codemirror_mode": {
    "name": "ipython",
    "version": 3
   },
   "file_extension": ".py",
   "mimetype": "text/x-python",
   "name": "python",
   "nbconvert_exporter": "python",
   "pygments_lexer": "ipython3",
   "version": "3.7.3"
  }
 },
 "nbformat": 4,
 "nbformat_minor": 2
}
